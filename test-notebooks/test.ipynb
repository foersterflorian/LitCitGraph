{
 "cells": [
  {
   "cell_type": "markdown",
   "metadata": {},
   "source": [
    "# Bibtex Parsing"
   ]
  },
  {
   "cell_type": "code",
   "execution_count": 1,
   "metadata": {},
   "outputs": [],
   "source": [
    "%load_ext autoreload\n",
    "%autoreload 2"
   ]
  },
  {
   "cell_type": "code",
   "execution_count": 11,
   "metadata": {},
   "outputs": [],
   "source": [
    "#import bibtexparser\n",
    "#from bibtexparser.library import Library as BibTexLibrary\n",
    "import networkx as nx\n",
    "from pybliometrics.scopus import AbstractRetrieval\n",
    "from pybliometrics.scopus.exception import Scopus404Error\n",
    "from collections import namedtuple as NamedTuple\n",
    "#import pandas as pd\n",
    "import logging\n",
    "import sys\n"
   ]
  },
  {
   "cell_type": "code",
   "execution_count": 12,
   "metadata": {},
   "outputs": [],
   "source": [
    "from pathlib import Path\n",
    "\n",
    "from litcitgraph.requests import get_from_scopus\n",
    "from litcitgraph.parsing import read_scopus_ids_from_csv\n",
    "from litcitgraph.graphs import CitationGraph"
   ]
  },
  {
   "cell_type": "code",
   "execution_count": null,
   "metadata": {},
   "outputs": [],
   "source": []
  },
  {
   "cell_type": "code",
   "execution_count": 13,
   "metadata": {},
   "outputs": [
    {
     "data": {
      "text/plain": [
       "WindowsPath('../data/scopus.csv')"
      ]
     },
     "execution_count": 13,
     "metadata": {},
     "output_type": "execute_result"
    }
   ],
   "source": [
    "p_data = Path('../data/scopus.csv')\n",
    "p_data"
   ]
  },
  {
   "cell_type": "code",
   "execution_count": 14,
   "metadata": {},
   "outputs": [],
   "source": [
    "USE_DOI = False\n",
    "id_data = read_scopus_ids_from_csv(p_data, use_doi=USE_DOI, batch_size=4)"
   ]
  },
  {
   "cell_type": "code",
   "execution_count": 15,
   "metadata": {},
   "outputs": [],
   "source": [
    "cit_graph = CitationGraph()"
   ]
  },
  {
   "cell_type": "code",
   "execution_count": 16,
   "metadata": {},
   "outputs": [
    {
     "name": "stdout",
     "output_type": "stream",
     "text": [
      "INFO:litcitgraph.graphs:Building citation graph...\n",
      "INFO:litcitgraph.graphs:...target depth: 1, using DOI: False...\n",
      "INFO:litcitgraph.graphs:Initialising graph with given IDs...\n",
      "INFO:litcitgraph.parsing:Reading completed. Entries in dataset: 4\n",
      "INFO:litcitgraph.graphs:Initialisation completed.\n"
     ]
    },
    {
     "name": "stderr",
     "output_type": "stream",
     "text": [
      "  0%|                                                                                            | 0/1 [00:00<?, ?it/s]"
     ]
    },
    {
     "name": "stdout",
     "output_type": "stream",
     "text": [
      "INFO:litcitgraph.graphs:Starting iteration 1...\n",
      "INFO:litcitgraph.graphs:Iteration 1 successfully completed.\n"
     ]
    },
    {
     "name": "stderr",
     "output_type": "stream",
     "text": [
      "100%|████████████████████████████████████████████████████████████████████████████████████| 1/1 [00:21<00:00, 21.13s/it]"
     ]
    },
    {
     "name": "stdout",
     "output_type": "stream",
     "text": [
      "INFO:litcitgraph.graphs:Building of citation graph completed.\n"
     ]
    },
    {
     "name": "stderr",
     "output_type": "stream",
     "text": [
      "\n"
     ]
    }
   ],
   "source": [
    "cit_graph.build_from_ids(ids=id_data, use_doi=USE_DOI, target_iter_depth=1)"
   ]
  },
  {
   "cell_type": "code",
   "execution_count": 17,
   "metadata": {},
   "outputs": [
    {
     "data": {
      "text/plain": [
       "CitationGraph(iter_depth=1, number of nodes: 155, number of edges: 160)"
      ]
     },
     "execution_count": 17,
     "metadata": {},
     "output_type": "execute_result"
    }
   ],
   "source": [
    "cit_graph"
   ]
  },
  {
   "cell_type": "code",
   "execution_count": 18,
   "metadata": {},
   "outputs": [
    {
     "data": {
      "text/plain": [
       "201"
      ]
     },
     "execution_count": 18,
     "metadata": {},
     "output_type": "execute_result"
    }
   ],
   "source": [
    "cit_graph.retrievals_total"
   ]
  },
  {
   "cell_type": "code",
   "execution_count": 19,
   "metadata": {},
   "outputs": [
    {
     "data": {
      "text/plain": [
       "37"
      ]
     },
     "execution_count": 19,
     "metadata": {},
     "output_type": "execute_result"
    }
   ],
   "source": [
    "cit_graph.retrievals_failed"
   ]
  },
  {
   "cell_type": "code",
   "execution_count": 20,
   "metadata": {},
   "outputs": [
    {
     "data": {
      "text/plain": [
       "{'iter_depth': 0,\n",
       " 'title': 'A Q-learning memetic algorithm for energy-efficient heterogeneous distributed assembly permutation flowshop scheduling considering priorities',\n",
       " 'authors': 'Luo, C.; Gong, W.; Ming, F.; Lu, C.',\n",
       " 'year': 2024,\n",
       " 'doi': '10.1016/j.swevo.2024.101497',\n",
       " 'eid': '2-s2.0-85184079846',\n",
       " 'scopus_url': 'https://www.scopus.com/inward/record.uri?partnerID=HzOxMe3b&scp=85184079846&origin=inward'}"
      ]
     },
     "execution_count": 20,
     "metadata": {},
     "output_type": "execute_result"
    }
   ],
   "source": [
    "cit_graph.nodes[85184079846]"
   ]
  },
  {
   "cell_type": "code",
   "execution_count": null,
   "metadata": {},
   "outputs": [],
   "source": []
  },
  {
   "cell_type": "code",
   "execution_count": 22,
   "metadata": {},
   "outputs": [],
   "source": [
    "import networkx as nx"
   ]
  },
  {
   "cell_type": "code",
   "execution_count": null,
   "metadata": {},
   "outputs": [],
   "source": []
  },
  {
   "cell_type": "code",
   "execution_count": 23,
   "metadata": {
    "scrolled": true
   },
   "outputs": [],
   "source": [
    "nx.write_graphml(cit_graph, './results/test2.graphml')"
   ]
  },
  {
   "cell_type": "code",
   "execution_count": 10,
   "metadata": {},
   "outputs": [],
   "source": [
    "G = cit_graph"
   ]
  },
  {
   "cell_type": "code",
   "execution_count": 11,
   "metadata": {},
   "outputs": [],
   "source": [
    "for node in G.nodes:\n",
    "    for attrib in G.nodes[node]:\n",
    "        if G.nodes[node][attrib] is None:\n",
    "            print(node, attrib)"
   ]
  },
  {
   "cell_type": "code",
   "execution_count": null,
   "metadata": {},
   "outputs": [],
   "source": []
  },
  {
   "cell_type": "code",
   "execution_count": 49,
   "metadata": {},
   "outputs": [
    {
     "name": "stdout",
     "output_type": "stream",
     "text": [
      "2-s2.0-85184079846\n",
      "2-s2.0-85181525982\n",
      "2-s2.0-85180664623\n",
      "2-s2.0-85161571599\n",
      "2-s2.0-85184422340\n",
      "INFO:litcitgraph.parsing:Reading completed. Entries in dataset: 5\n"
     ]
    }
   ],
   "source": [
    "for idx, entry in enumerate(data):\n",
    "    #pass\n",
    "    #if idx > 5:\n",
    "        #break\n",
    "    print(entry)"
   ]
  },
  {
   "cell_type": "code",
   "execution_count": null,
   "metadata": {},
   "outputs": [],
   "source": []
  },
  {
   "cell_type": "code",
   "execution_count": null,
   "metadata": {},
   "outputs": [],
   "source": []
  },
  {
   "cell_type": "markdown",
   "metadata": {},
   "source": [
    "---"
   ]
  },
  {
   "cell_type": "code",
   "execution_count": 3,
   "metadata": {},
   "outputs": [],
   "source": [
    "ret = get_from_scopus(\n",
    "    identifier='10.1016/j.compchemeng.2024.108700',\n",
    "    id_type='doi',\n",
    "    iter_depth=0,\n",
    ")"
   ]
  },
  {
   "cell_type": "code",
   "execution_count": 4,
   "metadata": {},
   "outputs": [
    {
     "data": {
      "text/plain": [
       "'Production rescheduling via explorative reinforcement learning while considering nervousness'"
      ]
     },
     "execution_count": 4,
     "metadata": {},
     "output_type": "execute_result"
    }
   ],
   "source": [
    "ret.title"
   ]
  },
  {
   "cell_type": "code",
   "execution_count": 5,
   "metadata": {},
   "outputs": [
    {
     "data": {
      "text/plain": [
       "'Hwangbo, S.; Liu, J.J.; Ryu, J.-H.; Lee, H.J.; Na, J.'"
      ]
     },
     "execution_count": 5,
     "metadata": {},
     "output_type": "execute_result"
    }
   ],
   "source": [
    "ret.authors"
   ]
  },
  {
   "cell_type": "code",
   "execution_count": 6,
   "metadata": {},
   "outputs": [
    {
     "data": {
      "text/plain": [
       "'2-s2.0-85190752229'"
      ]
     },
     "execution_count": 6,
     "metadata": {},
     "output_type": "execute_result"
    }
   ],
   "source": [
    "ret.eid"
   ]
  },
  {
   "cell_type": "code",
   "execution_count": 7,
   "metadata": {},
   "outputs": [
    {
     "data": {
      "text/plain": [
       "85190752229"
      ]
     },
     "execution_count": 7,
     "metadata": {},
     "output_type": "execute_result"
    }
   ],
   "source": [
    "ret.scopus_id"
   ]
  },
  {
   "cell_type": "code",
   "execution_count": 8,
   "metadata": {},
   "outputs": [
    {
     "data": {
      "text/plain": [
       "0"
      ]
     },
     "execution_count": 8,
     "metadata": {},
     "output_type": "execute_result"
    }
   ],
   "source": [
    "ret.iter_depth"
   ]
  },
  {
   "cell_type": "code",
   "execution_count": 9,
   "metadata": {
    "scrolled": true
   },
   "outputs": [
    {
     "data": {
      "text/plain": [
       "{'iter_depth': 0,\n",
       " 'title': 'Production rescheduling via explorative reinforcement learning while considering nervousness',\n",
       " 'authors': 'Hwangbo, S.; Liu, J.J.; Ryu, J.-H.; Lee, H.J.; Na, J.',\n",
       " 'year': 2024,\n",
       " 'doi': '10.1016/j.compchemeng.2024.108700',\n",
       " 'eid': '2-s2.0-85190752229',\n",
       " 'scopus_url': 'https://www.scopus.com/inward/record.uri?partnerID=HzOxMe3b&scp=85190752229&origin=inward'}"
      ]
     },
     "execution_count": 9,
     "metadata": {},
     "output_type": "execute_result"
    }
   ],
   "source": [
    "ret.graph_properties_as_dict()"
   ]
  },
  {
   "cell_type": "code",
   "execution_count": 11,
   "metadata": {},
   "outputs": [
    {
     "data": {
      "text/plain": [
       "4312"
      ]
     },
     "execution_count": 11,
     "metadata": {},
     "output_type": "execute_result"
    }
   ],
   "source": [
    "sys.getsizeof(ret.refs)"
   ]
  },
  {
   "cell_type": "code",
   "execution_count": null,
   "metadata": {},
   "outputs": [],
   "source": []
  },
  {
   "cell_type": "code",
   "execution_count": null,
   "metadata": {},
   "outputs": [],
   "source": []
  },
  {
   "cell_type": "markdown",
   "metadata": {},
   "source": [
    "---"
   ]
  },
  {
   "cell_type": "code",
   "execution_count": 3,
   "metadata": {},
   "outputs": [],
   "source": [
    "p_data = Path('./data/scopus.csv')"
   ]
  },
  {
   "cell_type": "code",
   "execution_count": 4,
   "metadata": {},
   "outputs": [
    {
     "name": "stdout",
     "output_type": "stream",
     "text": [
      "INFO:scopus_citpgraph.parsing:Entries in dataset: 200, Entries after cleansing: 200, empty: 0\n"
     ]
    }
   ],
   "source": [
    "query_data, use_doi = read_id_list_from_scopus(p_data)"
   ]
  },
  {
   "cell_type": "code",
   "execution_count": 5,
   "metadata": {},
   "outputs": [
    {
     "name": "stderr",
     "output_type": "stream",
     "text": [
      "100%|███████████████████████████████████████████████████████████████████████████████| 200/200 [00:00<00:00, 379.63it/s]\n"
     ]
    }
   ],
   "source": [
    "graph, papers_by_iter_depth = generate_init_graph(query_data, use_doi)"
   ]
  },
  {
   "cell_type": "code",
   "execution_count": 9,
   "metadata": {},
   "outputs": [
    {
     "data": {
      "text/plain": [
       "NodeView((85184079846, 85181525982, 85180664623, 85161571599, 85184422340, 85185933242, 85179136572, 85159843114, 85183354123, 85184868018, 85177878279, 85183207629, 85161336973, 85182915128, 85182936125, 85135356206, 85173274746, 85185495536, 85168652996, 85184775953, 85179028799, 85175546242, 85181577641, 85181530599, 85183978423, 85174074654, 85174926275, 85183656095, 85183342992, 85145187420, 85170208707, 85176597102, 85185705849, 85168749751, 85163709993, 85139688668, 85174334828, 85185162019, 85175299032, 85171142738, 85174202374, 85163813895, 85182261614, 85181165698, 85162050226, 85163036561, 85184436029, 85175279593, 85167785691, 85132171222, 85171593231, 85182502075, 85173835555, 85167803638, 85153117348, 85182888393, 85173116831, 85168364488, 85162171338, 85173717320, 85165280904, 85177887523, 85179352995, 85184035436, 85178324244, 85163368790, 85179946603, 85183939814, 85185312408, 85177220327, 85173500267, 85165452166, 85174843764, 85163038946, 85177559843, 85176509451, 85174053114, 85146998587, 85144752790, 85185201017, 85173585768, 85185246254, 85186220544, 85184710667, 85175527030, 85178403915, 85178037006, 85182461177, 85184402145, 85176612322, 85168419084, 85171523604, 85173449143, 85181777199, 85174810744, 85185881616, 85159647116, 85183404692, 85178876296, 85161588374, 85164976397, 85172719564, 85151953716, 85150183983, 85152800793, 85174807139, 85144074667, 85150199405, 85143765147, 85138415844, 85166962181, 85170391275, 85147604807, 85151097046, 85143908425, 85168163765, 85164685893, 85149760402, 85139484421, 85147857728, 85168738755, 85171970235, 85163174116, 85149483591, 85173230317, 85149230066, 85162173703, 85149487853, 85160684014, 85144539757, 85120886434, 85159229887, 85138771264, 85141585139, 85166242388, 85162801975, 85150805935, 85151720802, 85164150018, 85147194837, 85147605285, 85151471997, 85153678941, 85146648662, 85089378554, 85163582729, 85160920223, 85151402534, 85127773066, 85179780866, 85159332518, 85146251380, 85163337386, 85147573041, 85152597998, 85168805108, 85162172701, 85177722382, 85151254593, 85165528603, 85149395639, 85123623158, 85144623197, 85145260278, 85148324740, 85173276330, 85141640387, 85164242474, 85166237144, 85141645678, 85143529925, 85130478396, 85149172731, 85154028431, 85148428784, 85146223930, 85156134069, 85167770655, 85141266602, 85147228119, 85139923895, 85166390947, 85140144997, 85162949739, 85139381542, 85141456020, 85165540331, 85123084591, 85153580568, 85168299246, 85160833480, 85149439262, 85144401603, 85164771142, 85163194086, 85161561191, 85156120985, 85145863527, 85147193306, 85138311684))"
      ]
     },
     "execution_count": 9,
     "metadata": {},
     "output_type": "execute_result"
    }
   ],
   "source": [
    "graph.nodes"
   ]
  },
  {
   "cell_type": "code",
   "execution_count": 13,
   "metadata": {
    "scrolled": true
   },
   "outputs": [
    {
     "data": {
      "text/plain": [
       "frozenset({PaperInfo(title='A DRL based approach for adaptive scheduling of one-of-a-kind production', authors='Wang, T.; Hu, X.; Zhang, Y.', year=2023, scopus_id=85162173703, doi='10.1016/j.cor.2023.106306', eid='2-s2.0-85162173703', scopus_url='https://www.scopus.com/inward/record.uri?partnerID=HzOxMe3b&scp=85162173703&origin=inward', iter_depth=0),\n",
       "           PaperInfo(title='A Knowledge Graph-based knowledge representation for adaptive manufacturing control under mass personalization', authors='Qin, Z.; Lu, Y.', year=2023, scopus_id=85173276330, doi='10.1016/j.mfglet.2023.08.086', eid='2-s2.0-85173276330', scopus_url='https://www.scopus.com/inward/record.uri?partnerID=HzOxMe3b&scp=85173276330&origin=inward', iter_depth=0),\n",
       "           PaperInfo(title='A Knowledge-Guided End-to-End Optimization Framework Based on Reinforcement Learning for Flow Shop Scheduling', authors='Pan, Z.; Wang, L.; Dong, C.; Chen, J.-F.', year=2024, scopus_id=85161571599, doi='10.1109/TII.2023.3282313', eid='2-s2.0-85161571599', scopus_url='https://www.scopus.com/inward/record.uri?partnerID=HzOxMe3b&scp=85161571599&origin=inward', iter_depth=0),\n",
       "           PaperInfo(title='A Learning-Based Memetic Algorithm for Energy-Efficient Flexible Job-Shop Scheduling With Type-2 Fuzzy Processing Time', authors='Li, R.; Gong, W.; Lu, C.; Wang, L.', year=2023, scopus_id=85130478396, doi='10.1109/TEVC.2022.3175832', eid='2-s2.0-85130478396', scopus_url='https://www.scopus.com/inward/record.uri?partnerID=HzOxMe3b&scp=85130478396&origin=inward', iter_depth=0),\n",
       "           PaperInfo(title='A Machine Learning Approach for Improving Wafer Acceptance Testing Based on an Analysis of Station and Equipment Combinations', authors='Wang, C.-C.; Yang, Y.-Y.', year=2023, scopus_id=85152800793, doi='10.3390/math11071569', eid='2-s2.0-85152800793', scopus_url='https://www.scopus.com/inward/record.uri?partnerID=HzOxMe3b&scp=85152800793&origin=inward', iter_depth=0),\n",
       "           PaperInfo(title='A Monte-Carlo tree search algorithm for the flexible job-shop scheduling in manufacturing systems', authors='Saqlain, M.; Ali, S.; Lee, J.Y.', year=2023, scopus_id=85123084591, doi='10.1007/s10696-021-09437-4', eid='2-s2.0-85123084591', scopus_url='https://www.scopus.com/inward/record.uri?partnerID=HzOxMe3b&scp=85123084591&origin=inward', iter_depth=0),\n",
       "           PaperInfo(title='A Multi-Agent Deep-Reinforcement-Learning-Based Strategy for Safe Distributed Energy Resource Scheduling in Energy Hubs', authors='Zhang, X.; Wang, Q.; Yu, J.; Sun, Q.; Hu, H.; Liu, X.', year=2023, scopus_id=85179352995, doi='10.3390/electronics12234763', eid='2-s2.0-85179352995', scopus_url='https://www.scopus.com/inward/record.uri?partnerID=HzOxMe3b&scp=85179352995&origin=inward', iter_depth=0),\n",
       "           PaperInfo(title='A Multi-Agent Reinforcement Learning Approach to the Dynamic Job Shop Scheduling Problem', authors='Inal, A.F.; Sel, C.; Aktepe, A.; Turker, A.K.; Ersoz, S.', year=2023, scopus_id=85160833480, doi='10.3390/su15108262', eid='2-s2.0-85160833480', scopus_url='https://www.scopus.com/inward/record.uri?partnerID=HzOxMe3b&scp=85160833480&origin=inward', iter_depth=0),\n",
       "           PaperInfo(title='A Neural Network Approach to High-Dimensional Optimal Switching Problems with Jumps in Energy Markets', authors='Bayraktar, E.; Cohen, A.; Nellis, A.', year=2023, scopus_id=85175546242, doi='10.1137/22M1527246', eid='2-s2.0-85175546242', scopus_url='https://www.scopus.com/inward/record.uri?partnerID=HzOxMe3b&scp=85175546242&origin=inward', iter_depth=0),\n",
       "           PaperInfo(title='A New Decision Method of Flexible Job Shop Rescheduling Based on WOA-SVM', authors='Song, L.; Xu, Z.; Wang, C.; Su, J.', year=2023, scopus_id=85149230066, doi='10.3390/systems11020059', eid='2-s2.0-85149230066', scopus_url='https://www.scopus.com/inward/record.uri?partnerID=HzOxMe3b&scp=85149230066&origin=inward', iter_depth=0),\n",
       "           PaperInfo(title='A New Remote Sensing Service Mode for Agricultural Production and Management Based on Satellite–Air–Ground Spatiotemporal Monitoring', authors='Li, W.; Dong, W.; Zhang, X.; Zhang, J.', year=2023, scopus_id=85178324244, doi='10.3390/agriculture13112063', eid='2-s2.0-85178324244', scopus_url='https://www.scopus.com/inward/record.uri?partnerID=HzOxMe3b&scp=85178324244&origin=inward', iter_depth=0),\n",
       "           PaperInfo(title='A Q-learning artificial bee colony for distributed assembly flow shop scheduling with factory eligibility, transportation capacity and setup time', authors='Wang, J.; Tang, H.; Lei, D.', year=2023, scopus_id=85152597998, doi='10.1016/j.engappai.2023.106230', eid='2-s2.0-85152597998', scopus_url='https://www.scopus.com/inward/record.uri?partnerID=HzOxMe3b&scp=85152597998&origin=inward', iter_depth=0),\n",
       "           PaperInfo(title='A Q-learning memetic algorithm for energy-efficient heterogeneous distributed assembly permutation flowshop scheduling considering priorities', authors='Luo, C.; Gong, W.; Ming, F.; Lu, C.', year=2024, scopus_id=85184079846, doi='10.1016/j.swevo.2024.101497', eid='2-s2.0-85184079846', scopus_url='https://www.scopus.com/inward/record.uri?partnerID=HzOxMe3b&scp=85184079846&origin=inward', iter_depth=0),\n",
       "           PaperInfo(title='A Reinforcement Learning Approach for Integrating an Intelligent Home Energy Management System with a Vehicle-to-Home Unit', authors='Almughram, O.; Abdullah, ben, Slama, S.; Zafar, B.A.', year=2023, scopus_id=85159332518, doi='10.3390/app13095539', eid='2-s2.0-85159332518', scopus_url='https://www.scopus.com/inward/record.uri?partnerID=HzOxMe3b&scp=85159332518&origin=inward', iter_depth=0),\n",
       "           PaperInfo(title='A Reinforcement Learning Approach for Scheduling Problems with Improved Generalization through Order Swapping', authors='Vivekanandan, D.; Wirth, S.; Karlbauer, P.; Klarmann, N.', year=2023, scopus_id=85163582729, doi='10.3390/make5020025', eid='2-s2.0-85163582729', scopus_url='https://www.scopus.com/inward/record.uri?partnerID=HzOxMe3b&scp=85163582729&origin=inward', iter_depth=0),\n",
       "           PaperInfo(title='A Reinforcement Learning Approach to Robust Scheduling of Permutation Flow Shop', authors='Zhou, T.; Luo, L.; Ji, S.; He, Y.', year=2023, scopus_id=85175527030, doi='10.3390/biomimetics8060478', eid='2-s2.0-85175527030', scopus_url='https://www.scopus.com/inward/record.uri?partnerID=HzOxMe3b&scp=85175527030&origin=inward', iter_depth=0),\n",
       "           PaperInfo(title='A Reinforcement Learning Driven Artificial Bee Colony Algorithm for Distributed Heterogeneous No-Wait Flowshop Scheduling Problem With Sequence-Dependent Setup Times', authors='Zhao, F.; Wang, Z.; Wang, L.', year=2023, scopus_id=85141640387, doi='10.1109/TASE.2022.3212786', eid='2-s2.0-85141640387', scopus_url='https://www.scopus.com/inward/record.uri?partnerID=HzOxMe3b&scp=85141640387&origin=inward', iter_depth=0),\n",
       "           PaperInfo(title='A Reinforcement Learning Driven Cooperative Meta-Heuristic Algorithm for Energy-Efficient Distributed No-Wait Flow-Shop Scheduling With Sequence-Dependent Setup Time', authors='Zhao, F.; Jiang, T.; Wang, L.', year=2023, scopus_id=85141585139, doi='10.1109/TII.2022.3218645', eid='2-s2.0-85141585139', scopus_url='https://www.scopus.com/inward/record.uri?partnerID=HzOxMe3b&scp=85141585139&origin=inward', iter_depth=0),\n",
       "           PaperInfo(title='A Reinforcement-Learning-Based 3-D Estimation of Distribution Algorithm for Fuzzy Distributed Hybrid Flow-Shop Scheduling Considering On-Time-Delivery', authors='Deng, L.; Di, Y.; Wang, L.', year=2024, scopus_id=85181577641, doi='10.1109/TCYB.2023.3336656', eid='2-s2.0-85181577641', scopus_url='https://www.scopus.com/inward/record.uri?partnerID=HzOxMe3b&scp=85181577641&origin=inward', iter_depth=0),\n",
       "           PaperInfo(title='A Survey of AI-enabled Dynamic Manufacturing Scheduling: From Directed Heuristics to Autonomous Learning', authors='Ding, J.; Chen, M.; Wang, T.; Zhou, J.; Fu, X.; Li, K.', year=2023, scopus_id=85168805108, doi='10.1145/3590163', eid='2-s2.0-85168805108', scopus_url='https://www.scopus.com/inward/record.uri?partnerID=HzOxMe3b&scp=85168805108&origin=inward', iter_depth=0),\n",
       "           PaperInfo(title='A Trusted Computing Resources Optimal Scheduling Algorithm In Industrial Internet And Healthcare Integrating Drl, Blockchain And End-Edge-Cloud', authors='Liu, Z.; Li, J.', year=2023, scopus_id=85162801975, doi='10.1142/S0219519423400560', eid='2-s2.0-85162801975', scopus_url='https://www.scopus.com/inward/record.uri?partnerID=HzOxMe3b&scp=85162801975&origin=inward', iter_depth=0),\n",
       "           PaperInfo(title='A cooperative hierarchical deep reinforcement learning based multi-agent method for distributed job shop scheduling problem with random job arrivals', authors='Huang, J.-P.; Gao, L.; Li, X.-Y.; Zhang, C.-J.', year=2023, scopus_id=85173274746, doi='10.1016/j.cie.2023.109650', eid='2-s2.0-85173274746', scopus_url='https://www.scopus.com/inward/record.uri?partnerID=HzOxMe3b&scp=85173274746&origin=inward', iter_depth=0),\n",
       "           PaperInfo(title='A deep multi-agent reinforcement learning approach to solve dynamic job shop scheduling problem', authors='Liu, R.; Piplani, R.; Toro, C.', year=2023, scopus_id=85163036561, doi='10.1016/j.cor.2023.106294', eid='2-s2.0-85163036561', scopus_url='https://www.scopus.com/inward/record.uri?partnerID=HzOxMe3b&scp=85163036561&origin=inward', iter_depth=0),\n",
       "           PaperInfo(title='A deep reinforcement learning based algorithm for a distributed precast concrete production scheduling', authors='Du, Y.; Li, J.-Q.', year=2024, scopus_id=85177887523, doi='10.1016/j.ijpe.2023.109102', eid='2-s2.0-85177887523', scopus_url='https://www.scopus.com/inward/record.uri?partnerID=HzOxMe3b&scp=85177887523&origin=inward', iter_depth=0),\n",
       "           PaperInfo(title='A digital twin-driven dynamic path planning approach for multiple automatic guided vehicles based on deep reinforcement learning', authors='Bao, Q.; Zheng, P.; Dai, S.', year=2024, scopus_id=85163038946, doi='10.1177/09544054231180513', eid='2-s2.0-85163038946', scopus_url='https://www.scopus.com/inward/record.uri?partnerID=HzOxMe3b&scp=85163038946&origin=inward', iter_depth=0),\n",
       "           PaperInfo(title='A digital twin-driven flexible scheduling method in a human–machine collaborative workshop based on hierarchical reinforcement learning', authors='Zhang, R.; Lv, J.; Bao, J.; Zheng, Y.', year=2023, scopus_id=85159647116, doi='10.1007/s10696-023-09498-7', eid='2-s2.0-85159647116', scopus_url='https://www.scopus.com/inward/record.uri?partnerID=HzOxMe3b&scp=85159647116&origin=inward', iter_depth=0),\n",
       "           PaperInfo(title='A dynamic scheduling method with Conv-Dueling and generalized representation based on reinforcement learning', authors='Xia, M.; Liu, H.; Li, M.; Wang, L.', year=2023, scopus_id=85171970235, doi='10.5267/j.ijiec.2023.6.003', eid='2-s2.0-85171970235', scopus_url='https://www.scopus.com/inward/record.uri?partnerID=HzOxMe3b&scp=85171970235&origin=inward', iter_depth=0),\n",
       "           PaperInfo(title='A knowledge-driven cooperative scatter search algorithm with reinforcement learning for the distributed blocking flow shop scheduling problem', authors='Zhao, F.; Zhou, G.; Xu, T.; Zhu, N.; Jonrinaldi', year=2023, scopus_id=85161336973, doi='10.1016/j.eswa.2023.120571', eid='2-s2.0-85161336973', scopus_url='https://www.scopus.com/inward/record.uri?partnerID=HzOxMe3b&scp=85161336973&origin=inward', iter_depth=0),\n",
       "           PaperInfo(title='A novel priority dispatch rule generation method based on graph neural network and reinforcement learning for distributed job-shop scheduling', authors='Huang, J.-P.; Gao, L.; Li, X.-Y.; Zhang, C.-J.', year=2023, scopus_id=85162172701, doi='10.1016/j.jmsy.2023.06.007', eid='2-s2.0-85162172701', scopus_url='https://www.scopus.com/inward/record.uri?partnerID=HzOxMe3b&scp=85162172701&origin=inward', iter_depth=0),\n",
       "           PaperInfo(title='A robust model for diagnosing water stress of winter wheat by combining UAV multispectral and thermal remote sensing', authors='Wang, J.; Lou, Y.; Wang, W.; Liu, S.; Zhang, H.; Hui, X.; Wang, Y.; Yan, H.; Maes, W.H.', year=2024, scopus_id=85179136572, doi='10.1016/j.agwat.2023.108616', eid='2-s2.0-85179136572', scopus_url='https://www.scopus.com/inward/record.uri?partnerID=HzOxMe3b&scp=85179136572&origin=inward', iter_depth=0),\n",
       "           PaperInfo(title='A scheduling algorithm based on critical factors for heterogeneous multicore processors', authors='Li, C.; Lin, Z.; Tian, L.; Zhang, B.', year=2024, scopus_id=85177220327, doi='10.1002/cpe.7969', eid='2-s2.0-85177220327', scopus_url='https://www.scopus.com/inward/record.uri?partnerID=HzOxMe3b&scp=85177220327&origin=inward', iter_depth=0),\n",
       "           PaperInfo(title='A self-learning interior search algorithm based on reinforcement learning for energy-aware job shop scheduling problem with outsourcing option', authors='Liu, X.; Liu, L.; Jiang, T.', year=2023, scopus_id=85166390947, doi='10.3233/JIFS-224624', eid='2-s2.0-85166390947', scopus_url='https://www.scopus.com/inward/record.uri?partnerID=HzOxMe3b&scp=85166390947&origin=inward', iter_depth=0),\n",
       "           PaperInfo(title='A short-term energy consumption forecasting method for attention mechanisms based on spatio-temporal deep learning', authors='Han, M.; Fan, L.', year=2024, scopus_id=85182502075, doi='10.1016/j.compeleceng.2023.109063', eid='2-s2.0-85182502075', scopus_url='https://www.scopus.com/inward/record.uri?partnerID=HzOxMe3b&scp=85182502075&origin=inward', iter_depth=0),\n",
       "           PaperInfo(title='AI-Powered Inventory Optimization in Industrial Manufacturing', authors='Dave, R.; Sarkar, B.', year=2023, scopus_id=85177722382, doi='10.14445/22315381/IJETT-V71I8P202', eid='2-s2.0-85177722382', scopus_url='https://www.scopus.com/inward/record.uri?partnerID=HzOxMe3b&scp=85177722382&origin=inward', iter_depth=0),\n",
       "           PaperInfo(title='Adaptive Mobile Robot Scheduling in Multiproduct Flexible Manufacturing Systems Using Reinforcement Learning', authors='Waseem, M.; Chang, Q.', year=2023, scopus_id=85175299032, doi='10.1115/1.4062941', eid='2-s2.0-85175299032', scopus_url='https://www.scopus.com/inward/record.uri?partnerID=HzOxMe3b&scp=85175299032&origin=inward', iter_depth=0),\n",
       "           PaperInfo(title='An Integrated Stochastic Deep Learning-Short-Term Production Scheduling-Optimal Control Framework for General Batch Processes', authors='Santander, O.; Giannikopoulos, I.; Stadtherr, M.A.; Baldea, M.', year=2023, scopus_id=85140144997, doi='10.1021/acs.iecr.2c02638', eid='2-s2.0-85140144997', scopus_url='https://www.scopus.com/inward/record.uri?partnerID=HzOxMe3b&scp=85140144997&origin=inward', iter_depth=0),\n",
       "           PaperInfo(title='An actor-critic framework based on deep reinforcement learning for addressing flexible job shop scheduling problems', authors='Zhao, C.; Deng, N.', year=2024, scopus_id=85181525982, doi='10.3934/mbe.2024062', eid='2-s2.0-85181525982', scopus_url='https://www.scopus.com/inward/record.uri?partnerID=HzOxMe3b&scp=85181525982&origin=inward', iter_depth=0),\n",
       "           PaperInfo(title='An adaptive artificial bee colony algorithm enhanced by Deep Q-Learning for milk-run vehicle scheduling problem based on supply hub', authors='Zhou, B.; Zhao, Z.', year=2023, scopus_id=85147857728, doi='10.1016/j.knosys.2023.110367', eid='2-s2.0-85147857728', scopus_url='https://www.scopus.com/inward/record.uri?partnerID=HzOxMe3b&scp=85147857728&origin=inward', iter_depth=0),\n",
       "           PaperInfo(title='An adaptive multi-objective multi-task scheduling method by hierarchical deep reinforcement learning[Formula presented]', authors='Zhang, J.; Guo, B.; Ding, X.; Hu, D.; Tang, J.; Du, K.; Tang, C.; Jiang, Y.', year=2024, scopus_id=85183978423, doi='10.1016/j.asoc.2024.111342', eid='2-s2.0-85183978423', scopus_url='https://www.scopus.com/inward/record.uri?partnerID=HzOxMe3b&scp=85183978423&origin=inward', iter_depth=0),\n",
       "           PaperInfo(title='An application of artificial intelligence for solving multi-visit scheduling and routing of multi-heterogeneous resources', authors='Pitakaso, R.; Sethanan, K.; Kumar, A.; Tan, K.H.; Nanthasamroeng, N.', year=2024, scopus_id=85186220544, doi='10.1007/s10479-024-05836-6', eid='2-s2.0-85186220544', scopus_url='https://www.scopus.com/inward/record.uri?partnerID=HzOxMe3b&scp=85186220544&origin=inward', iter_depth=0),\n",
       "           PaperInfo(title='An end-to-end deep reinforcement learning method based on graph neural network for distributed job-shop scheduling problem', authors='Huang, J.-P.; Gao, L.; Li, X.-Y.', year=2024, scopus_id=85173449143, doi='10.1016/j.eswa.2023.121756', eid='2-s2.0-85173449143', scopus_url='https://www.scopus.com/inward/record.uri?partnerID=HzOxMe3b&scp=85173449143&origin=inward', iter_depth=0),\n",
       "           PaperInfo(title='An improved deep Q-learning algorithm for a trade-off between energy consumption and productivity in batch scheduling', authors='Zheng, X.; Chen, Z.', year=2024, scopus_id=85183207629, doi='10.1016/j.cie.2024.109925', eid='2-s2.0-85183207629', scopus_url='https://www.scopus.com/inward/record.uri?partnerID=HzOxMe3b&scp=85183207629&origin=inward', iter_depth=0),\n",
       "           PaperInfo(title='An improved deep reinforcement learning approach: A case study for optimisation of berth and yard scheduling for bulk cargo terminal', authors='Ai, T.; Huang, L.; Song, R.J.; Huang, H.F.; Jiao, F.; Ma, W.G.', year=2023, scopus_id=85179780866, doi='10.14743/apem2023.3.474', eid='2-s2.0-85179780866', scopus_url='https://www.scopus.com/inward/record.uri?partnerID=HzOxMe3b&scp=85179780866&origin=inward', iter_depth=0),\n",
       "           PaperInfo(title='An improved spider monkey optimization algorithm for multi-objective planning and scheduling problems of PCB assembly line', authors='Chen, Y.; Zhong, J.; Mumtaz, J.; Zhou, S.; Zhu, L.', year=2023, scopus_id=85163368790, doi='10.1016/j.eswa.2023.120600', eid='2-s2.0-85163368790', scopus_url='https://www.scopus.com/inward/record.uri?partnerID=HzOxMe3b&scp=85163368790&origin=inward', iter_depth=0),\n",
       "           PaperInfo(title='An integrated control strategy for simultaneous robot assignment, tool change and preventive maintenance scheduling using Heterogeneous Graph Neural Network', authors='Bhatta, K.; Chang, Q.', year=2023, scopus_id=85163709993, doi='10.1016/j.rcim.2023.102594', eid='2-s2.0-85163709993', scopus_url='https://www.scopus.com/inward/record.uri?partnerID=HzOxMe3b&scp=85163709993&origin=inward', iter_depth=0),\n",
       "           PaperInfo(title='An interpretable horizontal federated deep learning approach to improve short-term solar irradiance forecasting', authors='Xiao, Z.; Gao, B.; Huang, X.; Chen, Z.; Li, C.; Tai, Y.', year=2024, scopus_id=85182261614, doi='10.1016/j.jclepro.2024.140585', eid='2-s2.0-85182261614', scopus_url='https://www.scopus.com/inward/record.uri?partnerID=HzOxMe3b&scp=85182261614&origin=inward', iter_depth=0),\n",
       "           PaperInfo(title='Application of Novel Strategy Based on Deep Learning for Forecasting Wind Speed', authors='Ananadaraj, S.P.; Srivastava, M.; Singh, H.; Jameel, R.', year=2024, scopus_id=85182461177, doi=None, eid='2-s2.0-85182461177', scopus_url='https://www.scopus.com/inward/record.uri?partnerID=HzOxMe3b&scp=85182461177&origin=inward', iter_depth=0),\n",
       "           PaperInfo(title='Application of fuzzy support vector regression machine in power load prediction', authors='Xia, Y.; Yu, S.; Jiang, L.; Wang, L.; Lv, H.; Shen, Q.', year=2023, scopus_id=85176612322, doi='10.3233/JIFS-230589', eid='2-s2.0-85176612322', scopus_url='https://www.scopus.com/inward/record.uri?partnerID=HzOxMe3b&scp=85176612322&origin=inward', iter_depth=0),\n",
       "           PaperInfo(title='Applications of constraint programming in production scheduling problems: A descriptive bibliometric analysis', authors='Prata, B.A.; Abreu, L.R.; Nagano, M.S.', year=2024, scopus_id=85178037006, doi='10.1016/j.rico.2023.100350', eid='2-s2.0-85178037006', scopus_url='https://www.scopus.com/inward/record.uri?partnerID=HzOxMe3b&scp=85178037006&origin=inward', iter_depth=0),\n",
       "           PaperInfo(title='Assembly makespan estimation using features extracted by a topic model', authors='Hu, Z.; Cheng, Y.; Xiong, H.; Zhang, X.', year=2023, scopus_id=85164242474, doi='10.1016/j.knosys.2023.110738', eid='2-s2.0-85164242474', scopus_url='https://www.scopus.com/inward/record.uri?partnerID=HzOxMe3b&scp=85164242474&origin=inward', iter_depth=0),\n",
       "           PaperInfo(title='Assessing the value of deep reinforcement learning for irrigation scheduling', authors='Kelly, T.D.; Foster, T.; Schultz, D.M.', year=2024, scopus_id=85185162019, doi='10.1016/j.atech.2024.100403', eid='2-s2.0-85185162019', scopus_url='https://www.scopus.com/inward/record.uri?partnerID=HzOxMe3b&scp=85185162019&origin=inward', iter_depth=0),\n",
       "           PaperInfo(title='Automated process planning and dynamic scheduling for smart manufacturing: A systematic literature review', authors='Marzia, S.; AlejandroVital-Soto; Azab, A.', year=2023, scopus_id=85173230317, doi='10.1016/j.mfglet.2023.07.013', eid='2-s2.0-85173230317', scopus_url='https://www.scopus.com/inward/record.uri?partnerID=HzOxMe3b&scp=85173230317&origin=inward', iter_depth=0),\n",
       "           PaperInfo(title='Battery Scheduling Control of a Microgrid Trading with Utility Grid Using Deep Reinforcement Learning', authors='Mohamed, M.; Tsuji, T.', year=2023, scopus_id=85147573041, doi='10.1002/tee.23768', eid='2-s2.0-85147573041', scopus_url='https://www.scopus.com/inward/record.uri?partnerID=HzOxMe3b&scp=85147573041&origin=inward', iter_depth=0),\n",
       "           PaperInfo(title='Battery and Hydrogen Energy Storage Control in a Smart Energy Network with Flexible Energy Demand Using Deep Reinforcement Learning', authors='Samende, C.; Fan, Z.; Cao, J.; Fabian, R.; Baltas, G.N.; Rodriguez, P.', year=2023, scopus_id=85174074654, doi='10.3390/en16196770', eid='2-s2.0-85174074654', scopus_url='https://www.scopus.com/inward/record.uri?partnerID=HzOxMe3b&scp=85174074654&origin=inward', iter_depth=0),\n",
       "           PaperInfo(title='Bi-Dueling DQN Enhanced Two-Stage Scheduling for Augmented Surveillance in Smart EMS', authors='Liang, W.; Xie, W.; Zhou, X.; I-Kai, Wang, K.; Ma, J.; Jin, Q.', year=2023, scopus_id=85141456020, doi='10.1109/TII.2022.3216295', eid='2-s2.0-85141456020', scopus_url='https://www.scopus.com/inward/record.uri?partnerID=HzOxMe3b&scp=85141456020&origin=inward', iter_depth=0),\n",
       "           PaperInfo(title='BoxStacker: Deep Reinforcement Learning for 3D Bin Packing Problem in Virtual Environment of Logistics Systems', authors='Murdivien, S.A.; Um, J.', year=2023, scopus_id=85167770655, doi='10.3390/s23156928', eid='2-s2.0-85167770655', scopus_url='https://www.scopus.com/inward/record.uri?partnerID=HzOxMe3b&scp=85167770655&origin=inward', iter_depth=0),\n",
       "           PaperInfo(title='Client Selection for Federated Bayesian Learning', authors='Yang, J.; Liu, Y.; Kassab, R.', year=2023, scopus_id=85148428784, doi='10.1109/JSAC.2023.3242720', eid='2-s2.0-85148428784', scopus_url='https://www.scopus.com/inward/record.uri?partnerID=HzOxMe3b&scp=85148428784&origin=inward', iter_depth=0),\n",
       "           PaperInfo(title='Cloud–edge collaboration task scheduling in cloud manufacturing: An attention-based deep reinforcement learning approach', authors='Chen, Z.; Zhang, L.; Wang, X.; Wang, K.', year=2023, scopus_id=85147604807, doi='10.1016/j.cie.2023.109053', eid='2-s2.0-85147604807', scopus_url='https://www.scopus.com/inward/record.uri?partnerID=HzOxMe3b&scp=85147604807&origin=inward', iter_depth=0),\n",
       "           PaperInfo(title='Combination prediction of underground mine rock drilling time based on seasonal and trend decomposition using Loess', authors='Li, N.; Liu, D.; Wang, L.; Ye, H.; Wang, Q.; Yan, D.; Zhao, S.', year=2024, scopus_id=85185495536, doi='10.1016/j.engappai.2024.108064', eid='2-s2.0-85185495536', scopus_url='https://www.scopus.com/inward/record.uri?partnerID=HzOxMe3b&scp=85185495536&origin=inward', iter_depth=0),\n",
       "           PaperInfo(title='Combining Reinforcement Learning Algorithms with Graph Neural Networks to Solve Dynamic Job Shop Scheduling Problems', authors='Yang, Z.; Bi, L.; Jiao, X.', year=2023, scopus_id=85160684014, doi='10.3390/pr11051571', eid='2-s2.0-85160684014', scopus_url='https://www.scopus.com/inward/record.uri?partnerID=HzOxMe3b&scp=85160684014&origin=inward', iter_depth=0),\n",
       "           PaperInfo(title='Comparison between Physics-Based Approaches and Neural Networks for the Energy Consumption Optimization of an Automotive Production Industrial Process', authors='Pelella, F.; Viscito, L.; Magnea, F.; Zanella, A.; Patalano, S.; Mauro, A.W.; Bianco, N.', year=2023, scopus_id=85174053114, doi='10.3390/en16196916', eid='2-s2.0-85174053114', scopus_url='https://www.scopus.com/inward/record.uri?partnerID=HzOxMe3b&scp=85174053114&origin=inward', iter_depth=0),\n",
       "           PaperInfo(title='Complex Job Shop Simulation “CoJoSim”—A Reference Model for Simulating Semiconductor Manufacturing', authors='Bauer, D.; Umgelter, D.; Schlereth, A.; Bauernhansl, T.; Sauer, A.', year=2023, scopus_id=85151953716, doi='10.3390/app13063615', eid='2-s2.0-85151953716', scopus_url='https://www.scopus.com/inward/record.uri?partnerID=HzOxMe3b&scp=85151953716&origin=inward', iter_depth=0),\n",
       "           PaperInfo(title='Component modeling and updating method of integrated energy systems based on knowledge distillation', authors='Lin, X.; Zhong, W.; Lin, X.; Zhou, Y.; Jiang, L.; Du-Ikonen, L.; Huang, L.', year=2024, scopus_id=85185312408, doi='10.1016/j.egyai.2024.100350', eid='2-s2.0-85185312408', scopus_url='https://www.scopus.com/inward/record.uri?partnerID=HzOxMe3b&scp=85185312408&origin=inward', iter_depth=0),\n",
       "           PaperInfo(title='Continuous manufacturing of monoclonal antibodies: Dynamic control of multiple integrated polishing chromatography steps using BioSMB', authors='Nitika, N.; Thakur, G.; Rathore, A.S.', year=2023, scopus_id=85146251380, doi='10.1016/j.chroma.2023.463784', eid='2-s2.0-85146251380', scopus_url='https://www.scopus.com/inward/record.uri?partnerID=HzOxMe3b&scp=85146251380&origin=inward', iter_depth=0),\n",
       "           PaperInfo(title='Converting semantic web services into formal planning domain descriptions to enable manufacturing process planning and scheduling in industry 4.0', authors='Malburg, L.; Klein, P.; Bergmann, R.', year=2023, scopus_id=85165452166, doi='10.1016/j.engappai.2023.106727', eid='2-s2.0-85165452166', scopus_url='https://www.scopus.com/inward/record.uri?partnerID=HzOxMe3b&scp=85165452166&origin=inward', iter_depth=0),\n",
       "           PaperInfo(title='Cooperative Partial Task Offloading and Resource Allocation for IIoT Based on Decentralized Multiagent Deep Reinforcement Learning', authors='Zhang, F.; Han, G.; Liu, L.; Zhang, Y.; Peng, Y.; Li, C.', year=2024, scopus_id=85168749751, doi='10.1109/JIOT.2023.3306803', eid='2-s2.0-85168749751', scopus_url='https://www.scopus.com/inward/record.uri?partnerID=HzOxMe3b&scp=85168749751&origin=inward', iter_depth=0),\n",
       "           PaperInfo(title='Correlated Information Scheduling in Industrial Internet of Things Based on Multi-Heterogeneous-Agent-Reinforcement-Learning', authors='Zhang, Q.; Wang, Y.', year=2024, scopus_id=85174843764, doi='10.1109/TNSE.2023.3321048', eid='2-s2.0-85174843764', scopus_url='https://www.scopus.com/inward/record.uri?partnerID=HzOxMe3b&scp=85174843764&origin=inward', iter_depth=0),\n",
       "           PaperInfo(title='Counterfactual-attention multi-agent reinforcement learning for joint condition-based maintenance and production scheduling', authors='Zhang, N.; Shen, Y.; Du, Y.; Chen, L.; Zhang, X.', year=2023, scopus_id=85170208707, doi='10.1016/j.jmsy.2023.08.011', eid='2-s2.0-85170208707', scopus_url='https://www.scopus.com/inward/record.uri?partnerID=HzOxMe3b&scp=85170208707&origin=inward', iter_depth=0),\n",
       "           PaperInfo(title='Data-driven decision-making in maintenance management and coordination throughout the asset life cycle: an empirical study', authors='Hinrichs, M.; Prifti, L.; Schneegass, S.', year=2024, scopus_id=85179946603, doi='10.1108/JQME-04-2023-0038', eid='2-s2.0-85179946603', scopus_url='https://www.scopus.com/inward/record.uri?partnerID=HzOxMe3b&scp=85179946603&origin=inward', iter_depth=0),\n",
       "           PaperInfo(title='Data-driven energy management system for flexible operation of hydrogen/ammonia-based energy hub: A deep reinforcement learning approach', authors='Wen, D.; Aziz, M.', year=2023, scopus_id=85162949739, doi='10.1016/j.enconman.2023.117323', eid='2-s2.0-85162949739', scopus_url='https://www.scopus.com/inward/record.uri?partnerID=HzOxMe3b&scp=85162949739&origin=inward', iter_depth=0),\n",
       "           PaperInfo(title='Data-driven failure prediction and RUL estimation of mechanical components using accumulative artificial neural networks', authors='Shaheen, B.; Kocsis, A.; Nemeth, I.', year=2023, scopus_id=85144623197, doi='10.1016/j.engappai.2022.105749', eid='2-s2.0-85144623197', scopus_url='https://www.scopus.com/inward/record.uri?partnerID=HzOxMe3b&scp=85144623197&origin=inward', iter_depth=0),\n",
       "           PaperInfo(title='Data-driven optimization for energy-constrained dietary supplement scheduling: A bounded cut MP-DQN approach', authors='Zhao, Y.; Ma, S.; Mo, X.; Xu, X.', year=2024, scopus_id=85184035436, doi='10.1016/j.cie.2024.109894', eid='2-s2.0-85184035436', scopus_url='https://www.scopus.com/inward/record.uri?partnerID=HzOxMe3b&scp=85184035436&origin=inward', iter_depth=0),\n",
       "           PaperInfo(title='DecAge: Decentralized Flow Scheduling for Industrial 5G and TSN Integrated Networks', authors='Li, M.; Guo, S.; Chen, C.; Chen, C.; Liao, X.; Guan, X.', year=2024, scopus_id=85167785691, doi='10.1109/TNSE.2023.3301879', eid='2-s2.0-85167785691', scopus_url='https://www.scopus.com/inward/record.uri?partnerID=HzOxMe3b&scp=85167785691&origin=inward', iter_depth=0),\n",
       "           PaperInfo(title='Deep Reinforcement Learning With a Look-Ahead Search for Robotic Cell Scheduling', authors='Kim, H.-J.; Lee, J.-H.', year=2024, scopus_id=85174810744, doi='10.1109/TSMC.2023.3317390', eid='2-s2.0-85174810744', scopus_url='https://www.scopus.com/inward/record.uri?partnerID=HzOxMe3b&scp=85174810744&origin=inward', iter_depth=0),\n",
       "           PaperInfo(title='Deep Reinforcement Learning-Based Self-Scheduling Strategy for a CAES-PV System Using Accurate Sky Images-Based Forecasting', authors='Dolatabadi, A.; Abdeltawab, H.; Mohamed, Y.A.-R.I.', year=2023, scopus_id=85149439262, doi='10.1109/TPWRS.2022.3177704', eid='2-s2.0-85149439262', scopus_url='https://www.scopus.com/inward/record.uri?partnerID=HzOxMe3b&scp=85149439262&origin=inward', iter_depth=0),\n",
       "           PaperInfo(title='Deep Reinforcement Learning-Driven Scheduling in Multijob Serial Lines: A Case Study in Automotive Parts Assembly', authors='Lee, S.; Kim, J.; Wi, G.; Won, Y.; Eun, Y.; Park, K.-J.', year=2024, scopus_id=85167803638, doi='10.1109/TII.2023.3292538', eid='2-s2.0-85167803638', scopus_url='https://www.scopus.com/inward/record.uri?partnerID=HzOxMe3b&scp=85167803638&origin=inward', iter_depth=0),\n",
       "           PaperInfo(title='Deep learning–based neural networks for day-ahead power load probability density forecasting', authors='Zhou, Y.; Zhu, D.; Chen, H.; Guo, S.; Xu, C.-Y.; Chang, F.-J.', year=2023, scopus_id=85139484421, doi='10.1007/s11356-022-23305-0', eid='2-s2.0-85139484421', scopus_url='https://www.scopus.com/inward/record.uri?partnerID=HzOxMe3b&scp=85139484421&origin=inward', iter_depth=0),\n",
       "           PaperInfo(title='Deep reinforcement learning for optimal planning of assembly line maintenance', authors='Geurtsen, M.; Adan, I.; Atan, Z.', year=2023, scopus_id=85163194086, doi='10.1016/j.jmsy.2023.05.011', eid='2-s2.0-85163194086', scopus_url='https://www.scopus.com/inward/record.uri?partnerID=HzOxMe3b&scp=85163194086&origin=inward', iter_depth=0),\n",
       "           PaperInfo(title='Deep reinforcement learning for solving resource constrained project scheduling problems with resource disruptions', authors='Cai, H.; Bian, Y.; Liu, L.', year=2024, scopus_id=85168419084, doi='10.1016/j.rcim.2023.102628', eid='2-s2.0-85168419084', scopus_url='https://www.scopus.com/inward/record.uri?partnerID=HzOxMe3b&scp=85168419084&origin=inward', iter_depth=0),\n",
       "           PaperInfo(title='Deep reinforcement learning for solving steelmaking-continuous casting scheduling problems under time-of-use tariffs', authors='Pan, R.; Wang, Q.; Cao, J.; Zhou, C.', year=2024, scopus_id=85173717320, doi='10.1080/00207543.2023.2267693', eid='2-s2.0-85173717320', scopus_url='https://www.scopus.com/inward/record.uri?partnerID=HzOxMe3b&scp=85173717320&origin=inward', iter_depth=0),\n",
       "           PaperInfo(title='Deep reinforcement learning-based full-duplex link scheduling in federated learning-based computing for IoMT', authors='Guan, Z.; Li, Y.; Yu, S.; Yang, Z.', year=2023, scopus_id=85146223930, doi='10.1002/ett.4724', eid='2-s2.0-85146223930', scopus_url='https://www.scopus.com/inward/record.uri?partnerID=HzOxMe3b&scp=85146223930&origin=inward', iter_depth=0),\n",
       "           PaperInfo(title='Deep-Reinforcement-Learning-Based Production Scheduling in Industrial Internet of Things', authors='Luo, Z.; Jiang, C.; Liu, L.; Zheng, X.; Ma, H.; Dong, F.; Li, F.', year=2023, scopus_id=85161588374, doi='10.1109/JIOT.2023.3283056', eid='2-s2.0-85161588374', scopus_url='https://www.scopus.com/inward/record.uri?partnerID=HzOxMe3b&scp=85161588374&origin=inward', iter_depth=0),\n",
       "           PaperInfo(title='Design and development of mixed integer programming model for scheduling tasks through artificial intelligence', authors='Alla, V.R.S.P.; Medikondu, N.R.; Kanakavalli, P.B.; Ravulapalli, V.P.', year=2024, scopus_id=85171142738, doi='10.1007/s12008-023-01488-1', eid='2-s2.0-85171142738', scopus_url='https://www.scopus.com/inward/record.uri?partnerID=HzOxMe3b&scp=85171142738&origin=inward', iter_depth=0),\n",
       "           PaperInfo(title='Detection and Recognition of Tilted Characters on Railroad Wagon Wheelsets Based on Deep Learning', authors='Xu, F.; Xu, Z.; Lu, Z.; Peng, C.; Yan, S.', year=2023, scopus_id=85172719564, doi='10.3390/s23187716', eid='2-s2.0-85172719564', scopus_url='https://www.scopus.com/inward/record.uri?partnerID=HzOxMe3b&scp=85172719564&origin=inward', iter_depth=0),\n",
       "           PaperInfo(title='Development, Deployment, and Implementation of a Machine Learning Surgical Case Length Prediction Model and Prospective Evaluation', authors='Zaribafzadeh, H.; Webster, W.L.; Vail, C.J.; Daigle, T.; Kirk, A.D.; Allen, P.J.; Henao, R.; Buckland, D.M.', year=2023, scopus_id=85176509451, doi='10.1097/SLA.0000000000005936', eid='2-s2.0-85176509451', scopus_url='https://www.scopus.com/inward/record.uri?partnerID=HzOxMe3b&scp=85176509451&origin=inward', iter_depth=0),\n",
       "           PaperInfo(title='Digital Twin-Enabled Machine Learning for Smart Manufacturing', authors='Jain, S.; Narayanan, A.', year=2023, scopus_id=85164976397, doi='10.1520/SSMS20220035', eid='2-s2.0-85164976397', scopus_url='https://www.scopus.com/inward/record.uri?partnerID=HzOxMe3b&scp=85164976397&origin=inward', iter_depth=0),\n",
       "           PaperInfo(title='Digital twin and deep reinforcement learning enabled real-time scheduling for complex product flexible shop-floor', authors='Chang, X.; Jia, X.; Fu, S.; Hu, H.; Liu, K.', year=2023, scopus_id=85138415844, doi='10.1177/09544054221121934', eid='2-s2.0-85138415844', scopus_url='https://www.scopus.com/inward/record.uri?partnerID=HzOxMe3b&scp=85138415844&origin=inward', iter_depth=0),\n",
       "           PaperInfo(title='Double deep Q-network-based self-adaptive scheduling approach for smart shop floor', authors='Ma, Y.; Cai, J.; Li, S.; Liu, J.; Xing, J.; Qiao, F.', year=2023, scopus_id=85166962181, doi='10.1007/s00521-023-08877-3', eid='2-s2.0-85166962181', scopus_url='https://www.scopus.com/inward/record.uri?partnerID=HzOxMe3b&scp=85166962181&origin=inward', iter_depth=0),\n",
       "           PaperInfo(title='Dual deep reinforcement learning agents-based integrated order acceptance and scheduling of mass individualized prototyping', authors='Leng, J.; Guo, J.; Zhang, H.; Xu, K.; Qiao, Y.; Zheng, P.; Shen, W.', year=2023, scopus_id=85173585768, doi='10.1016/j.jclepro.2023.139249', eid='2-s2.0-85173585768', scopus_url='https://www.scopus.com/inward/record.uri?partnerID=HzOxMe3b&scp=85173585768&origin=inward', iter_depth=0),\n",
       "           PaperInfo(title='Dynamic Parallel Machine Scheduling With Deep Q-Network', authors='Liu, C.-L.; Tseng, C.-J.; Huang, T.-H.; Wang, J.-W.', year=2023, scopus_id=85165280904, doi='10.1109/TSMC.2023.3289322', eid='2-s2.0-85165280904', scopus_url='https://www.scopus.com/inward/record.uri?partnerID=HzOxMe3b&scp=85165280904&origin=inward', iter_depth=0),\n",
       "           PaperInfo(title='Dynamic decision-making for knowledge-enabled distributed resource configuration in cloud manufacturing considering stochastic order arrival', authors='Zhang, Y.; Zhang, Z.; Lu, Y.; Zhu, H.; Tang, D.', year=2024, scopus_id=85181165698, doi='10.1016/j.rcim.2023.102712', eid='2-s2.0-85181165698', scopus_url='https://www.scopus.com/inward/record.uri?partnerID=HzOxMe3b&scp=85181165698&origin=inward', iter_depth=0),\n",
       "           PaperInfo(title='Dynamic job-shop scheduling using graph reinforcement learning with auxiliary strategy', authors='Liu, Z.; Mao, H.; Sa, G.; Liu, H.; Tan, J.', year=2024, scopus_id=85184775953, doi='10.1016/j.jmsy.2024.01.002', eid='2-s2.0-85184775953', scopus_url='https://www.scopus.com/inward/record.uri?partnerID=HzOxMe3b&scp=85184775953&origin=inward', iter_depth=0),\n",
       "           PaperInfo(title='Dynamic production scheduling towards self-organizing mass personalization: A multi-agent dueling deep reinforcement learning approach', authors='Qin, Z.; Johnson, D.; Lu, Y.', year=2023, scopus_id=85151720802, doi='10.1016/j.jmsy.2023.03.003', eid='2-s2.0-85151720802', scopus_url='https://www.scopus.com/inward/record.uri?partnerID=HzOxMe3b&scp=85151720802&origin=inward', iter_depth=0),\n",
       "           PaperInfo(title='Dynamic scheduling for dual-objective job shop with machine breakdown by reinforcement learning', authors='Gan, X.; Zuo, Y.; Yang, G.; Zhang, A.; Tao, F.', year=2024, scopus_id=85153117348, doi='10.1177/09544054231167086', eid='2-s2.0-85153117348', scopus_url='https://www.scopus.com/inward/record.uri?partnerID=HzOxMe3b&scp=85153117348&origin=inward', iter_depth=0),\n",
       "           PaperInfo(title='Dynamic scheduling for flexible job shop using a deep reinforcement learning approach', authors='Gui, Y.; Tang, D.; Zhu, H.; Zhang, Y.; Zhang, Z.', year=2023, scopus_id=85153580568, doi='10.1016/j.cie.2023.109255', eid='2-s2.0-85153580568', scopus_url='https://www.scopus.com/inward/record.uri?partnerID=HzOxMe3b&scp=85153580568&origin=inward', iter_depth=0),\n",
       "           PaperInfo(title='Dynamic scheduling for flexible job shop with insufficient transportation resources via graph neural network and deep reinforcement learning', authors='Zhang, M.; Wang, L.; Qiu, F.; Liu, X.', year=2023, scopus_id=85176597102, doi='10.1016/j.cie.2023.109718', eid='2-s2.0-85176597102', scopus_url='https://www.scopus.com/inward/record.uri?partnerID=HzOxMe3b&scp=85176597102&origin=inward', iter_depth=0),\n",
       "           PaperInfo(title='Energy Trading and Optimum Scheduling for Microgrids Using Multiple Agents Based DL Approach', authors='Anita, S.; Rodrigues, P.; Nagabhooshanam, N.; Londhe, G.V.; Salunkhe, S.S.; Kumar, P.D.; L, N.; Bhima, Raju, P.S.D.', year=2024, scopus_id=85184422340, doi='10.1080/15325008.2023.2300329', eid='2-s2.0-85184422340', scopus_url='https://www.scopus.com/inward/record.uri?partnerID=HzOxMe3b&scp=85184422340&origin=inward', iter_depth=0),\n",
       "           PaperInfo(title='Estimation of Reference Crop Evapotranspiration with Three Different Machine Learning Models and Limited Meteorological Variables', authors='Yong, S.L.S.; Ng, J.L.; Huang, Y.F.; Ang, C.K.', year=2023, scopus_id=85154028431, doi='10.3390/agronomy13041048', eid='2-s2.0-85154028431', scopus_url='https://www.scopus.com/inward/record.uri?partnerID=HzOxMe3b&scp=85154028431&origin=inward', iter_depth=0),\n",
       "           PaperInfo(title='Evaluation of artificial intelligence algorithms with sensor data assimilation in estimating crop evapotranspiration and crop water stress index for irrigation water management', authors='Katimbo, A.; Rudnick, D.R.; Zhang, J.; Ge, Y.; DeJonge, K.C.; Franz, T.E.; Shi, Y.; Liang, W.-Z.; Qiao, X.; Heeren, D.M.; Kabenge, I.; Nakabuye, H.N.; Duan, J.', year=2023, scopus_id=85146648662, doi='10.1016/j.atech.2023.100176', eid='2-s2.0-85146648662', scopus_url='https://www.scopus.com/inward/record.uri?partnerID=HzOxMe3b&scp=85146648662&origin=inward', iter_depth=0),\n",
       "           PaperInfo(title='Evaluation of growth-stage-based variable deficit irrigation strategies for cotton production in the Texas High Plains', authors='Himanshu, S.K.; Ale, S.; Bell, J.; Fan, Y.; Samanta, S.; Bordovsky, J.P.; Gitz, III, D.C.; Lascano, R.J.; Brauer, D.K.', year=2023, scopus_id=85147605285, doi='10.1016/j.agwat.2023.108222', eid='2-s2.0-85147605285', scopus_url='https://www.scopus.com/inward/record.uri?partnerID=HzOxMe3b&scp=85147605285&origin=inward', iter_depth=0),\n",
       "           PaperInfo(title='Evolution strategies-based optimized graph reinforcement learning for solving dynamic job shop scheduling problem', authors='Su, C.; Zhang, C.; Xia, D.; Han, B.; Wang, C.; Chen, G.; Xie, L.', year=2023, scopus_id=85165540331, doi='10.1016/j.asoc.2023.110596', eid='2-s2.0-85165540331', scopus_url='https://www.scopus.com/inward/record.uri?partnerID=HzOxMe3b&scp=85165540331&origin=inward', iter_depth=0),\n",
       "           PaperInfo(title='Explainable multi-agent deep reinforcement learning for real-time demand response towards sustainable manufacturing', authors='Yun, L.; Wang, D.; Li, L.', year=2023, scopus_id=85163174116, doi='10.1016/j.apenergy.2023.121324', eid='2-s2.0-85163174116', scopus_url='https://www.scopus.com/inward/record.uri?partnerID=HzOxMe3b&scp=85163174116&origin=inward', iter_depth=0),\n",
       "           PaperInfo(title='Exploring job running path to predict runtime on multiple production supercomputers', authors='Yang, W.; Liao, X.; Dong, D.; Yu, J.', year=2023, scopus_id=85147194837, doi='10.1016/j.jpdc.2023.01.001', eid='2-s2.0-85147194837', scopus_url='https://www.scopus.com/inward/record.uri?partnerID=HzOxMe3b&scp=85147194837&origin=inward', iter_depth=0),\n",
       "           PaperInfo(title='Fast DRL-based scheduler configuration tuning for reducing tail latency in edge-cloud jobs', authors='Wen, S.; Han, R.; Liu, C.H.; Chen, L.Y.', year=2023, scopus_id=85162050226, doi='10.1186/s13677-023-00465-z', eid='2-s2.0-85162050226', scopus_url='https://www.scopus.com/inward/record.uri?partnerID=HzOxMe3b&scp=85162050226&origin=inward', iter_depth=0),\n",
       "           PaperInfo(title='Flowshop scheduling optimization for multi-shift precast production with on-time delivery', authors='Dan, Y.; Liu, G.; Mao, C.; Li, K.; Xu, P.', year=2024, scopus_id=85173500267, doi='10.1016/j.engappai.2023.107163', eid='2-s2.0-85173500267', scopus_url='https://www.scopus.com/inward/record.uri?partnerID=HzOxMe3b&scp=85173500267&origin=inward', iter_depth=0),\n",
       "           PaperInfo(title='From Missteps to Milestones: A Journey to Practical Fail-Slow Detection', authors='Lu, R.; Xu, E.; Zhang, Y.; Zhu, F.; Zhu, Z.; Wang, M.; Zhu, Z.; Xue, G.; Shu, J.; Li, M.; Wu, J.', year=2023, scopus_id=85177878279, doi='10.1145/3617690', eid='2-s2.0-85177878279', scopus_url='https://www.scopus.com/inward/record.uri?partnerID=HzOxMe3b&scp=85177878279&origin=inward', iter_depth=0),\n",
       "           PaperInfo(title='From simple digital twin to complex digital twin part II: Multi-scenario applications of digital twin shop floor', authors='Jia, W.; Wang, W.; Zhang, Z.', year=2023, scopus_id=85149395639, doi='10.1016/j.aei.2023.101915', eid='2-s2.0-85149395639', scopus_url='https://www.scopus.com/inward/record.uri?partnerID=HzOxMe3b&scp=85149395639&origin=inward', iter_depth=0),\n",
       "           PaperInfo(title='Game Theory Based Dynamic Event-Driven Service Scheduling in Cloud Manufacturing', authors='Liu, S.; Li, L.; Zhang, L.; Shen, W.', year=2024, scopus_id=85144752790, doi='10.1109/TASE.2022.3226444', eid='2-s2.0-85144752790', scopus_url='https://www.scopus.com/inward/record.uri?partnerID=HzOxMe3b&scp=85144752790&origin=inward', iter_depth=0),\n",
       "           PaperInfo(title='Heterogeneous demand–capacity synchronization for smart assembly cell line based on artificial intelligence-enabled IIoT', authors='Ling, S.; Guo, D.; Li, M.; Rong, Y.; Huang, G.Q.', year=2024, scopus_id=85132171222, doi='10.1007/s10845-022-02050-8', eid='2-s2.0-85132171222', scopus_url='https://www.scopus.com/inward/record.uri?partnerID=HzOxMe3b&scp=85132171222&origin=inward', iter_depth=0),\n",
       "           PaperInfo(title='High-Level Data Abstraction and Elastic Data Caching for Data-Intensive AI Applications on Cloud-Native Platforms', authors='Gu, R.; Xu, Z.; Che, Y.; Wang, X.; Dai, H.; Zhang, K.; Fan, B.; Hou, H.; Yi, L.; Ding, Y.; Huang, Y.; Chen, G.', year=2023, scopus_id=85171593231, doi='10.1109/TPDS.2023.3314659', eid='2-s2.0-85171593231', scopus_url='https://www.scopus.com/inward/record.uri?partnerID=HzOxMe3b&scp=85171593231&origin=inward', iter_depth=0),\n",
       "           PaperInfo(title='Identification of optimal maintenance parameters for best maintenance and service management system in the SMEs', authors='Kumaresan, V.; Saravanasankar, S.; Di, Bona, G.', year=2024, scopus_id=85177559843, doi='10.1108/JQME-10-2022-0070', eid='2-s2.0-85177559843', scopus_url='https://www.scopus.com/inward/record.uri?partnerID=HzOxMe3b&scp=85177559843&origin=inward', iter_depth=0),\n",
       "           PaperInfo(title='Implementation and Analysis of Pizza Production Process Using Fuzzy Logic Based on Multi-Factors Criteria', authors='Kumar, P.; Sodhi, R.S.', year=2024, scopus_id=85185933242, doi=None, eid='2-s2.0-85185933242', scopus_url='https://www.scopus.com/inward/record.uri?partnerID=HzOxMe3b&scp=85185933242&origin=inward', iter_depth=0),\n",
       "           PaperInfo(title='Improving Energy Performance in Flexographic Printing Process through Lean and AI Techniques: A Case Study', authors='Abusaq, Z.; Zahoor, S.; Habib, M.S.; Rehman, M.; Mahmood, J.; Kanan, M.; Mushtaq, R.T.', year=2023, scopus_id=85149172731, doi='10.3390/en16041972', eid='2-s2.0-85149172731', scopus_url='https://www.scopus.com/inward/record.uri?partnerID=HzOxMe3b&scp=85149172731&origin=inward', iter_depth=0),\n",
       "           PaperInfo(title='Innovation of production scheduling and service models for cloud manufacturing of tourism equipment based on artificial intelligence', authors='Lu, J.', year=2024, scopus_id=85184868018, doi='10.1007/s00170-024-13212-8', eid='2-s2.0-85184868018', scopus_url='https://www.scopus.com/inward/record.uri?partnerID=HzOxMe3b&scp=85184868018&origin=inward', iter_depth=0),\n",
       "           PaperInfo(title='Innovative machine learning approaches to predict the compressive strength of recycled plastic aggregate self-compacting concrete incorporating different waste ashes', authors='Ali, B.H.S.H.; Faraj, R.H.; Saeed, M.A.H.; Ahmed, H.U.; Ahmed, F.W.', year=2024, scopus_id=85183404692, doi='10.1007/s41939-023-00356-5', eid='2-s2.0-85183404692', scopus_url='https://www.scopus.com/inward/record.uri?partnerID=HzOxMe3b&scp=85183404692&origin=inward', iter_depth=0),\n",
       "           PaperInfo(title='Integrated lot-sizing and scheduling: Mitigation of uncertainty in demand and processing time by machine learning', authors='Rohaninejad, M.; Janota, M.; Hanzalek, Z.', year=2023, scopus_id=85143908425, doi='10.1016/j.engappai.2022.105676', eid='2-s2.0-85143908425', scopus_url='https://www.scopus.com/inward/record.uri?partnerID=HzOxMe3b&scp=85143908425&origin=inward', iter_depth=0),\n",
       "           PaperInfo(title='Integrated planning decisions in the broiler chicken supply chain', authors='Solano-Blanco, A.L.; Gonzalez, J.E.; Gomez-Rueda, L.O.; Vargas-Sanchez, J.J.; Medaglia, A.L.', year=2023, scopus_id=85089378554, doi='10.1111/itor.12861', eid='2-s2.0-85089378554', scopus_url='https://www.scopus.com/inward/record.uri?partnerID=HzOxMe3b&scp=85089378554&origin=inward', iter_depth=0),\n",
       "           PaperInfo(title='Integrating Continuous and Batch Processes with Shared Resources in Closed-Loop Scheduling: A Case Study on Tuna Cannery', authors='Palacin, C.G.; Pitarch, J.L.; Vilas, C.; De, Prada, C.', year=2023, scopus_id=85163337386, doi='10.1021/acs.iecr.3c00754', eid='2-s2.0-85163337386', scopus_url='https://www.scopus.com/inward/record.uri?partnerID=HzOxMe3b&scp=85163337386&origin=inward', iter_depth=0),\n",
       "           PaperInfo(title='Integrating Robot Assignment and Maintenance Management: A Multi-Agent Reinforcement Learning Approach for Holistic Control', authors='Bhatta, K.; Chang, Q.', year=2023, scopus_id=85164685893, doi='10.1109/LRA.2023.3294717', eid='2-s2.0-85164685893', scopus_url='https://www.scopus.com/inward/record.uri?partnerID=HzOxMe3b&scp=85164685893&origin=inward', iter_depth=0),\n",
       "           PaperInfo(title='Integrating information, financial, and material flows in a chemical supply chain', authors='Perez, H.D.; Harshbarger, K.C.; Wassick, J.M.; Grossmann, I.E.', year=2023, scopus_id=85168163765, doi='10.1016/j.compchemeng.2023.108363', eid='2-s2.0-85168163765', scopus_url='https://www.scopus.com/inward/record.uri?partnerID=HzOxMe3b&scp=85168163765&origin=inward', iter_depth=0),\n",
       "           PaperInfo(title='Integrating short-term stochastic production planning updating with mining fleet management in industrial mining complexes: an actor-critic reinforcement learning approach', authors='de, Carvalho, J.P.; Dimitrakopoulos, R.', year=2023, scopus_id=85164150018, doi='10.1007/s10489-023-04774-3', eid='2-s2.0-85164150018', scopus_url='https://www.scopus.com/inward/record.uri?partnerID=HzOxMe3b&scp=85164150018&origin=inward', iter_depth=0),\n",
       "           PaperInfo(title='Integration of deep reinforcement learning and multi-agent system for dynamic scheduling of re-entrant hybrid flow shop considering worker fatigue and skill levels', authors='Liu, Y.; Fan, J.; Zhao, L.; Shen, W.; Zhang, C.', year=2023, scopus_id=85162171338, doi='10.1016/j.rcim.2023.102605', eid='2-s2.0-85162171338', scopus_url='https://www.scopus.com/inward/record.uri?partnerID=HzOxMe3b&scp=85162171338&origin=inward', iter_depth=0),\n",
       "           PaperInfo(title='Intelligent Grid Management for Power and Energy Supply and Distribution', authors='Panda, C.K.; Panda, C.', year=2023, scopus_id=85174807139, doi=None, eid='2-s2.0-85174807139', scopus_url='https://www.scopus.com/inward/record.uri?partnerID=HzOxMe3b&scp=85174807139&origin=inward', iter_depth=0),\n",
       "           PaperInfo(title='Intelligent Maintenance Framework for Reconfigurable Manufacturing With Deep Learning-Based Prognostics', authors='Xia, T.; Jiang, Y.; Ding, Y.; Si, G.; Wang, D.; Pan, E.; Xi, L.', year=2024, scopus_id=85183939814, doi='10.1109/JIOT.2024.3357750', eid='2-s2.0-85183939814', scopus_url='https://www.scopus.com/inward/record.uri?partnerID=HzOxMe3b&scp=85183939814&origin=inward', iter_depth=0),\n",
       "           PaperInfo(title='Intelligent Scheduling Based on Reinforcement Learning Approaches: Applying Advanced Q-Learning and State–Action–Reward–State–Action Reinforcement Learning Models for the Optimisation of Job Shop Scheduling Problems', authors='Momenikorbekandi, A.; Abbod, M.', year=2023, scopus_id=85178876296, doi='10.3390/electronics12234752', eid='2-s2.0-85178876296', scopus_url='https://www.scopus.com/inward/record.uri?partnerID=HzOxMe3b&scp=85178876296&origin=inward', iter_depth=0),\n",
       "           PaperInfo(title='Intelligent Scheduling for Group Distributed Manufacturing Systems: Harnessing Deep Reinforcement Learning in Cloud-Edge Cooperation', authors='Guo, P.; Xiong, J.; Wang, Y.; Meng, X.; Qian, L.', year=2024, scopus_id=85183656095, doi='10.1109/TETCI.2024.3354111', eid='2-s2.0-85183656095', scopus_url='https://www.scopus.com/inward/record.uri?partnerID=HzOxMe3b&scp=85183656095&origin=inward', iter_depth=0),\n",
       "           PaperInfo(title='Intelligent manufacturing management system based on data mining in artificial intelligence energy-saving resources', authors='Guo, Y.; Zhang, W.; Qin, Q.; Chen, K.; Wei, Y.', year=2023, scopus_id=85123623158, doi='10.1007/s00500-021-06593-5', eid='2-s2.0-85123623158', scopus_url='https://www.scopus.com/inward/record.uri?partnerID=HzOxMe3b&scp=85123623158&origin=inward', iter_depth=0),\n",
       "           PaperInfo(title='Job shop smart manufacturing scheduling by deep reinforcement learning', authors='Serrano-Ruiz, J.C.; Mula, J.; Poler, R.', year=2024, scopus_id=85185201017, doi='10.1016/j.jii.2024.100582', eid='2-s2.0-85185201017', scopus_url='https://www.scopus.com/inward/record.uri?partnerID=HzOxMe3b&scp=85185201017&origin=inward', iter_depth=0),\n",
       "           PaperInfo(title='Knowledge-enhanced reinforcement learning for multi-machine integrated production and maintenance scheduling', authors='Hu, J.; Wang, H.; Tang, H.-K.; Kanazawa, T.; Gupta, C.; Farahat, A.', year=2023, scopus_id=85174334828, doi='10.1016/j.cie.2023.109631', eid='2-s2.0-85174334828', scopus_url='https://www.scopus.com/inward/record.uri?partnerID=HzOxMe3b&scp=85174334828&origin=inward', iter_depth=0),\n",
       "           PaperInfo(title='Large-Scale Dynamic Scheduling for Flexible Job-Shop with Random Arrivals of New Jobs by Hierarchical Reinforcement Learning', authors='Lei, K.; Guo, P.; Wang, Y.; Zhang, J.; Meng, X.; Qian, L.', year=2024, scopus_id=85159843114, doi='10.1109/TII.2023.3272661', eid='2-s2.0-85159843114', scopus_url='https://www.scopus.com/inward/record.uri?partnerID=HzOxMe3b&scp=85159843114&origin=inward', iter_depth=0),\n",
       "           PaperInfo(title='Learning Aided Joint Sensor Activation and Mobile Charging Vehicle Scheduling for Energy-Efficient WRSN-Based Industrial IoT', authors='Chen, J.; Yi, C.; Wang, R.; Zhu, K.; Cai, J.', year=2023, scopus_id=85144074667, doi='10.1109/TVT.2022.3224443', eid='2-s2.0-85144074667', scopus_url='https://www.scopus.com/inward/record.uri?partnerID=HzOxMe3b&scp=85144074667&origin=inward', iter_depth=0),\n",
       "           PaperInfo(title='Learning-Based Cuckoo Search Algorithm to Schedule a Flexible Job Shop With Sequencing Flexibility', authors='Lin, C.; Cao, Z.; Zhou, M.', year=2023, scopus_id=85141645678, doi='10.1109/TCYB.2022.3210228', eid='2-s2.0-85141645678', scopus_url='https://www.scopus.com/inward/record.uri?partnerID=HzOxMe3b&scp=85141645678&origin=inward', iter_depth=0),\n",
       "           PaperInfo(title='Learning-augmented heuristics for scheduling parallel serial-batch processing machines', authors='Uzunoglu, A.; Gahm, C.; Wahl, S.; Tuma, A.', year=2023, scopus_id=85145260278, doi='10.1016/j.cor.2022.106122', eid='2-s2.0-85145260278', scopus_url='https://www.scopus.com/inward/record.uri?partnerID=HzOxMe3b&scp=85145260278&origin=inward', iter_depth=0),\n",
       "           PaperInfo(title='Leveraging Machine Learning for Capacity and Cost on a Complex Toolset: A Case Study', authors='Kalir, A.A.; Lo, S.K.; Goldberg, G.; Zingerman-Koladko, I.; Ohana, A.; Revah, Y.; Chimol, T.B.; Honig, G.', year=2023, scopus_id=85171523604, doi='10.1109/TSM.2023.3314431', eid='2-s2.0-85171523604', scopus_url='https://www.scopus.com/inward/record.uri?partnerID=HzOxMe3b&scp=85171523604&origin=inward', iter_depth=0),\n",
       "           PaperInfo(title='Load Forecasting for the Laser Metal Processing Industry Using VMD and Hybrid Deep Learning Models', authors='Aksan, F.; Suresh, V.; Janik, P.; Sikorski, T.', year=2023, scopus_id=85166237144, doi='10.3390/en16145381', eid='2-s2.0-85166237144', scopus_url='https://www.scopus.com/inward/record.uri?partnerID=HzOxMe3b&scp=85166237144&origin=inward', iter_depth=0),\n",
       "           PaperInfo(title='Logistics-involved task scheduling in cloud manufacturing with offline deep reinforcement learning', authors='Wang, X.; Zhang, L.; Liu, Y.; Zhao, C.', year=2023, scopus_id=85159229887, doi='10.1016/j.jii.2023.100471', eid='2-s2.0-85159229887', scopus_url='https://www.scopus.com/inward/record.uri?partnerID=HzOxMe3b&scp=85159229887&origin=inward', iter_depth=0),\n",
       "           PaperInfo(title='MRLM: A meta-reinforcement learning-based metaheuristic for hybrid flow-shop scheduling problem with learning and forgetting effects', authors='Zhang, Z.; Shao, Z.; Shao, W.; Chen, J.; Pi, D.', year=2024, scopus_id=85182888393, doi='10.1016/j.swevo.2024.101479', eid='2-s2.0-85182888393', scopus_url='https://www.scopus.com/inward/record.uri?partnerID=HzOxMe3b&scp=85182888393&origin=inward', iter_depth=0),\n",
       "           PaperInfo(title='Machine Learning Techniques for Estimating Soil Moisture from Smartphone Captured Images', authors='Hossain, M.R.H.; Kabir, M.A.', year=2023, scopus_id=85151471997, doi='10.3390/agriculture13030574', eid='2-s2.0-85151471997', scopus_url='https://www.scopus.com/inward/record.uri?partnerID=HzOxMe3b&scp=85151471997&origin=inward', iter_depth=0),\n",
       "           PaperInfo(title='Machine Learning and Game-Theoretic Model for Advanced Wind Energy Management Protocol (AWEMP)', authors='Khabbouchi, I.; Said, D.; Oukaira, A.; Mellal, I.; Khoukhi, L.', year=2023, scopus_id=85149760402, doi='10.3390/en16052179', eid='2-s2.0-85149760402', scopus_url='https://www.scopus.com/inward/record.uri?partnerID=HzOxMe3b&scp=85149760402&origin=inward', iter_depth=0),\n",
       "           PaperInfo(title='Manufacturing Productivity with Worker Turnover', authors='Moon, K.; Bergemann, P.; Brown, D.; Chen, A.; Chu, J.; Eisen, E.A.; Fischer, G.M.; Loyalka, P.; Rho, S.; Cohen, J.', year=2023, scopus_id=85156134069, doi='10.1287/mnsc.2022.4476', eid='2-s2.0-85156134069', scopus_url='https://www.scopus.com/inward/record.uri?partnerID=HzOxMe3b&scp=85156134069&origin=inward', iter_depth=0),\n",
       "           PaperInfo(title='Methodology for construction-standard-production-rate-based simulation modeling and production-rate data generation', authors='Ko, Y.; Kim, Y.; Noh, J.; Lee, K.; Shin, D.; Han, S.', year=2024, scopus_id=85178403915, doi='10.1080/13467581.2023.2278885', eid='2-s2.0-85178403915', scopus_url='https://www.scopus.com/inward/record.uri?partnerID=HzOxMe3b&scp=85178403915&origin=inward', iter_depth=0),\n",
       "           PaperInfo(title='Minimizing makespan in two-stage assembly additive manufacturing: A reinforcement learning iterated greedy algorithm', authors='Ying, K.-C.; Lin, S.-W.', year=2023, scopus_id=85150183983, doi='10.1016/j.asoc.2023.110190', eid='2-s2.0-85150183983', scopus_url='https://www.scopus.com/inward/record.uri?partnerID=HzOxMe3b&scp=85150183983&origin=inward', iter_depth=0),\n",
       "           PaperInfo(title='Modeling of green agricultural environment and rape hyperspectral analysis based on machine learning algorithm', authors='Liao, X.; Liao, G.; Cao, J.', year=2023, scopus_id=85144539757, doi='10.1016/j.ijleo.2022.170395', eid='2-s2.0-85144539757', scopus_url='https://www.scopus.com/inward/record.uri?partnerID=HzOxMe3b&scp=85144539757&origin=inward', iter_depth=0),\n",
       "           PaperInfo(title='Multi agent reinforcement learning for online layout planning and scheduling in flexible assembly systems', authors='Kaven, L.; Huke, P.; Goppert, A.; Schmitt, R.H.', year=2024, scopus_id=85183342992, doi='10.1007/s10845-023-02309-8', eid='2-s2.0-85183342992', scopus_url='https://www.scopus.com/inward/record.uri?partnerID=HzOxMe3b&scp=85183342992&origin=inward', iter_depth=0),\n",
       "           PaperInfo(title='Multi-Agent Reinforcement Learning for Extended Flexible Job Shop Scheduling', authors='Peng, S.; Xiong, G.; Yang, J.; Shen, Z.; Tamir, T.; Tao, Z.; Han, Y.; Wang, F.-Y.', year=2024, scopus_id=85183354123, doi='10.3390/machines12010008', eid='2-s2.0-85183354123', scopus_url='https://www.scopus.com/inward/record.uri?partnerID=HzOxMe3b&scp=85183354123&origin=inward', iter_depth=0),\n",
       "           PaperInfo(title='Multi-Objective Q-Learning-Based Brain Storm Optimization for Integrated Distributed Flow Shop and Distribution Scheduling Problems', authors='Zhang, S.; Xu, J.; Qiao, Y.', year=2023, scopus_id=85174926275, doi='10.3390/math11204306', eid='2-s2.0-85174926275', scopus_url='https://www.scopus.com/inward/record.uri?partnerID=HzOxMe3b&scp=85174926275&origin=inward', iter_depth=0),\n",
       "           PaperInfo(title='Multi-agent reinforcement learning based on graph convolutional network for flexible job shop scheduling', authors='Jing, X.; Yao, X.; Liu, M.; Zhou, J.', year=2024, scopus_id=85139688668, doi='10.1007/s10845-022-02037-5', eid='2-s2.0-85139688668', scopus_url='https://www.scopus.com/inward/record.uri?partnerID=HzOxMe3b&scp=85139688668&origin=inward', iter_depth=0),\n",
       "           PaperInfo(title='Multimarket Trading Strategy of a Hydropower Producer Considering Active-Time Duration: A Distributional Regression Approach', authors='Khodadadi, A.; Hesamzadeh, M.R.; Soder, L.', year=2023, scopus_id=85139381542, doi='10.1109/JSYST.2022.3205142', eid='2-s2.0-85139381542', scopus_url='https://www.scopus.com/inward/record.uri?partnerID=HzOxMe3b&scp=85139381542&origin=inward', iter_depth=0),\n",
       "           PaperInfo(title='Multivariate Geostatistical Simulation and Deep Q-Learning to Optimize Mining Decisions', authors='Avalos, S.; Ortiz, J.M.', year=2023, scopus_id=85149483591, doi='10.1007/s11004-023-10049-x', eid='2-s2.0-85149483591', scopus_url='https://www.scopus.com/inward/record.uri?partnerID=HzOxMe3b&scp=85149483591&origin=inward', iter_depth=0),\n",
       "           PaperInfo(title='Navigating urban day-ahead energy management considering climate change toward using IoT enabled machine learning technique: Toward future sustainable urban', authors='Huang, Z.; Jin, G.', year=2024, scopus_id=85181777199, doi='10.1016/j.scs.2023.105162', eid='2-s2.0-85181777199', scopus_url='https://www.scopus.com/inward/record.uri?partnerID=HzOxMe3b&scp=85181777199&origin=inward', iter_depth=0),\n",
       "           PaperInfo(title='On a Meta Learning-Based Scheduler for Deep Learning Clusters', authors='Yang, J.; Bao, L.; Liu, W.; Yang, R.; Wu, C.Q.', year=2023, scopus_id=85168652996, doi='10.1109/TCC.2023.3308161', eid='2-s2.0-85168652996', scopus_url='https://www.scopus.com/inward/record.uri?partnerID=HzOxMe3b&scp=85168652996&origin=inward', iter_depth=0),\n",
       "           PaperInfo(title='On the Use of Asset Administration Shell for Modeling and Deploying Production Scheduling Agents within a Multi-Agent System', authors='Siatras, V.; Bakopoulos, E.; Mavrothalassitis, P.; Nikolakis, N.; Alexopoulos, K.', year=2023, scopus_id=85170391275, doi='10.3390/app13179540', eid='2-s2.0-85170391275', scopus_url='https://www.scopus.com/inward/record.uri?partnerID=HzOxMe3b&scp=85170391275&origin=inward', iter_depth=0),\n",
       "           PaperInfo(title='Online-learning task scheduling with GNN-RL scheduler in collaborative edge computing', authors='Jian, C.; Pan, Z.; Bao, L.; Zhang, M.', year=2024, scopus_id=85146998587, doi='10.1007/s10586-022-03957-w', eid='2-s2.0-85146998587', scopus_url='https://www.scopus.com/inward/record.uri?partnerID=HzOxMe3b&scp=85146998587&origin=inward', iter_depth=0),\n",
       "           PaperInfo(title='Optimal energy management of energy hub: A reinforcement learning approach', authors='Yadollahi, Z.; Gharibi, R.; Dashti, R.; Torabi, Jahromi, A.', year=2024, scopus_id=85182915128, doi='10.1016/j.scs.2024.105179', eid='2-s2.0-85182915128', scopus_url='https://www.scopus.com/inward/record.uri?partnerID=HzOxMe3b&scp=85182915128&origin=inward', iter_depth=0),\n",
       "           PaperInfo(title='Optimal scheduling of ethylene plants under uncertainty: An unsupervised learning-based data-driven strategy', authors='Zhang, C.; Wang, Z.', year=2023, scopus_id=85166242388, doi='10.1016/j.cie.2023.109470', eid='2-s2.0-85166242388', scopus_url='https://www.scopus.com/inward/record.uri?partnerID=HzOxMe3b&scp=85166242388&origin=inward', iter_depth=0),\n",
       "           PaperInfo(title='Optimizing warehouse logistics scheduling strategy using soft computing and advanced machine learning techniques', authors='Li, K.', year=2023, scopus_id=85173116831, doi='10.1007/s00500-023-09269-4', eid='2-s2.0-85173116831', scopus_url='https://www.scopus.com/inward/record.uri?partnerID=HzOxMe3b&scp=85173116831&origin=inward', iter_depth=0),\n",
       "           PaperInfo(title='Performance Assessment and Comparative Analysis of Photovoltaic-Battery System Scheduling in an Existing Zero-Energy House Based on Reinforcement Learning Control', authors='Xu, W.; Li, Y.; He, G.; Xu, Y.; Gao, W.', year=2023, scopus_id=85164771142, doi='10.3390/en16134844', eid='2-s2.0-85164771142', scopus_url='https://www.scopus.com/inward/record.uri?partnerID=HzOxMe3b&scp=85164771142&origin=inward', iter_depth=0),\n",
       "           PaperInfo(title='Power quality 24-hour prediction using differential, deep and statistics machine learning based on weather data in an off-grid', authors='Zjavka, L.', year=2023, scopus_id=85135356206, doi='10.1016/j.jfranklin.2022.06.048', eid='2-s2.0-85135356206', scopus_url='https://www.scopus.com/inward/record.uri?partnerID=HzOxMe3b&scp=85135356206&origin=inward', iter_depth=0),\n",
       "           PaperInfo(title='Practical Reinforcement Learning for Adaptive Photolithography Scheduler in Mass Production', authors='Kim, E.; Kim, T.; Lee, D.; Kim, H.; Kim, S.; Kim, J.; Kim, W.; Kim, E.; Jin, Y.; Lee, T.-E.', year=2024, scopus_id=85179028799, doi='10.1109/TSM.2023.3336909', eid='2-s2.0-85179028799', scopus_url='https://www.scopus.com/inward/record.uri?partnerID=HzOxMe3b&scp=85179028799&origin=inward', iter_depth=0),\n",
       "           PaperInfo(title='Pre-Harvest Corn Grain Moisture Estimation Using Aerial Multispectral Imagery and Machine Learning Techniques', authors='Jjagwe, P.; Chandel, A.K.; Langston, D.', year=2023, scopus_id=85180664623, doi='10.3390/land12122188', eid='2-s2.0-85180664623', scopus_url='https://www.scopus.com/inward/record.uri?partnerID=HzOxMe3b&scp=85180664623&origin=inward', iter_depth=0),\n",
       "           PaperInfo(title='Prediction of soil moisture using machine learning techniques: A case study of an IoT-based irrigation system in a naturally ventilated polyhouse', authors='Challa, L.P.; Singh, C.D.; Rao, K.V.R.; Subeesh, A.; Srilakshmi, M.', year=2024, scopus_id=85184436029, doi='10.1002/ird.2933', eid='2-s2.0-85184436029', scopus_url='https://www.scopus.com/inward/record.uri?partnerID=HzOxMe3b&scp=85184436029&origin=inward', iter_depth=0),\n",
       "           PaperInfo(title='Probing an Easy-to-Deploy Multi-Agent Manufacturing System Based on Agent Computing Node: Architecture, Implementation, and Case Study', authors='Wang, L.; Nie, Q.; Zhang, Z.; Tang, D.; Liu, C.', year=2024, scopus_id=85185881616, doi='10.1115/1.4064409', eid='2-s2.0-85185881616', scopus_url='https://www.scopus.com/inward/record.uri?partnerID=HzOxMe3b&scp=85185881616&origin=inward', iter_depth=0),\n",
       "           PaperInfo(title='Q-learning based multi-objective immune algorithm for fuzzy flexible job shop scheduling problem considering dynamic disruptions', authors='Chen, X.-L.; Li, J.-Q.; Xu, Y.', year=2023, scopus_id=85173835555, doi='10.1016/j.swevo.2023.101414', eid='2-s2.0-85173835555', scopus_url='https://www.scopus.com/inward/record.uri?partnerID=HzOxMe3b&scp=85173835555&origin=inward', iter_depth=0),\n",
       "           PaperInfo(title='Q-learning driven multi-population memetic algorithm for distributed three-stage assembly hybrid flow shop scheduling with flexible preventive maintenance', authors='Jia, Y.; Yan, Q.; Wang, H.', year=2023, scopus_id=85163813895, doi='10.1016/j.eswa.2023.120837', eid='2-s2.0-85163813895', scopus_url='https://www.scopus.com/inward/record.uri?partnerID=HzOxMe3b&scp=85163813895&origin=inward', iter_depth=0),\n",
       "           PaperInfo(title='Real-Time Charging Scheduling of Automated Guided Vehicles in Cyber-Physical Smart Factories Using Feature-Based Reinforcement Learning', authors='Lin, C.-C.; Chen, K.-Y.; Hsieh, L.-T.', year=2023, scopus_id=85147228119, doi='10.1109/TITS.2023.3234010', eid='2-s2.0-85147228119', scopus_url='https://www.scopus.com/inward/record.uri?partnerID=HzOxMe3b&scp=85147228119&origin=inward', iter_depth=0),\n",
       "           PaperInfo(title='Real-time and concurrent optimization of scheduling and reconfiguration for dynamic reconfigurable flow shop using deep reinforcement learning', authors='Yang, S.; Wang, J.; Xin, L.; Xu, Z.', year=2023, scopus_id=85144401603, doi='10.1016/j.cirpj.2022.12.001', eid='2-s2.0-85144401603', scopus_url='https://www.scopus.com/inward/record.uri?partnerID=HzOxMe3b&scp=85144401603&origin=inward', iter_depth=0),\n",
       "           PaperInfo(title='Refined intelligent manufacturing enterprise human management based on IoT and machine learning technology', authors='Wang, C.', year=2024, scopus_id=85181530599, doi='10.1007/s00170-023-12903-y', eid='2-s2.0-85181530599', scopus_url='https://www.scopus.com/inward/record.uri?partnerID=HzOxMe3b&scp=85181530599&origin=inward', iter_depth=0),\n",
       "           PaperInfo(title='Reinforcement learning based optimization algorithm for maintenance tasks scheduling in coalbed methane gas field', authors='Gao, X.; Peng, D.; Kui, G.; Pan, J.; Zuo, X.; Li, F.', year=2023, scopus_id=85145863527, doi='10.1016/j.compchemeng.2022.108131', eid='2-s2.0-85145863527', scopus_url='https://www.scopus.com/inward/record.uri?partnerID=HzOxMe3b&scp=85145863527&origin=inward', iter_depth=0),\n",
       "           PaperInfo(title='Reinforcement learning iterated greedy algorithm for distributed assembly permutation flowshop scheduling problems', authors='Ying, K.-C.; Lin, S.-W.', year=2023, scopus_id=85138311684, doi='10.1007/s12652-022-04392-w', eid='2-s2.0-85138311684', scopus_url='https://www.scopus.com/inward/record.uri?partnerID=HzOxMe3b&scp=85138311684&origin=inward', iter_depth=0),\n",
       "           PaperInfo(title='Research on the Multiobjective and Efficient Ore-Blending Scheduling of Open-Pit Mines Based on Multiagent Deep Reinforcement Learning', authors='Feng, Z.; Liu, G.; Wang, L.; Gu, Q.; Chen, L.', year=2023, scopus_id=85168299246, doi='10.3390/su15065279', eid='2-s2.0-85168299246', scopus_url='https://www.scopus.com/inward/record.uri?partnerID=HzOxMe3b&scp=85168299246&origin=inward', iter_depth=0),\n",
       "           PaperInfo(title='Revolutionizing Solar Power Production with Artificial Intelligence: A Sustainable Predictive Model', authors='Alzain, E.; Al-Otaibi, S.; Aldhyani, T.H.H.; Alshebami, A.S.; Almaiah, M.A.; Jadhav, M.E.', year=2023, scopus_id=85160920223, doi='10.3390/su15107999', eid='2-s2.0-85160920223', scopus_url='https://www.scopus.com/inward/record.uri?partnerID=HzOxMe3b&scp=85160920223&origin=inward', iter_depth=0),\n",
       "           PaperInfo(title='Robotic disassembly sequence planning considering parts failure features', authors='Cui, J.; Yang, C.; Zhang, J.; Tian, S.; Liu, J.; Xu, W.', year=2023, scopus_id=85149487853, doi='10.1049/cim2.12074', eid='2-s2.0-85149487853', scopus_url='https://www.scopus.com/inward/record.uri?partnerID=HzOxMe3b&scp=85149487853&origin=inward', iter_depth=0),\n",
       "           PaperInfo(title='Robust and efficient task scheduling for robotics applications with reinforcement learning', authors='Tejer, M.; Szczepanski, R.; Tarczewski, T.', year=2024, scopus_id=85174202374, doi='10.1016/j.engappai.2023.107300', eid='2-s2.0-85174202374', scopus_url='https://www.scopus.com/inward/record.uri?partnerID=HzOxMe3b&scp=85174202374&origin=inward', iter_depth=0),\n",
       "           PaperInfo(title='Robust-stable scheduling in dynamic flow shops based on deep reinforcement learning', authors='Grumbach, F.; Muller, A.; Reusch, P.; Trojahn, S.', year=2024, scopus_id=85145187420, doi='10.1007/s10845-022-02069-x', eid='2-s2.0-85145187420', scopus_url='https://www.scopus.com/inward/record.uri?partnerID=HzOxMe3b&scp=85145187420&origin=inward', iter_depth=0),\n",
       "           PaperInfo(title='Robustness Prediction in Dynamic Production Processes—A New Surrogate Measure Based on Regression Machine Learning', authors='Grumbach, F.; Muller, A.; Reusch, P.; Trojahn, S.', year=2023, scopus_id=85156120985, doi='10.3390/pr11041267', eid='2-s2.0-85156120985', scopus_url='https://www.scopus.com/inward/record.uri?partnerID=HzOxMe3b&scp=85156120985&origin=inward', iter_depth=0),\n",
       "           PaperInfo(title='Safe reinforcement learning method integrating process knowledge for real-time scheduling of gas supply network', authors='Zhou, P.; Xu, Z.; Zhu, X.; Zhao, J.; Song, C.; Shao, Z.', year=2023, scopus_id=85150199405, doi='10.1016/j.ins.2023.02.084', eid='2-s2.0-85150199405', scopus_url='https://www.scopus.com/inward/record.uri?partnerID=HzOxMe3b&scp=85150199405&origin=inward', iter_depth=0),\n",
       "           PaperInfo(title='SafeFac: Video-based smart safety monitoring for preventing industrial work accidents', authors='Ahn, J.; Park, J.; Lee, S.S.; Lee, K.-H.; Do, H.; Ko, J.', year=2023, scopus_id=85143765147, doi='10.1016/j.eswa.2022.119397', eid='2-s2.0-85143765147', scopus_url='https://www.scopus.com/inward/record.uri?partnerID=HzOxMe3b&scp=85143765147&origin=inward', iter_depth=0),\n",
       "           PaperInfo(title='Scalable Scheduling of Semiconductor Packaging Facilities Using Deep Reinforcement Learning', authors='Park, I.-B.; Park, J.', year=2023, scopus_id=85120886434, doi='10.1109/TCYB.2021.3128075', eid='2-s2.0-85120886434', scopus_url='https://www.scopus.com/inward/record.uri?partnerID=HzOxMe3b&scp=85120886434&origin=inward', iter_depth=0),\n",
       "           PaperInfo(title='Scheduling for the Flexible Job-Shop Problem with a Dynamic Number of Machines Using Deep Reinforcement Learning', authors='Chang, Y.-H.; Liu, C.-H.; You, S.D.', year=2024, scopus_id=85185705849, doi='10.3390/info15020082', eid='2-s2.0-85185705849', scopus_url='https://www.scopus.com/inward/record.uri?partnerID=HzOxMe3b&scp=85185705849&origin=inward', iter_depth=0),\n",
       "           PaperInfo(title='Scheduling of decentralized robot services in cloud manufacturing with deep reinforcement learning', authors='Liu, Y.; Ping, Y.; Zhang, L.; Wang, L.; Xu, X.', year=2023, scopus_id=85138771264, doi='10.1016/j.rcim.2022.102454', eid='2-s2.0-85138771264', scopus_url='https://www.scopus.com/inward/record.uri?partnerID=HzOxMe3b&scp=85138771264&origin=inward', iter_depth=0),\n",
       "           PaperInfo(title='Self-Organizing Neural Scheduler for the Flexible Job Shop Problem With Periodic Maintenance and Mandatory Outsourcing Constraints', authors='Su, J.; Huang, H.; Li, G.; Li, X.; Hao, Z.', year=2023, scopus_id=85127773066, doi='10.1109/TCYB.2022.3158334', eid='2-s2.0-85127773066', scopus_url='https://www.scopus.com/inward/record.uri?partnerID=HzOxMe3b&scp=85127773066&origin=inward', iter_depth=0),\n",
       "           PaperInfo(title='Self-growth learning-based machine scheduler to minimize setup time and tardiness in OLED display semiconductor manufacturing', authors='Lee, D.; Lee, D.; Kim, K.', year=2023, scopus_id=85165528603, doi='10.1016/j.asoc.2023.110600', eid='2-s2.0-85165528603', scopus_url='https://www.scopus.com/inward/record.uri?partnerID=HzOxMe3b&scp=85165528603&origin=inward', iter_depth=0),\n",
       "           PaperInfo(title='Sequence generation for multi-task scheduling in cloud manufacturing with deep reinforcement learning', authors='Ping, Y.; Liu, Y.; Zhang, L.; Wang, L.; Xu, X.', year=2023, scopus_id=85148324740, doi='10.1016/j.jmsy.2023.02.009', eid='2-s2.0-85148324740', scopus_url='https://www.scopus.com/inward/record.uri?partnerID=HzOxMe3b&scp=85148324740&origin=inward', iter_depth=0),\n",
       "           PaperInfo(title='Simulation analysis of production scheduling algorithm for intelligent manufacturing cell based on artificial intelligence technology', authors='Lan, X.; Chen, H.', year=2023, scopus_id=85151402534, doi='10.1007/s00500-023-08074-3', eid='2-s2.0-85151402534', scopus_url='https://www.scopus.com/inward/record.uri?partnerID=HzOxMe3b&scp=85151402534&origin=inward', iter_depth=0),\n",
       "           PaperInfo(title='Simultaneous stochastic optimization of an open-pit mining complex with preconcentration using reinforcement learning', authors='Levinson, Z.; Dimitrakopoulos, R.; Keutchayan, J.', year=2023, scopus_id=85150805935, doi='10.1016/j.asoc.2023.110180', eid='2-s2.0-85150805935', scopus_url='https://www.scopus.com/inward/record.uri?partnerID=HzOxMe3b&scp=85150805935&origin=inward', iter_depth=0),\n",
       "           PaperInfo(title='Single-machine scheduling with product category-based learning and forgetting effects', authors='Heuser, P.; Tauer, B.', year=2023, scopus_id=85141266602, doi='10.1016/j.omega.2022.102786', eid='2-s2.0-85141266602', scopus_url='https://www.scopus.com/inward/record.uri?partnerID=HzOxMe3b&scp=85141266602&origin=inward', iter_depth=0),\n",
       "           PaperInfo(title='Smart Machine Health Prediction Based on Machine Learning in Industry Environment', authors='Yeruva, S.; Gunuganti, J.; Kalva, S.; Salkuti, S.R.; Kim, S.-C.', year=2023, scopus_id=85151097046, doi='10.3390/info14030181', eid='2-s2.0-85151097046', scopus_url='https://www.scopus.com/inward/record.uri?partnerID=HzOxMe3b&scp=85151097046&origin=inward', iter_depth=0),\n",
       "           PaperInfo(title='Smart city landscape design for achieving net-zero emissions: Digital twin modeling', authors='Liu, M.; Zhang, K.', year=2024, scopus_id=85185246254, doi='10.1016/j.seta.2024.103659', eid='2-s2.0-85185246254', scopus_url='https://www.scopus.com/inward/record.uri?partnerID=HzOxMe3b&scp=85185246254&origin=inward', iter_depth=0),\n",
       "           PaperInfo(title='Soft-Sensing Regression Model: From Sensor to Wafer Metrology Forecasting', authors='Fan, A.; Huang, Y.; Xu, F.; Bom, S.', year=2023, scopus_id=85175279593, doi='10.3390/s23208363', eid='2-s2.0-85175279593', scopus_url='https://www.scopus.com/inward/record.uri?partnerID=HzOxMe3b&scp=85175279593&origin=inward', iter_depth=0),\n",
       "           PaperInfo(title='Solving LTPSOP in open-pit mines using Gaussian process and human mental search', authors='Tolouei, K.; Moosavi, E.; Gholinejad, M.', year=2024, scopus_id=85184402145, doi='10.1007/s12597-024-00744-6', eid='2-s2.0-85184402145', scopus_url='https://www.scopus.com/inward/record.uri?partnerID=HzOxMe3b&scp=85184402145&origin=inward', iter_depth=0),\n",
       "           PaperInfo(title='Solving non-permutation flow-shop scheduling problem via a novel deep reinforcement learning approach', authors='Wang, Z.; Cai, B.; Li, J.; Yang, D.; Zhao, Y.; Xie, H.', year=2023, scopus_id=85143529925, doi='10.1016/j.cor.2022.106095', eid='2-s2.0-85143529925', scopus_url='https://www.scopus.com/inward/record.uri?partnerID=HzOxMe3b&scp=85143529925&origin=inward', iter_depth=0),\n",
       "           PaperInfo(title='State-Space Compression for Efficient Policy Learning in Crude Oil Scheduling', authors='Ma, N.; Li, H.; Liu, H.', year=2024, scopus_id=85184710667, doi='10.3390/math12030393', eid='2-s2.0-85184710667', scopus_url='https://www.scopus.com/inward/record.uri?partnerID=HzOxMe3b&scp=85184710667&origin=inward', iter_depth=0),\n",
       "           PaperInfo(title='T-LGBKS: An Interpretable Machine Learning Framework for Electricity Consumption Forecasting', authors='Liang, M.; Guo, R.; Li, H.; Wu, J.; Sun, X.', year=2023, scopus_id=85161561191, doi='10.3390/en16114294', eid='2-s2.0-85161561191', scopus_url='https://www.scopus.com/inward/record.uri?partnerID=HzOxMe3b&scp=85161561191&origin=inward', iter_depth=0),\n",
       "           PaperInfo(title='The pickup and delivery hybrid-operations of AGV conflict-free scheduling problem with time constraint among multi-FMCs', authors='Zhou, B.; Lei, Y.', year=2023, scopus_id=85168364488, doi='10.1007/s00521-023-08897-z', eid='2-s2.0-85168364488', scopus_url='https://www.scopus.com/inward/record.uri?partnerID=HzOxMe3b&scp=85168364488&origin=inward', iter_depth=0),\n",
       "           PaperInfo(title='Throughput Time Predictions Along the Order Fulfilment Process', authors='Hiller, T.; Demke, T.M.; Nyhuis, P.', year=2024, scopus_id=85182936125, doi='10.1109/ACCESS.2024.3353029', eid='2-s2.0-85182936125', scopus_url='https://www.scopus.com/inward/record.uri?partnerID=HzOxMe3b&scp=85182936125&origin=inward', iter_depth=0),\n",
       "           PaperInfo(title='TinyML-Sensor for Shelf Life Estimation of Fresh Date Fruits', authors='Srinivasagan, R.; Mohammed, M.; Alzahrani, A.', year=2023, scopus_id=85168738755, doi='10.3390/s23167081', eid='2-s2.0-85168738755', scopus_url='https://www.scopus.com/inward/record.uri?partnerID=HzOxMe3b&scp=85168738755&origin=inward', iter_depth=0),\n",
       "           PaperInfo(title='Toward automated algorithm configuration for distributed hybrid flow shop scheduling with multiprocessor tasks', authors='Gholami, H.; Sun, H.', year=2023, scopus_id=85147193306, doi='10.1016/j.knosys.2023.110309', eid='2-s2.0-85147193306', scopus_url='https://www.scopus.com/inward/record.uri?partnerID=HzOxMe3b&scp=85147193306&origin=inward', iter_depth=0),\n",
       "           PaperInfo(title='Towards live decision-making for service-based production: Integrated process planning and scheduling with Digital Twins and Deep-Q-Learning', authors='Muller-Zhang, Z.; Kuhn, T.; Antonino, P.O.', year=2023, scopus_id=85153678941, doi='10.1016/j.compind.2023.103933', eid='2-s2.0-85153678941', scopus_url='https://www.scopus.com/inward/record.uri?partnerID=HzOxMe3b&scp=85153678941&origin=inward', iter_depth=0),\n",
       "           PaperInfo(title='Wind speed and global radiation forecasting based on differential, deep and stochastic machine learning of patterns in 2-level historical meteo-quantity sets', authors='Zjavka, L.', year=2023, scopus_id=85139923895, doi='10.1007/s40747-022-00879-3', eid='2-s2.0-85139923895', scopus_url='https://www.scopus.com/inward/record.uri?partnerID=HzOxMe3b&scp=85139923895&origin=inward', iter_depth=0),\n",
       "           PaperInfo(title='schlably: A Python framework for deep reinforcement learning based scheduling experiments', authors='Waubert, de, Puiseau, C.; Peters, J.; Dorpelkus, C.; Tercan, H.; Meisen, T.', year=2023, scopus_id=85151254593, doi='10.1016/j.softx.2023.101383', eid='2-s2.0-85151254593', scopus_url='https://www.scopus.com/inward/record.uri?partnerID=HzOxMe3b&scp=85151254593&origin=inward', iter_depth=0)})"
      ]
     },
     "execution_count": 13,
     "metadata": {},
     "output_type": "execute_result"
    }
   ],
   "source": [
    "papers_by_iter_depth[0]"
   ]
  },
  {
   "cell_type": "code",
   "execution_count": null,
   "metadata": {},
   "outputs": [],
   "source": []
  },
  {
   "cell_type": "code",
   "execution_count": null,
   "metadata": {},
   "outputs": [],
   "source": []
  },
  {
   "cell_type": "code",
   "execution_count": null,
   "metadata": {},
   "outputs": [],
   "source": []
  },
  {
   "cell_type": "code",
   "execution_count": null,
   "metadata": {},
   "outputs": [],
   "source": []
  },
  {
   "cell_type": "code",
   "execution_count": 162,
   "metadata": {},
   "outputs": [],
   "source": [
    "logging.basicConfig(stream=sys.stdout)\n",
    "logger = logging.getLogger('scopus_reader')\n",
    "LOGGING_LEVEL = 'INFO'\n",
    "logger.setLevel(LOGGING_LEVEL)"
   ]
  },
  {
   "cell_type": "code",
   "execution_count": 163,
   "metadata": {},
   "outputs": [],
   "source": [
    "#library = bibtexparser.parse_file('./data/scheduling.bib')\n",
    "#library = bibtexparser.parse_file('./data/scheduling_clean.bib')\n",
    "#len(library.entries)"
   ]
  },
  {
   "cell_type": "code",
   "execution_count": null,
   "metadata": {},
   "outputs": [],
   "source": []
  },
  {
   "cell_type": "code",
   "execution_count": 8,
   "metadata": {},
   "outputs": [],
   "source": [
    "import networkx as nx"
   ]
  },
  {
   "cell_type": "code",
   "execution_count": 11,
   "metadata": {},
   "outputs": [],
   "source": [
    "node_id = ret.scopus_id\n",
    "node_props = ret.graph_properties_as_dict()"
   ]
  },
  {
   "cell_type": "code",
   "execution_count": null,
   "metadata": {},
   "outputs": [],
   "source": []
  },
  {
   "cell_type": "code",
   "execution_count": 17,
   "metadata": {},
   "outputs": [],
   "source": [
    "G = nx.DiGraph()\n",
    "G.add_node(node_id, **node_props)\n",
    "G.add_node(1)"
   ]
  },
  {
   "cell_type": "code",
   "execution_count": 18,
   "metadata": {},
   "outputs": [
    {
     "data": {
      "text/plain": [
       "True"
      ]
     },
     "execution_count": 18,
     "metadata": {},
     "output_type": "execute_result"
    }
   ],
   "source": [
    "ret.scopus_id in G.nodes"
   ]
  },
  {
   "cell_type": "code",
   "execution_count": 16,
   "metadata": {},
   "outputs": [
    {
     "data": {
      "text/plain": [
       "{'title': 'Production rescheduling via explorative reinforcement learning while considering nervousness',\n",
       " 'authors': 'Hwangbo, S.; Liu, J.J.; Ryu, J.-H.; Lee, H.J.; Na, J.',\n",
       " 'year': 2024,\n",
       " 'doi': '10.1016/j.compchemeng.2024.108700',\n",
       " 'eid': '2-s2.0-85190752229',\n",
       " 'scopus_url': 'https://www.scopus.com/inward/record.uri?partnerID=HzOxMe3b&scp=85190752229&origin=inward',\n",
       " 'iter_depth': 0}"
      ]
     },
     "execution_count": 16,
     "metadata": {},
     "output_type": "execute_result"
    }
   ],
   "source": [
    "G.nodes[node_id]"
   ]
  },
  {
   "cell_type": "code",
   "execution_count": 19,
   "metadata": {},
   "outputs": [],
   "source": [
    "G.add_edge(node_id, 1)"
   ]
  },
  {
   "cell_type": "code",
   "execution_count": 21,
   "metadata": {},
   "outputs": [],
   "source": [
    "G[node_id][1]['weight'] = 2"
   ]
  },
  {
   "cell_type": "code",
   "execution_count": 22,
   "metadata": {},
   "outputs": [
    {
     "data": {
      "text/plain": [
       "2"
      ]
     },
     "execution_count": 22,
     "metadata": {},
     "output_type": "execute_result"
    }
   ],
   "source": [
    "G[node_id][1]['weight']"
   ]
  },
  {
   "cell_type": "code",
   "execution_count": null,
   "metadata": {},
   "outputs": [],
   "source": []
  },
  {
   "cell_type": "code",
   "execution_count": 18,
   "metadata": {},
   "outputs": [
    {
     "data": {
      "text/plain": [
       "{'weight': 2}"
      ]
     },
     "execution_count": 18,
     "metadata": {},
     "output_type": "execute_result"
    }
   ],
   "source": [
    "G.nodes[1]"
   ]
  },
  {
   "cell_type": "code",
   "execution_count": 19,
   "metadata": {},
   "outputs": [],
   "source": [
    "from dataclasses import asdict"
   ]
  },
  {
   "cell_type": "code",
   "execution_count": 20,
   "metadata": {},
   "outputs": [
    {
     "data": {
      "text/plain": [
       "{'title': 'Production rescheduling via explorative reinforcement learning while considering nervousness',\n",
       " 'authors': 'Hwangbo, S.; Liu, J.J.; Ryu, J.-H.; Lee, H.J.; Na, J.',\n",
       " 'year': 2024,\n",
       " 'scopus_id': 85190752229,\n",
       " 'doi': '10.1016/j.compchemeng.2024.108700',\n",
       " 'eid': '2-s2.0-85190752229',\n",
       " 'scopus_url': 'https://www.scopus.com/inward/record.uri?partnerID=HzOxMe3b&scp=85190752229&origin=inward',\n",
       " 'iter_depth': 0}"
      ]
     },
     "execution_count": 20,
     "metadata": {},
     "output_type": "execute_result"
    }
   ],
   "source": [
    "asdict(ret)"
   ]
  },
  {
   "cell_type": "code",
   "execution_count": null,
   "metadata": {},
   "outputs": [],
   "source": []
  },
  {
   "cell_type": "code",
   "execution_count": null,
   "metadata": {},
   "outputs": [],
   "source": []
  },
  {
   "cell_type": "code",
   "execution_count": 164,
   "metadata": {},
   "outputs": [],
   "source": [
    "NUM_PAPER_BATCH = None"
   ]
  },
  {
   "cell_type": "code",
   "execution_count": 165,
   "metadata": {},
   "outputs": [
    {
     "data": {
      "text/plain": [
       "\"\\ndef build_author_collection_for_ref(author_list: str) -> tuple[str, ...]:\\n    # ref authors are separated by ';'\\n    authors: list[str] = author_list.split('; ')\\n        \\n    return tuple(authors)\\n\""
      ]
     },
     "execution_count": 165,
     "metadata": {},
     "output_type": "execute_result"
    }
   ],
   "source": [
    "def read_identifier_list(\n",
    "    path_to_csv: str,\n",
    "    use_doi: bool = False,\n",
    ") -> list['Identifier']:\n",
    "    df = pd.read_csv(path_to_csv, encoding='UTF-8')\n",
    "    \n",
    "    if use_doi:\n",
    "        key = 'DOI'\n",
    "    else:\n",
    "        key = 'EID'\n",
    "    \n",
    "    ids = df[key]\n",
    "    ids = ids.dropna(ignore_index=True)\n",
    "    \n",
    "    total_num_entries = len(df)\n",
    "    cleaned_num_entries = len(ids)\n",
    "    nan_entries = total_num_entries - cleaned_num_entries\n",
    "    logger.info(f\"Entries in dataset: {total_num_entries}, \"\n",
    "                f\"empty: {nan_entries}\")\n",
    "    \n",
    "    return ids.to_list()\n",
    "\n",
    "def filter_iter_depth(\n",
    "    id_tuples: set[tuple[int, int]],\n",
    "    target_iter_depth: int,\n",
    ") -> set[tuple[int, str, str, str]]:\n",
    "    \n",
    "    filter_set = set()\n",
    "    \n",
    "    for entry in id_tuples.copy():\n",
    "        \n",
    "        if (entry[0] == target_iter_depth and \n",
    "            entry[1] not in filter_set):\n",
    "            filter_set.add(entry[1])\n",
    "    \n",
    "    return filter_set.copy()\n",
    "\n",
    "def transform_entry_tuple_to_dict(\n",
    "    entry_tuple,\n",
    ") -> dict:\n",
    "    \n",
    "    node_attribute_dict = dict()\n",
    "    node_attribute_dict['iter_depth'] = entry_tuple[0]\n",
    "    # title\n",
    "    title = entry_tuple[1]\n",
    "    if title is None:\n",
    "        title = ''\n",
    "    node_attribute_dict['title'] = title\n",
    "    # authors\n",
    "    authors = entry_tuple[2]\n",
    "    if authors is None:\n",
    "        authors = ''\n",
    "    node_attribute_dict['authors'] = authors\n",
    "    # year\n",
    "    year = entry_tuple[3]\n",
    "    if year is None:\n",
    "        year = ''\n",
    "    node_attribute_dict['year'] = year\n",
    "    # ScopusID: should never be None at this stage, but check anyways\n",
    "    scopus_id = entry_tuple[4]\n",
    "    if scopus_id is None:\n",
    "        scopus_id = ''\n",
    "    node_attribute_dict['scopus_id'] = scopus_id\n",
    "    # DOI\n",
    "    doi = entry_tuple[5]\n",
    "    if doi is None:\n",
    "        doi = ''\n",
    "    node_attribute_dict['doi'] = doi\n",
    "    \n",
    "    return node_attribute_dict\n",
    "\n",
    "def build_author_str(author_list: list[NamedTuple]) -> str:\n",
    "    \n",
    "    authors: list[str] = list()\n",
    "    # build list of indexed names\n",
    "    for author in author_list:\n",
    "        author_name = ', '.join(author.indexed_name.split(' '))\n",
    "        authors.append(author_name)\n",
    "        \n",
    "    return '; '.join(authors)\n",
    "\n",
    "\"\"\"\n",
    "def build_author_collection_for_ref(author_list: str) -> tuple[str, ...]:\n",
    "    # ref authors are separated by ';'\n",
    "    authors: list[str] = author_list.split('; ')\n",
    "        \n",
    "    return tuple(authors)\n",
    "\"\"\""
   ]
  },
  {
   "cell_type": "code",
   "execution_count": 166,
   "metadata": {},
   "outputs": [],
   "source": [
    "node_id_counter = 1000"
   ]
  },
  {
   "cell_type": "code",
   "execution_count": 167,
   "metadata": {},
   "outputs": [
    {
     "name": "stdout",
     "output_type": "stream",
     "text": [
      "INFO:scopus_reader:Entries in dataset: 200, empty: 0\n"
     ]
    }
   ],
   "source": [
    "ids = read_identifier_list(path_to_csv='./data/scopus.csv')"
   ]
  },
  {
   "cell_type": "code",
   "execution_count": null,
   "metadata": {},
   "outputs": [],
   "source": []
  },
  {
   "cell_type": "code",
   "execution_count": null,
   "metadata": {},
   "outputs": [],
   "source": []
  },
  {
   "cell_type": "code",
   "execution_count": 23,
   "metadata": {},
   "outputs": [
    {
     "data": {
      "text/plain": [
       "{PaperInfo(title='Production rescheduling via explorative reinforcement learning while considering nervousness', authors='Hwangbo, S.; Liu, J.J.; Ryu, J.-H.; Lee, H.J.; Na, J.', year=2024, scopus_id=85190752229, doi='10.1016/j.compchemeng.2024.108700', eid='2-s2.0-85190752229', scopus_url='https://www.scopus.com/inward/record.uri?partnerID=HzOxMe3b&scp=85190752229&origin=inward', iter_depth=0)}"
      ]
     },
     "execution_count": 23,
     "metadata": {},
     "output_type": "execute_result"
    }
   ],
   "source": [
    "se = set([ret, ret, ret])\n",
    "se"
   ]
  },
  {
   "cell_type": "code",
   "execution_count": 26,
   "metadata": {},
   "outputs": [
    {
     "data": {
      "text/plain": [
       "frozenset({PaperInfo(title='Production rescheduling via explorative reinforcement learning while considering nervousness', authors='Hwangbo, S.; Liu, J.J.; Ryu, J.-H.; Lee, H.J.; Na, J.', year=2024, scopus_id=85190752229, doi='10.1016/j.compchemeng.2024.108700', eid='2-s2.0-85190752229', scopus_url='https://www.scopus.com/inward/record.uri?partnerID=HzOxMe3b&scp=85190752229&origin=inward', iter_depth=0)})"
      ]
     },
     "execution_count": 26,
     "metadata": {},
     "output_type": "execute_result"
    }
   ],
   "source": [
    "s = frozenset(se)\n",
    "s"
   ]
  },
  {
   "cell_type": "code",
   "execution_count": 27,
   "metadata": {},
   "outputs": [
    {
     "ename": "AttributeError",
     "evalue": "'frozenset' object has no attribute 'add'",
     "output_type": "error",
     "traceback": [
      "\u001b[1;31m---------------------------------------------------------------------------\u001b[0m",
      "\u001b[1;31mAttributeError\u001b[0m                            Traceback (most recent call last)",
      "Cell \u001b[1;32mIn[27], line 1\u001b[0m\n\u001b[1;32m----> 1\u001b[0m \u001b[43ms\u001b[49m\u001b[38;5;241;43m.\u001b[39;49m\u001b[43madd\u001b[49m(\u001b[38;5;241m1\u001b[39m)\n",
      "\u001b[1;31mAttributeError\u001b[0m: 'frozenset' object has no attribute 'add'"
     ]
    }
   ],
   "source": []
  },
  {
   "cell_type": "code",
   "execution_count": null,
   "metadata": {},
   "outputs": [],
   "source": []
  },
  {
   "cell_type": "code",
   "execution_count": null,
   "metadata": {},
   "outputs": [],
   "source": []
  },
  {
   "cell_type": "markdown",
   "metadata": {},
   "source": [
    "---"
   ]
  },
  {
   "cell_type": "code",
   "execution_count": 168,
   "metadata": {},
   "outputs": [],
   "source": [
    "# if only ScopusID is used as identifier of documents, \n",
    "# corpus could be represented only by these IDs\n",
    "\n",
    "# id tuples should only be used to get papers on higher iteration depths\n",
    "# should be connected to corpus, if already known skip\n",
    "\n",
    "# REWORK: use Scopus API also for init entries\n",
    "# only list of DOIs necessary\n",
    "\n",
    "def generate_init_graph(\n",
    "    ids: list['Identifier'],\n",
    ") -> tuple[nx.DiGraph, set, set, dict, dict]:\n",
    "    # global identifier, simple integer\n",
    "    global node_id_counter\n",
    "    # build known corpus\n",
    "    corpus: set[int] = set()\n",
    "    id_tuples: set[tuple[int,int]] = set()\n",
    "    iter_depth = 0\n",
    "    # custom ID mapping: using entry tuple as key and map to custom ID\n",
    "    map_scopus_to_node_id = dict()\n",
    "    # whole corpus with custom ID\n",
    "    map_node_id_to_scopus = dict()\n",
    "    # graph\n",
    "    cit_graph = nx.DiGraph()\n",
    "    \n",
    "    \n",
    "    # check ID type\n",
    "    test_id = ids[0]\n",
    "    if '2-s2.0-' in test_id and '/' not in test_id:\n",
    "        # EID\n",
    "        id_type: str = 'eid'\n",
    "    else:\n",
    "        # DOI\n",
    "        id_type: str = 'doi'\n",
    "\n",
    "    for idx, ident in enumerate(ids):\n",
    "        \n",
    "        if (NUM_PAPER_BATCH is not None and \n",
    "            idx == NUM_PAPER_BATCH):\n",
    "            break\n",
    "        \n",
    "        # obtain information from Scopus\n",
    "        paper_info = AbstractRetrieval(identifier=ident, view='FULL', id_type=id_type)\n",
    "        title = paper_info.title\n",
    "        authors = build_author_str(paper_info.authors)\n",
    "        year = paper_info.coverDate.split('-')[0]\n",
    "        scopus_id = paper_info.identifier\n",
    "        doi = paper_info.doi\n",
    "        \n",
    "        if not all((title, year)):\n",
    "            logger.warning(f\"{entry=} not containing title or year. Skipped.\")\n",
    "            continue\n",
    "        \n",
    "        entry_tuple = (iter_depth, title, authors, year, scopus_id, doi)\n",
    "        id_tuple = (iter_depth, scopus_id)\n",
    "        \n",
    "        if scopus_id not in corpus:\n",
    "            corpus.add(scopus_id)\n",
    "        else:\n",
    "            logger.info(f\"{scopus_id=} already in known corpus set. Skipped\")\n",
    "            continue\n",
    "        \n",
    "        # add id tuple if not known with this iteration depth\n",
    "        # other depths not relevant\n",
    "        if id_tuple not in id_tuples:\n",
    "            id_tuples.add(id_tuple)\n",
    "        \n",
    "        map_scopus_to_node_id[scopus_id] = node_id_counter\n",
    "        map_node_id_to_scopus[node_id_counter] = scopus_id\n",
    "        \n",
    "        # NetworkX: (node ID, node_attribute_dict)\n",
    "        node_props = transform_entry_tuple_to_dict(entry_tuple=entry_tuple)\n",
    "        node = (node_id_counter, node_props)\n",
    "        cit_graph.add_nodes_from([node])\n",
    "        \n",
    "        node_id_counter += 1\n",
    "        \n",
    "    return (cit_graph, corpus.copy(), id_tuples.copy(), \n",
    "            map_scopus_to_node_id.copy(), map_node_id_to_scopus.copy())"
   ]
  },
  {
   "cell_type": "code",
   "execution_count": 169,
   "metadata": {},
   "outputs": [],
   "source": [
    "SKIP = True\n",
    "\n",
    "if not SKIP:\n",
    "    cit_graph, corpus, id_tuples, map_scopus_to_node_id, map_node_id_to_scopus = generate_init_graph(ids=ids)"
   ]
  },
  {
   "cell_type": "code",
   "execution_count": 170,
   "metadata": {},
   "outputs": [],
   "source": [
    "#cit_graph.nodes[1000]"
   ]
  },
  {
   "cell_type": "code",
   "execution_count": 171,
   "metadata": {},
   "outputs": [],
   "source": [
    "#len(cit_graph.nodes)"
   ]
  },
  {
   "cell_type": "code",
   "execution_count": 172,
   "metadata": {},
   "outputs": [],
   "source": [
    "def add_refs_by_depth(\n",
    "    cit_graph: nx.DiGraph,\n",
    "    corpus: set,\n",
    "    id_tuples: set,\n",
    "    map_scopus_to_node_id: dict,\n",
    "    map_node_id_to_scopus: dict,\n",
    "    target_iter_depth: int,\n",
    ") -> tuple[nx.DiGraph, set, dict, dict]:\n",
    "    \n",
    "    # global identifier, simple integer\n",
    "    global node_id_counter\n",
    "    \n",
    "    target_corpus = corpus.copy()\n",
    "    target_id_tuples = id_tuples.copy()\n",
    "    if target_iter_depth == 0:\n",
    "        filter_depth = 0\n",
    "    elif target_iter_depth > 0:\n",
    "        filter_depth = target_iter_depth - 1\n",
    "    else:\n",
    "        raise ValueError(f\"Target depth must be non-negative!\")\n",
    "    \n",
    "    iter_corpus = filter_iter_depth(id_tuples=target_id_tuples, \n",
    "                                    target_iter_depth=filter_depth)\n",
    "    \n",
    "    for scopus_id in iter_corpus:\n",
    "        # try using ScopusID\n",
    "        \"\"\"\n",
    "        scopus_id = paper[-2]\n",
    "        if scopus_id is not None:\n",
    "            request_id = scopus_id\n",
    "            id_type = 'scopus_id'\n",
    "        else:\n",
    "            #use doi instead; is last entry of tuple\n",
    "            doi = paper[-1]\n",
    "            request_id = doi\n",
    "            id_type = 'doi'\n",
    "        \"\"\"\n",
    "        \n",
    "        #request_id = scopus_id\n",
    "        id_type = 'scopus_id'\n",
    "        \n",
    "        # REWORK: should not be necessary anymore\n",
    "        # skip if doi is not provided\n",
    "        if scopus_id is None or scopus_id == '':\n",
    "            logger.info(\"Skipped paper because of missing identifier\")\n",
    "            continue\n",
    "        \n",
    "        # node ID\n",
    "        node_id_parent = map_scopus_to_node_id[scopus_id]\n",
    "        #print(f'{node_id_parent=} \\n ---------------')\n",
    "        logger.debug(f\"-------------- \\n {scopus_id=}\")\n",
    "        logger.debug(f\"{node_id_parent=}\")\n",
    "        \n",
    "        \n",
    "        # obtain references\n",
    "        try:\n",
    "            refs = AbstractRetrieval(identifier=scopus_id, view='FULL', id_type=id_type).references\n",
    "        except Scopus404Error:\n",
    "            # inforamtion could not be obtained from Scopus\n",
    "            # continue with next entry\n",
    "            logger.warning(f'Could not obtain reference information for ScopusID: {scopus_id}')\n",
    "            continue\n",
    "        \n",
    "        # skip empty references\n",
    "        if refs is None:\n",
    "            logger.info(f\"No references for ID type: {id_type}, ID: {scopus_id}\")\n",
    "            continue\n",
    "        \n",
    "        for ref in refs:\n",
    "            title = ref.title\n",
    "            #authors = build_author_tuple_for_ref(ref.authors)\n",
    "            authors = ref.authors\n",
    "            year = ref.publicationyear\n",
    "            scopus_id = int(ref.id)\n",
    "            doi = ref.doi\n",
    "            logger.debug(f\"ScopusID of ref: {scopus_id}, DOI of ref: {doi}\")\n",
    "            # ignore empty ScopusIDs\n",
    "            if scopus_id is None:\n",
    "                logger.warning(f\"Reference with title: {title}, year: {year} does not contain ScopusID.\")\n",
    "                continue\n",
    "            #if doi is None:\n",
    "                #doi = ''\n",
    "            \"\"\"\n",
    "            if not all((title, year)):\n",
    "                # ignore references which do not contain title or year\n",
    "                logger.warning(f\"Reference with ScopusID {scopus_id} does not contain title or year.\")\n",
    "                #continue\n",
    "            \"\"\"\n",
    "            \n",
    "            \n",
    "            entry_tuple = (target_iter_depth, title, authors, year, scopus_id, doi)\n",
    "            id_tuple = (target_iter_depth, scopus_id)\n",
    "            \n",
    "            # check if tuple is already in corpus\n",
    "            if scopus_id not in target_corpus:\n",
    "                # not known paper, add to corpus\n",
    "                target_corpus.add(scopus_id)\n",
    "                map_scopus_to_node_id[scopus_id] = node_id_counter\n",
    "                map_node_id_to_scopus[node_id_counter] = scopus_id\n",
    "                node_id_child = node_id_counter\n",
    "            else:\n",
    "                # already known: get node ID for this tuple\n",
    "                node_id_child = map_scopus_to_node_id[scopus_id]\n",
    "            \n",
    "            # add id tuple if not known with this iteration depth\n",
    "            # other depths not relevant\n",
    "            if id_tuple not in target_id_tuples:\n",
    "                target_id_tuples.add(id_tuple)\n",
    "            \n",
    "            # add child to graph as node\n",
    "            # NetworkX: (node ID, node_attribute_dict)\n",
    "            node_props = transform_entry_tuple_to_dict(entry_tuple=entry_tuple)\n",
    "            node = (node_id_child, node_props)\n",
    "            cit_graph.add_nodes_from([node])\n",
    "            # add edge\n",
    "            cit_graph.add_edge(node_id_parent, node_id_child)\n",
    "            \n",
    "            # set up ID counter\n",
    "            node_id_counter += 1\n",
    "            \n",
    "    return (cit_graph, target_corpus.copy(), target_id_tuples.copy(), \n",
    "            map_scopus_to_node_id.copy(), map_node_id_to_scopus.copy())\n",
    "\n",
    "# function to build graphs with customizable iteration depth\n",
    "def generate_iter_graph(\n",
    "    ids: list['Identifier'],\n",
    "    target_iter_depth: int,\n",
    ") -> tuple[nx.DiGraph, set, dict, dict]:\n",
    "    \n",
    "    # generate init graph with library\n",
    "    (cit_graph, corpus, id_tuples,\n",
    "     map_scopus_to_node_id, map_node_id_to_scopus) = generate_init_graph(ids=ids)\n",
    "    \n",
    "    # if iteration depth greater than 0\n",
    "    # sequentially build graph\n",
    "    if target_iter_depth > 0:\n",
    "        for iter_depth in range(1, target_iter_depth+1):\n",
    "            \n",
    "            (cit_graph, corpus, id_tuples,\n",
    "             map_scopus_to_node_id, map_node_id_to_scopus) = add_refs_by_depth(\n",
    "                cit_graph=cit_graph,\n",
    "                corpus=corpus,\n",
    "                id_tuples=id_tuples,\n",
    "                map_scopus_to_node_id=map_scopus_to_node_id,\n",
    "                map_node_id_to_scopus=map_node_id_to_scopus,\n",
    "                target_iter_depth=iter_depth,\n",
    "            )\n",
    "    elif target_iter_depth < 0:\n",
    "        raise ValueError(f\"Target depth must be non-negative!\")\n",
    "    \n",
    "    return (cit_graph, corpus.copy(), id_tuples.copy(), \n",
    "            map_scopus_to_node_id.copy(), map_node_id_to_scopus.copy())"
   ]
  },
  {
   "cell_type": "code",
   "execution_count": 173,
   "metadata": {},
   "outputs": [],
   "source": [
    "SKIP = True\n",
    "\n",
    "if not SKIP:\n",
    "    (cit_graph_iter, target_corpus, target_id_tuples, \n",
    "    map_tuple_to_id, map_id_to_tuple) = add_refs_by_depth(\n",
    "        cit_graph=cit_graph,\n",
    "        corpus=corpus,\n",
    "        id_tuples=id_tuples,\n",
    "        map_scopus_to_node_id=map_scopus_to_node_id,\n",
    "        map_node_id_to_scopus=map_scopus_to_node_id,\n",
    "        target_iter_depth=1,\n",
    "    )"
   ]
  },
  {
   "cell_type": "code",
   "execution_count": 174,
   "metadata": {},
   "outputs": [],
   "source": [
    "#cit_graph_iter.nodes[1002]"
   ]
  },
  {
   "cell_type": "code",
   "execution_count": 175,
   "metadata": {},
   "outputs": [],
   "source": [
    "#len(cit_graph_iter.nodes)"
   ]
  },
  {
   "cell_type": "code",
   "execution_count": 176,
   "metadata": {},
   "outputs": [],
   "source": [
    "#len(target_corpus)"
   ]
  },
  {
   "cell_type": "code",
   "execution_count": 177,
   "metadata": {},
   "outputs": [],
   "source": [
    "#len(cit_graph_iter.edges)"
   ]
  },
  {
   "cell_type": "markdown",
   "metadata": {},
   "source": [
    "---"
   ]
  },
  {
   "cell_type": "code",
   "execution_count": 178,
   "metadata": {},
   "outputs": [
    {
     "name": "stdout",
     "output_type": "stream",
     "text": [
      "INFO:scopus_reader:No references for ID type: scopus_id, ID: 85183656095\n",
      "INFO:scopus_reader:No references for ID type: scopus_id, ID: 85183939814\n",
      "INFO:scopus_reader:No references for ID type: scopus_id, ID: 85175279593\n"
     ]
    }
   ],
   "source": [
    "node_id_counter = 1000\n",
    "ITER_DEPTH = 1\n",
    "\n",
    "(cit_graph, known_corpus, known_id_tuples,\n",
    " map_tuple_to_id, map_id_to_tuple) = generate_iter_graph(ids=ids, target_iter_depth=ITER_DEPTH)"
   ]
  },
  {
   "cell_type": "code",
   "execution_count": 179,
   "metadata": {},
   "outputs": [
    {
     "data": {
      "text/plain": [
       "7683"
      ]
     },
     "execution_count": 179,
     "metadata": {},
     "output_type": "execute_result"
    }
   ],
   "source": [
    "len(cit_graph.nodes)"
   ]
  },
  {
   "cell_type": "code",
   "execution_count": 180,
   "metadata": {},
   "outputs": [
    {
     "data": {
      "text/plain": [
       "{'iter_depth': 0,\n",
       " 'title': 'An actor-critic framework based on deep reinforcement learning for addressing flexible job shop scheduling problems',\n",
       " 'authors': 'Zhao, C.; Deng, N.',\n",
       " 'year': '2024',\n",
       " 'scopus_id': 85181525982,\n",
       " 'doi': '10.3934/mbe.2024062'}"
      ]
     },
     "execution_count": 180,
     "metadata": {},
     "output_type": "execute_result"
    }
   ],
   "source": [
    "cit_graph.nodes[1001]"
   ]
  },
  {
   "cell_type": "markdown",
   "metadata": {},
   "source": [
    "for node in cit_graph.nodes:\n",
    "    for attrib in cit_graph.nodes[node]:\n",
    "        print(f\"{attrib=}, {type(cit_graph.nodes[node][attrib])}\")\n",
    "        if type(cit_graph.nodes[node][attrib]) == \"<class 'type'>\":\n",
    "            print(node)"
   ]
  },
  {
   "cell_type": "code",
   "execution_count": 181,
   "metadata": {},
   "outputs": [
    {
     "data": {
      "text/plain": [
       "7683"
      ]
     },
     "execution_count": 181,
     "metadata": {},
     "output_type": "execute_result"
    }
   ],
   "source": [
    "len(known_corpus)"
   ]
  },
  {
   "cell_type": "code",
   "execution_count": 182,
   "metadata": {},
   "outputs": [
    {
     "data": {
      "text/plain": [
       "9228"
      ]
     },
     "execution_count": 182,
     "metadata": {},
     "output_type": "execute_result"
    }
   ],
   "source": [
    "len(cit_graph.edges)"
   ]
  },
  {
   "cell_type": "code",
   "execution_count": null,
   "metadata": {},
   "outputs": [],
   "source": []
  },
  {
   "cell_type": "code",
   "execution_count": 183,
   "metadata": {},
   "outputs": [],
   "source": [
    "# write to GraphML file\n",
    "if NUM_PAPER_BATCH is not None:\n",
    "    file_batch_info = NUM_PAPER_BATCH\n",
    "else:\n",
    "    file_batch_info = 'All'\n",
    "\n",
    "GRAPH_FILE_PATH = f'citations_batch{file_batch_info}_iterDepth{ITER_DEPTH}.graphml'\n",
    "nx.write_graphml(cit_graph, GRAPH_FILE_PATH)"
   ]
  },
  {
   "cell_type": "code",
   "execution_count": null,
   "metadata": {},
   "outputs": [],
   "source": []
  },
  {
   "cell_type": "code",
   "execution_count": null,
   "metadata": {},
   "outputs": [],
   "source": []
  },
  {
   "cell_type": "code",
   "execution_count": 125,
   "metadata": {},
   "outputs": [],
   "source": [
    "doi = '10.1109/ICCSCE50387.2020.9204921'\n",
    "#doi = '10.1109/ACCESS.2020.2997663'\n",
    "#doi = '10.1016/j.swevo.2024.101497'\n",
    "#doi = '10.48550/arXiv.1509.02971'\n",
    "doi = dois[0]"
   ]
  },
  {
   "cell_type": "code",
   "execution_count": 126,
   "metadata": {},
   "outputs": [],
   "source": [
    "try:\n",
    "    refs = AbstractRetrieval(identifier=doi, view='FULL', id_type='doi')\n",
    "except Scopus404Error:\n",
    "    print('ERROR')"
   ]
  },
  {
   "cell_type": "code",
   "execution_count": 127,
   "metadata": {},
   "outputs": [
    {
     "name": "stdout",
     "output_type": "stream",
     "text": [
      "Cong Luo, Wenyin Gong, Fei Ming and Chao Lu: \"A Q-learning memetic algorithm for energy-efficient heterogeneous distributed assembly permutation flowshop scheduling considering priorities\", Swarm and Evolutionary Computation, 85, (no pages found)(2024). https://doi.org/10.1016/j.swevo.2024.101497.\n",
      "0 citation(s) as of 2024-03-11\n",
      "  Affiliation(s):\n",
      "   China University of Geosciences\n"
     ]
    }
   ],
   "source": [
    "print(refs)"
   ]
  },
  {
   "cell_type": "code",
   "execution_count": 128,
   "metadata": {},
   "outputs": [
    {
     "name": "stdout",
     "output_type": "stream",
     "text": [
      "Cong Luo, Wenyin Gong, Fei Ming and Chao Lu: \"A Q-learning memetic algorithm for energy-efficient heterogeneous distributed assembly permutation flowshop scheduling considering priorities\", Swarm and Evolutionary Computation, 85, (no pages found)(2024). https://doi.org/10.1016/j.swevo.2024.101497.\n",
      "0 citation(s) as of 2024-03-11\n",
      "  Affiliation(s):\n",
      "   China University of Geosciences\n"
     ]
    }
   ],
   "source": [
    "print(refs)"
   ]
  },
  {
   "cell_type": "code",
   "execution_count": null,
   "metadata": {},
   "outputs": [],
   "source": []
  },
  {
   "cell_type": "code",
   "execution_count": 78,
   "metadata": {},
   "outputs": [
    {
     "data": {
      "text/plain": [
       "11"
      ]
     },
     "execution_count": 78,
     "metadata": {},
     "output_type": "execute_result"
    }
   ],
   "source": [
    "len('85142134801')"
   ]
  },
  {
   "cell_type": "code",
   "execution_count": null,
   "metadata": {},
   "outputs": [],
   "source": []
  },
  {
   "cell_type": "code",
   "execution_count": null,
   "metadata": {},
   "outputs": [],
   "source": []
  },
  {
   "cell_type": "code",
   "execution_count": 79,
   "metadata": {},
   "outputs": [],
   "source": [
    "ident = 18306059\n",
    "ident = 85142134801"
   ]
  },
  {
   "cell_type": "code",
   "execution_count": 14,
   "metadata": {},
   "outputs": [
    {
     "ename": "Scopus404Error",
     "evalue": "The resource specified cannot be found.",
     "output_type": "error",
     "traceback": [
      "\u001b[1;31m---------------------------------------------------------------------------\u001b[0m",
      "\u001b[1;31mScopus404Error\u001b[0m                            Traceback (most recent call last)",
      "Cell \u001b[1;32mIn[14], line 2\u001b[0m\n\u001b[0;32m      1\u001b[0m eid \u001b[38;5;241m=\u001b[39m \u001b[38;5;124m'\u001b[39m\u001b[38;5;124m2-s2.0-85142134801\u001b[39m\u001b[38;5;124m'\u001b[39m\n\u001b[1;32m----> 2\u001b[0m ret \u001b[38;5;241m=\u001b[39m \u001b[43mAbstractRetrieval\u001b[49m\u001b[43m(\u001b[49m\u001b[43midentifier\u001b[49m\u001b[38;5;241;43m=\u001b[39;49m\u001b[43meid\u001b[49m\u001b[43m,\u001b[49m\u001b[43m \u001b[49m\u001b[43mview\u001b[49m\u001b[38;5;241;43m=\u001b[39;49m\u001b[38;5;124;43m'\u001b[39;49m\u001b[38;5;124;43mFULL\u001b[39;49m\u001b[38;5;124;43m'\u001b[39;49m\u001b[43m,\u001b[49m\u001b[43m \u001b[49m\u001b[43mid_type\u001b[49m\u001b[38;5;241;43m=\u001b[39;49m\u001b[38;5;124;43m'\u001b[39;49m\u001b[38;5;124;43meid\u001b[39;49m\u001b[38;5;124;43m'\u001b[39;49m\u001b[43m)\u001b[49m\n",
      "File \u001b[1;32m~\\AppData\\Local\\mambaforge\\envs\\req\\Lib\\site-packages\\pybliometrics\\scopus\\abstract_retrieval.py:732\u001b[0m, in \u001b[0;36mAbstractRetrieval.__init__\u001b[1;34m(self, identifier, refresh, view, id_type, **kwds)\u001b[0m\n\u001b[0;32m    730\u001b[0m \u001b[38;5;28mself\u001b[39m\u001b[38;5;241m.\u001b[39m_view \u001b[38;5;241m=\u001b[39m view\n\u001b[0;32m    731\u001b[0m \u001b[38;5;28mself\u001b[39m\u001b[38;5;241m.\u001b[39m_refresh \u001b[38;5;241m=\u001b[39m refresh\n\u001b[1;32m--> 732\u001b[0m \u001b[43mRetrieval\u001b[49m\u001b[38;5;241;43m.\u001b[39;49m\u001b[38;5;21;43m__init__\u001b[39;49m\u001b[43m(\u001b[49m\u001b[38;5;28;43mself\u001b[39;49m\u001b[43m,\u001b[49m\u001b[43m \u001b[49m\u001b[43midentifier\u001b[49m\u001b[38;5;241;43m=\u001b[39;49m\u001b[43midentifier\u001b[49m\u001b[43m,\u001b[49m\u001b[43m \u001b[49m\u001b[43mid_type\u001b[49m\u001b[38;5;241;43m=\u001b[39;49m\u001b[43mid_type\u001b[49m\u001b[43m,\u001b[49m\n\u001b[0;32m    733\u001b[0m \u001b[43m                   \u001b[49m\u001b[43mapi\u001b[49m\u001b[38;5;241;43m=\u001b[39;49m\u001b[38;5;124;43m'\u001b[39;49m\u001b[38;5;124;43mAbstractRetrieval\u001b[39;49m\u001b[38;5;124;43m'\u001b[39;49m\u001b[43m,\u001b[49m\u001b[43m \u001b[49m\u001b[38;5;241;43m*\u001b[39;49m\u001b[38;5;241;43m*\u001b[39;49m\u001b[43mkwds\u001b[49m\u001b[43m)\u001b[49m\n\u001b[0;32m    734\u001b[0m \u001b[38;5;28mself\u001b[39m\u001b[38;5;241m.\u001b[39m_json \u001b[38;5;241m=\u001b[39m \u001b[38;5;28mself\u001b[39m\u001b[38;5;241m.\u001b[39m_json[\u001b[38;5;124m'\u001b[39m\u001b[38;5;124mabstracts-retrieval-response\u001b[39m\u001b[38;5;124m'\u001b[39m]\n\u001b[0;32m    735\u001b[0m \u001b[38;5;28mself\u001b[39m\u001b[38;5;241m.\u001b[39m_head \u001b[38;5;241m=\u001b[39m chained_get(\u001b[38;5;28mself\u001b[39m\u001b[38;5;241m.\u001b[39m_json, [\u001b[38;5;124m\"\u001b[39m\u001b[38;5;124mitem\u001b[39m\u001b[38;5;124m\"\u001b[39m, \u001b[38;5;124m\"\u001b[39m\u001b[38;5;124mbibrecord\u001b[39m\u001b[38;5;124m\"\u001b[39m, \u001b[38;5;124m\"\u001b[39m\u001b[38;5;124mhead\u001b[39m\u001b[38;5;124m\"\u001b[39m], {})\n",
      "File \u001b[1;32m~\\AppData\\Local\\mambaforge\\envs\\req\\Lib\\site-packages\\pybliometrics\\scopus\\superclasses\\retrieval.py:48\u001b[0m, in \u001b[0;36mRetrieval.__init__\u001b[1;34m(self, identifier, api, id_type, **kwds)\u001b[0m\n\u001b[0;32m     46\u001b[0m \u001b[38;5;66;03m# Parse file contents\u001b[39;00m\n\u001b[0;32m     47\u001b[0m params \u001b[38;5;241m=\u001b[39m {\u001b[38;5;124m'\u001b[39m\u001b[38;5;124mview\u001b[39m\u001b[38;5;124m'\u001b[39m: \u001b[38;5;28mself\u001b[39m\u001b[38;5;241m.\u001b[39m_view, \u001b[38;5;241m*\u001b[39m\u001b[38;5;241m*\u001b[39mkwds}\n\u001b[1;32m---> 48\u001b[0m \u001b[43mBase\u001b[49m\u001b[38;5;241;43m.\u001b[39;49m\u001b[38;5;21;43m__init__\u001b[39;49m\u001b[43m(\u001b[49m\u001b[38;5;28;43mself\u001b[39;49m\u001b[43m,\u001b[49m\u001b[43m \u001b[49m\u001b[43mparams\u001b[49m\u001b[38;5;241;43m=\u001b[39;49m\u001b[43mparams\u001b[49m\u001b[43m,\u001b[49m\u001b[43m \u001b[49m\u001b[43murl\u001b[49m\u001b[38;5;241;43m=\u001b[39;49m\u001b[43murl\u001b[49m\u001b[43m,\u001b[49m\u001b[43m \u001b[49m\u001b[43mapi\u001b[49m\u001b[38;5;241;43m=\u001b[39;49m\u001b[43mapi\u001b[49m\u001b[43m)\u001b[49m\n",
      "File \u001b[1;32m~\\AppData\\Local\\mambaforge\\envs\\req\\Lib\\site-packages\\pybliometrics\\scopus\\superclasses\\base.py:66\u001b[0m, in \u001b[0;36mBase.__init__\u001b[1;34m(self, params, url, api, download, verbose, *args, **kwds)\u001b[0m\n\u001b[0;32m     64\u001b[0m         \u001b[38;5;28mself\u001b[39m\u001b[38;5;241m.\u001b[39m_json \u001b[38;5;241m=\u001b[39m loads(fname\u001b[38;5;241m.\u001b[39mread_text())\n\u001b[0;32m     65\u001b[0m \u001b[38;5;28;01melse\u001b[39;00m:\n\u001b[1;32m---> 66\u001b[0m     resp \u001b[38;5;241m=\u001b[39m \u001b[43mget_content\u001b[49m\u001b[43m(\u001b[49m\u001b[43murl\u001b[49m\u001b[43m,\u001b[49m\u001b[43m \u001b[49m\u001b[43mapi\u001b[49m\u001b[43m,\u001b[49m\u001b[43m \u001b[49m\u001b[43mparams\u001b[49m\u001b[43m,\u001b[49m\u001b[43m \u001b[49m\u001b[38;5;241;43m*\u001b[39;49m\u001b[43margs\u001b[49m\u001b[43m,\u001b[49m\u001b[43m \u001b[49m\u001b[38;5;241;43m*\u001b[39;49m\u001b[38;5;241;43m*\u001b[39;49m\u001b[43mkwds\u001b[49m\u001b[43m)\u001b[49m\n\u001b[0;32m     67\u001b[0m     header \u001b[38;5;241m=\u001b[39m resp\u001b[38;5;241m.\u001b[39mheaders\n\u001b[0;32m     69\u001b[0m     \u001b[38;5;28;01mif\u001b[39;00m ab_ref_retrieval:\n",
      "File \u001b[1;32m~\\AppData\\Local\\mambaforge\\envs\\req\\Lib\\site-packages\\pybliometrics\\scopus\\utils\\get_content.py:116\u001b[0m, in \u001b[0;36mget_content\u001b[1;34m(url, api, params, **kwds)\u001b[0m\n\u001b[0;32m    114\u001b[0m         \u001b[38;5;28;01mexcept\u001b[39;00m:\n\u001b[0;32m    115\u001b[0m             reason \u001b[38;5;241m=\u001b[39m \u001b[38;5;124m\"\u001b[39m\u001b[38;5;124m\"\u001b[39m\n\u001b[1;32m--> 116\u001b[0m     \u001b[38;5;28;01mraise\u001b[39;00m errors[resp\u001b[38;5;241m.\u001b[39mstatus_code](reason)\n\u001b[0;32m    117\u001b[0m \u001b[38;5;28;01mexcept\u001b[39;00m \u001b[38;5;167;01mKeyError\u001b[39;00m:\n\u001b[0;32m    118\u001b[0m     resp\u001b[38;5;241m.\u001b[39mraise_for_status()\n",
      "\u001b[1;31mScopus404Error\u001b[0m: The resource specified cannot be found."
     ]
    }
   ],
   "source": [
    "eid = '2-s2.0-85142134801'\n",
    "ret = AbstractRetrieval(identifier=eid, view='FULL', id_type='eid')"
   ]
  },
  {
   "cell_type": "code",
   "execution_count": 80,
   "metadata": {},
   "outputs": [
    {
     "ename": "Scopus404Error",
     "evalue": "The resource specified cannot be found.",
     "output_type": "error",
     "traceback": [
      "\u001b[1;31m---------------------------------------------------------------------------\u001b[0m",
      "\u001b[1;31mScopus404Error\u001b[0m                            Traceback (most recent call last)",
      "Cell \u001b[1;32mIn[80], line 1\u001b[0m\n\u001b[1;32m----> 1\u001b[0m ret \u001b[38;5;241m=\u001b[39m \u001b[43mAbstractRetrieval\u001b[49m\u001b[43m(\u001b[49m\u001b[43midentifier\u001b[49m\u001b[38;5;241;43m=\u001b[39;49m\u001b[43mident\u001b[49m\u001b[43m,\u001b[49m\u001b[43m \u001b[49m\u001b[43mview\u001b[49m\u001b[38;5;241;43m=\u001b[39;49m\u001b[38;5;124;43m'\u001b[39;49m\u001b[38;5;124;43mFULL\u001b[39;49m\u001b[38;5;124;43m'\u001b[39;49m\u001b[43m,\u001b[49m\u001b[43m \u001b[49m\u001b[43mid_type\u001b[49m\u001b[38;5;241;43m=\u001b[39;49m\u001b[38;5;124;43m'\u001b[39;49m\u001b[38;5;124;43mscopus_id\u001b[39;49m\u001b[38;5;124;43m'\u001b[39;49m\u001b[43m)\u001b[49m\n",
      "File \u001b[1;32mc:\\Users\\flfo\\AppData\\Local\\mambaforge\\envs\\req\\Lib\\site-packages\\pybliometrics\\scopus\\abstract_retrieval.py:732\u001b[0m, in \u001b[0;36mAbstractRetrieval.__init__\u001b[1;34m(self, identifier, refresh, view, id_type, **kwds)\u001b[0m\n\u001b[0;32m    730\u001b[0m \u001b[38;5;28mself\u001b[39m\u001b[38;5;241m.\u001b[39m_view \u001b[38;5;241m=\u001b[39m view\n\u001b[0;32m    731\u001b[0m \u001b[38;5;28mself\u001b[39m\u001b[38;5;241m.\u001b[39m_refresh \u001b[38;5;241m=\u001b[39m refresh\n\u001b[1;32m--> 732\u001b[0m \u001b[43mRetrieval\u001b[49m\u001b[38;5;241;43m.\u001b[39;49m\u001b[38;5;21;43m__init__\u001b[39;49m\u001b[43m(\u001b[49m\u001b[38;5;28;43mself\u001b[39;49m\u001b[43m,\u001b[49m\u001b[43m \u001b[49m\u001b[43midentifier\u001b[49m\u001b[38;5;241;43m=\u001b[39;49m\u001b[43midentifier\u001b[49m\u001b[43m,\u001b[49m\u001b[43m \u001b[49m\u001b[43mid_type\u001b[49m\u001b[38;5;241;43m=\u001b[39;49m\u001b[43mid_type\u001b[49m\u001b[43m,\u001b[49m\n\u001b[0;32m    733\u001b[0m \u001b[43m                   \u001b[49m\u001b[43mapi\u001b[49m\u001b[38;5;241;43m=\u001b[39;49m\u001b[38;5;124;43m'\u001b[39;49m\u001b[38;5;124;43mAbstractRetrieval\u001b[39;49m\u001b[38;5;124;43m'\u001b[39;49m\u001b[43m,\u001b[49m\u001b[43m \u001b[49m\u001b[38;5;241;43m*\u001b[39;49m\u001b[38;5;241;43m*\u001b[39;49m\u001b[43mkwds\u001b[49m\u001b[43m)\u001b[49m\n\u001b[0;32m    734\u001b[0m \u001b[38;5;28mself\u001b[39m\u001b[38;5;241m.\u001b[39m_json \u001b[38;5;241m=\u001b[39m \u001b[38;5;28mself\u001b[39m\u001b[38;5;241m.\u001b[39m_json[\u001b[38;5;124m'\u001b[39m\u001b[38;5;124mabstracts-retrieval-response\u001b[39m\u001b[38;5;124m'\u001b[39m]\n\u001b[0;32m    735\u001b[0m \u001b[38;5;28mself\u001b[39m\u001b[38;5;241m.\u001b[39m_head \u001b[38;5;241m=\u001b[39m chained_get(\u001b[38;5;28mself\u001b[39m\u001b[38;5;241m.\u001b[39m_json, [\u001b[38;5;124m\"\u001b[39m\u001b[38;5;124mitem\u001b[39m\u001b[38;5;124m\"\u001b[39m, \u001b[38;5;124m\"\u001b[39m\u001b[38;5;124mbibrecord\u001b[39m\u001b[38;5;124m\"\u001b[39m, \u001b[38;5;124m\"\u001b[39m\u001b[38;5;124mhead\u001b[39m\u001b[38;5;124m\"\u001b[39m], {})\n",
      "File \u001b[1;32mc:\\Users\\flfo\\AppData\\Local\\mambaforge\\envs\\req\\Lib\\site-packages\\pybliometrics\\scopus\\superclasses\\retrieval.py:48\u001b[0m, in \u001b[0;36mRetrieval.__init__\u001b[1;34m(self, identifier, api, id_type, **kwds)\u001b[0m\n\u001b[0;32m     46\u001b[0m \u001b[38;5;66;03m# Parse file contents\u001b[39;00m\n\u001b[0;32m     47\u001b[0m params \u001b[38;5;241m=\u001b[39m {\u001b[38;5;124m'\u001b[39m\u001b[38;5;124mview\u001b[39m\u001b[38;5;124m'\u001b[39m: \u001b[38;5;28mself\u001b[39m\u001b[38;5;241m.\u001b[39m_view, \u001b[38;5;241m*\u001b[39m\u001b[38;5;241m*\u001b[39mkwds}\n\u001b[1;32m---> 48\u001b[0m \u001b[43mBase\u001b[49m\u001b[38;5;241;43m.\u001b[39;49m\u001b[38;5;21;43m__init__\u001b[39;49m\u001b[43m(\u001b[49m\u001b[38;5;28;43mself\u001b[39;49m\u001b[43m,\u001b[49m\u001b[43m \u001b[49m\u001b[43mparams\u001b[49m\u001b[38;5;241;43m=\u001b[39;49m\u001b[43mparams\u001b[49m\u001b[43m,\u001b[49m\u001b[43m \u001b[49m\u001b[43murl\u001b[49m\u001b[38;5;241;43m=\u001b[39;49m\u001b[43murl\u001b[49m\u001b[43m,\u001b[49m\u001b[43m \u001b[49m\u001b[43mapi\u001b[49m\u001b[38;5;241;43m=\u001b[39;49m\u001b[43mapi\u001b[49m\u001b[43m)\u001b[49m\n",
      "File \u001b[1;32mc:\\Users\\flfo\\AppData\\Local\\mambaforge\\envs\\req\\Lib\\site-packages\\pybliometrics\\scopus\\superclasses\\base.py:66\u001b[0m, in \u001b[0;36mBase.__init__\u001b[1;34m(self, params, url, api, download, verbose, *args, **kwds)\u001b[0m\n\u001b[0;32m     64\u001b[0m         \u001b[38;5;28mself\u001b[39m\u001b[38;5;241m.\u001b[39m_json \u001b[38;5;241m=\u001b[39m loads(fname\u001b[38;5;241m.\u001b[39mread_text())\n\u001b[0;32m     65\u001b[0m \u001b[38;5;28;01melse\u001b[39;00m:\n\u001b[1;32m---> 66\u001b[0m     resp \u001b[38;5;241m=\u001b[39m \u001b[43mget_content\u001b[49m\u001b[43m(\u001b[49m\u001b[43murl\u001b[49m\u001b[43m,\u001b[49m\u001b[43m \u001b[49m\u001b[43mapi\u001b[49m\u001b[43m,\u001b[49m\u001b[43m \u001b[49m\u001b[43mparams\u001b[49m\u001b[43m,\u001b[49m\u001b[43m \u001b[49m\u001b[38;5;241;43m*\u001b[39;49m\u001b[43margs\u001b[49m\u001b[43m,\u001b[49m\u001b[43m \u001b[49m\u001b[38;5;241;43m*\u001b[39;49m\u001b[38;5;241;43m*\u001b[39;49m\u001b[43mkwds\u001b[49m\u001b[43m)\u001b[49m\n\u001b[0;32m     67\u001b[0m     header \u001b[38;5;241m=\u001b[39m resp\u001b[38;5;241m.\u001b[39mheaders\n\u001b[0;32m     69\u001b[0m     \u001b[38;5;28;01mif\u001b[39;00m ab_ref_retrieval:\n",
      "File \u001b[1;32mc:\\Users\\flfo\\AppData\\Local\\mambaforge\\envs\\req\\Lib\\site-packages\\pybliometrics\\scopus\\utils\\get_content.py:116\u001b[0m, in \u001b[0;36mget_content\u001b[1;34m(url, api, params, **kwds)\u001b[0m\n\u001b[0;32m    114\u001b[0m         \u001b[38;5;28;01mexcept\u001b[39;00m:\n\u001b[0;32m    115\u001b[0m             reason \u001b[38;5;241m=\u001b[39m \u001b[38;5;124m\"\u001b[39m\u001b[38;5;124m\"\u001b[39m\n\u001b[1;32m--> 116\u001b[0m     \u001b[38;5;28;01mraise\u001b[39;00m errors[resp\u001b[38;5;241m.\u001b[39mstatus_code](reason)\n\u001b[0;32m    117\u001b[0m \u001b[38;5;28;01mexcept\u001b[39;00m \u001b[38;5;167;01mKeyError\u001b[39;00m:\n\u001b[0;32m    118\u001b[0m     resp\u001b[38;5;241m.\u001b[39mraise_for_status()\n",
      "\u001b[1;31mScopus404Error\u001b[0m: The resource specified cannot be found."
     ]
    }
   ],
   "source": [
    "ret = AbstractRetrieval(identifier=ident, view='FULL', id_type='scopus_id')"
   ]
  },
  {
   "cell_type": "code",
   "execution_count": 15,
   "metadata": {},
   "outputs": [],
   "source": [
    "# 2-s2.0-85184079846\n",
    "ret = AbstractRetrieval(identifier='10.1016/j.compchemeng.2024.108700', view='FULL', id_type='doi')"
   ]
  },
  {
   "cell_type": "code",
   "execution_count": 33,
   "metadata": {},
   "outputs": [
    {
     "data": {
      "text/plain": [
       "Author(auid=7401868467, indexed_name='Ryu J.-H.', surname='Ryu', given_name='Jun Hyung', affiliation='60103637')"
      ]
     },
     "execution_count": 33,
     "metadata": {},
     "output_type": "execute_result"
    }
   ],
   "source": [
    "ret.authors[2]"
   ]
  },
  {
   "cell_type": "code",
   "execution_count": 35,
   "metadata": {},
   "outputs": [
    {
     "data": {
      "text/plain": [
       "Reference(position='6', id='85018935382', doi=None, title='Unifying count-based exploration and intrinsic motivation', authors='Bellemare, M.; Srinivasan, S.; Ostrovski, G.; Schaul, T.; Saxton, D.; Munos, R.', authors_auid=None, authors_affiliationid=None, sourcetitle='Advances in Neural Information Processing Systems', publicationyear='2016', coverDate=None, volume=None, issue=None, first=None, last=None, citedbycount=None, type=None, text='Lee D. Sugiyama M. Luxburg U. Guyon I. Garnett R. Curran Associates, Inc. URL:', fulltext='Bellemare, M., Srinivasan, S., Ostrovski, G., Schaul, T., Saxton, D., Munos, R., Unifying count-based exploration and intrinsic motivation. Lee, D., Sugiyama, M., Luxburg, U., Guyon, I., Garnett, R., (eds.) Advances in Neural Information Processing Systems, Vol. 29, 2016, Curran Associates, Inc. URL: https://proceedings.neurips.cc/paper_files/paper/2016/file/afda332245e2af431fb7b672a68b659d-Paper.pdf.')"
      ]
     },
     "execution_count": 35,
     "metadata": {},
     "output_type": "execute_result"
    }
   ],
   "source": [
    "ret.references[5]"
   ]
  },
  {
   "cell_type": "code",
   "execution_count": null,
   "metadata": {},
   "outputs": [],
   "source": []
  },
  {
   "cell_type": "code",
   "execution_count": 36,
   "metadata": {},
   "outputs": [
    {
     "data": {
      "text/plain": [
       "{0, 12, 20}"
      ]
     },
     "execution_count": 36,
     "metadata": {},
     "output_type": "execute_result"
    }
   ],
   "source": [
    "se = set([0,12,20,20,20])\n",
    "se"
   ]
  },
  {
   "cell_type": "code",
   "execution_count": 39,
   "metadata": {},
   "outputs": [],
   "source": [
    "se.add(20)"
   ]
  },
  {
   "cell_type": "code",
   "execution_count": 40,
   "metadata": {},
   "outputs": [
    {
     "data": {
      "text/plain": [
       "{0, 12, 20, 230}"
      ]
     },
     "execution_count": 40,
     "metadata": {},
     "output_type": "execute_result"
    }
   ],
   "source": [
    "se"
   ]
  },
  {
   "cell_type": "code",
   "execution_count": null,
   "metadata": {},
   "outputs": [],
   "source": []
  },
  {
   "cell_type": "code",
   "execution_count": 31,
   "metadata": {},
   "outputs": [
    {
     "name": "stdout",
     "output_type": "stream",
     "text": [
      "85094978799\n",
      "85089250322\n",
      "85087848427\n",
      "85069667341\n",
      "85147901961\n",
      "85018935382\n",
      "85049261269\n",
      "84873346169\n",
      "85042377818\n",
      "85147996870\n",
      "85136963621\n",
      "84979895494\n",
      "68749118271\n",
      "2442583184\n",
      "85068929943\n",
      "0036568989\n",
      "85069988619\n",
      "85078997272\n",
      "85001119077\n",
      "0037111002\n",
      "84894902084\n",
      "84962033809\n",
      "85009858851\n",
      "0037143048\n",
      "85086939555\n",
      "85152578626\n",
      "11844290763\n",
      "85168622754\n",
      "0034333693\n",
      "85141707138\n",
      "85042186727\n",
      "85081228840\n",
      "77955708062\n",
      "85078983066\n",
      "85078983066\n",
      "85040627255\n",
      "85056319646\n",
      "85085199384\n",
      "85090431015\n",
      "84996560064\n",
      "85095794533\n",
      "38849148294\n",
      "70449529496\n",
      "85084170875\n",
      "29144475374\n",
      "84860610233\n",
      "33748102266\n",
      "84986596552\n",
      "84887622375\n",
      "84924051598\n",
      "85190749338\n",
      "85034223226\n",
      "85126077387\n",
      "34547753081\n",
      "85030784230\n",
      "85061717292\n",
      "84930512464\n",
      "0003687099\n",
      "4444220587\n",
      "73449099561\n",
      "85190739451\n",
      "0026143149\n",
      "85140144997\n",
      "85190745835\n",
      "85041194636\n",
      "81055157692\n",
      "84864772150\n",
      "85043604577\n",
      "0030164381\n",
      "84869496558\n",
      "77955820606\n",
      "0037063283\n",
      "84877663545\n",
      "84875778960\n",
      "84875000745\n",
      "84908287569\n",
      "84930335068\n",
      "84874546620\n",
      "10844274625\n",
      "85048864239\n",
      "34248335441\n",
      "0041805288\n",
      "85143507311\n"
     ]
    }
   ],
   "source": [
    "for ref in ret.references:\n",
    "    print(ref.id)"
   ]
  },
  {
   "cell_type": "code",
   "execution_count": 23,
   "metadata": {},
   "outputs": [],
   "source": [
    "from typing import NewType"
   ]
  },
  {
   "cell_type": "code",
   "execution_count": 24,
   "metadata": {},
   "outputs": [],
   "source": [
    "iint = NewType('iint', int)"
   ]
  },
  {
   "cell_type": "code",
   "execution_count": 25,
   "metadata": {},
   "outputs": [],
   "source": [
    "ident='85094978799'"
   ]
  },
  {
   "cell_type": "code",
   "execution_count": 26,
   "metadata": {},
   "outputs": [
    {
     "data": {
      "text/plain": [
       "'85094978799'"
      ]
     },
     "execution_count": 26,
     "metadata": {},
     "output_type": "execute_result"
    }
   ],
   "source": [
    "iint(ident)"
   ]
  },
  {
   "cell_type": "code",
   "execution_count": null,
   "metadata": {},
   "outputs": [],
   "source": []
  },
  {
   "cell_type": "code",
   "execution_count": null,
   "metadata": {},
   "outputs": [],
   "source": []
  },
  {
   "cell_type": "code",
   "execution_count": null,
   "metadata": {},
   "outputs": [],
   "source": []
  },
  {
   "cell_type": "code",
   "execution_count": 138,
   "metadata": {},
   "outputs": [],
   "source": [
    "ret = AbstractRetrieval(identifier='85184079846', view='FULL', id_type='scopus_id')"
   ]
  },
  {
   "cell_type": "code",
   "execution_count": 139,
   "metadata": {},
   "outputs": [
    {
     "name": "stdout",
     "output_type": "stream",
     "text": [
      "Cong Luo, Wenyin Gong, Fei Ming and Chao Lu: \"A Q-learning memetic algorithm for energy-efficient heterogeneous distributed assembly permutation flowshop scheduling considering priorities\", Swarm and Evolutionary Computation, 85, (no pages found)(2024). https://doi.org/10.1016/j.swevo.2024.101497.\n",
      "0 citation(s) as of 2024-03-11\n",
      "  Affiliation(s):\n",
      "   China University of Geosciences\n"
     ]
    }
   ],
   "source": [
    "print(ret)"
   ]
  },
  {
   "cell_type": "markdown",
   "metadata": {},
   "source": [
    "- Export Scopus CSV: EID, DOI\n",
    "- references: ScopusID, DOI"
   ]
  },
  {
   "cell_type": "code",
   "execution_count": 135,
   "metadata": {},
   "outputs": [
    {
     "data": {
      "text/plain": [
       "[Reference(position='1', id='0003438602', doi=None, title=None, authors='Pinedo, M.L.', authors_auid=None, authors_affiliationid=None, sourcetitle='Scheduling: Theory, Algorithms, and Systems', publicationyear='2000', coverDate=None, volume=None, issue=None, first=None, last=None, citedbycount=None, type=None, text='Englewood Cliffs, NJ, USA: Prentice-Hall', fulltext='M. L. Pinedo, Scheduling: Theory, Algorithms, and Systems. Englewood Cliffs, NJ, USA: Prentice-Hall, 2000.'),\n",
       " Reference(position='2', id='84962109552', doi=None, title='Automated design of production scheduling heuristics: A review', authors='Branke, J.; Nguyen, S.; Pickardt, C.W.; Zhang, M.J.', authors_auid=None, authors_affiliationid=None, sourcetitle='Ieee Trans. Evol. Comput.', publicationyear='2016', coverDate=None, volume=None, issue=None, first=None, last=None, citedbycount=None, type=None, text='Feb.', fulltext='J. Branke, S. Nguyen, C. W. Pickardt, and M. J. Zhang, \"Automated design of production scheduling heuristics: A review,\" IEEE Trans. Evol. Comput., vol. 20, no. 1, pp. 110-124, Feb. 2016.'),\n",
       " Reference(position='3', id='84979818933', doi=None, title='Optimal scheduling of complex multi-cluster tools based on timed resource-oriented Petri nets', authors='Zhu, Q.H.; Wu, N.Q.; Qiao, Y.; Zhou, M.C.', authors_auid=None, authors_affiliationid=None, sourcetitle='Ieee Access', publicationyear='2016', coverDate=None, volume=None, issue=None, first=None, last=None, citedbycount=None, type=None, text=None, fulltext='Q. H. Zhu, N. Q. Wu, Y. Qiao, and M. C. Zhou, \"Optimal scheduling of complex multi-cluster tools based on timed resource-oriented Petri nets,\" IEEE Access, vol. 4, pp. 2096-2109, 2016.'),\n",
       " Reference(position='4', id='85027923444', doi=None, title='Short-term scheduling of crudeoil operations: Enhancement of crude-oil operations scheduling using a Petri net-based control-theoretic approach', authors='Wu, N.Q.; Zhou, M.C.; Li, Z.W.', authors_auid=None, authors_affiliationid=None, sourcetitle='Ieee Robot. Autom. Mag.', publicationyear='2015', coverDate=None, volume=None, issue=None, first=None, last=None, citedbycount=None, type=None, text='Jun.', fulltext='N. Q. Wu, M. C. Zhou, and Z. W. Li, \"Short-term scheduling of crudeoil operations: Enhancement of crude-oil operations scheduling using a Petri net-based control-theoretic approach,\" IEEE Robot. Autom. Mag., vol. 22, no. 2, pp. 64-76, Jun. 2015.'),\n",
       " Reference(position='5', id='85017619768', doi=None, title='An optimized oxygen system scheduling with electricity cost consideration in steel industry', authors='Han, Z.; Zhao, J.; Wang, W.', authors_auid=None, authors_affiliationid=None, sourcetitle='IEEE/CAA J. Automatica Sinica', publicationyear='2017', coverDate=None, volume=None, issue=None, first=None, last=None, citedbycount=None, type=None, text='Apr.', fulltext='Z. Han, J. Zhao, and W. Wang, \"An optimized oxygen system scheduling with electricity cost consideration in steel industry,\" IEEE/CAA J. Automatica Sinica, vol. 4, no. 2, pp. 216-222, Apr. 2017.'),\n",
       " Reference(position='6', id='84979072417', doi=None, title='A hybrid estimation of distribution algorithm for unrelated parallel machine scheduling with sequencedependent setup times', authors='Wang, L.; Wang, Y.S.; Zheng, X.', authors_auid=None, authors_affiliationid=None, sourcetitle='IEEE/CAA J. Automatica Sinica', publicationyear='2016', coverDate=None, volume=None, issue=None, first=None, last=None, citedbycount=None, type=None, text='Jul.', fulltext='L. Wang, Y. S. Wang, and X. Zheng, \"A hybrid estimation of distribution algorithm for unrelated parallel machine scheduling with sequencedependent setup times,\" IEEE/CAA J. Automatica Sinica, vol. 3, no. 3, pp. 235-246, Jul. 2016.'),\n",
       " Reference(position='7', id='85057331452', doi='10.1080/17517575.2018.1545160', title='Integrated scheduling for a distributed manufacturing system: A stochastic multi-objective model', authors='Fu, Y.P.; Wang, H.F.; Huang, M.', authors_auid=None, authors_affiliationid=None, sourcetitle='Enterprise Inf. Syst.', publicationyear='2019', coverDate=None, volume=None, issue=None, first=None, last=None, citedbycount=None, type=None, text=None, fulltext='Y. P. Fu, H. F. Wang, and M. Huang, \"Integrated scheduling for a distributed manufacturing system: A stochastic multi-objective model,\" Enterprise Inf. Syst., vol. 13, no. 4, pp. 557-573, 2019. doi: 10.1080/17517575.2018.1545160.'),\n",
       " Reference(position='8', id='85009987616', doi='10.1109/TASE.2016.2631491', title='An improved model for parallel machine scheduling under time-of-use electricity price', authors='Cheng, J.H.; Chu, F.; Zhou, M.C.', authors_auid=None, authors_affiliationid=None, sourcetitle='Ieee Trans. Autom. Sci. Eng.', publicationyear='2018', coverDate=None, volume=None, issue=None, first=None, last=None, citedbycount=None, type=None, text='Apr.', fulltext='J. H. Cheng, F. Chu, and M. C. Zhou, \"An improved model for parallel machine scheduling under time-of-use electricity price,\" IEEE Trans. Autom. Sci. Eng., vol. 15, no. 2, pp. 896-899, Apr. 2018. doi: 10.1109/TASE.2016.2631491.'),\n",
       " Reference(position='9', id='84944088831', doi=None, title='Disassembly sequence optimization for large-scale products with multiresource constraints using scatter search and Petri nets', authors='Guo, X.W.; Liu, S.X.; Zhou, M.C.; Tian, G.D.', authors_auid=None, authors_affiliationid=None, sourcetitle='Ieee Trans. Cybern.', publicationyear='2016', coverDate=None, volume=None, issue=None, first=None, last=None, citedbycount=None, type=None, text='Nov.', fulltext='X. W. Guo, S. X. Liu, M. C. Zhou, and G. D. Tian, \"Disassembly sequence optimization for large-scale products with multiresource constraints using scatter search and Petri nets,\" IEEE Trans. Cybern., vol. 46, no. 11, pp. 2435-2446, Nov. 2016.'),\n",
       " Reference(position='10', id='0024137249', doi=None, title='Single facility scheduling with nonlinear processing times', authors='Gupta, J.N.D.; Gupta, S.K.', authors_auid=None, authors_affiliationid=None, sourcetitle='Comput. Ind. Eng.', publicationyear='1988', coverDate=None, volume=None, issue=None, first=None, last=None, citedbycount=None, type=None, text=None, fulltext='J. N. D. Gupta and S. K. Gupta, \"Single facility scheduling with nonlinear processing times,\" Comput. Ind. Eng., vol. 14, no. 4, pp. 387-393, 1988.'),\n",
       " Reference(position='11', id='0025429963', doi=None, title='Scheduling deteriorating jobs on a single processor', authors='Browne, S.; Yechiali, U.', authors_auid=None, authors_affiliationid=None, sourcetitle='Oper. Res.', publicationyear='1990', coverDate=None, volume=None, issue=None, first=None, last=None, citedbycount=None, type=None, text=None, fulltext='S. Browne and U. Yechiali, \"Scheduling deteriorating jobs on a single processor,\" Oper. Res., vol. 38, no. 3, pp. 495-498, 1990.'),\n",
       " Reference(position='12', id='84922507918', doi=None, title='Two-agent single-machine scheduling with deteriorating jobs', authors='Yin, Y.Q.; Cheng, T.C.E.; Wan, L.; Wu, C.-C.; Liu, J.', authors_auid=None, authors_affiliationid=None, sourcetitle='Comput. Ind. Eng.', publicationyear='2015', coverDate=None, volume=None, issue=None, first=None, last=None, citedbycount=None, type=None, text='Mar.', fulltext='Y. Q. Yin, T. C. E. Cheng, L. Wan, C.-C. Wu, and J. Liu, \"Two-agent single-machine scheduling with deteriorating jobs,\" Comput. Ind. Eng., vol. 81, pp. 177-185, Mar. 2015.'),\n",
       " Reference(position='13', id='38149101038', doi=None, title='Parallel-machine scheduling with simple linear deterioration to minimize total completion time', authors='Ji, M.; Cheng, T.C.E.', authors_auid=None, authors_affiliationid=None, sourcetitle='Eur. J. Oper. Res.', publicationyear='2008', coverDate=None, volume=None, issue=None, first=None, last=None, citedbycount=None, type=None, text=None, fulltext='M. Ji and T. C. E. Cheng, \"Parallel-machine scheduling with simple linear deterioration to minimize total completion time,\" Eur. J. Oper. Res., vol. 188, no. 2, pp. 342-347, 2008.'),\n",
       " Reference(position='14', id='84953367902', doi=None, title='Multiobjective optimisation design for enterprise system operation in the case of scheduling problem with deteriorating jobs', authors='Wang, H.F.; Fu, Y.P.; Huang, M.; Wang, J.W.', authors_auid=None, authors_affiliationid=None, sourcetitle='Enterprise Inf. Syst.', publicationyear='2016', coverDate=None, volume=None, issue=None, first=None, last=None, citedbycount=None, type=None, text=None, fulltext='H. F. Wang, Y. P. Fu, M. Huang, and J. W. Wang, \"Multiobjective optimisation design for enterprise system operation in the case of scheduling problem with deteriorating jobs,\" Enterprise Inf. Syst., vol. 10, no. 3, pp. 268-285, 2016.'),\n",
       " Reference(position='15', id='85040030226', doi='10.1007/s10845-017-1385-4', title='Twoagent stochastic flow shop deteriorating scheduling via a hybrid multiobjective evolutionary algorithm', authors='Fu, Y.P.; Wang, H.F.; Tian, G.D.; Li, Z.W.; Hu, H.S.', authors_auid=None, authors_affiliationid=None, sourcetitle='J. Intell. Manuf.', publicationyear=None, coverDate=None, volume=None, issue=None, first=None, last=None, citedbycount=None, type=None, text=None, fulltext='Y. P. Fu, H. F. Wang, G. D. Tian, Z. W. Li, and H. S. Hu, \"Twoagent stochastic flow shop deteriorating scheduling via a hybrid multiobjective evolutionary algorithm,\" J. Intell. Manuf., to be published. doi: 10.1007/s10845-017-1385-4.'),\n",
       " Reference(position='16', id='84937789542', doi=None, title='Due-window assignment and scheduling with general position-dependent processing times involving a deteriorating and compressible maintenance activity', authors='Zhu, H.; Li, M.; Zhou, Z.J.; You, Y.', authors_auid=None, authors_affiliationid=None, sourcetitle='Int. J. Prod. Res.', publicationyear='2016', coverDate=None, volume=None, issue=None, first=None, last=None, citedbycount=None, type=None, text=None, fulltext='H. Zhu, M. Li, Z. J. Zhou, and Y. You, \"Due-window assignment and scheduling with general position-dependent processing times involving a deteriorating and compressible maintenance activity,\" Int. J. Prod. Res., vol. 54, no. 12, pp. 3475-3490, 2016.'),\n",
       " Reference(position='17', id='84995530344', doi=None, title='Parallelmachine scheduling of deteriorating jobs with potential machine disruptions', authors='Yin, Y.Q.; Wang, Y.; Cheng, T.C.E.; Liu, W.Q.; Li, J.H.', authors_auid=None, authors_affiliationid=None, sourcetitle='Omega', publicationyear='2017', coverDate=None, volume=None, issue=None, first=None, last=None, citedbycount=None, type=None, text='Jun.', fulltext='Y. Q. Yin, Y. Wang, T. C. E. Cheng, W. Q. Liu, and J. H. Li, \"Parallelmachine scheduling of deteriorating jobs with potential machine disruptions,\" Omega, vol. 69, pp. 17-28, Jun. 2017.'),\n",
       " Reference(position='18', id='84973545274', doi=None, title='Modeling the parallel machine scheduling problem with step deteriorating jobs', authors='Lalla-Ruiz, E.; Voß, S.', authors_auid=None, authors_affiliationid=None, sourcetitle='Eur. J. Oper. Res.', publicationyear='2016', coverDate=None, volume=None, issue=None, first=None, last=None, citedbycount=None, type=None, text=None, fulltext='E. Lalla-Ruiz and S. Voß, \"Modeling the parallel machine scheduling problem with step deteriorating jobs,\" Eur. J. Oper. Res., vol. 255, no. 1, pp. 21-33, 2016.'),\n",
       " Reference(position='19', id='85021693513', doi=None, title='A blocking flow shop deteriorating scheduling problem via a hybrid chemical reaction optimization', authors='Fu, Y.P.; Wang, Z.Z.; Zhang, J.H.; Wang, Z.L.', authors_auid=None, authors_affiliationid=None, sourcetitle='Adv. Mech. Eng.', publicationyear='2017', coverDate=None, volume=None, issue=None, first=None, last=None, citedbycount=None, type=None, text=None, fulltext='Y. P. Fu, Z. Z. Wang, J. H. Zhang, and Z. L. Wang, \"A blocking flow shop deteriorating scheduling problem via a hybrid chemical reaction optimization,\" Adv. Mech. Eng., vol. 9, no. 6, pp. 1-10, 2017.'),\n",
       " Reference(position='20', id='84906565061', doi=None, title='An effective hybrid teaching-learning-based optimization algorithm for permutation flow shop scheduling problem', authors='Xie, Z.P.; Zhang, C.Y.; Shao, X.Y.; Lin, W.W.; Zhu, H.P.', authors_auid=None, authors_affiliationid=None, sourcetitle='Adv. Eng. Softw.', publicationyear='2014', coverDate=None, volume=None, issue=None, first=None, last=None, citedbycount=None, type=None, text='Nov.', fulltext='Z. P. Xie, C. Y. Zhang, X. Y. Shao, W. W. Lin, and H. P. Zhu, \"An effective hybrid teaching-learning-based optimization algorithm for permutation flow shop scheduling problem,\" Adv. Eng. Softw., vol. 77, pp. 35-47, Nov. 2014.'),\n",
       " Reference(position='21', id='84867973795', doi=None, title='Complexity analysis of job-shop scheduling with deteriorating jobs', authors='Mosheiov, G.', authors_auid=None, authors_affiliationid=None, sourcetitle='Discr. Appl. Math.', publicationyear='2002', coverDate=None, volume=None, issue=None, first=None, last=None, citedbycount=None, type=None, text=None, fulltext='G. Mosheiov, \"Complexity analysis of job-shop scheduling with deteriorating jobs,\" Discr. Appl. Math., vol. 117, nos. 1-3, pp. 195-209, 2002.'),\n",
       " Reference(position='22', id='84859894716', doi=None, title='Flow shop makespan minimization scheduling with deteriorating jobs under dominating machines', authors='Sun, L.-H.; Sun, L.-Y.; Wang, M.-Z.; Wang, J.-B.', authors_auid=None, authors_affiliationid=None, sourcetitle='Int. J. Prod. Econ.', publicationyear='2012', coverDate=None, volume=None, issue=None, first=None, last=None, citedbycount=None, type=None, text=None, fulltext='L.-H. Sun, L.-Y. Sun, M.-Z. Wang, and J.-B. Wang, \"Flow shop makespan minimization scheduling with deteriorating jobs under dominating machines,\" Int. J. Prod. Econ., vol. 138, no. 1, pp. 195-200, 2012.'),\n",
       " Reference(position='23', id='84900861694', doi=None, title='Total tardiness minimization in permutation flowshop with deterioration consideration', authors='Lee, W.C.; Yeh, W.C.; Chung, Y.H.', authors_auid=None, authors_affiliationid=None, sourcetitle='Appl. Math. Model.', publicationyear='2014', coverDate=None, volume=None, issue=None, first=None, last=None, citedbycount=None, type=None, text=None, fulltext='W. C. Lee, W. C. Yeh, and Y. H. Chung, \"Total tardiness minimization in permutation flowshop with deterioration consideration,\" Appl. Math. Model., vol. 38, no. 13, pp. 3081-3092, 2014.'),\n",
       " Reference(position='24', id='84876186809', doi=None, title='Makespan minimization flowshop with position dependent job processing times-computational complexity and solution algorithms', authors='Rudek, A.; Rudek, R.', authors_auid=None, authors_affiliationid=None, sourcetitle='Comput. Oper. Res.', publicationyear='2013', coverDate=None, volume=None, issue=None, first=None, last=None, citedbycount=None, type=None, text=None, fulltext='A. Rudek and R. Rudek, \"Makespan minimization flowshop with position dependent job processing times-computational complexity and solution algorithms,\" Comput. Oper. Res., vol. 40, no. 8, pp. 2071-2082, 2013.'),\n",
       " Reference(position='25', id='84857640516', doi=None, title='Total completion time minimization in two-machine flow shop scheduling problems with a fixed job sequence', authors='Hwang, F.J.; Kovalyov, M.Y.; Lin, B.M.T.', authors_auid=None, authors_affiliationid=None, sourcetitle='Discr. Optim.', publicationyear='2012', coverDate=None, volume=None, issue=None, first=None, last=None, citedbycount=None, type=None, text=None, fulltext='F. J. Hwang, M. Y. Kovalyov, and B. M. T. Lin, \"Total completion time minimization in two-machine flow shop scheduling problems with a fixed job sequence,\" Discr. Optim., vol. 9, no. 1, pp. 29-39, 2012.'),\n",
       " Reference(position='26', id='34249042307', doi=None, title='Flow shop scheduling problems with deteriorating jobs on no-idle dominant machines', authors='Cheng, M.B.; Sun, S.J.; He, L.M.', authors_auid=None, authors_affiliationid=None, sourcetitle='Eur. J. Oper. Res.', publicationyear='2007', coverDate=None, volume=None, issue=None, first=None, last=None, citedbycount=None, type=None, text=None, fulltext='M. B. Cheng, S. J. Sun, and L. M. He, \"Flow shop scheduling problems with deteriorating jobs on no-idle dominant machines,\" Eur. J. Oper. Res., vol. 183, no. 1, pp. 115-124, 2007.'),\n",
       " Reference(position='27', id='85048035402', doi='10.1007/s10845-018-1425-8', title='An effective metaheuristic algorithm for flowshop scheduling with deteriorating jobs', authors='Wang, H.F.; Huang, M.; Wang, J.W.', authors_auid=None, authors_affiliationid=None, sourcetitle='J. Intell. Manuf.', publicationyear=None, coverDate=None, volume=None, issue=None, first=None, last=None, citedbycount=None, type=None, text=None, fulltext='H. F. Wang, M. Huang, and J. W. Wang, \"An effective metaheuristic algorithm for flowshop scheduling with deteriorating jobs,\" J. Intell. Manuf., to be published. doi: 10.1007/s10845-018-1425-8.'),\n",
       " Reference(position='28', id='84455194528', doi=None, title='Application of particle swarm optimization and simulated annealing algorithms in flow shop scheduling problem under linear deterioration', authors='Bank, M.; Ghomi, S.M.T.F.; Jolai, F.; Behnamiana, J.', authors_auid=None, authors_affiliationid=None, sourcetitle='Adv. Eng. Softw.', publicationyear='2012', coverDate=None, volume=None, issue=None, first=None, last=None, citedbycount=None, type=None, text=None, fulltext='M. Bank, S. M. T. F. Ghomi, F. Jolai, and J. Behnamiana, \"Application of particle swarm optimization and simulated annealing algorithms in flow shop scheduling problem under linear deterioration,\" Adv. Eng. Softw., vol. 47, no. 1, pp. 1-6, 2012.'),\n",
       " Reference(position='29', id='84928153331', doi=None, title='Twomachine flow shop scheduling with deteriorating jobs: Minimizing the weighted sum of makespan and total completion time', authors='Cheng, M.B.; Tadikamalla, P.R.; Shang, J.F.; Zhang, B.X.', authors_auid=None, authors_affiliationid=None, sourcetitle='J. Oper. Res. Soc.', publicationyear='2014', coverDate=None, volume=None, issue=None, first=None, last=None, citedbycount=None, type=None, text=None, fulltext='M. B. Cheng, P. R. Tadikamalla, J. F. Shang, and B. X. Zhang, \"Twomachine flow shop scheduling with deteriorating jobs: Minimizing the weighted sum of makespan and total completion time,\" J. Oper. Res. Soc., vol. 66, no. 5, pp. 709-719, 2014.'),\n",
       " Reference(position='30', id='84892825821', doi=None, title='Bicriteria hierarchical optimization of two-machine flow shop scheduling problem with time-dependent deteriorating jobs', authors='Cheng, M.B.; Tadikamalla, P.R.; Shang, J.F.; Zhang, S.Q.', authors_auid=None, authors_affiliationid=None, sourcetitle='Eur. J. Oper. Res.', publicationyear='2014', coverDate=None, volume=None, issue=None, first=None, last=None, citedbycount=None, type=None, text=None, fulltext='M. B. Cheng, P. R. Tadikamalla, J. F. Shang, and S. Q. Zhang, \"Bicriteria hierarchical optimization of two-machine flow shop scheduling problem with time-dependent deteriorating jobs,\" Eur. J. Oper. Res., vol. 234, no. 3, pp. 650-657, 2014.'),\n",
       " Reference(position='31', id='85042369089', doi=None, title='Efficient multi-objective optimization algorithm for hybrid flow shop scheduling problems with setup energy consumptions', authors='Li, J.-Q.; Sang, H.-Y.; Han, Y.-Y.; Wang, C.-G.; Gao, K.-Z.', authors_auid=None, authors_affiliationid=None, sourcetitle='J. Cleaner Prod.', publicationyear='2018', coverDate=None, volume=None, issue=None, first=None, last=None, citedbycount=None, type=None, text='Apr.', fulltext='J.-Q. Li, H.-Y. Sang, Y.-Y. Han, C.-G. Wang, and K.-Z. Gao, \"Efficient multi-objective optimization algorithm for hybrid flow shop scheduling problems with setup energy consumptions,\" J. Cleaner Prod., vol. 181, pp. 584-598, Apr. 2018.'),\n",
       " Reference(position='32', id='84937830999', doi=None, title='Hybrid flow shop scheduling with notall-machines options via local search with controlled deterioration', authors='Lei, D.M.; Guo, X.P.', authors_auid=None, authors_affiliationid=None, sourcetitle='Comput. Oper. Res.', publicationyear='2016', coverDate=None, volume=None, issue=None, first=None, last=None, citedbycount=None, type=None, text='Jan.', fulltext='D. M. Lei and X. P. Guo, \"Hybrid flow shop scheduling with notall-machines options via local search with controlled deterioration,\" Comput. Oper. Res., vol. 65, pp. 76-82, Jan. 2016.'),\n",
       " Reference(position='33', id='85033375770', doi=None, title='Efficient heuristics for the hybrid flow shop scheduling problem with missing operations', authors='Dios, M.; Fernandez-Viagas, V.; Framinan, J.M.', authors_auid=None, authors_affiliationid=None, sourcetitle='Comput. Ind. Eng.', publicationyear='2018', coverDate=None, volume=None, issue=None, first=None, last=None, citedbycount=None, type=None, text='Jan.', fulltext='M. Dios, V. Fernandez-Viagas, and J. M. Framinan, \"Efficient heuristics for the hybrid flow shop scheduling problem with missing operations,\" Comput. Ind. Eng., vol. 115, pp. 88-99, Jan. 2018.'),\n",
       " Reference(position='34', id='85038840298', doi=None, title='A novel teaching-learning-based optimization algorithm for energy-efficient scheduling in hybrid flow shop', authors='Lei, D.M.; Gao, L.; Zheng, Y.L.', authors_auid=None, authors_affiliationid=None, sourcetitle='Ieee Trans. Eng. Manag.', publicationyear='2018', coverDate=None, volume=None, issue=None, first=None, last=None, citedbycount=None, type=None, text='May', fulltext='D. M. Lei, L. Gao, and Y. L. Zheng, \"A novel teaching-learning-based optimization algorithm for energy-efficient scheduling in hybrid flow shop,\" IEEE Trans. Eng. Manag., vol. 65, no. 2, pp. 330-340, May 2018.'),\n",
       " Reference(position='35', id='84916943064', doi=None, title='An order-based estimation of distribution algorithm for stochastic hybrid flow-shop scheduling problem', authors='Wang, S.-Y.; Wang, L.; Liu, M.; Xu, Y.', authors_auid=None, authors_affiliationid=None, sourcetitle='Int. J. Comput. Integr. Manuf.', publicationyear='2015', coverDate=None, volume=None, issue=None, first=None, last=None, citedbycount=None, type=None, text=None, fulltext='S.-Y. Wang, L. Wang, M. Liu, and Y. Xu, \"An order-based estimation of distribution algorithm for stochastic hybrid flow-shop scheduling problem,\" Int. J. Comput. Integr. Manuf., vol. 28, no. 3, pp. 307-320, 2015.'),\n",
       " Reference(position='36', id='84930088042', doi=None, title='Solving the large-scale hybrid flow shop scheduling problem with limited buffers by a hybrid artificial bee colony algorithm', authors='Li, J.-Q.; Pan, Q.-K.', authors_auid=None, authors_affiliationid=None, sourcetitle='Inf. Sci.', publicationyear='2015', coverDate=None, volume=None, issue=None, first=None, last=None, citedbycount=None, type=None, text='Sep.', fulltext='J.-Q. Li and Q.-K. Pan, \"Solving the large-scale hybrid flow shop scheduling problem with limited buffers by a hybrid artificial bee colony algorithm,\" Inf. Sci., vol. 316, pp. 487-502, Sep. 2015.'),\n",
       " Reference(position='37', id='78049233716', doi=None, title='An improved particle swarm optimization algorithm for the hybrid flowshop scheduling to minimize total weighted completion time in process industry', authors='Tang, L.X.; Wang, X.P.', authors_auid=None, authors_affiliationid=None, sourcetitle='Ieee Trans. Control Syst. Technol.', publicationyear='2010', coverDate=None, volume=None, issue=None, first=None, last=None, citedbycount=None, type=None, text='Nov.', fulltext='L. X. Tang and X. P. Wang, \"An improved particle swarm optimization algorithm for the hybrid flowshop scheduling to minimize total weighted completion time in process industry,\" IEEE Trans. Control Syst. Technol., vol. 18, no. 6, pp. 1303-1314, Nov. 2010.'),\n",
       " Reference(position='38', id='84951909365', doi=None, title='An effective co-evolutionary artificial bee colony algorithm for steelmaking-continuous casting scheduling', authors='Pan, Q.-K.', authors_auid=None, authors_affiliationid=None, sourcetitle='Eur. J. Oper. Res.', publicationyear='2016', coverDate=None, volume=None, issue=None, first=None, last=None, citedbycount=None, type=None, text=None, fulltext='Q.-K. Pan, \"An effective co-evolutionary artificial bee colony algorithm for steelmaking-continuous casting scheduling,\" Eur. J. Oper. Res., vol. 250, no. 3, pp. 702-714, 2016.'),\n",
       " Reference(position='39', id='84949976759', doi=None, title='Reliability evaluation of a hybrid flow-shop with stochastic capacity within a time constraint', authors='Lin, Y.-K.; Huang, D.-H.; Yeng, L.C.-L.', authors_auid=None, authors_affiliationid=None, sourcetitle='Ieee Trans. Rel.', publicationyear='2016', coverDate=None, volume=None, issue=None, first=None, last=None, citedbycount=None, type=None, text='Jun.', fulltext='Y.-K. Lin, D.-H. Huang, and L. C.-L. Yeng, \"Reliability evaluation of a hybrid flow-shop with stochastic capacity within a time constraint,\" IEEE Trans. Rel., vol. 65, no. 2, pp. 867-877, Jun. 2016.'),\n",
       " Reference(position='40', id='84962881516', doi=None, title='An efficient scheduling method for crude oil operations in refinery with crude oil type mixing requirements', authors='Wu, N.Q.; Bai, L.P.; Zhou, M.C.', authors_auid=None, authors_affiliationid=None, sourcetitle='Ieee Trans. Syst., Man, Cybern., Syst.', publicationyear='2016', coverDate=None, volume=None, issue=None, first=None, last=None, citedbycount=None, type=None, text='Mar.', fulltext='N. Q.Wu, L. P. Bai, and M. C. Zhou, \"An efficient scheduling method for crude oil operations in refinery with crude oil type mixing requirements,\" IEEE Trans. Syst., Man, Cybern., Syst., vol. 46, no. 3, pp. 413-426, Mar. 2016.'),\n",
       " Reference(position='41', id='85019027946', doi=None, title='Optimal load scheduling of plug-in hybrid electric vehicles via weightaggregation multi-objective evolutionary algorithms', authors='Kang, Q.; Feng, S.W.; Zhou, M.C.; Ammari, A.C.; Sedraoui, K.', authors_auid=None, authors_affiliationid=None, sourcetitle='Ieee Trans. Intell. Transp. Syst.', publicationyear='2017', coverDate=None, volume=None, issue=None, first=None, last=None, citedbycount=None, type=None, text='Sep.', fulltext='Q. Kang, S. W. Feng, M. C. Zhou, A. C. Ammari, and K. Sedraoui, \"Optimal load scheduling of plug-in hybrid electric vehicles via weightaggregation multi-objective evolutionary algorithms,\" IEEE Trans. Intell. Transp. Syst., vol. 18, no. 9, pp. 2557-2568, Sep. 2017.'),\n",
       " Reference(position='42', id='85027721650', doi=None, title='A supervised learning and control method to improve particle swarm optimization algorithms', authors='Dong, W.; Zhou, M.C.', authors_auid=None, authors_affiliationid=None, sourcetitle='Ieee Trans. Syst., Man, Cybern., Syst.', publicationyear='2017', coverDate=None, volume=None, issue=None, first=None, last=None, citedbycount=None, type=None, text='Jul.', fulltext='W. Dong and M. C. Zhou, \"A supervised learning and control method to improve particle swarm optimization algorithms,\" IEEE Trans. Syst., Man, Cybern., Syst., vol. 47, no. 7, pp. 1135-1148, Jul. 2017.'),\n",
       " Reference(position='43', id='85039786079', doi='10.1109/TEVC.2017.2785351', title='Generalized multitasking for evolutionary optimization of expensive problems', authors='Ding, J.L.; Yang, C.; Jin, Y.C.; Chai, T.Y.', authors_auid=None, authors_affiliationid=None, sourcetitle='Ieee Trans. Evol. Comput.', publicationyear='2019', coverDate=None, volume=None, issue=None, first=None, last=None, citedbycount=None, type=None, text='Feb.', fulltext='J. L. Ding, C. Yang, Y. C. Jin, and T. Y. Chai, \"Generalized multitasking for evolutionary optimization of expensive problems,\" IEEE Trans. Evol. Comput., vol. 23, no. 1, pp. 44-58, Feb. 2019. doi: 10.1109/TEVC.2017.2785351.'),\n",
       " Reference(position='44', id='85014639386', doi=None, title='Pareto-optimization for scheduling of crude oil operations in refinery via genetic algorithm', authors='Hou, Y.; Wu, N.Q.; Zhou, M.C.; Li, Z.W.', authors_auid=None, authors_affiliationid=None, sourcetitle='Ieee Trans. Syst., Man, Cybern., Syst.', publicationyear='2017', coverDate=None, volume=None, issue=None, first=None, last=None, citedbycount=None, type=None, text='Mar.', fulltext='Y. Hou, N. Q. Wu, M. C. Zhou, and Z. W. Li, \"Pareto-optimization for scheduling of crude oil operations in refinery via genetic algorithm,\" IEEE Trans. Syst., Man, Cybern., Syst., vol. 47, no. 3, pp. 517-530, Mar. 2017.'),\n",
       " Reference(position='45', id='85027922529', doi=None, title='Vehicle scheduling of an urban bus line via an improved multiobjective genetic algorithm', authors='Zuo, X.Q.; Chen, C.; Tan, W.; Zhou, M.C.', authors_auid=None, authors_affiliationid=None, sourcetitle='Ieee Trans. Intell. Transp. Syst.', publicationyear='2015', coverDate=None, volume=None, issue=None, first=None, last=None, citedbycount=None, type=None, text='Apr.', fulltext='X. Q. Zuo, C. Chen, W. Tan, and M. C. Zhou, \"Vehicle scheduling of an urban bus line via an improved multiobjective genetic algorithm,\" IEEE Trans. Intell. Transp. Syst., vol. 16, no. 2, pp. 1030-1041, Apr. 2015.'),\n",
       " Reference(position='46', id='85066271683', doi='10.1109/TETCI.2018.2812897', title='Dynamic evolutionary multiobjective optimization for raw ore allocation in mineral processing', authors='Ding, J.L.; Yang, C.; Xiao, Q.; Chai, T.Y.; Jin, Y.C.', authors_auid=None, authors_affiliationid=None, sourcetitle='Ieee Trans. Emerg. Topics Comput. Intell.', publicationyear='2019', coverDate=None, volume=None, issue=None, first=None, last=None, citedbycount=None, type=None, text='Feb.', fulltext='J. L. Ding, C. Yang, Q. Xiao, T. Y. Chai, and Y. C. Jin, \"Dynamic evolutionary multiobjective optimization for raw ore allocation in mineral processing,\" IEEE Trans. Emerg. Topics Comput. Intell., vol. 3, no. 1, pp. 36-48, Feb. 2019. doi: 10.1109/TETCI.2018.2812897.'),\n",
       " Reference(position='47', id='85029161024', doi='10.1109/TEVC.2017.2749619', title='An indicatorbased multiobjective evolutionary algorithm with reference point adaptation for better versatility', authors='Tian, Y.; Cheng, R.; Zhang, X.Y.; Cheng, F.; Jin, Y.C.', authors_auid=None, authors_affiliationid=None, sourcetitle='Ieee Trans. Evol. Comput.', publicationyear='2018', coverDate=None, volume=None, issue=None, first=None, last=None, citedbycount=None, type=None, text='Aug.', fulltext='Y. Tian, R. Cheng, X. Y. Zhang, F. Cheng, and Y. C. Jin, \"An indicatorbased multiobjective evolutionary algorithm with reference point adaptation for better versatility,\" IEEE Trans. Evol. Comput., vol. 22, no. 4, pp. 609-622, Aug. 2018. doi: 10.1109/TEVC.2017.2749619.'),\n",
       " Reference(position='48', id='85032450555', doi='10.1109/TEVC.2017.2767023', title='Coevolutionary multiobjective evolutionary algorithms: Survey of the state-of-The-art', authors='Antonio, L.M.; Coello Coello, C.A.', authors_auid=None, authors_affiliationid=None, sourcetitle='Ieee Trans. Evol. Comput.', publicationyear='2018', coverDate=None, volume=None, issue=None, first=None, last=None, citedbycount=None, type=None, text='Dec.', fulltext='L. M. Antonio and C. A. Coello Coello, \"Coevolutionary multiobjective evolutionary algorithms: Survey of the state-of-The-art,\" IEEE Trans. Evol. Comput., vol. 22, no. 6, pp. 851-865, Dec. 2018. doi: 10.1109/TEVC.2017.2767023.'),\n",
       " Reference(position='49', id='84967332843', doi=None, title='A multi-objective evolutionary algorithm guided by directed search for dynamic scheduling', authors='Wang, D.-J.; Liu, F.; Jin, Y.C.', authors_auid=None, authors_affiliationid=None, sourcetitle='Comput. Oper. Res.', publicationyear='2017', coverDate=None, volume=None, issue=None, first=None, last=None, citedbycount=None, type=None, text='Mar.', fulltext='D.-J. Wang, F. Liu, and Y. C. Jin, \"A multi-objective evolutionary algorithm guided by directed search for dynamic scheduling,\" Comput. Oper. Res., vol. 79, pp. 279-290, Mar. 2017.'),\n",
       " Reference(position='50', id='85029187303', doi=None, title='Multi-objective optimization of buffer allocation for remanufacturing system based on TS-NSGAII hybrid algorithm', authors='Su, C.; Shi, Y.M.; Dou, J.P.', authors_auid=None, authors_affiliationid=None, sourcetitle='J. Cleaner Prod.', publicationyear='2017', coverDate=None, volume=None, issue=None, first=None, last=None, citedbycount=None, type=None, text='Nov.', fulltext='C. Su, Y. M. Shi, and J. P. Dou, \"Multi-objective optimization of buffer allocation for remanufacturing system based on TS-NSGAII hybrid algorithm,\" J. Cleaner Prod., vol. 166, pp. 756-770, Nov. 2017.'),\n",
       " Reference(position='51', id='0036530772', doi=None, title='A fast and elitist multiobjective genetic algorithm: NSGA-II', authors='Deb, K.; Pratap, A.; Agarwal, S.; Meyarivan, T.', authors_auid=None, authors_affiliationid=None, sourcetitle='Ieee Trans. Evol. Comput.', publicationyear='2002', coverDate=None, volume=None, issue=None, first=None, last=None, citedbycount=None, type=None, text='Apr.', fulltext='K. Deb, A. Pratap, S. Agarwal, and T. Meyarivan, \"A fast and elitist multiobjective genetic algorithm: NSGA-II,\" IEEE Trans. Evol. Comput., vol. 6, no. 2, pp. 182-197, Apr. 2002.'),\n",
       " Reference(position='52', id='34548108555', doi=None, title='MOEA/D: A multiobjective evolutionary algorithm based on decomposition', authors='Zhang, Q.F.; Li, H.', authors_auid=None, authors_affiliationid=None, sourcetitle='Ieee Trans. Evol. Comput.', publicationyear='2007', coverDate=None, volume=None, issue=None, first=None, last=None, citedbycount=None, type=None, text='Dec.', fulltext='Q. F. Zhang and H. Li, \"MOEA/D: A multiobjective evolutionary algorithm based on decomposition,\" IEEE Trans. Evol. Comput., vol. 11, no. 6, pp. 712-731, Dec. 2007.'),\n",
       " Reference(position='53', id='84887023875', doi=None, title='MOEA/D-ACO: A multiobjective evolutionary algorithm using decomposition and antcolony', authors='Ke, L.; Zhang, Q.F.; Battiti, R.', authors_auid=None, authors_affiliationid=None, sourcetitle='Ieee Trans. Cybern.', publicationyear='2013', coverDate=None, volume=None, issue=None, first=None, last=None, citedbycount=None, type=None, text='Dec.', fulltext='L. Ke, Q. F. Zhang, and R. Battiti, \"MOEA/D-ACO: A multiobjective evolutionary algorithm using decomposition and antcolony,\" IEEE Trans. Cybern., vol. 43, no. 6, pp. 1845-1859, Dec. 2013.'),\n",
       " Reference(position='54', id='84962828758', doi=None, title='A multi objective optimization approach for flexible job shop scheduling problem under random machine breakdown by evolutionary algorithms', authors='Ahmadi, E.; Zandieh, M.; Farrokh, M.; Emamid, S.M.', authors_auid=None, authors_affiliationid=None, sourcetitle='Comput. Oper. Res.', publicationyear='2016', coverDate=None, volume=None, issue=None, first=None, last=None, citedbycount=None, type=None, text='Sep.', fulltext='E. Ahmadi, M. Zandieh, M. Farrokh, and S. M. Emamid, \"A multi objective optimization approach for flexible job shop scheduling problem under random machine breakdown by evolutionary algorithms,\" Comput. Oper. Res., vol. 73, pp. 56-66, Sep. 2016.'),\n",
       " Reference(position='55', id='85037555027', doi=None, title='Two-objective stochastic flow-shop scheduling with deteriorating and learning effect in industry 4.0-based manufacturing system', authors='Fu, Y.P.; Ding, J.L.; Wang, H.F.; Wang, J.W.', authors_auid=None, authors_affiliationid=None, sourcetitle='Appl. Soft Comput.', publicationyear='2018', coverDate=None, volume=None, issue=None, first=None, last=None, citedbycount=None, type=None, text='Jul.', fulltext='Y. P. Fu, J. L. Ding, H. F. Wang, and J. W. Wang, \"Two-objective stochastic flow-shop scheduling with deteriorating and learning effect in industry 4.0-based manufacturing system,\" Appl. Soft Comput., vol. 68, pp. 847-855, Jul. 2018.'),\n",
       " Reference(position='56', id='84896400157', doi=None, title='An improved NSGA-II algorithm for multi-objective lot-streaming flow shop scheduling problem', authors='Han, Y.-Y.; Gong, D.-W.; Sun, X.-Y.; Pan, Q.-K.', authors_auid=None, authors_affiliationid=None, sourcetitle='Int. J. Prod. Res.', publicationyear='2014', coverDate=None, volume=None, issue=None, first=None, last=None, citedbycount=None, type=None, text=None, fulltext='Y.-Y. Han, D.-W. Gong, X.-Y. Sun, and Q.-K. Pan, \"An improved NSGA-II algorithm for multi-objective lot-streaming flow shop scheduling problem,\" Int. J. Prod. Res., vol. 52, no. 8, pp. 2211-2231, 2014.'),\n",
       " Reference(position='57', id='85050569834', doi='10.1007/s10479-018-2969-x', title='Multi-objective genetic algorithm for energy-efficient hybrid flow shop scheduling with lot streaming', authors='Chen, T.-L.; Cheng, C.-Y.; Chou, Y.-H.', authors_auid=None, authors_affiliationid=None, sourcetitle='Ann. Oper. Res.', publicationyear='2018', coverDate=None, volume=None, issue=None, first=None, last=None, citedbycount=None, type=None, text=None, fulltext='T.-L. Chen, C.-Y. Cheng, and Y.-H. Chou, \"Multi-objective genetic algorithm for energy-efficient hybrid flow shop scheduling with lot streaming,\" Ann. Oper. Res., pp. 1-24, 2018. doi: 10.1007/s10479-018-2969-x.'),\n",
       " Reference(position='58', id='85042596335', doi=None, title='A novel hybrid multiobjective artificial bee colony algorithm for blocking lot-streaming flow shop scheduling problems', authors='Gong, D.W.; Han, Y.Y.; Sun, J.Y.', authors_auid=None, authors_affiliationid=None, sourcetitle='Knowl. Based Syst.', publicationyear='2018', coverDate=None, volume=None, issue=None, first=None, last=None, citedbycount=None, type=None, text='May', fulltext='D. W. Gong, Y. Y. Han, and J. Y. Sun, \"A novel hybrid multiobjective artificial bee colony algorithm for blocking lot-streaming flow shop scheduling problems,\" Knowl. Based Syst., vol. 148, pp. 115-130, May 2018.'),\n",
       " Reference(position='59', id='84949810338', doi=None, title='A modified teaching-learningbased optimisation algorithm for bi-objective re-entrant hybrid flowshop scheduling', authors='Shen, J.-N.; Wang, L.; Zheng, H.-Y.', authors_auid=None, authors_affiliationid=None, sourcetitle='Int. J. Prod. Res.', publicationyear='2016', coverDate=None, volume=None, issue=None, first=None, last=None, citedbycount=None, type=None, text=None, fulltext='J.-N. Shen, L. Wang, and H.-Y. Zheng, \"A modified teaching-learningbased optimisation algorithm for bi-objective re-entrant hybrid flowshop scheduling,\" Int. J. Prod. Res., vol. 54, no. 12, pp. 3622-3639, 2016.'),\n",
       " Reference(position='60', id='55749105522', doi=None, title='MOEA/D for flowshop scheduling problems', authors='Chang, P.C.; Chen, S.H.; Zhang, Q.F.; Lin, J.L.', authors_auid=None, authors_affiliationid=None, sourcetitle='Proc. 12th Ieee Inf. Conf. Evol. Comput. (CEC)', publicationyear='2008', coverDate=None, volume=None, issue=None, first=None, last=None, citedbycount=None, type=None, text='Hong Kong, Jun.', fulltext='P. C. Chang, S. H. Chen, Q. F. Zhang, and J. L. Lin, \"MOEA/D for flowshop scheduling problems,\" in Proc. 12th IEEE Inf. Conf. Evol. Comput. (CEC), Hong Kong, Jun. 2008, pp. 1433-1438.'),\n",
       " Reference(position='61', id='0037936618', doi=None, title='Performance assessment of multiobjective optimizers: An analysis and review', authors='Zitzler, E.; Thiele, L.; Laumanns, M.; Fonseca, C.M.; Da Fonseca, V.G.', authors_auid=None, authors_affiliationid=None, sourcetitle='Ieee Trans. Evol. Comput.', publicationyear='2003', coverDate=None, volume=None, issue=None, first=None, last=None, citedbycount=None, type=None, text='Apr.', fulltext='E. Zitzler, L. Thiele, M. Laumanns, C. M. Fonseca, and V. G. da Fonseca, \"Performance assessment of multiobjective optimizers: An analysis and review,\" IEEE Trans. Evol. Comput., vol. 7, no. 2, pp. 117-132, Apr. 2003.'),\n",
       " Reference(position='62', id='40249102027', doi=None, title='RM-MEDA: A regularity model-based multiobjective estimation of distribution algorithm', authors='Zhang, Q.F.; Zhou, A.M.; Jin, Y.C.', authors_auid=None, authors_affiliationid=None, sourcetitle='Ieee Trans. Evol. Comput.', publicationyear='2008', coverDate=None, volume=None, issue=None, first=None, last=None, citedbycount=None, type=None, text='Feb.', fulltext='Q. F. Zhang, A. M. Zhou, and Y. C. Jin, \"RM-MEDA: A regularity model-based multiobjective estimation of distribution algorithm,\" IEEE Trans. Evol. Comput., vol. 12, no. 1, pp. 41-63, Feb. 2008.')]"
      ]
     },
     "execution_count": 135,
     "metadata": {},
     "output_type": "execute_result"
    }
   ],
   "source": [
    "ret.references"
   ]
  },
  {
   "cell_type": "code",
   "execution_count": 163,
   "metadata": {},
   "outputs": [
    {
     "data": {
      "text/plain": [
       "11"
      ]
     },
     "execution_count": 163,
     "metadata": {},
     "output_type": "execute_result"
    }
   ],
   "source": [
    "len('85096785100')"
   ]
  },
  {
   "cell_type": "code",
   "execution_count": 129,
   "metadata": {},
   "outputs": [
    {
     "data": {
      "text/plain": [
       "[Reference(position='1', id='85096785100', doi=None, title='Scheduling dual-objective stochastic hybrid flow shop with deteriorating jobs via bi-population evolutionary algorithm', authors='Fu, Y.; Zhou, M.; Guo, X.; Qi, L.', authors_auid=None, authors_affiliationid=None, sourcetitle='IEEE Trans. Syst. Man Cybern.: Syst.', publicationyear='2019', coverDate=None, volume=None, issue=None, first=None, last=None, citedbycount=None, type=None, text=None, fulltext='Fu, Y., Zhou, M., Guo, X., Qi, L., Scheduling dual-objective stochastic hybrid flow shop with deteriorating jobs via bi-population evolutionary algorithm. IEEE Trans. Syst. Man Cybern.: Syst. 50:12 (2019), 5037–5048.'),\n",
       " Reference(position='2', id='85184299618', doi=None, title='Multi-objective home health care routing and scheduling with sharing service via a problem-specific knowledge-based artificial bee colony algorithm', authors='Fu, Y.; Ma, X.; Gao, K.; Li, Z.; Dong, H.', authors_auid=None, authors_affiliationid=None, sourcetitle='IEEE Trans. Intell. Transp. Syst.', publicationyear='2023', coverDate=None, volume=None, issue=None, first=None, last=None, citedbycount=None, type=None, text=None, fulltext='Fu, Y., Ma, X., Gao, K., Li, Z., Dong, H., Multi-objective home health care routing and scheduling with sharing service via a problem-specific knowledge-based artificial bee colony algorithm. IEEE Trans. Intell. Transp. Syst., 2023, 1–14.'),\n",
       " Reference(position='3', id='85168257744', doi=None, title='Scheduling eight-phase urban traffic light problems via ensemble meta-heuristics and Q-learning based local search', authors='Lin, Z.; Gao, K.; Wu, N.; Suganthan, P.N.', authors_auid=None, authors_affiliationid=None, sourcetitle='IEEE Trans. Intell. Transp. Syst.', publicationyear='2023', coverDate=None, volume=None, issue=None, first=None, last=None, citedbycount=None, type=None, text=None, fulltext='Lin, Z., Gao, K., Wu, N., Suganthan, P.N., Scheduling eight-phase urban traffic light problems via ensemble meta-heuristics and Q-learning based local search. IEEE Trans. Intell. Transp. Syst., 2023, 1–12.'),\n",
       " Reference(position='4', id='85124754265', doi=None, title='Distributed co-evolutionary memetic algorithm for distributed hybrid differentiation flowshop scheduling problem', authors='Zhang, G.; Liu, B.; Wang, L.; Yu, D.; Xing, K.', authors_auid=None, authors_affiliationid=None, sourcetitle='IEEE Trans. Evol. Comput.', publicationyear='2022', coverDate=None, volume=None, issue=None, first=None, last=None, citedbycount=None, type=None, text=None, fulltext='Zhang, G., Liu, B., Wang, L., Yu, D., Xing, K., Distributed co-evolutionary memetic algorithm for distributed hybrid differentiation flowshop scheduling problem. IEEE Trans. Evol. Comput. 26:5 (2022), 1043–1057.'),\n",
       " Reference(position='5', id='85135241268', doi=None, title='A population-based iterated greedy algorithm for distributed assembly no-wait flow-shop scheduling problem', authors='Zhao, F.; Xu, Z.; Wang, L.; Zhu, N.; Xu, T.; Jonrinaldi, J.', authors_auid=None, authors_affiliationid=None, sourcetitle='IEEE Trans. Ind. Inform.', publicationyear='2023', coverDate=None, volume=None, issue=None, first=None, last=None, citedbycount=None, type=None, text=None, fulltext='Zhao, F., Xu, Z., Wang, L., Zhu, N., Xu, T., Jonrinaldi, J., A population-based iterated greedy algorithm for distributed assembly no-wait flow-shop scheduling problem. IEEE Trans. Ind. Inform. 19:5 (2023), 6692–6705.'),\n",
       " Reference(position='6', id='85141797750', doi=None, title='Double-layer Q-learning-based joint decision-making of dual resource-constrained aircraft assembly scheduling and flexible preventive maintenance', authors='Yan, Q.; Wang, H.', authors_auid=None, authors_affiliationid=None, sourcetitle='IEEE Trans. Aerosp. Electron. Syst.', publicationyear='2022', coverDate=None, volume=None, issue=None, first=None, last=None, citedbycount=None, type=None, text=None, fulltext='Yan, Q., Wang, H., Double-layer Q-learning-based joint decision-making of dual resource-constrained aircraft assembly scheduling and flexible preventive maintenance. IEEE Trans. Aerosp. Electron. Syst. 58:6 (2022), 4938–4952.'),\n",
       " Reference(position='7', id='85133412184', doi=None, title='Constructive and composite heuristics for the 2-stage assembly scheduling problem with periodic maintenance and makespan objective', authors='Talens, C.; Fernandez-Viagas, V.; Perez-Gonzalez, P.; Costa, A.', authors_auid=None, authors_affiliationid=None, sourcetitle='Expert Syst. Appl.', publicationyear='2022', coverDate=None, volume=None, issue=None, first=None, last=None, citedbycount=None, type=None, text=None, fulltext='Talens, C., Fernandez-Viagas, V., Perez-Gonzalez, P., Costa, A., Constructive and composite heuristics for the 2-stage assembly scheduling problem with periodic maintenance and makespan objective. Expert Syst. Appl., 206, 2022, 117824.'),\n",
       " Reference(position='8', id='85028015443', doi=None, title='Review of job shop scheduling research and its new perspectives under Industry 4.0', authors='Zhang, J.; Ding, G.; Zou, Y.; Qin, S.; Fu, J.', authors_auid=None, authors_affiliationid=None, sourcetitle='J. Intell. Manuf.', publicationyear='2019', coverDate=None, volume=None, issue=None, first=None, last=None, citedbycount=None, type=None, text=None, fulltext='Zhang, J., Ding, G., Zou, Y., Qin, S., Fu, J., Review of job shop scheduling research and its new perspectives under Industry 4.0. J. Intell. Manuf. 30:4 (2019), 1809–1830.'),\n",
       " Reference(position='9', id='85126962616', doi=None, title='Public opinion dissemination with incomplete information on social network: A study based on the infectious diseases model and game theory', authors='Wu, B.; Yuan, T.; Qi, Y.; Dong, M.', authors_auid=None, authors_affiliationid=None, sourcetitle='Complex Syst. Model. Simul.', publicationyear='2021', coverDate=None, volume=None, issue=None, first=None, last=None, citedbycount=None, type=None, text=None, fulltext='Wu, B., Yuan, T., Qi, Y., Dong, M., Public opinion dissemination with incomplete information on social network: A study based on the infectious diseases model and game theory. Complex Syst. Model. Simul. 1:2 (2021), 109–121.'),\n",
       " Reference(position='10', id='85162172701', doi=None, title='A novel priority dispatch rule generation method based on graph neural network and reinforcement learning for distributed job-shop scheduling', authors='Huang, J.-P.; Gao, L.; Li, X.-Y.; Zhang, C.-J.', authors_auid=None, authors_affiliationid=None, sourcetitle='J. Manuf. Syst.', publicationyear='2023', coverDate=None, volume=None, issue=None, first=None, last=None, citedbycount=None, type=None, text=None, fulltext='Huang, J.-P., Gao, L., Li, X.-Y., Zhang, C.-J., A novel priority dispatch rule generation method based on graph neural network and reinforcement learning for distributed job-shop scheduling. J. Manuf. Syst. 69 (2023), 119–134.'),\n",
       " Reference(position='11', id='85097948147', doi=None, title='Energy-efficient scheduling of distributed flow shop with heterogeneous factories: A real-world case from automobile industry in China', authors='Lu, C.; Gao, L.; Yi, J.; Li, X.', authors_auid=None, authors_affiliationid=None, sourcetitle='IEEE Trans. Ind. Inform.', publicationyear='2021', coverDate=None, volume=None, issue=None, first=None, last=None, citedbycount=None, type=None, text=None, fulltext='Lu, C., Gao, L., Yi, J., Li, X., Energy-efficient scheduling of distributed flow shop with heterogeneous factories: A real-world case from automobile industry in China. IEEE Trans. Ind. Inform. 17:10 (2021), 6687–6696.'),\n",
       " Reference(position='12', id='85101375451', doi=None, title='Energy-efficient distributed heterogeneous welding flow shop scheduling problem using a modified MOEA/D', authors='Wang, G.; Li, X.; Gao, L.; Li, P.', authors_auid=None, authors_affiliationid=None, sourcetitle='Swarm Evol. Comput.', publicationyear='2021', coverDate=None, volume=None, issue=None, first=None, last=None, citedbycount=None, type=None, text=None, fulltext='Wang, G., Li, X., Gao, L., Li, P., Energy-efficient distributed heterogeneous welding flow shop scheduling problem using a modified MOEA/D. Swarm Evol. Comput., 62, 2021, 100858.'),\n",
       " Reference(position='13', id='85122288138', doi=None, title='A referenced iterated greedy algorithm for the distributed assembly mixed no-idle permutation flowshop scheduling problem with the total tardiness criterion', authors='Li, Y.-Z.; Pan, Q.-K.; Ruiz, R.; Sang, H.-Y.', authors_auid=None, authors_affiliationid=None, sourcetitle='Knowl.-Based Syst.', publicationyear='2022', coverDate=None, volume=None, issue=None, first=None, last=None, citedbycount=None, type=None, text=None, fulltext='Li, Y.-Z., Pan, Q.-K., Ruiz, R., Sang, H.-Y., A referenced iterated greedy algorithm for the distributed assembly mixed no-idle permutation flowshop scheduling problem with the total tardiness criterion. Knowl.-Based Syst., 239, 2022, 108036.'),\n",
       " Reference(position='14', id='85164707024', doi=None, title='A Population-based Iterated Greedy Algorithm for Distributed No-wait Flow-shop Scheduling Problem', authors='Zhao, F.; Xu, Z.; Wang, Q.', authors_auid=None, authors_affiliationid=None, sourcetitle=None, publicationyear='2023', coverDate=None, volume=None, issue=None, first=None, last=None, citedbycount=None, type=None, text='2023 26th International Conference on Computer Supported Cooperative Work in Design, CSCWD', fulltext='F. Zhao, Z. Xu, Q. Wang, A Population-based Iterated Greedy Algorithm for Distributed No-wait Flow-shop Scheduling Problem, in: 2023 26th International Conference on Computer Supported Cooperative Work in Design, CSCWD, 2023, pp. 715–720.'),\n",
       " Reference(position='15', id='85098998132', doi=None, title='A cooperative water wave optimization algorithm with reinforcement learning for the distributed assembly no-idle flowshop scheduling problem', authors='Zhao, F.; Zhang, L.; Cao, J.; Tang, J.', authors_auid=None, authors_affiliationid=None, sourcetitle='Comput. Ind. Eng.', publicationyear='2021', coverDate=None, volume=None, issue=None, first=None, last=None, citedbycount=None, type=None, text=None, fulltext='Zhao, F., Zhang, L., Cao, J., Tang, J., A cooperative water wave optimization algorithm with reinforcement learning for the distributed assembly no-idle flowshop scheduling problem. Comput. Ind. Eng., 153, 2021, 107082.'),\n",
       " Reference(position='16', id='85141645463', doi=None, title='A Pareto-based discrete jaya algorithm for multiobjective carbon-efficient distributed blocking flow shop scheduling problem', authors='Zhao, F.; Zhang, H.; Wang, L.', authors_auid=None, authors_affiliationid=None, sourcetitle='IEEE Trans. Ind. Inform.', publicationyear='2023', coverDate=None, volume=None, issue=None, first=None, last=None, citedbycount=None, type=None, text=None, fulltext='Zhao, F., Zhang, H., Wang, L., A Pareto-based discrete jaya algorithm for multiobjective carbon-efficient distributed blocking flow shop scheduling problem. IEEE Trans. Ind. Inform. 19:8 (2023), 8588–8599.'),\n",
       " Reference(position='17', id='85162669563', doi=None, title='Surprisingly popular-based adaptive memetic algorithm for energy-efficient distributed flexible job shop scheduling', authors='Li, R.; Gong, W.; Wang, L.; Lu, C.; Zhuang, X.', authors_auid=None, authors_affiliationid=None, sourcetitle='IEEE Trans. Cybern.', publicationyear='2023', coverDate=None, volume=None, issue=None, first=None, last=None, citedbycount=None, type=None, text=None, fulltext='Li, R., Gong, W., Wang, L., Lu, C., Zhuang, X., Surprisingly popular-based adaptive memetic algorithm for energy-efficient distributed flexible job shop scheduling. IEEE Trans. Cybern., 2023, 1–11.'),\n",
       " Reference(position='18', id='85099558274', doi=None, title='A survey of evolutionary algorithms for multi-objective optimization problems with irregular Pareto fronts', authors='Hua, Y.; Liu, Q.; Hao, K.; Jin, Y.', authors_auid=None, authors_affiliationid=None, sourcetitle='IEEE/CAA J. Autom. Sin.', publicationyear='2021', coverDate=None, volume=None, issue=None, first=None, last=None, citedbycount=None, type=None, text=None, fulltext='Hua, Y., Liu, Q., Hao, K., Jin, Y., A survey of evolutionary algorithms for multi-objective optimization problems with irregular Pareto fronts. IEEE/CAA J. Autom. Sin. 8:2 (2021), 303–318.'),\n",
       " Reference(position='19', id='85135635640', doi=None, title='Solving nonlinear equations systems with an enhanced reinforcement learning based differential evolution', authors='Liao, Z.; Li, S.', authors_auid=None, authors_affiliationid=None, sourcetitle='Complex Syst. Model. Simul.', publicationyear='2022', coverDate=None, volume=None, issue=None, first=None, last=None, citedbycount=None, type=None, text=None, fulltext='Liao, Z., Li, S., Solving nonlinear equations systems with an enhanced reinforcement learning based differential evolution. Complex Syst. Model. Simul. 2:1 (2022), 78–95.'),\n",
       " Reference(position='20', id='84884906840', doi=None, title='The distributed assembly permutation flowshop scheduling problem', authors='Hatami, S.; Ruiz, R.; Romano, C.', authors_auid=None, authors_affiliationid=None, sourcetitle='Int. J. Prod. Res.', publicationyear='2013', coverDate=None, volume=None, issue=None, first=None, last=None, citedbycount=None, type=None, text=None, fulltext='Hatami, S., Ruiz, R., Romano, C., The distributed assembly permutation flowshop scheduling problem. Int. J. Prod. Res. 51:17 (2013), 5292–5308.'),\n",
       " Reference(position='21', id='84969802860', doi=None, title='An estimation of distribution algorithm-based memetic algorithm for the distributed assembly permutation flow-shop scheduling problem', authors='Wang, S.-Y.; Wang, L.', authors_auid=None, authors_affiliationid=None, sourcetitle='IEEE Trans. Syst. Man Cybern.: Syst.', publicationyear='2016', coverDate=None, volume=None, issue=None, first=None, last=None, citedbycount=None, type=None, text=None, fulltext='Wang, S.-Y., Wang, L., An estimation of distribution algorithm-based memetic algorithm for the distributed assembly permutation flow-shop scheduling problem. IEEE Trans. Syst. Man Cybern.: Syst. 46:1 (2016), 139–149.'),\n",
       " Reference(position='22', id='85146883279', doi=None, title='An effective hyper heuristic-based memetic algorithm for the distributed assembly permutation flow-shop scheduling problem', authors='Song, H.-B.; Yang, Y.-H.; Lin, J.; Ye, J.-X.', authors_auid=None, authors_affiliationid=None, sourcetitle='Appl. Soft Comput.', publicationyear='2023', coverDate=None, volume=None, issue=None, first=None, last=None, citedbycount=None, type=None, text=None, fulltext='Song, H.-B., Yang, Y.-H., Lin, J., Ye, J.-X., An effective hyper heuristic-based memetic algorithm for the distributed assembly permutation flow-shop scheduling problem. Appl. Soft Comput., 135, 2023, 110022.'),\n",
       " Reference(position='23', id='85159155552', doi=None, title='Improved meta-heuristics with Q-learning for solving distributed assembly permutation flowshop scheduling problems', authors='Yu, H.; Gao, K.-Z.; Ma, Z.-F.; Pan, Y.-X.', authors_auid=None, authors_affiliationid=None, sourcetitle='Swarm Evol. Comput.', publicationyear='2023', coverDate=None, volume=None, issue=None, first=None, last=None, citedbycount=None, type=None, text=None, fulltext='Yu, H., Gao, K.-Z., Ma, Z.-F., Pan, Y.-X., Improved meta-heuristics with Q-learning for solving distributed assembly permutation flowshop scheduling problems. Swarm Evol. Comput., 80, 2023, 101335.'),\n",
       " Reference(position='24', id='85134645773', doi=None, title='A two-phase evolutionary algorithm for multi-objective distributed assembly permutation flowshop scheduling problem', authors='Huang, Y.-Y.; Pan, Q.-K.; Gao, L.; Miao, Z.-H.; Peng, C.', authors_auid=None, authors_affiliationid=None, sourcetitle='Swarm Evol. Comput.', publicationyear='2022', coverDate=None, volume=None, issue=None, first=None, last=None, citedbycount=None, type=None, text=None, fulltext='Huang, Y.-Y., Pan, Q.-K., Gao, L., Miao, Z.-H., Peng, C., A two-phase evolutionary algorithm for multi-objective distributed assembly permutation flowshop scheduling problem. Swarm Evol. Comput., 74, 2022, 101128.'),\n",
       " Reference(position='25', id='85049099952', doi=None, title='Local search methods for a distributed assembly no-idle flow shop scheduling problem', authors='Shao, W.; Pi, D.; Shao, Z.', authors_auid=None, authors_affiliationid=None, sourcetitle='IEEE Syst. J.', publicationyear='2019', coverDate=None, volume=None, issue=None, first=None, last=None, citedbycount=None, type=None, text=None, fulltext='Shao, W., Pi, D., Shao, Z., Local search methods for a distributed assembly no-idle flow shop scheduling problem. IEEE Syst. J. 13:2 (2019), 1945–1956.'),\n",
       " Reference(position='26', id='85127328583', doi=None, title='A cooperative memetic algorithm with feedback for the energy-aware distributed flow-shops with flexible assembly scheduling', authors='jing Wang, J.; Wang, L.', authors_auid=None, authors_affiliationid=None, sourcetitle='Comput. Ind. Eng.', publicationyear='2022', coverDate=None, volume=None, issue=None, first=None, last=None, citedbycount=None, type=None, text=None, fulltext='jing Wang, J., Wang, L., A cooperative memetic algorithm with feedback for the energy-aware distributed flow-shops with flexible assembly scheduling. Comput. Ind. Eng., 168, 2022, 108126.'),\n",
       " Reference(position='27', id='85086503992', doi=None, title='Memetic algorithm with meta-lamarckian learning and simplex search for distributed flexible assembly permutation flowshop scheduling problem', authors='Zhang, G.; Xing, K.; Zhang, G.; He, Z.', authors_auid=None, authors_affiliationid=None, sourcetitle='IEEE Access', publicationyear='2020', coverDate=None, volume=None, issue=None, first=None, last=None, citedbycount=None, type=None, text=None, fulltext='Zhang, G., Xing, K., Zhang, G., He, Z., Memetic algorithm with meta-lamarckian learning and simplex search for distributed flexible assembly permutation flowshop scheduling problem. IEEE Access 8 (2020), 96115–96128.'),\n",
       " Reference(position='28', id='0036530772', doi=None, title='A fast and elitist multiobjective genetic algorithm: NSGA-II', authors='Deb, K.; Pratap, A.; Agarwal, S.; Meyarivan, T.', authors_auid=None, authors_affiliationid=None, sourcetitle='IEEE Trans. Evol. Comput.', publicationyear='2002', coverDate=None, volume=None, issue=None, first=None, last=None, citedbycount=None, type=None, text=None, fulltext='Deb, K., Pratap, A., Agarwal, S., Meyarivan, T., A fast and elitist multiobjective genetic algorithm: NSGA-II. IEEE Trans. Evol. Comput. 6:2 (2002), 182–197.'),\n",
       " Reference(position='29', id='85135509239', doi=None, title='Two-stage knowledge-driven evolutionary algorithm for distributed green flexible job shop scheduling with type-2 fuzzy processing time', authors='Li, R.; Gong, W.; Wang, L.; Lu, C.; Jiang, S.', authors_auid=None, authors_affiliationid=None, sourcetitle='Swarm Evol. Comput.', publicationyear='2022', coverDate=None, volume=None, issue=None, first=None, last=None, citedbycount=None, type=None, text=None, fulltext='Li, R., Gong, W., Wang, L., Lu, C., Jiang, S., Two-stage knowledge-driven evolutionary algorithm for distributed green flexible job shop scheduling with type-2 fuzzy processing time. Swarm Evol. Comput., 74, 2022, 101139.'),\n",
       " Reference(position='30', id='85056148440', doi=None, title='A NSGA-II algorithm hybridizing local simulated-annealing operators for a bi-criteria robust job-shop scheduling problem under scenarios', authors='Wang, B.; Xie, H.; Xia, X.; Zhang, X.', authors_auid=None, authors_affiliationid=None, sourcetitle='IEEE Trans. Fuzzy Syst.', publicationyear='2019', coverDate=None, volume=None, issue=None, first=None, last=None, citedbycount=None, type=None, text=None, fulltext='Wang, B., Xie, H., Xia, X., Zhang, X., A NSGA-II algorithm hybridizing local simulated-annealing operators for a bi-criteria robust job-shop scheduling problem under scenarios. IEEE Trans. Fuzzy Syst. 27:5 (2019), 1075–1084.'),\n",
       " Reference(position='31', id='34548108555', doi=None, title='MOEA/D: A multiobjective evolutionary algorithm based on decomposition', authors='Zhang, Q.; Li, H.', authors_auid=None, authors_affiliationid=None, sourcetitle='IEEE Trans. Evol. Comput.', publicationyear='2007', coverDate=None, volume=None, issue=None, first=None, last=None, citedbycount=None, type=None, text=None, fulltext='Zhang, Q., Li, H., MOEA/D: A multiobjective evolutionary algorithm based on decomposition. IEEE Trans. Evol. Comput. 11:6 (2007), 712–731.'),\n",
       " Reference(position='32', id='85118278107', doi=None, title='An ant colony optimization behavior-based MOEA/D for distributed heterogeneous hybrid flow shop scheduling problem under nonidentical time-of-use electricity tariffs', authors='Shao, W.; Shao, Z.; Pi, D.', authors_auid=None, authors_affiliationid=None, sourcetitle='IEEE Trans. Autom. Sci. Eng.', publicationyear='2022', coverDate=None, volume=None, issue=None, first=None, last=None, citedbycount=None, type=None, text=None, fulltext='Shao, W., Shao, Z., Pi, D., An ant colony optimization behavior-based MOEA/D for distributed heterogeneous hybrid flow shop scheduling problem under nonidentical time-of-use electricity tariffs. IEEE Trans. Autom. Sci. Eng. 19:4 (2022), 3379–3394.'),\n",
       " Reference(position='33', id='85162962709', doi=None, title='Improved MOEA/D with local search for solving multi-stage distributed reentrant hybrid flow shop scheduling problem', authors='Wu, X.; Xie, Z.', authors_auid=None, authors_affiliationid=None, sourcetitle='Expert Syst. Appl.', publicationyear='2023', coverDate=None, volume=None, issue=None, first=None, last=None, citedbycount=None, type=None, text=None, fulltext='Wu, X., Xie, Z., Improved MOEA/D with local search for solving multi-stage distributed reentrant hybrid flow shop scheduling problem. Expert Syst. Appl., 232, 2023, 120893.'),\n",
       " Reference(position='34', id='85142775083', doi=None, title='An improved artificial bee colony algorithm with Q-learning for solving permutation flow-shop scheduling problems', authors='Li, H.; Gao, K.; Duan, P.-Y.; Li, J.-Q.; Zhang, L.', authors_auid=None, authors_affiliationid=None, sourcetitle='IEEE Trans. Syst. Man Cybern.: Syst.', publicationyear='2023', coverDate=None, volume=None, issue=None, first=None, last=None, citedbycount=None, type=None, text=None, fulltext='Li, H., Gao, K., Duan, P.-Y., Li, J.-Q., Zhang, L., An improved artificial bee colony algorithm with Q-learning for solving permutation flow-shop scheduling problems. IEEE Trans. Syst. Man Cybern.: Syst. 53:5 (2023), 2684–2693.'),\n",
       " Reference(position='35', id='85110296008', doi=None, title='Bi-objective grey wolf optimization algorithm combined Levy flight mechanism for the FMC green scheduling problem', authors='Zhou, B.; Lei, Y.', authors_auid=None, authors_affiliationid=None, sourcetitle='Appl. Soft Comput.', publicationyear='2021', coverDate=None, volume=None, issue=None, first=None, last=None, citedbycount=None, type=None, text=None, fulltext='Zhou, B., Lei, Y., Bi-objective grey wolf optimization algorithm combined Levy flight mechanism for the FMC green scheduling problem. Appl. Soft Comput., 111, 2021, 107717.'),\n",
       " Reference(position='36', id='85119917636', doi=None, title='Hybrid collaborative multi-objective fruit fly optimization algorithm for scheduling workflow in cloud environment', authors='Qin, S.; Pi, D.; Shao, Z.; Xu, Y.', authors_auid=None, authors_affiliationid=None, sourcetitle='Swarm Evol. Comput.', publicationyear='2022', coverDate=None, volume=None, issue=None, first=None, last=None, citedbycount=None, type=None, text=None, fulltext='Qin, S., Pi, D., Shao, Z., Xu, Y., Hybrid collaborative multi-objective fruit fly optimization algorithm for scheduling workflow in cloud environment. Swarm Evol. Comput., 68, 2022, 101008.'),\n",
       " Reference(position='37', id='85102285267', doi=None, title='An improved multi-objective whale optimization algorithm for the hybrid flow shop scheduling problem considering device dynamic reconfiguration processes', authors='Yankai, W.; Shilong, W.; Dong, L.; Chunfeng, S.; Bo, Y.', authors_auid=None, authors_affiliationid=None, sourcetitle='Expert Syst. Appl.', publicationyear='2021', coverDate=None, volume=None, issue=None, first=None, last=None, citedbycount=None, type=None, text=None, fulltext='Yankai, W., Shilong, W., Dong, L., Chunfeng, S., Bo, Y., An improved multi-objective whale optimization algorithm for the hybrid flow shop scheduling problem considering device dynamic reconfiguration processes. Expert Syst. Appl., 174, 2021, 114793.'),\n",
       " Reference(position='38', id='85130351571', doi=None, title='A reinforcement learning based RMOEA/D for bi-objective fuzzy flexible job shop scheduling', authors='Li, R.; Gong, W.; Lu, C.', authors_auid=None, authors_affiliationid=None, sourcetitle='Expert Syst. Appl.', publicationyear='2022', coverDate=None, volume=None, issue=None, first=None, last=None, citedbycount=None, type=None, text=None, fulltext='Li, R., Gong, W., Lu, C., A reinforcement learning based RMOEA/D for bi-objective fuzzy flexible job shop scheduling. Expert Syst. Appl., 203, 2022, 117380.'),\n",
       " Reference(position='39', id='85130478396', doi=None, title='A learning-based memetic algorithm for energy-efficient flexible job-shop scheduling with type-2 fuzzy processing time', authors='Li, R.; Gong, W.; Lu, C.; Wang, L.', authors_auid=None, authors_affiliationid=None, sourcetitle='IEEE Trans. Evol. Comput.', publicationyear='2023', coverDate=None, volume=None, issue=None, first=None, last=None, citedbycount=None, type=None, text=None, fulltext='Li, R., Gong, W., Lu, C., Wang, L., A learning-based memetic algorithm for energy-efficient flexible job-shop scheduling with type-2 fuzzy processing time. IEEE Trans. Evol. Comput. 27:3 (2023), 610–620.'),\n",
       " Reference(position='40', id='85160559965', doi=None, title='A novel Q-learning based variable neighborhood iterative search algorithm for solving disassembly line scheduling problems', authors='Ren, Y.; Gao, K.; Fu, Y.; Sang, H.; Li, D.; Luo, Z.', authors_auid=None, authors_affiliationid=None, sourcetitle='Swarm Evol. Comput.', publicationyear='2023', coverDate=None, volume=None, issue=None, first=None, last=None, citedbycount=None, type=None, text=None, fulltext='Ren, Y., Gao, K., Fu, Y., Sang, H., Li, D., Luo, Z., A novel Q-learning based variable neighborhood iterative search algorithm for solving disassembly line scheduling problems. Swarm Evol. Comput., 80, 2023, 101338.'),\n",
       " Reference(position='41', id='85137582306', doi=None, title='A hyperheuristic with Q-learning for the multiobjective energy-efficient distributed blocking flow shop scheduling problem', authors='Zhao, F.; Di, S.; Wang, L.', authors_auid=None, authors_affiliationid=None, sourcetitle='IEEE Trans. Cybern.', publicationyear='2023', coverDate=None, volume=None, issue=None, first=None, last=None, citedbycount=None, type=None, text=None, fulltext='Zhao, F., Di, S., Wang, L., A hyperheuristic with Q-learning for the multiobjective energy-efficient distributed blocking flow shop scheduling problem. IEEE Trans. Cybern. 53:5 (2023), 3337–3350.'),\n",
       " Reference(position='42', id='85122644877', doi=None, title='An adaptive artificial bee colony with reinforcement learning for distributed three-stage assembly scheduling with maintenance', authors='Wang, J.; Lei, D.; Cai, J.', authors_auid=None, authors_affiliationid=None, sourcetitle='Appl. Soft Comput.', publicationyear='2022', coverDate=None, volume=None, issue=None, first=None, last=None, citedbycount=None, type=None, text=None, fulltext='Wang, J., Lei, D., Cai, J., An adaptive artificial bee colony with reinforcement learning for distributed three-stage assembly scheduling with maintenance. Appl. Soft Comput., 117, 2022, 108371.'),\n",
       " Reference(position='43', id='85106881984', doi=None, title='Machine learning at the service of meta-heuristics for solving combinatorial optimization problems: A state-of-the-art', authors='Karimi-Mamaghan, M.; Mohammadi, M.; Meyer, P.; Karimi-Mamaghan, A.M.; Talbi, E.-G.', authors_auid=None, authors_affiliationid=None, sourcetitle='European J. Oper. Res.', publicationyear='2022', coverDate=None, volume=None, issue=None, first=None, last=None, citedbycount=None, type=None, text=None, fulltext='Karimi-Mamaghan, M., Mohammadi, M., Meyer, P., Karimi-Mamaghan, A.M., Talbi, E.-G., Machine learning at the service of meta-heuristics for solving combinatorial optimization problems: A state-of-the-art. European J. Oper. Res. 296:2 (2022), 393–422.'),\n",
       " Reference(position='44', id='85183824340', doi=None, title='A knowledge-guided end-to-end optimization framework based on reinforcement learning for flow shop scheduling', authors='Pan, Z.; Wang, L.; Dong, C.; Chen, J.-F.', authors_auid=None, authors_affiliationid=None, sourcetitle='IEEE Trans. Ind. Inform.', publicationyear='2023', coverDate=None, volume=None, issue=None, first=None, last=None, citedbycount=None, type=None, text=None, fulltext='Pan, Z., Wang, L., Dong, C., Chen, J.-f., A knowledge-guided end-to-end optimization framework based on reinforcement learning for flow shop scheduling. IEEE Trans. Ind. Inform., 2023, 1–9.'),\n",
       " Reference(position='45', id='85116050767', doi=None, title='Multi-objective Q-learning-based hyper-heuristic with Bi-criteria selection for energy-aware mixed shop scheduling', authors='Cheng, L.; Tang, Q.; Zhang, L.; Zhang, Z.', authors_auid=None, authors_affiliationid=None, sourcetitle='Swarm Evol. Comput.', publicationyear='2022', coverDate=None, volume=None, issue=None, first=None, last=None, citedbycount=None, type=None, text=None, fulltext='Cheng, L., Tang, Q., Zhang, L., Zhang, Z., Multi-objective Q-learning-based hyper-heuristic with Bi-criteria selection for energy-aware mixed shop scheduling. Swarm Evol. Comput., 69, 2022, 100985.'),\n",
       " Reference(position='46', id='85168798576', doi=None, title='Problem feature based meta-heuristics with Q-learning for solving urban traffic light scheduling problems', authors='Wang, L.; Gao, K.; Lin, Z.; Huang, W.; Suganthan, P.N.', authors_auid=None, authors_affiliationid=None, sourcetitle='Appl. Soft Comput.', publicationyear='2023', coverDate=None, volume=None, issue=None, first=None, last=None, citedbycount=None, type=None, text=None, fulltext='Wang, L., Gao, K., Lin, Z., Huang, W., Suganthan, P.N., Problem feature based meta-heuristics with Q-learning for solving urban traffic light scheduling problems. Appl. Soft Comput., 147, 2023, 110714.'),\n",
       " Reference(position='47', id='31744438420', doi=None, title='A faster algorithm for calculating hypervolume', authors='While, L.; Hingston, P.; Barone, L.; Huband, S.', authors_auid=None, authors_affiliationid=None, sourcetitle='IEEE Trans. Evol. Comput.', publicationyear='2006', coverDate=None, volume=None, issue=None, first=None, last=None, citedbycount=None, type=None, text=None, fulltext='While, L., Hingston, P., Barone, L., Huband, S., A faster algorithm for calculating hypervolume. IEEE Trans. Evol. Comput. 10:1 (2006), 29–38.'),\n",
       " Reference(position='48', id='85165233345', doi=None, title='Ensemble meta-heuristics and Q-learning for solving unmanned surface vessels scheduling problems', authors='Gao, M.; Gao, K.; Ma, Z.; Tang, W.', authors_auid=None, authors_affiliationid=None, sourcetitle='Swarm Evol. Comput.', publicationyear='2023', coverDate=None, volume=None, issue=None, first=None, last=None, citedbycount=None, type=None, text=None, fulltext='Gao, M., Gao, K., Ma, Z., Tang, W., Ensemble meta-heuristics and Q-learning for solving unmanned surface vessels scheduling problems. Swarm Evol. Comput., 82, 2023, 101358.'),\n",
       " Reference(position='49', id='85168798576', doi=None, title='Problem feature based meta-heuristics with Q-learning for solving urban traffic light scheduling problems', authors='Wang, L.; Gao, K.; Lin, Z.; Huang, W.; Suganthan, P.N.', authors_auid=None, authors_affiliationid=None, sourcetitle='Appl. Soft Comput.', publicationyear='2023', coverDate=None, volume=None, issue=None, first=None, last=None, citedbycount=None, type=None, text=None, fulltext='Wang, L., Gao, K., Lin, Z., Huang, W., Suganthan, P.N., Problem feature based meta-heuristics with Q-learning for solving urban traffic light scheduling problems. Appl. Soft Comput., 147, 2023, 110714.'),\n",
       " Reference(position='50', id='60349093593', doi=None, title='Heuristics for a two-stage assembly flowshop with bicriteria of maximum lateness and makespan', authors='Al-Anzi, F.S.; Allahverdi, A.', authors_auid=None, authors_affiliationid=None, sourcetitle='Comput. Oper. Res.', publicationyear='2009', coverDate=None, volume=None, issue=None, first=None, last=None, citedbycount=None, type=None, text=None, fulltext='Al-Anzi, F.S., Allahverdi, A., Heuristics for a two-stage assembly flowshop with bicriteria of maximum lateness and makespan. Comput. Oper. Res. 36:9 (2009), 2682–2689.'),\n",
       " Reference(position='51', id='85026675606', doi=None, title='Design of experiments using the taguchi approach: 16 steps to product and process improvement', authors='Nostrand, R.C.V.', authors_auid=None, authors_affiliationid=None, sourcetitle='Technometrics', publicationyear='2002', coverDate=None, volume=None, issue=None, first=None, last=None, citedbycount=None, type=None, text=None, fulltext='Nostrand, R.C.V., Design of experiments using the taguchi approach: 16 steps to product and process improvement. Technometrics, 44(3), 2002, 289.'),\n",
       " Reference(position='52', id='0034199979', doi=None, title='Comparison of multiobjective evolutionary algorithms: Empirical results', authors='Zitzler, E.; Deb, K.; Thiele, L.', authors_auid=None, authors_affiliationid=None, sourcetitle='Evol. Comput.', publicationyear='2000', coverDate=None, volume=None, issue=None, first=None, last=None, citedbycount=None, type=None, text=None, fulltext='Zitzler, E., Deb, K., Thiele, L., Comparison of multiobjective evolutionary algorithms: Empirical results. Evol. Comput. 8:2 (2000), 173–195.'),\n",
       " Reference(position='53', id='0004140075', doi=None, title='SPEA2: Improving the strength Pareto evolutionary algorithm', authors='Zitzler, E.; Laumanns, M.; Thiele, L.', authors_auid=None, authors_affiliationid=None, sourcetitle='TIK-Rep.', publicationyear='2001', coverDate=None, volume=None, issue=None, first=None, last=None, citedbycount=None, type=None, text=None, fulltext='Zitzler, E., Laumanns, M., Thiele, L., SPEA2: Improving the strength Pareto evolutionary algorithm. TIK-Rep., 103, 2001.'),\n",
       " Reference(position='54', id='85085712626', doi=None, title='What weights work for you? Adapting weights for any Pareto front shape in decomposition-based evolutionary multiobjective optimisation', authors='Li, M.; Yao, X.', authors_auid=None, authors_affiliationid=None, sourcetitle='Evol. Comput.', publicationyear='2020', coverDate=None, volume=None, issue=None, first=None, last=None, citedbycount=None, type=None, text=None, fulltext='Li, M., Yao, X., What weights work for you? Adapting weights for any Pareto front shape in decomposition-based evolutionary multiobjective optimisation. Evol. Comput. 28:2 (2020), 227–253.'),\n",
       " Reference(position='55', id='85123767401', doi=None, title='A two-stage evolutionary algorithm with balanced convergence and diversity for many-objective optimization', authors='Ming, F.; Gong, W.; Wang, L.', authors_auid=None, authors_affiliationid=None, sourcetitle='IEEE Trans. Syst. Man Cybern.: Syst.', publicationyear='2022', coverDate=None, volume=None, issue=None, first=None, last=None, citedbycount=None, type=None, text=None, fulltext='Ming, F., Gong, W., Wang, L., A two-stage evolutionary algorithm with balanced convergence and diversity for many-objective optimization. IEEE Trans. Syst. Man Cybern.: Syst. 52:10 (2022), 6222–6234.'),\n",
       " Reference(position='56', id='85152597998', doi=None, title='A Q-learning artificial bee colony for distributed assembly flow shop scheduling with factory eligibility, transportation capacity and setup time', authors='Wang, J.; Tang, H.; Lei, D.', authors_auid=None, authors_affiliationid=None, sourcetitle='Eng. Appl. Artif. Intell.', publicationyear='2023', coverDate=None, volume=None, issue=None, first=None, last=None, citedbycount=None, type=None, text=None, fulltext='Wang, J., Tang, H., Lei, D., A Q-learning artificial bee colony for distributed assembly flow shop scheduling with factory eligibility, transportation capacity and setup time. Eng. Appl. Artif. Intell., 123, 2023, 106230.'),\n",
       " Reference(position='57', id='85153575415', doi=None, title='Adaptive auxiliary task selection for multitasking-assisted constrained multi-objective optimization [feature]', authors='Ming, F.; Gong, W.; Gao, L.', authors_auid=None, authors_affiliationid=None, sourcetitle='IEEE Comput. Intell. Mag.', publicationyear='2023', coverDate=None, volume=None, issue=None, first=None, last=None, citedbycount=None, type=None, text=None, fulltext='Ming, F., Gong, W., Gao, L., Adaptive auxiliary task selection for multitasking-assisted constrained multi-objective optimization [feature]. IEEE Comput. Intell. Mag. 18:2 (2023), 18–30.')]"
      ]
     },
     "execution_count": 129,
     "metadata": {},
     "output_type": "execute_result"
    }
   ],
   "source": [
    "refs.references"
   ]
  },
  {
   "cell_type": "code",
   "execution_count": 372,
   "metadata": {},
   "outputs": [
    {
     "data": {
      "text/plain": [
       "'2020'"
      ]
     },
     "execution_count": 372,
     "metadata": {},
     "output_type": "execute_result"
    }
   ],
   "source": [
    "refs.coverDate.split('-')[0]"
   ]
  },
  {
   "cell_type": "code",
   "execution_count": 390,
   "metadata": {},
   "outputs": [],
   "source": [
    "ref = refs.references[0]"
   ]
  },
  {
   "cell_type": "code",
   "execution_count": 391,
   "metadata": {},
   "outputs": [
    {
     "data": {
      "text/plain": [
       "'Wang, J.; Ma, Y.; Zhang, L.; Gao, R.X.; Wu, D.'"
      ]
     },
     "execution_count": 391,
     "metadata": {},
     "output_type": "execute_result"
    }
   ],
   "source": [
    "ref.authors"
   ]
  },
  {
   "cell_type": "code",
   "execution_count": 375,
   "metadata": {},
   "outputs": [
    {
     "data": {
      "text/plain": [
       "['Wang, J.', 'Ma, Y.', 'Zhang, L.', 'Gao, R.X.', 'Wu, D.']"
      ]
     },
     "execution_count": 375,
     "metadata": {},
     "output_type": "execute_result"
    }
   ],
   "source": [
    "ref.authors.split('; ')"
   ]
  },
  {
   "cell_type": "code",
   "execution_count": null,
   "metadata": {},
   "outputs": [],
   "source": []
  },
  {
   "cell_type": "code",
   "execution_count": null,
   "metadata": {},
   "outputs": [],
   "source": []
  },
  {
   "cell_type": "code",
   "execution_count": 381,
   "metadata": {},
   "outputs": [
    {
     "data": {
      "text/plain": [
       "Author(auid=55582207400, indexed_name='Abidi M.H.', surname='Abidi', given_name='Mustufa Haider', affiliation='60013183')"
      ]
     },
     "execution_count": 381,
     "metadata": {},
     "output_type": "execute_result"
    }
   ],
   "source": [
    "refs.authors[0]"
   ]
  },
  {
   "cell_type": "code",
   "execution_count": 382,
   "metadata": {},
   "outputs": [
    {
     "data": {
      "text/plain": [
       "'2020-01-01'"
      ]
     },
     "execution_count": 382,
     "metadata": {},
     "output_type": "execute_result"
    }
   ],
   "source": [
    "refs.coverDate"
   ]
  },
  {
   "cell_type": "code",
   "execution_count": 387,
   "metadata": {},
   "outputs": [
    {
     "data": {
      "text/plain": [
       "'Abidi, M.H.'"
      ]
     },
     "execution_count": 387,
     "metadata": {},
     "output_type": "execute_result"
    }
   ],
   "source": [
    "', '.join(refs.authors[0].indexed_name.split(' '))"
   ]
  },
  {
   "cell_type": "code",
   "execution_count": 389,
   "metadata": {},
   "outputs": [
    {
     "data": {
      "text/plain": [
       "'Abidi, M.H.; Alkhalefah, H.; Mohammed, M.K.; Umer, U.; Qudeiri, J.E.A.'"
      ]
     },
     "execution_count": 389,
     "metadata": {},
     "output_type": "execute_result"
    }
   ],
   "source": [
    "build_author_collection(refs.authors)"
   ]
  },
  {
   "cell_type": "code",
   "execution_count": 379,
   "metadata": {},
   "outputs": [
    {
     "data": {
      "text/plain": [
       "'Abidi M.H.; Alkhalefah H.; Mohammed M.K.; Umer U.; Qudeiri J.E.A.'"
      ]
     },
     "execution_count": 379,
     "metadata": {},
     "output_type": "execute_result"
    }
   ],
   "source": [
    "'; '.join(tup)"
   ]
  },
  {
   "cell_type": "code",
   "execution_count": null,
   "metadata": {},
   "outputs": [],
   "source": []
  },
  {
   "cell_type": "code",
   "execution_count": 115,
   "metadata": {},
   "outputs": [
    {
     "data": {
      "text/plain": [
       "pybliometrics.scopus.abstract_retrieval.Author"
      ]
     },
     "execution_count": 115,
     "metadata": {},
     "output_type": "execute_result"
    }
   ],
   "source": [
    "type(refs.authors[0])"
   ]
  },
  {
   "cell_type": "code",
   "execution_count": 119,
   "metadata": {},
   "outputs": [],
   "source": []
  },
  {
   "cell_type": "code",
   "execution_count": 120,
   "metadata": {},
   "outputs": [
    {
     "data": {
      "text/plain": [
       "('Abidi M.H.', 'Alkhalefah H.', 'Mohammed M.K.', 'Umer U.', 'Qudeiri J.E.A.')"
      ]
     },
     "execution_count": 120,
     "metadata": {},
     "output_type": "execute_result"
    }
   ],
   "source": [
    "build_author_tuple(refs.authors)"
   ]
  },
  {
   "cell_type": "code",
   "execution_count": 31,
   "metadata": {},
   "outputs": [],
   "source": [
    "ref = refs.references[0]"
   ]
  },
  {
   "cell_type": "code",
   "execution_count": 32,
   "metadata": {},
   "outputs": [
    {
     "data": {
      "text/plain": [
       "'Wang, J.; Ma, Y.; Zhang, L.; Gao, R.X.; Wu, D.'"
      ]
     },
     "execution_count": 32,
     "metadata": {},
     "output_type": "execute_result"
    }
   ],
   "source": [
    "ref.authors"
   ]
  },
  {
   "cell_type": "code",
   "execution_count": null,
   "metadata": {},
   "outputs": [],
   "source": []
  },
  {
   "cell_type": "code",
   "execution_count": null,
   "metadata": {},
   "outputs": [],
   "source": []
  },
  {
   "cell_type": "code",
   "execution_count": 58,
   "metadata": {},
   "outputs": [
    {
     "data": {
      "text/plain": [
       "397"
      ]
     },
     "execution_count": 58,
     "metadata": {},
     "output_type": "execute_result"
    }
   ],
   "source": [
    "len(cit_graph.nodes)"
   ]
  },
  {
   "cell_type": "code",
   "execution_count": 44,
   "metadata": {},
   "outputs": [
    {
     "data": {
      "text/plain": [
       "423"
      ]
     },
     "execution_count": 44,
     "metadata": {},
     "output_type": "execute_result"
    }
   ],
   "source": [
    "len(known_corpus)"
   ]
  },
  {
   "cell_type": "code",
   "execution_count": 40,
   "metadata": {},
   "outputs": [
    {
     "name": "stdout",
     "output_type": "stream",
     "text": [
      "1\n",
      "2\n"
     ]
    }
   ],
   "source": [
    "for i in range(1,2+1):\n",
    "    print(i)"
   ]
  },
  {
   "cell_type": "code",
   "execution_count": 30,
   "metadata": {},
   "outputs": [],
   "source": [
    "cit_graph_iter, target_corpus, map_tuple_to_id, map_id_to_tuple = add_refs_by_depth(\n",
    "    cit_graph=cit_graph,\n",
    "    corpus=known_corpus,\n",
    "    map_tuple_to_id=map_tuple_to_id,\n",
    "    map_id_to_tuple=map_id_to_tuple,\n",
    "    target_iter_depth=1,\n",
    ")"
   ]
  },
  {
   "cell_type": "code",
   "execution_count": null,
   "metadata": {},
   "outputs": [],
   "source": []
  },
  {
   "cell_type": "code",
   "execution_count": 31,
   "metadata": {},
   "outputs": [
    {
     "data": {
      "text/plain": [
       "397"
      ]
     },
     "execution_count": 31,
     "metadata": {},
     "output_type": "execute_result"
    }
   ],
   "source": [
    "len(cit_graph_iter.nodes)"
   ]
  },
  {
   "cell_type": "code",
   "execution_count": 32,
   "metadata": {},
   "outputs": [
    {
     "data": {
      "text/plain": [
       "397"
      ]
     },
     "execution_count": 32,
     "metadata": {},
     "output_type": "execute_result"
    }
   ],
   "source": [
    "len(target_corpus)"
   ]
  },
  {
   "cell_type": "code",
   "execution_count": 33,
   "metadata": {},
   "outputs": [
    {
     "data": {
      "text/plain": [
       "{'iter_depth': 0,\n",
       " 'title': 'Optimal Scheduling of Flexible Manufacturing System Using Improved Lion-Based Hybrid Machine Learning Approach',\n",
       " 'year': '2020',\n",
       " 'doi': '10.1109/ACCESS.2020.2997663'}"
      ]
     },
     "execution_count": 33,
     "metadata": {},
     "output_type": "execute_result"
    }
   ],
   "source": [
    "cit_graph_iter.nodes[1000]"
   ]
  },
  {
   "cell_type": "code",
   "execution_count": 39,
   "metadata": {},
   "outputs": [
    {
     "data": {
      "text/plain": [
       "389"
      ]
     },
     "execution_count": 39,
     "metadata": {},
     "output_type": "execute_result"
    }
   ],
   "source": [
    "len(cit_graph_iter.edges)"
   ]
  },
  {
   "cell_type": "code",
   "execution_count": null,
   "metadata": {},
   "outputs": [],
   "source": []
  },
  {
   "cell_type": "code",
   "execution_count": null,
   "metadata": {},
   "outputs": [],
   "source": []
  },
  {
   "cell_type": "markdown",
   "metadata": {},
   "source": [
    "---"
   ]
  },
  {
   "cell_type": "code",
   "execution_count": 9,
   "metadata": {},
   "outputs": [
    {
     "name": "stdout",
     "output_type": "stream",
     "text": [
      "doi='10.1016/j.agwat.2022.107720'\n",
      "node_id_parent=1008\n",
      "type(refs)=<class 'list'>\n",
      "doi='10.1109/ACCESS.2020.2975738'\n",
      "node_id_parent=1021\n",
      "type(refs)=<class 'list'>\n",
      "doi='10.1109/ACCESS.2020.2997663'\n",
      "node_id_parent=1000\n",
      "type(refs)=<class 'list'>\n",
      "doi='10.1016/j.jmsy.2022.03.011'\n",
      "node_id_parent=1018\n",
      "type(refs)=<class 'list'>\n",
      "doi='10.3390/app13020806'\n",
      "node_id_parent=1038\n",
      "type(refs)=<class 'list'>\n",
      "doi='10.3311/PPme.20145'\n",
      "node_id_parent=1004\n",
      "type(refs)=<class 'list'>\n",
      "doi='10.3837/tiis.2021.08.016'\n",
      "node_id_parent=1006\n",
      "type(refs)=<class 'list'>\n",
      "doi='10.1109/ACCESS.2020.3007257'\n",
      "node_id_parent=1010\n",
      "type(refs)=<class 'list'>\n",
      "doi='10.1108/K-06-2013-0101'\n",
      "node_id_parent=1040\n",
      "type(refs)=<class 'list'>\n",
      "doi='10.1016/j.ijepes.2022.108225'\n",
      "node_id_parent=1007\n",
      "type(refs)=<class 'list'>\n",
      "doi='10.1016/j.eswa.2020.113405'\n",
      "node_id_parent=1039\n",
      "type(refs)=<class 'list'>\n",
      "doi='10.18280/jesa.520202'\n",
      "node_id_parent=1032\n",
      "type(refs)=<class 'list'>\n",
      "doi='10.4467/20838476SI.16.013.6194'\n",
      "node_id_parent=1027\n",
      "type(refs)=<class 'list'>\n",
      "doi='10.1080/0951192X.2019.1605199'\n",
      "node_id_parent=1023\n",
      "type(refs)=<class 'list'>\n",
      "doi='10.1016/j.engappai.2022.104868'\n",
      "node_id_parent=1031\n",
      "type(refs)=<class 'list'>\n",
      "doi='10.1111/itor.12861'\n",
      "node_id_parent=1043\n",
      "type(refs)=<class 'list'>\n",
      "doi='10.1016/j.rcim.2021.102154'\n",
      "node_id_parent=1046\n",
      "type(refs)=<class 'list'>\n",
      "doi='10.1177/0954406219838568'\n",
      "node_id_parent=1042\n",
      "type(refs)=<class 'list'>\n",
      "doi='10.1016/j.swevo.2021.100993'\n",
      "node_id_parent=1041\n",
      "type(refs)=<class 'list'>\n",
      "doi='10.1007/s10845-016-1216-z'\n",
      "node_id_parent=1048\n",
      "type(refs)=<class 'list'>\n",
      "doi='10.1007/s12652-020-02862-7'\n",
      "node_id_parent=1019\n",
      "type(refs)=<class 'list'>\n",
      "doi='10.1016/j.comnet.2022.108957'\n",
      "node_id_parent=1020\n",
      "type(refs)=<class 'list'>\n",
      "doi='10.1016/j.cie.2018.12.020'\n",
      "node_id_parent=1025\n",
      "type(refs)=<class 'list'>\n",
      "doi='10.1016/j.jom.2014.05.001'\n",
      "node_id_parent=1045\n",
      "type(refs)=<class 'list'>\n",
      "doi='10.3390/en12152993'\n",
      "node_id_parent=1002\n",
      "type(refs)=<class 'list'>\n",
      "doi='10.1080/0305215X.2016.1150470'\n",
      "node_id_parent=1047\n",
      "type(refs)=<class 'list'>\n",
      "doi='10.1016/j.engappai.2022.105749'\n",
      "node_id_parent=1003\n",
      "type(refs)=<class 'list'>\n",
      "doi='10.1007/s11042-019-08533-w'\n",
      "node_id_parent=1030\n",
      "type(refs)=<class 'list'>\n",
      "doi='10.1080/00207543.2020.1717008'\n",
      "node_id_parent=1011\n",
      "type(refs)=<class 'list'>\n",
      "doi='10.1016/j.energy.2018.10.153'\n",
      "node_id_parent=1024\n",
      "type(refs)=<class 'list'>\n",
      "doi='10.3390/app13179540'\n",
      "node_id_parent=1016\n",
      "type(refs)=<class 'list'>\n",
      "doi='10.1007/s10696-021-09437-4'\n",
      "node_id_parent=1034\n",
      "type(refs)=<class 'list'>\n",
      "doi='10.1080/0951192X.2021.1946849'\n",
      "node_id_parent=1014\n",
      "type(refs)=<class 'list'>\n",
      "doi='10.1016/j.cie.2020.106428'\n",
      "node_id_parent=1022\n",
      "type(refs)=<class 'list'>\n",
      "doi='10.1021/acs.iecr.2c02638'\n",
      "node_id_parent=1033\n",
      "type(refs)=<class 'list'>\n",
      "doi='10.5194/gmd-16-251-2023'\n",
      "node_id_parent=1037\n",
      "type(refs)=<class 'list'>\n",
      "doi='10.1016/j.jii.2024.100582'\n",
      "node_id_parent=1001\n",
      "type(refs)=<class 'list'>\n",
      "doi='10.1142/S0217984920504187'\n",
      "node_id_parent=1017\n",
      "type(refs)=<class 'list'>\n",
      "doi='10.1109/ACCESS.2019.2915948'\n",
      "node_id_parent=1049\n",
      "type(refs)=<class 'list'>\n",
      "doi='10.1007/s00704-022-03933-9'\n",
      "node_id_parent=1035\n",
      "type(refs)=<class 'list'>\n",
      "doi='10.1016/j.rcim.2022.102406'\n",
      "node_id_parent=1026\n",
      "type(refs)=<class 'list'>\n",
      "doi='10.1109/ACCESS.2020.3000781'\n",
      "node_id_parent=1013\n",
      "type(refs)=<class 'list'>\n",
      "doi='10.1504/IJAOM.2022.10052792'\n",
      "node_id_parent=1009\n",
      "type(refs)=<class 'list'>\n",
      "doi='10.1016/j.engappai.2023.107300'\n",
      "node_id_parent=1044\n",
      "type(refs)=<class 'list'>\n",
      "doi='10.1007/s10951-022-00729-7'\n",
      "node_id_parent=1005\n",
      "type(refs)=<class 'list'>\n",
      "doi='10.1108/JEIM-01-2022-0025'\n",
      "node_id_parent=1028\n",
      "type(refs)=<class 'list'>\n",
      "doi='10.1016/j.cie.2018.03.039'\n",
      "node_id_parent=1012\n",
      "type(refs)=<class 'list'>\n",
      "doi='10.1038/s41598-022-18516-x'\n",
      "node_id_parent=1036\n",
      "type(refs)=<class 'list'>\n",
      "doi='10.1145/3505558'\n",
      "node_id_parent=1015\n",
      "type(refs)=<class 'list'>\n",
      "doi='10.3390/en16196770'\n",
      "node_id_parent=1029\n",
      "type(refs)=<class 'list'>\n"
     ]
    }
   ],
   "source": [
    "iter_depth = 1\n",
    "iter_corpus = filter_iter_depth(known_corpus, 0)\n",
    "\n",
    "for paper in iter_corpus:\n",
    "    # doi is last entry of tuple\n",
    "    doi = paper[-1]\n",
    "    print(f'{doi=}')\n",
    "    \n",
    "    # skip if doi is not provided\n",
    "    if doi is None:\n",
    "        continue\n",
    "    \n",
    "    # node ID\n",
    "    node_id_parent = map_tuple_to_id[paper]\n",
    "    #print(f'{node_id_parent=}')\n",
    "    \n",
    "    \n",
    "    # obtain references\n",
    "    refs = AbstractRetrieval(identifier=doi, view='FULL', id_type='doi').references\n",
    "    # skip empty references\n",
    "    if refs is None:\n",
    "        continue\n",
    "    \n",
    "    #print(f'{type(refs)=}')\n",
    "    \n",
    "    for ref in refs:\n",
    "        title = ref.title\n",
    "        year = ref.publicationyear\n",
    "        doi = ref.doi\n",
    "        \n",
    "        if not all((title, year)):\n",
    "            #raise UserWarning(f\"{ref=} not containing title or year\")\n",
    "            # ignore references which do not contain title or year\n",
    "            continue\n",
    "        \n",
    "        entry_tuple = (iter_depth, title, year, doi)\n",
    "        \n",
    "        # check if tuple is already in corpus\n",
    "        if entry_tuple not in known_corpus:\n",
    "            # not known paper, add to corpus\n",
    "            known_corpus.add(entry_tuple)\n",
    "            map_tuple_to_id[entry_tuple] = node_id_counter\n",
    "            map_id_to_tuple[node_id_counter] = entry_tuple\n",
    "            node_id_child = node_id_counter\n",
    "        else:\n",
    "            # already known: get node ID for this tuple\n",
    "            node_id_child = map_tuple_to_id[entry_tuple]\n",
    "            #raise UserWarning(f\"{entry_tuple=} already in known corpus\")\n",
    "        \n",
    "        #map_tuple_to_id[entry_tuple] = custom_id\n",
    "        #map_id_to_tuple[custom_id] = entry_tuple\n",
    "        \n",
    "        # add child to as node\n",
    "        # NetworkX: (node ID, node_attribute_dict)\n",
    "        node_props = transform_entry_tuple_to_dict(entry_tuple=entry_tuple)\n",
    "        node = (node_id_child, node_props)\n",
    "        cit_graph.add_nodes_from([node])\n",
    "        # add edge\n",
    "        cit_graph.add_edge(node_id_parent, node_id_child)\n",
    "        \n",
    "        \n",
    "        # set up ID counter\n",
    "        node_id_counter += 1"
   ]
  },
  {
   "cell_type": "code",
   "execution_count": 89,
   "metadata": {},
   "outputs": [
    {
     "data": {
      "text/plain": [
       "2205"
      ]
     },
     "execution_count": 89,
     "metadata": {},
     "output_type": "execute_result"
    }
   ],
   "source": []
  },
  {
   "cell_type": "code",
   "execution_count": 90,
   "metadata": {},
   "outputs": [
    {
     "data": {
      "text/plain": [
       "50"
      ]
     },
     "execution_count": 90,
     "metadata": {},
     "output_type": "execute_result"
    }
   ],
   "source": [
    "len(known_corpus)"
   ]
  },
  {
   "cell_type": "code",
   "execution_count": null,
   "metadata": {},
   "outputs": [],
   "source": []
  },
  {
   "cell_type": "code",
   "execution_count": 10,
   "metadata": {},
   "outputs": [],
   "source": [
    "import uuid"
   ]
  },
  {
   "cell_type": "code",
   "execution_count": 16,
   "metadata": {},
   "outputs": [
    {
     "data": {
      "text/plain": [
       "UUID('042b417a-211a-4ca5-8b3e-0a29e8363cf4')"
      ]
     },
     "execution_count": 16,
     "metadata": {},
     "output_type": "execute_result"
    }
   ],
   "source": [
    "uuid.uuid4()"
   ]
  },
  {
   "cell_type": "code",
   "execution_count": null,
   "metadata": {},
   "outputs": [],
   "source": []
  },
  {
   "cell_type": "code",
   "execution_count": 10,
   "metadata": {},
   "outputs": [
    {
     "data": {
      "text/plain": [
       "2187"
      ]
     },
     "execution_count": 10,
     "metadata": {},
     "output_type": "execute_result"
    }
   ],
   "source": [
    "len(cit_graph.edges)"
   ]
  },
  {
   "cell_type": "code",
   "execution_count": 12,
   "metadata": {},
   "outputs": [
    {
     "data": {
      "text/plain": [
       "DiDegreeView({1000: 51, 1001: 39, 1002: 13, 1003: 57, 1004: 25, 1005: 47, 1006: 30, 1007: 39, 1008: 43, 1009: 45, 1010: 29, 1011: 15, 1012: 39, 1013: 69, 1014: 46, 1015: 34, 1016: 47, 1017: 4, 1018: 52, 1019: 32, 1020: 43, 1021: 35, 1022: 45, 1023: 85, 1024: 40, 1025: 34, 1026: 100, 1027: 10, 1028: 95, 1029: 37, 1030: 35, 1031: 62, 1032: 16, 1033: 30, 1034: 41, 1035: 47, 1036: 54, 1037: 47, 1038: 57, 1039: 100, 1040: 42, 1041: 39, 1042: 5, 1043: 26, 1044: 73, 1045: 112, 1046: 35, 1047: 20, 1048: 29, 1049: 37, 1050: 1, 1051: 1, 1052: 1, 1053: 1, 1054: 1, 1055: 1, 1056: 1, 1057: 1, 1058: 1, 1059: 1, 1060: 1, 1061: 1, 1062: 1, 1063: 1, 1064: 1, 1065: 3, 1066: 1, 1067: 1, 1068: 1, 1069: 1, 1070: 1, 1071: 1, 1072: 1, 1073: 1, 1074: 1, 1075: 1, 1076: 1, 1077: 1, 1078: 1, 1079: 1, 1080: 1, 1081: 1, 1082: 1, 1083: 1, 1084: 1, 1085: 1, 1086: 1, 1087: 1, 1088: 1, 1089: 1, 1090: 1, 1091: 1, 1092: 1, 1093: 1, 1094: 1, 1095: 1, 1096: 1, 1097: 1, 1098: 3, 1099: 1, 1100: 1, 1101: 1, 1102: 1, 1103: 1, 1105: 1, 1106: 1, 1107: 1, 1108: 1, 1109: 1, 1110: 1, 1111: 1, 1112: 1, 1113: 1, 1114: 1, 1115: 1, 1116: 1, 1117: 1, 1118: 1, 1119: 1, 1120: 1, 1121: 1, 1122: 1, 1123: 1, 1124: 1, 1125: 1, 1126: 1, 1127: 1, 1128: 1, 1129: 1, 1130: 1, 1131: 1, 1132: 1, 1133: 1, 1134: 1, 1135: 1, 1136: 1, 1137: 1, 1138: 1, 1139: 1, 1140: 1, 1141: 1, 1142: 1, 1143: 1, 1144: 1, 1145: 1, 1146: 1, 1147: 1, 1148: 1, 1149: 1, 1150: 1, 1151: 1, 1152: 1, 1153: 1, 1154: 1, 1155: 1, 1156: 1, 1157: 1, 1158: 1, 1159: 1, 1160: 1, 1161: 1, 1162: 1, 1163: 1, 1164: 1, 1165: 1, 1166: 1, 1167: 1, 1168: 1, 1169: 1, 1170: 1, 1171: 1, 1172: 1, 1173: 1, 1174: 1, 1175: 1, 1176: 1, 1177: 1, 1178: 1, 1179: 1, 1180: 1, 1181: 1, 1182: 2, 1183: 1, 1184: 1, 1185: 1, 1186: 1, 1187: 1, 1188: 1, 1189: 1, 1190: 1, 1191: 1, 1192: 1, 1193: 1, 1194: 1, 1195: 1, 1196: 1, 1197: 1, 1198: 1, 1199: 1, 1200: 1, 1201: 2, 1202: 1, 1203: 1, 1204: 1, 1205: 1, 1206: 1, 1207: 1, 1208: 1, 1209: 1, 1210: 1, 1211: 1, 1212: 1, 1213: 1, 1214: 1, 1215: 1, 1216: 1, 1217: 1, 1218: 1, 1219: 1, 1220: 1, 1221: 1, 1222: 1, 1223: 1, 1224: 1, 1225: 1, 1226: 1, 1227: 1, 1228: 1, 1229: 1, 1230: 1, 1231: 1, 1232: 1, 1233: 1, 1234: 1, 1235: 1, 1236: 1, 1237: 1, 1238: 1, 1239: 1, 1240: 1, 1241: 1, 1242: 1, 1243: 1, 1244: 1, 1245: 1, 1246: 1, 1247: 1, 1248: 1, 1249: 1, 1250: 1, 1251: 1, 1252: 1, 1253: 1, 1254: 1, 1255: 1, 1256: 1, 1257: 1, 1258: 1, 1259: 1, 1260: 1, 1261: 1, 1262: 1, 1263: 1, 1264: 1, 1265: 1, 1266: 1, 1267: 1, 1268: 1, 1269: 1, 1270: 1, 1271: 1, 1272: 1, 1273: 2, 1274: 1, 1275: 1, 1276: 1, 1277: 1, 1278: 1, 1279: 1, 1280: 1, 1281: 1, 1282: 1, 1283: 1, 1284: 1, 1285: 1, 1286: 1, 1287: 1, 1288: 1, 1289: 1, 1290: 1, 1291: 1, 1292: 1, 1293: 1, 1294: 1, 1295: 1, 1296: 1, 1297: 1, 1298: 1, 1299: 2, 1300: 1, 1301: 1, 1302: 1, 1303: 1, 1304: 1, 1305: 1, 1306: 1, 1307: 1, 1308: 1, 1309: 1, 1310: 2, 1311: 1, 1312: 1, 1313: 1, 1314: 1, 1315: 1, 1316: 1, 1317: 1, 1318: 1, 1319: 1, 1320: 1, 1321: 1, 1322: 1, 1323: 1, 1324: 1, 1325: 1, 1326: 1, 1328: 1, 1329: 1, 1330: 1, 1331: 1, 1332: 1, 1333: 1, 1334: 1, 1335: 2, 1336: 1, 1337: 1, 1338: 1, 1339: 1, 1340: 1, 1342: 1, 1343: 1, 1344: 1, 1345: 1, 1346: 1, 1347: 1, 1348: 1, 1349: 1, 1350: 1, 1351: 1, 1352: 1, 1353: 1, 1354: 1, 1355: 1, 1356: 1, 1357: 1, 1358: 1, 1359: 1, 1360: 1, 1361: 1, 1362: 1, 1363: 1, 1364: 1, 1365: 1, 1366: 1, 1367: 1, 1368: 1, 1369: 1, 1370: 1, 1371: 1, 1372: 1, 1373: 1, 1374: 1, 1375: 1, 1376: 1, 1377: 1, 1378: 1, 1379: 1, 1380: 1, 1381: 1, 1382: 1, 1383: 1, 1384: 1, 1385: 1, 1386: 1, 1387: 1, 1388: 1, 1389: 1, 1390: 1, 1391: 1, 1392: 1, 1393: 1, 1394: 1, 1395: 1, 1396: 1, 1397: 1, 1398: 1, 1399: 1, 1400: 2, 1401: 1, 1402: 1, 1403: 1, 1404: 1, 1405: 1, 1406: 1, 1407: 1, 1408: 1, 1409: 1, 1410: 1, 1411: 1, 1412: 1, 1413: 1, 1414: 1, 1415: 1, 1416: 1, 1417: 1, 1418: 1, 1419: 1, 1420: 1, 1421: 1, 1422: 1, 1423: 1, 1424: 1, 1425: 1, 1426: 1, 1427: 1, 1428: 1, 1429: 1, 1430: 1, 1431: 1, 1432: 1, 1433: 1, 1434: 1, 1435: 1, 1436: 1, 1437: 1, 1438: 1, 1439: 1, 1440: 1, 1441: 1, 1442: 1, 1443: 1, 1444: 1, 1445: 1, 1446: 1, 1447: 1, 1448: 1, 1449: 1, 1450: 1, 1451: 1, 1452: 1, 1453: 1, 1454: 1, 1455: 1, 1456: 1, 1457: 1, 1458: 1, 1459: 1, 1460: 1, 1461: 1, 1462: 1, 1463: 1, 1464: 1, 1465: 1, 1466: 1, 1467: 1, 1468: 1, 1469: 1, 1470: 1, 1471: 1, 1472: 1, 1473: 1, 1474: 1, 1475: 1, 1476: 1, 1477: 1, 1478: 1, 1479: 1, 1480: 1, 1481: 1, 1482: 1, 1483: 1, 1484: 1, 1485: 1, 1486: 1, 1487: 1, 1488: 1, 1489: 1, 1490: 1, 1491: 1, 1492: 1, 1493: 1, 1494: 1, 1495: 1, 1496: 1, 1497: 1, 1498: 1, 1499: 1, 1500: 1, 1501: 1, 1502: 1, 1503: 1, 1504: 1, 1505: 1, 1506: 1, 1507: 1, 1508: 1, 1509: 1, 1510: 1, 1511: 1, 1512: 1, 1513: 1, 1514: 1, 1515: 1, 1516: 1, 1517: 1, 1518: 1, 1519: 1, 1520: 1, 1521: 1, 1522: 1, 1523: 1, 1524: 1, 1525: 1, 1526: 1, 1527: 1, 1528: 1, 1529: 1, 1530: 1, 1531: 1, 1532: 1, 1533: 1, 1534: 1, 1535: 1, 1536: 1, 1537: 1, 1538: 1, 1539: 1, 1540: 1, 1541: 1, 1542: 1, 1543: 1, 1544: 1, 1545: 1, 1546: 1, 1547: 1, 1548: 1, 1549: 1, 1550: 1, 1551: 1, 1552: 1, 1553: 1, 1554: 1, 1555: 1, 1556: 1, 1557: 1, 1558: 1, 1559: 1, 1560: 1, 1561: 1, 1562: 1, 1563: 1, 1564: 1, 1565: 1, 1566: 1, 1567: 1, 1568: 1, 1569: 1, 1570: 1, 1571: 1, 1572: 1, 1573: 1, 1574: 1, 1575: 1, 1577: 1, 1578: 1, 1579: 1, 1580: 1, 1581: 1, 1582: 1, 1583: 1, 1584: 1, 1585: 1, 1586: 1, 1587: 1, 1588: 1, 1589: 1, 1590: 1, 1591: 1, 1592: 1, 1593: 1, 1594: 1, 1595: 1, 1596: 1, 1597: 1, 1598: 1, 1599: 1, 1600: 1, 1601: 1, 1602: 1, 1603: 1, 1604: 1, 1605: 1, 1606: 1, 1607: 1, 1608: 1, 1609: 1, 1610: 1, 1611: 1, 1612: 1, 1613: 1, 1614: 1, 1615: 1, 1616: 1, 1617: 1, 1618: 1, 1619: 1, 1620: 1, 1621: 1, 1622: 1, 1623: 1, 1624: 1, 1625: 1, 1626: 1, 1627: 1, 1628: 1, 1629: 1, 1630: 1, 1631: 1, 1632: 1, 1633: 1, 1634: 1, 1635: 1, 1636: 1, 1637: 1, 1638: 1, 1639: 1, 1640: 1, 1641: 1, 1642: 1, 1643: 1, 1644: 1, 1645: 1, 1646: 1, 1647: 1, 1648: 1, 1649: 1, 1650: 1, 1651: 1, 1652: 1, 1653: 1, 1654: 1, 1655: 1, 1656: 1, 1657: 1, 1658: 1, 1659: 1, 1660: 1, 1661: 1, 1662: 1, 1663: 1, 1664: 2, 1665: 1, 1666: 1, 1667: 1, 1668: 1, 1669: 1, 1670: 1, 1671: 1, 1672: 1, 1673: 1, 1674: 1, 1675: 1, 1676: 1, 1677: 1, 1678: 1, 1680: 1, 1681: 1, 1682: 2, 1683: 1, 1684: 1, 1685: 1, 1686: 1, 1687: 1, 1688: 2, 1689: 1, 1690: 1, 1691: 1, 1692: 1, 1693: 1, 1694: 1, 1695: 1, 1696: 3, 1697: 1, 1698: 1, 1699: 1, 1700: 1, 1701: 1, 1702: 1, 1703: 1, 1704: 1, 1705: 1, 1706: 1, 1707: 1, 1708: 1, 1709: 1, 1710: 1, 1711: 1, 1712: 2, 1713: 2, 1714: 2, 1715: 1, 1716: 1, 1717: 1, 1718: 1, 1719: 1, 1720: 1, 1721: 1, 1722: 1, 1723: 1, 1724: 2, 1725: 1, 1726: 1, 1727: 1, 1728: 1, 1729: 1, 1730: 1, 1731: 1, 1732: 1, 1733: 1, 1734: 1, 1735: 1, 1736: 1, 1737: 1, 1738: 1, 1739: 1, 1740: 1, 1741: 1, 1742: 1, 1743: 1, 1744: 1, 1745: 1, 1746: 1, 1747: 1, 1748: 1, 1749: 1, 1750: 1, 1751: 1, 1752: 1, 1753: 1, 1754: 1, 1755: 1, 1756: 1, 1757: 1, 1758: 1, 1759: 1, 1760: 1, 1761: 1, 1762: 1, 1763: 1, 1764: 1, 1765: 1, 1766: 1, 1767: 1, 1768: 1, 1769: 1, 1770: 1, 1771: 1, 1772: 1, 1773: 1, 1774: 2, 1775: 1, 1776: 1, 1777: 1, 1778: 1, 1779: 1, 1780: 1, 1781: 1, 1782: 1, 1783: 1, 1784: 1, 1785: 1, 1786: 1, 1787: 1, 1788: 1, 1789: 1, 1790: 1, 1791: 1, 1792: 1, 1793: 1, 1794: 1, 1795: 1, 1796: 1, 1797: 1, 1798: 1, 1799: 1, 1800: 1, 1801: 1, 1802: 1, 1803: 1, 1804: 1, 1805: 1, 1806: 1, 1807: 1, 1808: 1, 1809: 1, 1810: 1, 1811: 1, 1812: 1, 1813: 1, 1814: 1, 1815: 1, 1816: 1, 1817: 1, 1818: 1, 1819: 1, 1820: 1, 1821: 1, 1822: 1, 1823: 1, 1824: 1, 1825: 1, 1826: 1, 1827: 1, 1828: 1, 1829: 1, 1830: 1, 1831: 1, 1832: 1, 1833: 1, 1834: 1, 1835: 1, 1836: 1, 1837: 1, 1838: 1, 1839: 1, 1840: 1, 1841: 1, 1842: 1, 1843: 1, 1844: 1, 1845: 1, 1846: 1, 1847: 1, 1848: 1, 1849: 1, 1850: 1, 1851: 1, 1852: 1, 1853: 1, 1854: 1, 1855: 1, 1856: 1, 1857: 1, 1858: 1, 1859: 1, 1860: 1, 1861: 1, 1863: 1, 1864: 1, 1865: 1, 1866: 1, 1867: 1, 1868: 1, 1869: 1, 1870: 1, 1871: 1, 1872: 1, 1873: 1, 1874: 1, 1875: 1, 1876: 1, 1877: 1, 1878: 1, 1879: 1, 1880: 1, 1881: 1, 1882: 1, 1883: 1, 1884: 1, 1885: 1, 1886: 1, 1887: 1, 1888: 2, 1889: 1, 1890: 1, 1891: 1, 1892: 1, 1893: 1, 1894: 1, 1895: 1, 1896: 1, 1897: 1, 1898: 1, 1899: 1, 1900: 1, 1901: 1, 1902: 1, 1903: 1, 1904: 1, 1905: 1, 1906: 1, 1907: 1, 1908: 1, 1909: 1, 1910: 1, 1911: 1, 1912: 1, 1913: 1, 1914: 1, 1915: 1, 1916: 1, 1917: 1, 1918: 1, 1919: 1, 1920: 1, 1922: 1, 1923: 1, 1924: 1, 1925: 1, 1926: 1, 1927: 1, 1928: 1, 1929: 1, 1930: 1, 1931: 1, 1932: 1, 1933: 1, 1934: 1, 1935: 1, 1936: 1, 1937: 1, 1938: 1, 1939: 1, 1940: 1, 1941: 1, 1942: 1, 1943: 1, 1944: 1, 1945: 1, 1946: 1, 1947: 1, 1948: 1, 1949: 1, 1950: 1, 1951: 1, 1952: 1, 1953: 1, 1954: 1, 1955: 1, 1956: 1, 1957: 1, 1958: 1, 1959: 1, 1960: 1, 1961: 1, 1962: 1, 1963: 1, 1964: 1, 1965: 2, 1966: 1, 1967: 1, 1968: 1, 1969: 1, 1970: 1, 1971: 1, 1972: 1, 1973: 1, 1974: 1, 1975: 1, 1976: 1, 1977: 1, 1978: 1, 1979: 1, 1980: 1, 1981: 1, 1982: 1, 1983: 1, 1984: 1, 1985: 1, 1986: 1, 1987: 1, 1988: 1, 1989: 1, 1990: 1, 1991: 1, 1992: 1, 1993: 1, 1994: 1, 1995: 1, 1996: 1, 1997: 1, 1998: 1, 1999: 1, 2000: 1, 2001: 1, 2002: 1, 2003: 1, 2004: 1, 2005: 1, 2006: 1, 2007: 1, 2008: 1, 2009: 1, 2010: 1, 2011: 1, 2012: 1, 2013: 1, 2014: 1, 2015: 1, 2016: 1, 2017: 1, 2018: 1, 2019: 1, 2020: 1, 2021: 1, 2022: 1, 2023: 1, 2024: 1, 2025: 1, 2026: 1, 2027: 1, 2028: 1, 2029: 1, 2030: 1, 2031: 1, 2032: 1, 2033: 1, 2034: 1, 2035: 1, 2036: 1, 2037: 1, 2038: 1, 2039: 1, 2040: 1, 2041: 1, 2042: 1, 2043: 1, 2044: 1, 2045: 1, 2046: 1, 2047: 1, 2048: 1, 2049: 1, 2050: 1, 2051: 1, 2052: 1, 2053: 1, 2054: 1, 2055: 1, 2056: 1, 2057: 1, 2058: 1, 2059: 1, 2060: 1, 2061: 1, 2062: 1, 2063: 1, 2064: 1, 2065: 1, 2066: 1, 2067: 1, 2068: 1, 2069: 1, 2070: 1, 2071: 1, 2072: 1, 2073: 1, 2074: 1, 2075: 1, 2076: 1, 2077: 1, 2078: 1, 2079: 1, 2080: 1, 2081: 1, 2082: 1, 2083: 1, 2084: 1, 2085: 1, 2086: 1, 2087: 1, 2088: 1, 2089: 1, 2090: 1, 2091: 1, 2092: 1, 2093: 1, 2094: 1, 2095: 1, 2096: 1, 2097: 1, 2098: 1, 2099: 1, 2100: 1, 2101: 1, 2102: 1, 2103: 1, 2104: 1, 2105: 1, 2106: 1, 2107: 1, 2108: 1, 2109: 1, 2110: 1, 2111: 1, 2112: 1, 2113: 1, 2114: 1, 2115: 1, 2116: 1, 2117: 1, 2118: 1, 2119: 1, 2120: 1, 2121: 1, 2122: 1, 2123: 1, 2124: 1, 2125: 1, 2126: 1, 2127: 1, 2128: 1, 2129: 1, 2130: 1, 2131: 1, 2132: 1, 2133: 1, 2134: 1, 2135: 1, 2136: 1, 2137: 1, 2138: 1, 2139: 1, 2140: 1, 2141: 1, 2142: 1, 2143: 1, 2144: 1, 2145: 1, 2146: 1, 2147: 1, 2148: 1, 2149: 1, 2150: 1, 2151: 1, 2152: 1, 2153: 1, 2154: 1, 2155: 1, 2156: 1, 2158: 1, 2159: 1, 2160: 1, 2161: 1, 2163: 1, 2164: 1, 2165: 1, 2166: 1, 2167: 1, 2168: 1, 2169: 1, 2170: 1, 2171: 1, 2172: 1, 2173: 1, 2174: 1, 2175: 1, 2176: 1, 2177: 1, 2178: 1, 2179: 1, 2180: 1, 2181: 1, 2182: 1, 2183: 1, 2184: 1, 2185: 1, 2186: 1, 2187: 1, 2188: 1, 2189: 1, 2190: 1, 2191: 1, 2192: 1, 2193: 1, 2194: 1, 2195: 1, 2196: 1, 2197: 1, 2198: 1, 2199: 1, 2200: 1, 2201: 1, 2202: 1, 2203: 1, 2204: 1, 2205: 1, 2206: 1, 2207: 1, 2208: 1, 2209: 1, 2210: 1, 2211: 1, 2212: 1, 2213: 2, 2214: 1, 2215: 2, 2216: 2, 2217: 1, 2218: 1, 2219: 1, 2220: 1, 2221: 1, 2222: 1, 2223: 1, 2224: 1, 2225: 1, 2226: 1, 2227: 1, 2228: 1, 2229: 1, 2230: 1, 2231: 1, 2232: 1, 2233: 1, 2234: 1, 2235: 1, 2236: 1, 2237: 1, 2238: 1, 2239: 1, 2240: 1, 2241: 1, 2242: 1, 2243: 1, 2244: 1, 2245: 1, 2246: 1, 2247: 1, 2248: 1, 2249: 1, 2250: 1, 2251: 1, 2252: 1, 2253: 1, 2254: 1, 2255: 1, 2256: 1, 2257: 1, 2258: 1, 2259: 1, 2260: 1, 2261: 1, 2262: 1, 2263: 1, 2264: 1, 2265: 1, 2266: 1, 2267: 1, 2268: 1, 2269: 1, 2270: 1, 2271: 1, 2272: 1, 2273: 1, 2274: 1, 2275: 1, 2276: 1, 2277: 1, 2278: 1, 2279: 1, 2280: 1, 2281: 1, 2282: 1, 2283: 1, 2284: 1, 2285: 1, 2286: 1, 2287: 1, 2288: 1, 2289: 1, 2290: 1, 2291: 1, 2292: 1, 2293: 1, 2294: 1, 2295: 1, 2296: 1, 2297: 1, 2298: 1, 2299: 1, 2300: 1, 2301: 1, 2302: 1, 2303: 1, 2304: 1, 2305: 1, 2306: 1, 2307: 1, 2308: 1, 2309: 1, 2310: 1, 2311: 1, 2312: 1, 2313: 1, 2314: 1, 2315: 1, 2316: 1, 2317: 1, 2318: 1, 2319: 1, 2320: 1, 2321: 1, 2322: 1, 2323: 1, 2324: 1, 2325: 1, 2326: 1, 2327: 1, 2328: 1, 2329: 1, 2330: 1, 2331: 1, 2332: 1, 2334: 1, 2335: 1, 2336: 1, 2337: 1, 2338: 1, 2339: 1, 2340: 2, 2341: 1, 2342: 1, 2343: 1, 2344: 1, 2346: 1, 2347: 1, 2348: 1, 2349: 1, 2350: 1, 2351: 1, 2352: 1, 2353: 1, 2354: 1, 2355: 1, 2356: 1, 2357: 1, 2358: 1, 2359: 1, 2360: 1, 2361: 1, 2362: 1, 2363: 1, 2364: 1, 2365: 1, 2366: 1, 2367: 1, 2368: 1, 2369: 1, 2370: 1, 2371: 1, 2372: 1, 2373: 1, 2374: 1, 2376: 1, 2377: 1, 2378: 1, 2379: 1, 2381: 1, 2382: 1, 2384: 1, 2385: 1, 2386: 1, 2387: 1, 2388: 1, 2389: 1, 2390: 1, 2391: 1, 2392: 1, 2393: 1, 2394: 1, 2395: 1, 2396: 1, 2397: 1, 2398: 1, 2399: 1, 2400: 1, 2401: 1, 2402: 1, 2403: 1, 2404: 1, 2405: 1, 2406: 1, 2407: 1, 2408: 1, 2409: 1, 2410: 1, 2411: 1, 2412: 1, 2413: 1, 2414: 1, 2415: 1, 2416: 1, 2417: 1, 2418: 1, 2419: 1, 2420: 1, 2421: 1, 2422: 1, 2423: 1, 2424: 1, 2425: 1, 2426: 1, 2427: 1, 2428: 1, 2429: 1, 2430: 1, 2431: 1, 2432: 1, 2433: 1, 2434: 1, 2435: 1, 2436: 1, 2437: 1, 2438: 1, 2439: 1, 2440: 1, 2441: 1, 2442: 1, 2443: 1, 2444: 1, 2445: 1, 2446: 1, 2447: 1, 2448: 1, 2449: 1, 2450: 1, 2451: 1, 2452: 1, 2453: 1, 2454: 1, 2455: 1, 2456: 1, 2457: 1, 2458: 1, 2459: 1, 2460: 1, 2461: 1, 2462: 1, 2463: 1, 2464: 1, 2465: 1, 2467: 1, 2468: 1, 2469: 1, 2470: 1, 2471: 1, 2472: 1, 2473: 1, 2474: 1, 2475: 1, 2476: 1, 2477: 1, 2478: 1, 2479: 1, 2480: 1, 2481: 1, 2482: 1, 2483: 1, 2484: 1, 2485: 1, 2486: 1, 2487: 1, 2488: 1, 2489: 1, 2490: 1, 2491: 1, 2492: 1, 2493: 1, 2494: 1, 2495: 1, 2496: 1, 2497: 1, 2498: 1, 2499: 1, 2500: 1, 2501: 1, 2502: 1, 2503: 1, 2504: 1, 2505: 1, 2506: 1, 2507: 1, 2508: 1, 2509: 1, 2510: 1, 2511: 1, 2512: 1, 2513: 1, 2514: 1, 2515: 1, 2516: 1, 2517: 1, 2518: 1, 2519: 1, 2520: 1, 2521: 2, 2522: 1, 2523: 1, 2526: 1, 2527: 1, 2528: 1, 2529: 1, 2530: 1, 2531: 1, 2532: 1, 2533: 1, 2534: 1, 2535: 1, 2536: 1, 2537: 1, 2538: 1, 2539: 1, 2540: 1, 2541: 1, 2542: 1, 2543: 1, 2544: 1, 2545: 1, 2546: 1, 2547: 1, 2548: 1, 2549: 1, 2550: 1, 2552: 1, 2553: 1, 2554: 1, 2555: 1, 2556: 1, 2557: 1, 2558: 1, 2559: 1, 2560: 1, 2561: 1, 2562: 1, 2563: 1, 2564: 1, 2565: 1, 2566: 1, 2567: 1, 2568: 1, 2569: 1, 2571: 1, 2572: 1, 2573: 1, 2574: 1, 2575: 1, 2576: 1, 2577: 1, 2578: 1, 2579: 1, 2580: 1, 2581: 1, 2582: 1, 2583: 1, 2584: 1, 2585: 1, 2586: 1, 2587: 1, 2588: 1, 2589: 1, 2590: 1, 2591: 1, 2592: 1, 2593: 1, 2594: 1, 2595: 1, 2596: 1, 2597: 1, 2598: 1, 2599: 1, 2600: 1, 2601: 1, 2602: 1, 2603: 1, 2604: 1, 2605: 1, 2606: 1, 2607: 1, 2608: 1, 2609: 1, 2610: 1, 2611: 1, 2612: 1, 2613: 1, 2614: 1, 2615: 1, 2616: 1, 2617: 1, 2618: 1, 2619: 1, 2620: 1, 2621: 1, 2622: 1, 2623: 1, 2624: 1, 2625: 1, 2626: 1, 2627: 1, 2628: 1, 2629: 1, 2630: 1, 2631: 1, 2632: 1, 2633: 1, 2634: 1, 2635: 1, 2636: 1, 2637: 1, 2638: 1, 2639: 1, 2640: 1, 2641: 1, 2642: 1, 2643: 1, 2644: 1, 2645: 1, 2646: 1, 2647: 1, 2648: 1, 2649: 1, 2650: 1, 2651: 1, 2652: 1, 2653: 1, 2654: 1, 2655: 1, 2656: 1, 2657: 1, 2658: 1, 2659: 1, 2660: 1, 2661: 1, 2662: 1, 2663: 1, 2665: 1, 2666: 1, 2667: 1, 2668: 1, 2669: 1, 2670: 1, 2671: 1, 2672: 1, 2673: 1, 2674: 1, 2675: 1, 2676: 1, 2677: 1, 2678: 1, 2679: 1, 2680: 1, 2681: 1, 2682: 1, 2683: 1, 2684: 1, 2685: 1, 2686: 1, 2687: 1, 2688: 1, 2689: 1, 2690: 1, 2691: 1, 2692: 1, 2693: 1, 2694: 1, 2695: 1, 2696: 1, 2697: 1, 2698: 1, 2699: 1, 2700: 1, 2701: 1, 2702: 1, 2703: 1, 2704: 1, 2705: 1, 2706: 1, 2707: 1, 2708: 1, 2709: 1, 2710: 1, 2711: 1, 2712: 1, 2713: 1, 2714: 1, 2715: 1, 2716: 1, 2717: 1, 2718: 1, 2719: 1, 2720: 1, 2721: 1, 2722: 1, 2723: 1, 2724: 1, 2725: 1, 2726: 1, 2727: 1, 2728: 1, 2729: 1, 2730: 1, 2731: 1, 2732: 1, 2734: 1, 2735: 1, 2736: 1, 2737: 1, 2738: 1, 2739: 1, 2740: 1, 2741: 1, 2742: 1, 2743: 1, 2744: 1, 2745: 1, 2746: 1, 2747: 1, 2748: 1, 2749: 1, 2750: 1, 2751: 1, 2752: 1, 2753: 1, 2754: 1, 2755: 1, 2756: 1, 2757: 1, 2758: 1, 2759: 1, 2760: 1, 2761: 1, 2762: 1, 2763: 1, 2764: 1, 2765: 1, 2766: 1, 2767: 1, 2768: 1, 2769: 1, 2770: 1, 2771: 1, 2772: 1, 2773: 1, 2774: 1, 2775: 1, 2776: 1, 2778: 1, 2779: 1, 2780: 1, 2781: 1, 2782: 1, 2783: 1, 2785: 1, 2786: 1, 2787: 1, 2788: 1, 2789: 1, 2790: 1, 2791: 1, 2792: 1, 2793: 1, 2794: 1, 2795: 1, 2796: 1, 2797: 1, 2798: 1, 2799: 1, 2800: 1, 2801: 1, 2802: 1, 2803: 1, 2804: 1, 2805: 1, 2806: 1, 2807: 1, 2808: 1, 2809: 1, 2810: 1, 2812: 1, 2813: 1, 2814: 1, 2815: 1, 2816: 1, 2817: 1, 2818: 1, 2819: 1, 2820: 1, 2821: 1, 2822: 1, 2823: 1, 2824: 1, 2825: 1, 2826: 1, 2827: 1, 2828: 1, 2829: 1, 2830: 1, 2831: 1, 2832: 1, 2833: 1, 2834: 1, 2835: 1, 2836: 1, 2837: 1, 2838: 1, 2839: 1, 2840: 1, 2841: 1, 2842: 1, 2843: 1, 2844: 1, 2845: 1, 2846: 1, 2847: 1, 2848: 1, 2849: 1, 2850: 1, 2851: 1, 2852: 1, 2853: 1, 2854: 1, 2855: 1, 2856: 1, 2857: 1, 2858: 1, 2859: 1, 2860: 1, 2861: 1, 2862: 1, 2863: 1, 2864: 1, 2865: 1, 2866: 1, 2867: 1, 2868: 1, 2869: 1, 2870: 1, 2871: 1, 2872: 1, 2873: 1, 2874: 1, 2875: 1, 2876: 1, 2877: 1, 2878: 1, 2879: 1, 2880: 1, 2881: 1, 2882: 1, 2883: 1, 2884: 1, 2885: 1, 2886: 1, 2887: 1, 2888: 1, 2889: 1, 2890: 1, 2891: 1, 2892: 1, 2893: 1, 2894: 1, 2895: 1, 2896: 1, 2897: 1, 2898: 1, 2899: 1, 2900: 1, 2901: 1, 2902: 1, 2903: 1, 2904: 1, 2905: 1, 2906: 1, 2907: 1, 2908: 1, 2909: 1, 2910: 1, 2911: 1, 2912: 1, 2913: 1, 2914: 1, 2915: 1, 2916: 1, 2917: 1, 2918: 1, 2919: 1, 2920: 1, 2921: 2, 2922: 1, 2923: 1, 2924: 1, 2925: 1, 2926: 1, 2927: 1, 2928: 1, 2929: 1, 2930: 1, 2931: 1, 2932: 1, 2933: 1, 2934: 1, 2935: 1, 2936: 1, 2937: 1, 2938: 1, 2939: 1, 2940: 1, 2941: 1, 2942: 1, 2943: 1, 2944: 1, 2945: 1, 2946: 1, 2947: 1, 2948: 1, 2949: 1, 2950: 1, 2951: 1, 2952: 1, 2953: 1, 2954: 1, 2955: 1, 2956: 1, 2957: 1, 2958: 1, 2959: 1, 2960: 1, 2961: 1, 2962: 1, 2963: 1, 2964: 1, 2965: 1, 2966: 1, 2967: 1, 2968: 1, 2969: 1, 2970: 1, 2971: 1, 2972: 1, 2973: 1, 2974: 1, 2975: 1, 2976: 1, 2977: 1, 2978: 1, 2979: 1, 2980: 1, 2981: 1, 2982: 1, 2983: 1, 2984: 1, 2985: 1, 2986: 1, 2987: 1, 2988: 1, 2989: 1, 2990: 1, 2991: 1, 2992: 1, 2993: 1, 2994: 1, 2995: 1, 2996: 1, 2997: 1, 2998: 1, 2999: 1, 3000: 1, 3001: 1, 3002: 1, 3003: 1, 3004: 1, 3005: 1, 3006: 1, 3007: 1, 3008: 1, 3009: 1, 3010: 1, 3011: 1, 3012: 1, 3013: 1, 3014: 1, 3015: 1, 3016: 1, 3017: 1, 3018: 1, 3019: 1, 3020: 1, 3021: 1, 3022: 1, 3023: 1, 3024: 1, 3025: 1, 3026: 1, 3027: 1, 3028: 1, 3029: 1, 3030: 1, 3031: 1, 3032: 1, 3033: 1, 3034: 1, 3035: 1, 3036: 1, 3037: 1, 3038: 1, 3039: 1, 3040: 1, 3041: 1, 3042: 1, 3043: 1, 3044: 1, 3045: 1, 3046: 1, 3047: 1, 3048: 1, 3050: 1, 3051: 1, 3052: 1, 3053: 1, 3054: 1, 3055: 1, 3056: 1, 3057: 1, 3058: 1, 3059: 1, 3060: 1, 3061: 1, 3062: 1, 3063: 1, 3064: 1, 3065: 1, 3066: 1, 3067: 1, 3068: 1, 3069: 1, 3070: 1, 3071: 1, 3072: 1, 3073: 1, 3074: 1, 3075: 1, 3076: 1, 3077: 1, 3078: 1, 3079: 1, 3080: 1, 3081: 1, 3082: 1, 3083: 1, 3084: 1, 3085: 1, 3086: 1, 3088: 1, 3089: 1, 3090: 1, 3091: 1, 3092: 1, 3093: 1, 3094: 1, 3095: 1, 3096: 1, 3097: 1, 3098: 1, 3099: 1, 3100: 1, 3101: 1, 3102: 1, 3103: 1, 3104: 1, 3105: 1, 3106: 1, 3107: 1, 3108: 1, 3109: 1, 3111: 1, 3112: 1, 3113: 1, 3114: 1, 3115: 1, 3116: 1, 3117: 1, 3118: 1, 3119: 1, 3120: 1, 3121: 1, 3122: 1, 3123: 1, 3124: 1, 3125: 1, 3126: 1, 3127: 1, 3128: 1, 3129: 1, 3130: 1, 3131: 1, 3132: 1, 3133: 1, 3134: 1, 3135: 1, 3136: 1, 3137: 1, 3138: 1, 3139: 1, 3140: 1, 3141: 1, 3142: 1, 3143: 1, 3144: 1, 3145: 1, 3146: 1, 3147: 1, 3148: 1, 3149: 1, 3151: 1, 3152: 1, 3153: 1, 3154: 1, 3155: 1, 3156: 1, 3157: 1, 3158: 1, 3159: 1, 3160: 1, 3161: 1, 3162: 1, 3163: 1, 3164: 1, 3165: 1, 3166: 1, 3167: 1, 3168: 1, 3169: 1, 3170: 1, 3171: 1, 3172: 1, 3173: 1, 3174: 1, 3175: 1, 3176: 1, 3177: 1, 3178: 1, 3179: 1, 3180: 1, 3181: 1, 3182: 1, 3183: 1, 3184: 1, 3185: 1, 3186: 1, 3187: 1, 3188: 1, 3189: 1, 3190: 1, 3191: 1, 3192: 1, 3193: 1, 3194: 1, 3195: 1, 3196: 1, 3197: 1, 3198: 1, 3199: 1, 3200: 1, 3201: 1, 3202: 1, 3203: 1, 3204: 1, 3205: 1, 3206: 1, 3207: 1, 3208: 1, 3209: 1, 3210: 1, 3211: 1, 3212: 1, 3213: 1, 3214: 1, 3215: 1, 3216: 1, 3217: 1, 3220: 1, 3221: 1, 3222: 1, 3223: 1, 3224: 1, 3225: 1, 3226: 1, 3227: 1, 3228: 1, 3229: 1, 3230: 1, 3231: 1, 3232: 1, 3233: 1, 3234: 1, 3235: 1, 3236: 1, 3237: 1})"
      ]
     },
     "execution_count": 12,
     "metadata": {},
     "output_type": "execute_result"
    }
   ],
   "source": [
    "cit_graph.degree"
   ]
  },
  {
   "cell_type": "code",
   "execution_count": 13,
   "metadata": {},
   "outputs": [
    {
     "data": {
      "text/plain": [
       "[0,\n",
       " 2132,\n",
       " 23,\n",
       " 3,\n",
       " 1,\n",
       " 1,\n",
       " 0,\n",
       " 0,\n",
       " 0,\n",
       " 0,\n",
       " 1,\n",
       " 0,\n",
       " 0,\n",
       " 1,\n",
       " 0,\n",
       " 1,\n",
       " 1,\n",
       " 0,\n",
       " 0,\n",
       " 0,\n",
       " 1,\n",
       " 0,\n",
       " 0,\n",
       " 0,\n",
       " 0,\n",
       " 1,\n",
       " 1,\n",
       " 0,\n",
       " 0,\n",
       " 2,\n",
       " 2,\n",
       " 0,\n",
       " 1,\n",
       " 0,\n",
       " 2,\n",
       " 3,\n",
       " 0,\n",
       " 2,\n",
       " 0,\n",
       " 4,\n",
       " 1,\n",
       " 1,\n",
       " 1,\n",
       " 2,\n",
       " 0,\n",
       " 2,\n",
       " 1,\n",
       " 4,\n",
       " 0,\n",
       " 0,\n",
       " 0,\n",
       " 1,\n",
       " 1,\n",
       " 0,\n",
       " 1,\n",
       " 0,\n",
       " 0,\n",
       " 2,\n",
       " 0,\n",
       " 0,\n",
       " 0,\n",
       " 0,\n",
       " 1,\n",
       " 0,\n",
       " 0,\n",
       " 0,\n",
       " 0,\n",
       " 0,\n",
       " 0,\n",
       " 1,\n",
       " 0,\n",
       " 0,\n",
       " 0,\n",
       " 1,\n",
       " 0,\n",
       " 0,\n",
       " 0,\n",
       " 0,\n",
       " 0,\n",
       " 0,\n",
       " 0,\n",
       " 0,\n",
       " 0,\n",
       " 0,\n",
       " 0,\n",
       " 1,\n",
       " 0,\n",
       " 0,\n",
       " 0,\n",
       " 0,\n",
       " 0,\n",
       " 0,\n",
       " 0,\n",
       " 0,\n",
       " 0,\n",
       " 1,\n",
       " 0,\n",
       " 0,\n",
       " 0,\n",
       " 0,\n",
       " 2,\n",
       " 0,\n",
       " 0,\n",
       " 0,\n",
       " 0,\n",
       " 0,\n",
       " 0,\n",
       " 0,\n",
       " 0,\n",
       " 0,\n",
       " 0,\n",
       " 0,\n",
       " 1]"
      ]
     },
     "execution_count": 13,
     "metadata": {},
     "output_type": "execute_result"
    }
   ],
   "source": [
    "nx.degree_histogram(cit_graph)"
   ]
  },
  {
   "cell_type": "code",
   "execution_count": 91,
   "metadata": {},
   "outputs": [
    {
     "data": {
      "text/plain": [
       "5369"
      ]
     },
     "execution_count": 91,
     "metadata": {},
     "output_type": "execute_result"
    }
   ],
   "source": [
    "node_id_counter"
   ]
  },
  {
   "cell_type": "code",
   "execution_count": 92,
   "metadata": {},
   "outputs": [
    {
     "data": {
      "text/plain": [
       "4248"
      ]
     },
     "execution_count": 92,
     "metadata": {},
     "output_type": "execute_result"
    }
   ],
   "source": [
    "len(known_corpus)"
   ]
  },
  {
   "cell_type": "code",
   "execution_count": 183,
   "metadata": {},
   "outputs": [],
   "source": [
    "filter_corpus = filter_iter_depth(known_corpus, 1)"
   ]
  },
  {
   "cell_type": "code",
   "execution_count": 184,
   "metadata": {},
   "outputs": [
    {
     "data": {
      "text/plain": [
       "{(1,\n",
       "  'A Petri net based deadlock avoidance policy for-exible manufacturing systems with assembly operations and multiple resource acquisition',\n",
       "  '2019',\n",
       "  None),\n",
       " (1,\n",
       "  'A comparative study of feature extraction using PCA and LDA for face recognition',\n",
       "  '2011',\n",
       "  None),\n",
       " (1,\n",
       "  'A deadlock prevention policy for-exible manufacturing systems modeled with Petri nets using structural analysis',\n",
       "  '2019',\n",
       "  None),\n",
       " (1,\n",
       "  'A feature selection approach for hyperspectral image based on modi-ed ant lion optimizer',\n",
       "  '2019',\n",
       "  None),\n",
       " (1,\n",
       "  'A hybrid metaheuristic solution approach for the cobot assignment and job shop scheduling problem',\n",
       "  '2022',\n",
       "  '10.1016/j.jii.2022.100350'),\n",
       " (1,\n",
       "  'A minimal supervisory structure to optimally enforce liveness on Petri net models for-exible manufacturing systems',\n",
       "  '2017',\n",
       "  None),\n",
       " (1,\n",
       "  'A next-generation hyperparameter optimization framework',\n",
       "  '2019',\n",
       "  '10.1145/3292500.3330701'),\n",
       " (1,\n",
       "  'A novel PCA-re-y based XGBoost classi-cation model for intrusion detection in networks using GPU',\n",
       "  '2020',\n",
       "  None),\n",
       " (1,\n",
       "  'A novel optimal online scheduling scheme for-exible manufacturing systems',\n",
       "  '2019',\n",
       "  None),\n",
       " (1,\n",
       "  'A reinforcement learning environment for job-shop scheduling',\n",
       "  '2021',\n",
       "  '10.48550/arXiv.2104.03760'),\n",
       " (1,\n",
       "  'A review of machine learning in dynamic scheduling of-exible manufacturing systems',\n",
       "  '2001',\n",
       "  None),\n",
       " (1,\n",
       "  'A supervised machine learning approach to data-driven simulation of resilient supplier selection in digital manufacturing',\n",
       "  '2019',\n",
       "  None),\n",
       " (1,\n",
       "  'A survey of job shop scheduling problem: the types and models',\n",
       "  '2022',\n",
       "  '10.1016/j.cor.2022.105731'),\n",
       " (1,\n",
       "  'A symmetric sine cosine algorithm with adaptive probability selection',\n",
       "  '2020',\n",
       "  None),\n",
       " (1,\n",
       "  'Aframework fora goal-drivenapproachto grouptechnology applications using conceptual clustering',\n",
       "  '1997',\n",
       "  None),\n",
       " (1,\n",
       "  'An End-to-End Deep Reinforcement Learning Approach for Job Shop Scheduling',\n",
       "  '2022',\n",
       "  '10.1109/CSCWD54268.2022.9776116'),\n",
       " (1,\n",
       "  'An ef-cient deadlock recovery policy for-exible manufacturing systems modeled with Petri nets',\n",
       "  '2019',\n",
       "  None),\n",
       " (1,\n",
       "  'An estimation of distribution algorithm for scheduling problem of-exible manufacturing systems using Petri nets',\n",
       "  '2018',\n",
       "  None),\n",
       " (1,\n",
       "  'An improved deep reinforcement learning approach for the dynamic job shop scheduling problem with random job arrivals. In Journal of Physics: conference Series',\n",
       "  '2021',\n",
       "  '10.1088/1742-6596/1848/1/012029'),\n",
       " (1,\n",
       "  'An intensify Harris hawks optimizer for numerical and engineering optimization problems',\n",
       "  '2020',\n",
       "  None),\n",
       " (1,\n",
       "  'Analysis of dimensionality reduction techniques on big data',\n",
       "  '2020',\n",
       "  None),\n",
       " (1,\n",
       "  'Analysis of performance measures of-exible manufacturing system',\n",
       "  '2012',\n",
       "  None),\n",
       " (1,\n",
       "  'Aplicación de algoritmos de aprendizaje automático a la programación de órdenes de producción en talleres de trabajo: una revisión de la literatura reciente',\n",
       "  '2020',\n",
       "  '10.37610/dyo.v0i72.588'),\n",
       " (1,\n",
       "  'Application of machine learning and rule scheduling in a job-shop production control system',\n",
       "  '2021',\n",
       "  '10.2507/IJSIMM20-2-CO10'),\n",
       " (1,\n",
       "  'Asynchronous methods for deep reinforcement learning',\n",
       "  '2016',\n",
       "  '10.48550/arXiv.1602.01783'),\n",
       " (1,\n",
       "  'Big data enabled intelligent immune system for energy ef-cient manufacturing management',\n",
       "  '2018',\n",
       "  None),\n",
       " (1,\n",
       "  'Classi-cation of potential-re outbreaks: A fuzzy modeling approach based on thermal images',\n",
       "  '2019',\n",
       "  None),\n",
       " (1,\n",
       "  \"Comments on An iterative synthesis approach to Petri net based deadlock prevention policy for-exible manufacturing systems,'\",\n",
       "  '2009',\n",
       "  None),\n",
       " (1,\n",
       "  \"Comments on Siphon-based deadlock prevention policy for-exible manufacturing systems,'\",\n",
       "  '2011',\n",
       "  None),\n",
       " (1,\n",
       "  'Data-driven Digital Twin approach for process optimization: an industry use case',\n",
       "  '2018',\n",
       "  '10.1109/BigData.2018.8622412'),\n",
       " (1,\n",
       "  'Deadlock prevention for-exible manufacturing systems via controllable siphon basis of Petri nets',\n",
       "  '2015',\n",
       "  None),\n",
       " (1,\n",
       "  'Deep Reinforcement Learning with Double Q-Learning',\n",
       "  '2016',\n",
       "  '10.1609/aaai.v30i1.10295'),\n",
       " (1, 'Deep learning', '2015', '10.1038/nature14539'),\n",
       " (1,\n",
       "  'Deep learning for smart manufacturing: Methods and applications',\n",
       "  '2018',\n",
       "  None),\n",
       " (1,\n",
       "  'Deep reinforcement learning for dynamic scheduling of a flexible job shop',\n",
       "  '2022',\n",
       "  '10.1080/00207543.2022.2058432'),\n",
       " (1,\n",
       "  'Design, implementation and evaluation of reinforcement learning for an adaptive order dispatching in job shop manufacturing systems',\n",
       "  '2019',\n",
       "  '10.1016/j.procir.2019.03.041'),\n",
       " (1,\n",
       "  'Development of a multidimensional conceptual model for job shop smart manufacturing scheduling from the Industry 4.0 perspective',\n",
       "  '2022',\n",
       "  '10.1016/j.jmsy.2022.03.011'),\n",
       " (1,\n",
       "  'Digital twin in smart manufacturing',\n",
       "  '2022',\n",
       "  '10.1016/j.jii.2021.100289'),\n",
       " (1,\n",
       "  'Dynamic job shop scheduling based on deep reinforcement learning for multi-agent manufacturing systems',\n",
       "  '2022',\n",
       "  '10.1016/j.rcim.2022.102412'),\n",
       " (1,\n",
       "  'Dynamic scheduling for flexible job shop with new job insertions by deep reinforcement learning',\n",
       "  '2020',\n",
       "  '10.1016/j.asoc.2020.106208'),\n",
       " (1,\n",
       "  'Early detection of diabetic retinopathy using PCA-re-y based deep learning model',\n",
       "  '2020',\n",
       "  None),\n",
       " (1,\n",
       "  'Exploration in deep reinforcement learning: a comprehensive survey',\n",
       "  '2021',\n",
       "  '10.48550/arXiv.2109.06668'),\n",
       " (1,\n",
       "  'Exploring the benefits of scheduling with advanced and real-time information integration in Industry 4.0: a computational study',\n",
       "  '2022',\n",
       "  '10.1016/j.jii.2021.100281'),\n",
       " (1,\n",
       "  'FMS scheduling with knowledge based genetic algorithm approach',\n",
       "  '2011',\n",
       "  None),\n",
       " (1,\n",
       "  'Flexible production systems: Automated generation of operations plans based on ISA-95 and PDDL',\n",
       "  '2019',\n",
       "  None),\n",
       " (1,\n",
       "  'General Purpose Procedures For Deterministic Scheduling',\n",
       "  '2016',\n",
       "  '10.1007/978-3-319-26580-3_14'),\n",
       " (1,\n",
       "  'Global sensitivity estimates for neural network classi-ers',\n",
       "  '2017',\n",
       "  None),\n",
       " (1, 'Grey Wolf optimizer', '2014', None),\n",
       " (1, 'Gymnasium [Computer software]', '2023', None),\n",
       " (1,\n",
       "  'Handbook of scheduling: algorithms, models, and Performance Analysis',\n",
       "  '2004',\n",
       "  None),\n",
       " (1,\n",
       "  'Image-based manufacturing analytics: Improving the accuracy of an industrial pellet classi-cation system using deep neural networks',\n",
       "  '2018',\n",
       "  None),\n",
       " (1,\n",
       "  'Introducción Al Aprendizaje Por Refuerzo profundo: Teoría y práctica En Python. Book series',\n",
       "  '2021',\n",
       "  None),\n",
       " (1,\n",
       "  'Learning to dispatch for job shop scheduling via deep reinforcement learning',\n",
       "  '2020',\n",
       "  None),\n",
       " (1,\n",
       "  'Learning-based scheduling of-exible manufacturing systems using ensemble methods',\n",
       "  '2018',\n",
       "  None),\n",
       " (1,\n",
       "  'Logistics-involved task scheduling in cloud manufacturing with offline deep reinforcement learning',\n",
       "  '2023',\n",
       "  '10.1016/j.jii.2023.100471'),\n",
       " (1,\n",
       "  'Lumbar ultrasound image feature extraction and classi-cation with support vector machine',\n",
       "  '2015',\n",
       "  None),\n",
       " (1,\n",
       "  'Machine learning for enterprises: Applications, algorithm selection, and challenges',\n",
       "  '2020',\n",
       "  None),\n",
       " (1,\n",
       "  'Manufacturing Control in Job Shop Environments with Reinforcement Learning',\n",
       "  '2021',\n",
       "  '10.5220/0010202405890597'),\n",
       " (1,\n",
       "  'Modeling distributed transportation systems composed of-exible automated guided vehicles in-exible manufacturing systems',\n",
       "  '2010',\n",
       "  None),\n",
       " (1,\n",
       "  'Modi-ed dynamic programming algorithm for optimization of total energy consumption in-exible manufacturing systems',\n",
       "  '2019',\n",
       "  None),\n",
       " (1,\n",
       "  'Network-based hybrid genetic algorithm for scheduling in FMS environments',\n",
       "  '2004',\n",
       "  None),\n",
       " (1,\n",
       "  'Non-dominated sorting biogeography-based optimization for bi-objective reentrant-exible manufacturing system scheduling',\n",
       "  '2018',\n",
       "  None),\n",
       " (1,\n",
       "  \"On further reduction of constraints in nonpure Petri net supervisors for optimal deadlock control of-exible manufacturing systems,'\",\n",
       "  '2015',\n",
       "  None),\n",
       " (1,\n",
       "  \"Optimization using lion algorithm: A biological inspiration from Lion's social behavior\",\n",
       "  '2018',\n",
       "  None),\n",
       " (1,\n",
       "  'Orthogonal least squares regression for feature extraction',\n",
       "  '2016',\n",
       "  None),\n",
       " (1,\n",
       "  'Possibilities of intelligent-exible manufacturing systems',\n",
       "  '2019',\n",
       "  None),\n",
       " (1,\n",
       "  'Proximal policy optimization algorithms',\n",
       "  '2017',\n",
       "  '10.48550/arXiv.1707.06347'),\n",
       " (1, 'RL Baselines3 Zoo. GitHub repository', '2020', None),\n",
       " (1,\n",
       "  'Real-time quality monitoring and diagnosis for manufacturing process pro-les based on deep belief networks',\n",
       "  '2019',\n",
       "  None),\n",
       " (1,\n",
       "  'Reinforcement learning for an intelligent and autonomous production control of complex job-shops under time constraints',\n",
       "  '2020',\n",
       "  '10.1007/s11740-020-00967-8'),\n",
       " (1,\n",
       "  'Reinforcement learning for online optimization of job-shop scheduling in a smart manufacturing factory',\n",
       "  '2022',\n",
       "  '10.1177/16878132221086120'),\n",
       " (1,\n",
       "  'Research on planning scheduling of-exible manufacturing system based on multi-level list algorithm',\n",
       "  '2016',\n",
       "  None),\n",
       " (1,\n",
       "  'Scheduling optimization of-exible manufacturing system using cuckoo search-based approach',\n",
       "  '2013',\n",
       "  None),\n",
       " (1, 'Simplifying particle swarm optimization', '2010', None),\n",
       " (1,\n",
       "  'Simulation of-exible manufacturing systems at the preliminary design stage',\n",
       "  '2017',\n",
       "  None),\n",
       " (1,\n",
       "  'Smart manufacturing scheduling: a literature review',\n",
       "  '2021',\n",
       "  '10.1016/j.jmsy.2021.09.011'),\n",
       " (1,\n",
       "  'Soft actor-critic: off-policy maximum entropy deep reinforcement learning with a stochastic actor',\n",
       "  '2018',\n",
       "  '10.48550/arXiv.1801.01290'),\n",
       " (1,\n",
       "  'Stable-baselines3: reliable reinforcement learning implementations',\n",
       "  '2021',\n",
       "  None),\n",
       " (1,\n",
       "  'Static resilience of large-exible engineering systems: Axiomatic design model and measures',\n",
       "  '2017',\n",
       "  None),\n",
       " (1,\n",
       "  'Study on artificial intelligence: the state of the art and future prospects',\n",
       "  '2021',\n",
       "  '10.1016/j.jii.2021.100224'),\n",
       " (1,\n",
       "  'Supervisory control of discrete event systems based on structure theory of Petri nets',\n",
       "  '1997',\n",
       "  None),\n",
       " (1,\n",
       "  'T-SNE-CUDA: GPUaccelerated t-SNE and its applications to modern data',\n",
       "  '2018',\n",
       "  None),\n",
       " (1, 'The whale optimization algorithm', '2016', None),\n",
       " (1, 'Trust Region Policy Optimization', '2015', None),\n",
       " (1,\n",
       "  'Using data-fuzzi-cation technology in small data set learning to improve FMS scheduling accuracy',\n",
       "  '2005',\n",
       "  None),\n",
       " (1,\n",
       "  'Using genetic algorithms to solve scheduling problems on-exible manufacturing systems (FMS): A literature survey, classi-cation and analysis',\n",
       "  '2014',\n",
       "  None),\n",
       " (1,\n",
       "  'Worker assignment with learning-forgetting effect in cellular manufacturing system using adaptive memetic differential search algorithm',\n",
       "  '2019',\n",
       "  None),\n",
       " (1, 'arXiv preprint', '2013', '10.48550/arXiv.1312.5602'),\n",
       " (1, 'arXiv preprint', '2015', '10.48550/arXiv.1509.02971'),\n",
       " (1, 'arXiv preprint', '2016', '10.48550/arXiv.1606.01540')}"
      ]
     },
     "execution_count": 184,
     "metadata": {},
     "output_type": "execute_result"
    }
   ],
   "source": [
    "filter_corpus"
   ]
  },
  {
   "cell_type": "code",
   "execution_count": 103,
   "metadata": {},
   "outputs": [],
   "source": [
    "ab = AbstractRetrieval(\"10.1016/j.jmsy.2021.09.011\", view='FULL', id_type='doi')"
   ]
  },
  {
   "cell_type": "code",
   "execution_count": 115,
   "metadata": {},
   "outputs": [],
   "source": [
    "ref = ab.references[1]"
   ]
  },
  {
   "cell_type": "code",
   "execution_count": 118,
   "metadata": {},
   "outputs": [
    {
     "data": {
      "text/plain": [
       "Reference(position='2', id='85115414953', doi=None, title='A metamodel for digital planning in the supply chain 4.0', authors='Serrano-Ruiz, J.C.; Mula, J.; Poler, R.', authors_auid=None, authors_affiliationid=None, sourcetitle='J Ind Inf Integr', publicationyear='2021', coverDate=None, volume=None, issue=None, first=None, last=None, citedbycount=None, type=None, text='Elsevier. Submitted for publication', fulltext='Serrano-Ruiz, J.C., Mula, J., Poler, R., A metamodel for digital planning in the supply chain 4.0. J Ind Inf Integr, 2021 Elsevier. Submitted for publication.')"
      ]
     },
     "execution_count": 118,
     "metadata": {},
     "output_type": "execute_result"
    }
   ],
   "source": [
    "ref"
   ]
  },
  {
   "cell_type": "code",
   "execution_count": 117,
   "metadata": {},
   "outputs": [
    {
     "data": {
      "text/plain": [
       "'2021'"
      ]
     },
     "execution_count": 117,
     "metadata": {},
     "output_type": "execute_result"
    }
   ],
   "source": [
    "ref.publicationyear"
   ]
  },
  {
   "cell_type": "markdown",
   "metadata": {},
   "source": [
    "- interim result: built corpus, no connections yet\n",
    "\n",
    "- add or make node out of each title\n",
    "    - NetworkX: each node must be hashable, so tuple can be used\n",
    "        - use tuple (ID, (properties)) generated by map_id_to_tuple.items()\n",
    "\n",
    "- iterate over corpus:\n",
    "    - check DOI\n",
    "        - if no DOI: continue with next entry\n",
    "    - lookup DOI in scopus\n",
    "    - obtain references\n",
    "    - build tuple out of title, year, doi\n",
    "    - check if tuple already exists"
   ]
  },
  {
   "cell_type": "code",
   "execution_count": null,
   "metadata": {},
   "outputs": [],
   "source": []
  },
  {
   "cell_type": "code",
   "execution_count": null,
   "metadata": {},
   "outputs": [],
   "source": []
  },
  {
   "cell_type": "markdown",
   "metadata": {},
   "source": [
    "- build set for current corpus (title, year)\n",
    "\n",
    "using API request to build citation tree:\n",
    "- obtain information of entry:\n",
    "    - DOI\n",
    "        - if no DOI: abort\n",
    "    - Hash out of title, publication year (tuple)\n",
    "        - hash used to identify cross links in the current corpus\n",
    "        - add hash to a set of known hashes\n",
    "- create mapping: DOI, etc. and custom identifier\n",
    "    - remember iteration depth\n",
    "    - add custom identfier to graph\n",
    "    - create mapping identifier to iteration depth\n",
    "- lookup DOI in Scopus by API call\n",
    "- get references\n",
    "    - create mapping: DOI, etc. and custom identifier\n",
    "    - remember iteration depth of children\n",
    "    - add custom identfier for children to graph\n",
    "    - create mapping identifier to iteration depth\n",
    "- create edge for parent and children\n",
    "- start again for higher iteration depth if needed"
   ]
  },
  {
   "cell_type": "code",
   "execution_count": 43,
   "metadata": {},
   "outputs": [],
   "source": [
    "s = set()\n",
    "\n",
    "s.add(('Test text', 2014, None))"
   ]
  },
  {
   "cell_type": "code",
   "execution_count": 44,
   "metadata": {},
   "outputs": [
    {
     "data": {
      "text/plain": [
       "{('Test text', 2014, None)}"
      ]
     },
     "execution_count": 44,
     "metadata": {},
     "output_type": "execute_result"
    }
   ],
   "source": [
    "s"
   ]
  },
  {
   "cell_type": "code",
   "execution_count": 49,
   "metadata": {},
   "outputs": [],
   "source": [
    "t = ('Test text', 2014, 'DOI')"
   ]
  },
  {
   "cell_type": "code",
   "execution_count": 50,
   "metadata": {},
   "outputs": [
    {
     "data": {
      "text/plain": [
       "False"
      ]
     },
     "execution_count": 50,
     "metadata": {},
     "output_type": "execute_result"
    }
   ],
   "source": [
    "t in s"
   ]
  },
  {
   "cell_type": "code",
   "execution_count": 3,
   "metadata": {},
   "outputs": [
    {
     "ename": "AttributeError",
     "evalue": "module 'bibtexparser' has no attribute 'parse_string'",
     "output_type": "error",
     "traceback": [
      "\u001b[1;31m---------------------------------------------------------------------------\u001b[0m",
      "\u001b[1;31mAttributeError\u001b[0m                            Traceback (most recent call last)",
      "Cell \u001b[1;32mIn[3], line 1\u001b[0m\n\u001b[1;32m----> 1\u001b[0m library \u001b[38;5;241m=\u001b[39m \u001b[43mbibtexparser\u001b[49m\u001b[38;5;241;43m.\u001b[39;49m\u001b[43mparse_string\u001b[49m(bibtex_str)\n",
      "\u001b[1;31mAttributeError\u001b[0m: module 'bibtexparser' has no attribute 'parse_string'"
     ]
    }
   ],
   "source": [
    "library = bibtexparser.parse_string(bibtex_str)"
   ]
  },
  {
   "cell_type": "code",
   "execution_count": 87,
   "metadata": {},
   "outputs": [
    {
     "ename": "AttributeError",
     "evalue": "module 'bibtexparser' has no attribute 'parse_string'",
     "output_type": "error",
     "traceback": [
      "\u001b[1;31m---------------------------------------------------------------------------\u001b[0m",
      "\u001b[1;31mAttributeError\u001b[0m                            Traceback (most recent call last)",
      "Cell \u001b[1;32mIn[87], line 1\u001b[0m\n\u001b[1;32m----> 1\u001b[0m \u001b[43mbibtexparser\u001b[49m\u001b[38;5;241;43m.\u001b[39;49m\u001b[43mparse_string\u001b[49m()\n",
      "\u001b[1;31mAttributeError\u001b[0m: module 'bibtexparser' has no attribute 'parse_string'"
     ]
    }
   ],
   "source": [
    "bibtexparser.parse_string()"
   ]
  },
  {
   "cell_type": "code",
   "execution_count": null,
   "metadata": {},
   "outputs": [],
   "source": []
  },
  {
   "cell_type": "code",
   "execution_count": null,
   "metadata": {},
   "outputs": [],
   "source": []
  },
  {
   "cell_type": "code",
   "execution_count": null,
   "metadata": {},
   "outputs": [],
   "source": []
  },
  {
   "cell_type": "markdown",
   "metadata": {},
   "source": [
    "# Scopus API\n",
    "\n",
    "- obtain references"
   ]
  },
  {
   "cell_type": "code",
   "execution_count": 74,
   "metadata": {},
   "outputs": [],
   "source": [
    "# Elsevier API key: 287b1e3cbf50d072df062b7ad1f73d74\n",
    "\n",
    "from pybliometrics.scopus import AbstractRetrieval"
   ]
  },
  {
   "cell_type": "code",
   "execution_count": 75,
   "metadata": {},
   "outputs": [],
   "source": [
    "ab = AbstractRetrieval(\"10.1016/j.jmsy.2021.09.011\", view='FULL')"
   ]
  },
  {
   "cell_type": "code",
   "execution_count": 76,
   "metadata": {},
   "outputs": [
    {
     "data": {
      "text/plain": [
       "'Smart manufacturing scheduling: A literature review'"
      ]
     },
     "execution_count": 76,
     "metadata": {},
     "output_type": "execute_result"
    }
   ],
   "source": [
    "ab.title"
   ]
  },
  {
   "cell_type": "code",
   "execution_count": 78,
   "metadata": {},
   "outputs": [
    {
     "data": {
      "text/plain": [
       "[Reference(position='1', id='84992957342', doi='10.1108/09600039810247524', title='The supply chain complexity triangle: uncertainty generation in the supply chain', authors='Wilding, R.', authors_auid=None, authors_affiliationid=None, sourcetitle='Int J Phys Distrib Logist Manag', publicationyear='1998', coverDate=None, volume=None, issue=None, first=None, last=None, citedbycount=None, type=None, text=None, fulltext='Wilding, R., The supply chain complexity triangle: uncertainty generation in the supply chain. Int J Phys Distrib Logist Manag 28:January 8 (1998), 599–616, 10.1108/09600039810247524.'),\n",
       " Reference(position='2', id='85115414953', doi=None, title='A metamodel for digital planning in the supply chain 4.0', authors='Serrano-Ruiz, J.C.; Mula, J.; Poler, R.', authors_auid=None, authors_affiliationid=None, sourcetitle='J Ind Inf Integr', publicationyear='2021', coverDate=None, volume=None, issue=None, first=None, last=None, citedbycount=None, type=None, text='Elsevier. Submitted for publication', fulltext='Serrano-Ruiz, J.C., Mula, J., Poler, R., A metamodel for digital planning in the supply chain 4.0. J Ind Inf Integr, 2021 Elsevier. Submitted for publication.'),\n",
       " Reference(position='3', id='84866898775', doi=None, title=None, authors='Pinedo, M.', authors_auid=None, authors_affiliationid=None, sourcetitle='Scheduling', publicationyear='2012', coverDate=None, volume=None, issue=None, first=None, last=None, citedbycount=None, type=None, text='Springer', fulltext='Pinedo, M., Scheduling, vol. 29, 2012, Springer.'),\n",
       " Reference(position='4', id='0001008727', doi='10.1016/S0278-6125(00)86628-5', title='Unifying the theory and practice of production scheduling', authors='McKay, K.N.', authors_auid=None, authors_affiliationid=None, sourcetitle='J Manuf Syst', publicationyear='1999', coverDate=None, volume=None, issue=None, first=None, last=None, citedbycount=None, type=None, text=None, fulltext='McKay, K.N., Unifying the theory and practice of production scheduling. J Manuf Syst 18:January 4 (1999), 241–255, 10.1016/S0278-6125(00)86628-5.'),\n",
       " Reference(position='5', id='85115409429', doi=None, title='Digital twin enabling intelligent scheduling in ZDM environments: an overview', authors='Serrano-Ruiz, J.C.; Mula, J.; Poler, R.', authors_auid=None, authors_affiliationid=None, sourcetitle='Lecture Notes in Management and Industrial Engineering', publicationyear='2022', coverDate=None, volume=None, issue=None, first=None, last=None, citedbycount=None, type=None, text='Springer In press', fulltext='Serrano-Ruiz, J.C., Mula, J., Poler, R., Digital twin enabling intelligent scheduling in ZDM environments: an overview. Lecture Notes in Management and Industrial Engineering, 2022, Springer In press.'),\n",
       " Reference(position='6', id='33746009770', doi=None, title='Theory of scheduling addison', authors='Conway, R.W.; Maxwell, W.L.; Miller, L.W.', authors_auid=None, authors_affiliationid=None, sourcetitle=None, publicationyear='1967', coverDate=None, volume=None, issue=None, first=None, last=None, citedbycount=None, type=None, text='Wesley Publishing Company', fulltext='Conway, R.W., Maxwell, W.L., Miller, L.W., Theory of scheduling addison. 1967, Wesley Publishing Company.'),\n",
       " Reference(position='7', id='0041974657', doi=None, title='Introduction to scheduling and sequencing', authors='Baker, K.R.', authors_auid=None, authors_affiliationid=None, sourcetitle=None, publicationyear='1974', coverDate=None, volume=None, issue=None, first=None, last=None, citedbycount=None, type=None, text='Wiley New York', fulltext='Baker, K.R., Introduction to scheduling and sequencing. 1974, Wiley, New York.'),\n",
       " Reference(position='8', id='84920960599', doi=None, title='Securing the future of German manufacturing industry: recommendations for implementing the strategic initiative INDUSTRIE 4.0', authors='Kagermann, H.; Wahlster, W.; Helbig, J.', authors_auid=None, authors_affiliationid=None, sourcetitle='Final Report Industrie', publicationyear='2013', coverDate=None, volume=None, issue=None, first=None, last=None, citedbycount=None, type=None, text='no. 0', fulltext='Kagermann, H., Wahlster, W., Helbig, J., Securing the future of German manufacturing industry: recommendations for implementing the strategic initiative INDUSTRIE 4.0. Final Report Industrie, 4, 2013 no. 0.'),\n",
       " Reference(position='9', id='85060874220', doi='10.1080/00207543.2018.1442948', title='Scheduling in production, supply chain and Industry 4.0 systems by optimal control: fundamentals, state-of-the-art and applications', authors='Dolgui, A.; Ivanov, D.; Sethi, S.P.; Sokolov, B.', authors_auid=None, authors_affiliationid=None, sourcetitle='Int J Prod Res', publicationyear='2019', coverDate=None, volume=None, issue=None, first=None, last=None, citedbycount=None, type=None, text=None, fulltext='Dolgui, A., Ivanov, D., Sethi, S.P., Sokolov, B., Scheduling in production, supply chain and Industry 4.0 systems by optimal control: fundamentals, state-of-the-art and applications. Int J Prod Res 57:January 2 (2019), 411–432, 10.1080/00207543.2018.1442948.'),\n",
       " Reference(position='10', id='85081219520', doi='10.1016/J.CIRPJ.2020.02.002', title='Characterising the digital twin: a systematic literature review', authors='Jones, D.; Snider, C.; Nassehi, A.; Yon, J.; Hicks, B.', authors_auid=None, authors_affiliationid=None, sourcetitle='Cirp J Manuf Sci Technol', publicationyear='2020', coverDate=None, volume=None, issue=None, first=None, last=None, citedbycount=None, type=None, text=None, fulltext='Jones, D., Snider, C., Nassehi, A., Yon, J., Hicks, B., Characterising the digital twin: a systematic literature review. Cirp J Manuf Sci Technol 29:May (2020), 36–52, 10.1016/J.CIRPJ.2020.02.002.'),\n",
       " Reference(position='11', id='85052915281', doi='10.1016/J.IFACOL.2018.08.474', title='Digital Twin in manufacturing: a categorical literature review and classification', authors='Kritzinger, W.; Karner, M.; Traar, G.; Henjes, J.; Sihn, W.', authors_auid=None, authors_affiliationid=None, sourcetitle='IFAC-PapersOnLine', publicationyear='2018', coverDate=None, volume=None, issue=None, first=None, last=None, citedbycount=None, type=None, text=None, fulltext='Kritzinger, W., Karner, M., Traar, G., Henjes, J., Sihn, W., Digital Twin in manufacturing: a categorical literature review and classification. IFAC-PapersOnLine 51:January 11 (2018), 1016–1022, 10.1016/J.IFACOL.2018.08.474.'),\n",
       " Reference(position='12', id='84953896713', doi='10.1016/J.IFACOL.2015.06.432', title='Robust production planning and capacity control for flexible assembly lines', authors='Gyulai, D.; Kádár, B.; Monosotori, L.', authors_auid=None, authors_affiliationid=None, sourcetitle='IFAC-PapersOnLine', publicationyear='2015', coverDate=None, volume=None, issue=None, first=None, last=None, citedbycount=None, type=None, text=None, fulltext='Gyulai, D., Kádár, B., Monosotori, L., Robust production planning and capacity control for flexible assembly lines. IFAC-PapersOnLine 48:January 3 (2015), 2312–2317, 10.1016/J.IFACOL.2015.06.432.'),\n",
       " Reference(position='13', id='85087690907', doi='10.1016/J.JMSY.2020.06.012', title='A digital twin to train deep reinforcement learning agent for smart manufacturing plants: environment, interfaces and intelligence', authors='Xia, K.; Sacco, C.; Kirkpatrick, M.; Saidy, C.; Nguyen, L.; Kircaliali, A.', authors_auid=None, authors_affiliationid=None, sourcetitle='J Manuf Syst', publicationyear='2021', coverDate=None, volume=None, issue=None, first=None, last=None, citedbycount=None, type=None, text=None, fulltext='Xia, K., Sacco, C., Kirkpatrick, M., Saidy, C., Nguyen, L., Kircaliali, A., et al. A digital twin to train deep reinforcement learning agent for smart manufacturing plants: environment, interfaces and intelligence. J Manuf Syst 58:January (2021), 210–230, 10.1016/J.JMSY.2020.06.012.'),\n",
       " Reference(position='14', id='0038058084', doi=None, title='Sensitivity of automatic control systems', authors='Rozenwasser, E.; Yusupov, R.', authors_auid=None, authors_affiliationid=None, sourcetitle=None, publicationyear='2019', coverDate=None, volume=None, issue=None, first=None, last=None, citedbycount=None, type=None, text='CRC press', fulltext='Rozenwasser, E., Yusupov, R., Sensitivity of automatic control systems. 2019, CRC press.'),\n",
       " Reference(position='15', id='85077691002', doi='10.1007/s10845-019-01531-7', title='Machine learning applied in production planning and control: a state-of-the-art in the era of industry 4.0', authors='Usuga Cadavid, J.P.; Lamouri, S.; Grabot, B.; Pellerin, R.; Fortin, A.', authors_auid=None, authors_affiliationid=None, sourcetitle='J Intell Manuf', publicationyear='2020', coverDate=None, volume=None, issue=None, first=None, last=None, citedbycount=None, type=None, text=None, fulltext='Usuga Cadavid, J.P., Lamouri, S., Grabot, B., Pellerin, R., Fortin, A., Machine learning applied in production planning and control: a state-of-the-art in the era of industry 4.0. J Intell Manuf 31:6 (2020), 1531–1558, 10.1007/s10845-019-01531-7.'),\n",
       " Reference(position='16', id='85112041197', doi='10.1109/MetroInd4.0IoT51437.2021.9488473', title='Smart digital twin for ZDM-based job-shop scheduling', authors='Serrano-Ruiz, J.C.; Mula, J.; Poler, R.', authors_auid=None, authors_affiliationid=None, sourcetitle='2021 IEEE International Workshop on Metrology for Industry 4.0 & IoT (MetroInd4.0&IoT)', publicationyear='2021', coverDate=None, volume=None, issue=None, first=None, last=None, citedbycount=None, type=None, text=None, fulltext='Serrano-Ruiz, J.C., Mula, J., Poler, R., Smart digital twin for ZDM-based job-shop scheduling. 2021 IEEE International Workshop on Metrology for Industry 4.0 & IoT (MetroInd4.0&IoT), 2021, 510–515, 10.1109/MetroInd4.0IoT51437.2021.9488473.'),\n",
       " Reference(position='17', id='85087836343', doi='10.3390/app10134570', title='An initial model for zero defect manufacturing', authors='Lindström, J.; Kyösti, P.; Birk, W.; Lejon, E.', authors_auid=None, authors_affiliationid=None, sourcetitle='Appl Sci (Switzerland)', publicationyear='2020', coverDate=None, volume=None, issue=None, first=None, last=None, citedbycount=None, type=None, text=None, fulltext='Lindström, J., Kyösti, P., Birk, W., Lejon, E., An initial model for zero defect manufacturing. Appl Sci (Switzerland), 10(4570), 2020, 10.3390/app10134570.'),\n",
       " Reference(position='18', id='34247491276', doi=None, title='Zero defects: a new dimension in quality assurance', authors='Halpin, J.F.', authors_auid=None, authors_affiliationid=None, sourcetitle=None, publicationyear='1966', coverDate=None, volume=None, issue=None, first=None, last=None, citedbycount=None, type=None, text='McGraw-Hill', fulltext='Halpin, J.F., Zero defects: a new dimension in quality assurance. 1966, McGraw-Hill.'),\n",
       " Reference(position='19', id='85053248060', doi='10.1007/978-3-319-99707-0_34', title='a scheduling tool for achieving zero defect manufacturing (ZDM): a conceptual framework', authors='Psarommatis, F.; Kiritsis, D.; Moon, I.; Park, J.; von Cieminski, G.; Lee, G.', authors_auid=None, authors_affiliationid=None, sourcetitle='IFIP advances in information and communication technology', publicationyear='2018', coverDate=None, volume=None, issue=None, first=None, last=None, citedbycount=None, type=None, text='Springer New York LLC, École Polytechnique Fédérale de Lausanne, ICT for Sustainable Manufacturing, EPFL SCI-STI-DK Lausanne, Switzerland', fulltext='Psarommatis, F., Kiritsis, D., Moon, I., Park, J., von Cieminski, G., Lee, G., a scheduling tool for achieving zero defect manufacturing (ZDM): a conceptual framework. IFIP advances in information and communication technology, vol. 536, 2018, Springer New York LLC, École Polytechnique Fédérale de Lausanne, ICT for Sustainable Manufacturing, EPFL SCI-STI-DK, Lausanne, Switzerland, 271–278, 10.1007/978-3-319-99707-0_34.'),\n",
       " Reference(position='20', id='85103685418', doi='10.3389/fcomp.2020.00026', title='Product quality improvement policies in industry 4.0: characteristics, enabling factors, barriers, and evolution toward zero defect manufacturing', authors='Psarommatis, F.; Prouvost, S.; May, G.; Kiritsis, D.', authors_auid=None, authors_affiliationid=None, sourcetitle='Front Comput Sci', publicationyear='2020', coverDate=None, volume=None, issue=None, first=None, last=None, citedbycount=None, type=None, text=None, fulltext='Psarommatis, F., Prouvost, S., May, G., Kiritsis, D., Product quality improvement policies in industry 4.0: characteristics, enabling factors, barriers, and evolution toward zero defect manufacturing. Front Comput Sci, 2(August), 2020, 10.3389/fcomp.2020.00026.'),\n",
       " Reference(position='21', id='85072947204', doi='10.1080/00207543.2019.1605228', title='Zero defect manufacturing: state-of-the-art review, shortcomings and future directions in research', authors='Psarommatis, F.; May, G.; Dreyfus, P.-A.; Kiritsis, D.', authors_auid=None, authors_affiliationid=None, sourcetitle='Int J Prod Res', publicationyear='2020', coverDate=None, volume=None, issue=None, first=None, last=None, citedbycount=None, type=None, text=None, fulltext='Psarommatis, F., May, G., Dreyfus, P.-A., Kiritsis, D., Zero defect manufacturing: state-of-the-art review, shortcomings and future directions in research. Int J Prod Res 58:January 1 (2020), 1–17, 10.1080/00207543.2019.1605228.'),\n",
       " Reference(position='22', id='85068473288', doi='10.1016/J.PROCIR.2019.03.218', title='Towards intelligent and sustainable production systems with a zero-defect manufacturing approach in an Industry4.0 context', authors='Lindström, J.; Lejon, E.; Kyösti, P.; Mecella, M.; Heutelbek, D.; Hemmje, M.', authors_auid=None, authors_affiliationid=None, sourcetitle='Procedia Cirp', publicationyear='2019', coverDate=None, volume=None, issue=None, first=None, last=None, citedbycount=None, type=None, text=None, fulltext='Lindström, J., Lejon, E., Kyösti, P., Mecella, M., Heutelbek, D., Hemmje, M., et al. Towards intelligent and sustainable production systems with a zero-defect manufacturing approach in an Industry4.0 context. Procedia Cirp 81:January (2019), 880–885, 10.1016/J.PROCIR.2019.03.218.'),\n",
       " Reference(position='23', id='85102569624', doi='10.3390/app11052186', title='Smart manufacturing scheduling approaches-systematic review and future directions', authors='Alemão, D.; Dionisio Rocha, A.; Barata, J.; Alemão, D.; Rocha, A.D.', authors_auid=None, authors_affiliationid=None, sourcetitle=None, publicationyear='2021', coverDate=None, volume=None, issue=None, first=None, last=None, citedbycount=None, type=None, text=None, fulltext='Alemão, D., Dionisio Rocha, A., Barata, J., Alemão, D., Rocha, A.D., Smart manufacturing scheduling approaches-systematic review and future directions. 2021, 10.3390/app11052186.'),\n",
       " Reference(position='24', id='85095732422', doi='10.1080/00207543.2020.1836417', title='Industrial big-data-driven and CPS-based adaptive production scheduling for smart manufacturing', authors='Qiao, F.; Liu, J.; Ma, Y.', authors_auid=None, authors_affiliationid=None, sourcetitle='Int J Prod Res', publicationyear='2020', coverDate=None, volume=None, issue=None, first=None, last=None, citedbycount=None, type=None, text=None, fulltext='Qiao, F., Liu, J., Ma, Y., Industrial big-data-driven and CPS-based adaptive production scheduling for smart manufacturing. Int J Prod Res(November), 2020, 1–21, 10.1080/00207543.2020.1836417.'),\n",
       " Reference(position='25', id='85083267703', doi='10.1007/s10700-020-09324-x', title='Robust parallel-batching scheduling with fuzzy deteriorating processing time and variable delivery time in smart manufacturing', authors='Lu, S.; Pei, J.; Liu, X.; Pardalos, P.M.', authors_auid=None, authors_affiliationid=None, sourcetitle='Fuzzy Optim Decis Mak', publicationyear='2020', coverDate=None, volume=None, issue=None, first=None, last=None, citedbycount=None, type=None, text=None, fulltext='Lu, S., Pei, J., Liu, X., Pardalos, P.M., Robust parallel-batching scheduling with fuzzy deteriorating processing time and variable delivery time in smart manufacturing. Fuzzy Optim Decis Mak 19:3 (2020), 333–357, 10.1007/s10700-020-09324-x.'),\n",
       " Reference(position='26', id='85103740495', doi='10.1109/IMCOM51814.2021.9377434', title='Smart manufacturing scheduling system: DQN based on cooperative Edge computing', authors='Moon, J.; Jeong, J.', authors_auid=None, authors_affiliationid=None, sourcetitle='2021 15th International Conference on Ubiquitous Information Management and Communication (IMCOM)', publicationyear='2021', coverDate=None, volume=None, issue=None, first=None, last=None, citedbycount=None, type=None, text=None, fulltext='Moon, J., Jeong, J., Smart manufacturing scheduling system: DQN based on cooperative Edge computing. 2021 15th International Conference on Ubiquitous Information Management and Communication (IMCOM), 2021, 1–8, 10.1109/IMCOM51814.2021.9377434.'),\n",
       " Reference(position='27', id='85068618692', doi='10.1109/TII.2019.2908210', title='Smart manufacturing scheduling with edge computing using multiclass deep q network', authors='Lin, C.; Deng, D.; Chih, Y.; Chiu, H.', authors_auid=None, authors_affiliationid=None, sourcetitle='IEEE Trans Industr Inform', publicationyear='2019', coverDate=None, volume=None, issue=None, first=None, last=None, citedbycount=None, type=None, text=None, fulltext='Lin, C., Deng, D., Chih, Y., Chiu, H., Smart manufacturing scheduling with edge computing using multiclass deep q network. IEEE Trans Industr Inform 15:7 (2019), 4276–4284, 10.1109/TII.2019.2908210.'),\n",
       " Reference(position='28', id='85092433528', doi='10.1016/J.PROCIR.2020.05.163', title='Deep reinforcement learning-based dynamic scheduling in smart manufacturing', authors='Zhou, L.; Zhang, L.; Horn, B.K.P.', authors_auid=None, authors_affiliationid=None, sourcetitle='Procedia Cirp', publicationyear='2020', coverDate=None, volume=None, issue=None, first=None, last=None, citedbycount=None, type=None, text=None, fulltext='Zhou, L., Zhang, L., Horn, B.K.P., Deep reinforcement learning-based dynamic scheduling in smart manufacturing. Procedia Cirp 93:January (2020), 383–388, 10.1016/J.PROCIR.2020.05.163.'),\n",
       " Reference(position='29', id='85038817876', doi=None, title='Scheduling research contributions to Smart manufacturing', authors='Rossit, D.; Tohmé, F.', authors_auid=None, authors_affiliationid=None, sourcetitle='Manuf Lett', publicationyear='2018', coverDate=None, volume=None, issue=None, first=None, last=None, citedbycount=None, type=None, text=None, fulltext='Rossit, D., Tohmé, F., Scheduling research contributions to Smart manufacturing. Manuf Lett 15 (2018), 111–114.'),\n",
       " Reference(position='30', id='0003867065', doi=None, title='Conducting research literature reviews: from the internet to paper', authors='Fink, A.', authors_auid=None, authors_affiliationid=None, sourcetitle=None, publicationyear='2019', coverDate=None, volume=None, issue=None, first=None, last=None, citedbycount=None, type=None, text='Sage publications', fulltext='Fink, A., Conducting research literature reviews: from the internet to paper. 2019, Sage publications.'),\n",
       " Reference(position='31', id='85110815773', doi=None, title='Definitional and expositional definitions: the bare minimum of theory and the systematization of literature reviews', authors='Okoli, C.', authors_auid=None, authors_affiliationid=None, sourcetitle=None, publicationyear='2019', coverDate=None, volume=None, issue=None, first=None, last=None, citedbycount=None, type=None, text='Available at SSRN 3452065', fulltext='Okoli, C., Definitional and expositional definitions: the bare minimum of theory and the systematization of literature reviews. Available at SSRN 3452065, 2019.'),\n",
       " Reference(position='32', id='84956874469', doi='10.1080/09537287.2015.1129464', title='Conducting systematic literature review in operations management', authors='Thomé, A.M.T.; Scavarda, L.F.; Scavarda, A.J.', authors_auid=None, authors_affiliationid=None, sourcetitle='Prod Plan Control', publicationyear='2016', coverDate=None, volume=None, issue=None, first=None, last=None, citedbycount=None, type=None, text=None, fulltext='Thomé, A.M.T., Scavarda, L.F., Scavarda, A.J., Conducting systematic literature review in operations management. Prod Plan Control 27:5 (2016), 408–420, 10.1080/09537287.2015.1129464.'),\n",
       " Reference(position='33', id='85106892963', doi='10.3390/jmmp4040109', title='Digital twin based optimization of a manufacturing execution system to handle high degrees of customer specifications', authors='Barni, A.; Pietraroia, D.; Zust, S.; West, S.; Stoll, O.', authors_auid=None, authors_affiliationid=None, sourcetitle='J Manuf Mater Process', publicationyear='2020', coverDate=None, volume=None, issue=None, first=None, last=None, citedbycount=None, type=None, text=None, fulltext='Barni, A., Pietraroia, D., Zust, S., West, S., Stoll, O., Digital twin based optimization of a manufacturing execution system to handle high degrees of customer specifications. J Manuf Mater Process, 4(December 4), 2020, 109, 10.3390/jmmp4040109.'),\n",
       " Reference(position='34', id='85098007670', doi='10.1109/ICSTCC50638.2020.9259684', title='Smart manufacturing control with Cloud-embedded digital twins', authors='Borangiu, T.; Raileanu, S.; Silisteanu, A.; Anton, S.; Anton, F.', authors_auid=None, authors_affiliationid=None, sourcetitle='Int. Conf. System Theory, Control Comput., ICSTCC - Proc.', publicationyear='2020', coverDate=None, volume=None, issue=None, first=None, last=None, citedbycount=None, type=None, text='no. 9259684', fulltext='Borangiu, T., Raileanu, S., Silisteanu, A., Anton, S., Anton, F., Smart manufacturing control with Cloud-embedded digital twins. Int. Conf. System Theory, Control Comput., ICSTCC - Proc., 2020, 915–920, 10.1109/ICSTCC50638.2020.9259684 no. 9259684.'),\n",
       " Reference(position='35', id='85079126153', doi=None, title='Digital transformation of manufacturing. Industry of the future with cyber-physical production systems', authors='Borangiu, T.; Morariu, O.; Răileanu, S.; Trentesaux, D.; Leitão, P.; Barata, J.', authors_auid=None, authors_affiliationid=None, sourcetitle='Roman J Inform Sci Technol', publicationyear='2020', coverDate=None, volume=None, issue=None, first=None, last=None, citedbycount=None, type=None, text='[Online]. Available:', fulltext='Borangiu, T., Morariu, O., Răileanu, S., Trentesaux, D., Leitão, P., Barata, J., Digital transformation of manufacturing. Industry of the future with cyber-physical production systems. Roman J Inform Sci Technol 23:1 (2020), 3–37 [Online]. Available: https://www.scopus.com/inward/record.uri?eid=2-s2.0-85079126153&partnerID=40&md5=307a5574c0906f1186dc1acbff8228c5.'),\n",
       " Reference(position='36', id='85098659779', doi='10.3233/ATDE200153', title='Production planning and scheduling using machine learning and data science processes', authors='de Modesti, P.H.; Carvalhar, E.; Borsato, M.; Safsten, K.; Elgh, F.; Stiftelsen, K.K.', authors_auid=None, authors_affiliationid=None, sourcetitle='Adv. Transdiscipl. Eng.', publicationyear='2020', coverDate=None, volume=None, issue=None, first=None, last=None, citedbycount=None, type=None, text=None, fulltext='de Modesti, P.H., Carvalhar, E., Borsato, M., Safsten, K., Elgh, F., Stiftelsen, K.K., Production planning and scheduling using machine learning and data science processes. Adv. Transdiscipl. Eng., vol. 13, 2020, 155–166, 10.3233/ATDE200153.'),\n",
       " Reference(position='37', id='85085728187', doi=None, title='Digital twin of unique type of production for innovative training of production specialists', authors='Debevec, M.; Herakovic, N.; Zadnik, L.; Kljacic, M.; Zerovnik, J.; Drobne, S.; Povh, J.', authors_auid=None, authors_affiliationid=None, sourcetitle='Proc. Int. Symp. Oper. Res.', publicationyear='2019', coverDate=None, volume=None, issue=None, first=None, last=None, citedbycount=None, type=None, text='SOR [Online]. Available:', fulltext='Debevec, M., Herakovic, N., Zadnik, L., Kljacic, M., Zerovnik, J., Drobne, S., Povh, J., Digital twin of unique type of production for innovative training of production specialists. Proc. Int. Symp. Oper. Res., 2019, SOR, 245–250 [Online]. Available: https://www.scopus.com/inward/record.uri?eid=2-s2.0-85085728187&partnerID=40&md5=69572a94fbb59267fbc538daec57cb9d.'),\n",
       " Reference(position='38', id='85093112666', doi='10.1109/ICE/ITMC49519.2020.9198430', title='Supporting SMEs in the Lake constance region in the implementation of cyber-physical-systems: framework and demonstrator', authors='Dobler, M.; Schumacher, J.; Busel, P.; Hartmann, C.', authors_auid=None, authors_affiliationid=None, sourcetitle='Proc. - IEEE Int. Conf. Eng., Technol. Innov., ICE/ITMC', publicationyear='2020', coverDate=None, volume=None, issue=None, first=None, last=None, citedbycount=None, type=None, text='no. 9198430', fulltext='Dobler, M., Schumacher, J., Busel, P., Hartmann, C., Supporting SMEs in the Lake constance region in the implementation of cyber-physical-systems: framework and demonstrator. Proc. - IEEE Int. Conf. Eng., Technol. Innov., ICE/ITMC, 2020, 10.1109/ICE/ITMC49519.2020.9198430 no. 9198430.'),\n",
       " Reference(position='39', id='85053248615', doi='10.1007/978-3-319-99707-0_37', title='A framework based on predictive maintenance, zero-defect manufacturing and scheduling under uncertainty tools, to optimize production capacities of high-end quality products', authors='Dreyfus, P.-A.; Kyritsis, D.; Lee, G.M.; von Cieminski, G.; Moon, I.; Park, J.', authors_auid=None, authors_affiliationid=None, sourcetitle='IFIP advances in information and communication technology', publicationyear='2018', coverDate=None, volume=None, issue=None, first=None, last=None, citedbycount=None, type=None, text='Springer New York LLC, Artificial Intelligence Laboratory, EPFL, EPFL IC IINFCOM LIA Station 14, Lausanne, 1015, Switzerland', fulltext='Dreyfus, P.-A., Kyritsis, D., Lee, G.M., von Cieminski, G., Moon, I., Park, J., A framework based on predictive maintenance, zero-defect manufacturing and scheduling under uncertainty tools, to optimize production capacities of high-end quality products. IFIP advances in information and communication technology, vol. 536, 2018, Springer New York LLC, Artificial Intelligence Laboratory, EPFL, EPFL IC IINFCOM LIA, Station 14, Lausanne, 1015, Switzerland, 296–303, 10.1007/978-3-319-99707-0_37.'),\n",
       " Reference(position='40', id='85077250493', doi='10.1109/TII.2019.2938572', title='Digital-twin-Based job shop scheduling toward smart manufacturing', authors='Fang, Y.; Peng, C.; Lou, P.; Zhou, Z.; Hu, J.; Yan, J.', authors_auid=None, authors_affiliationid=None, sourcetitle='IEEE Trans Industr Inform', publicationyear='2019', coverDate=None, volume=None, issue=None, first=None, last=None, citedbycount=None, type=None, text=None, fulltext='Fang, Y., Peng, C., Lou, P., Zhou, Z., Hu, J., Yan, J., Digital-twin-Based job shop scheduling toward smart manufacturing. IEEE Trans Industr Inform 15:8821409 (2019), 6425–6435, 10.1109/TII.2019.2938572.'),\n",
       " Reference(position='41', id='85089087152', doi='10.1016/j.procir.2020.05.033', title='Digital twin: revealing potentials of real-time autonomous decisions at a manufacturing company', authors=\"Feldt, J.; Kourouklis, T.; Kontny, H.; Wagenitz, A.; Teti, R.; D'Addona, D.M.\", authors_auid=None, authors_affiliationid=None, sourcetitle='Procedia CIRP', publicationyear='2020', coverDate=None, volume=None, issue=None, first=None, last=None, citedbycount=None, type=None, text=None, fulltext=\"Feldt, J., Kourouklis, T., Kontny, H., Wagenitz, A., Teti, R., D'Addona, D.M., Digital twin: revealing potentials of real-time autonomous decisions at a manufacturing company. Procedia CIRP, vol. 88, 2020, 185–190, 10.1016/j.procir.2020.05.033.\"),\n",
       " Reference(position='42', id='85083535933', doi='10.1016/j.promfg.2020.01.085', title='A multipurpose small-scale smart factory for educational and research activities', authors='Ferrario, A.; Confalonieri, M.; Barni, A.; Izzo, G.; Landolfi, G.; Pedrazzoli, P.', authors_auid=None, authors_affiliationid=None, sourcetitle='Procedia Manuf', publicationyear='2019', coverDate=None, volume=None, issue=None, first=None, last=None, citedbycount=None, type=None, text=None, fulltext='Ferrario, A., Confalonieri, M., Barni, A., Izzo, G., Landolfi, G., Pedrazzoli, P., A multipurpose small-scale smart factory for educational and research activities. Procedia Manuf 38 (2019), 663–670, 10.1016/j.promfg.2020.01.085.'),\n",
       " Reference(position='43', id='85078422822', doi='10.1080/24725854.2019.1701753', title='Toward the digital twin of additive manufacturing: integrating thermal simulations, sensing, and analytics to detect process faults', authors='Gaikwad, A.; Yavari, R.; Montazeri, M.; Cole, K.; Bian, L.; Rao, P.', authors_auid=None, authors_affiliationid=None, sourcetitle='IISE Trans', publicationyear='2020', coverDate=None, volume=None, issue=None, first=None, last=None, citedbycount=None, type=None, text=None, fulltext='Gaikwad, A., Yavari, R., Montazeri, M., Cole, K., Bian, L., Rao, P., Toward the digital twin of additive manufacturing: integrating thermal simulations, sensing, and analytics to detect process faults. IISE Trans 52:11 (2020), 1204–1217, 10.1080/24725854.2019.1701753.'),\n",
       " Reference(position='44', id='85077128426', doi='10.1007/978-3-030-27878-6_5', title='The framework for designing Autonomous cyber-physical multi-agent systems for adaptive Resource management', authors='Gorodetsky, V.I.; Kozhevnikov, S.S.; Novichkov, D.; Skobelev, P.O.; Marik, V.; Kadera, P.', authors_auid=None, authors_affiliationid=None, sourcetitle='Lect. Notes comput. Sci.', publicationyear='2019', coverDate=None, volume=None, issue=None, first=None, last=None, citedbycount=None, type=None, text='Springer, Samara State Technical University Molodogvardeyskaya Str., 244, Samara, 443100, Russian Federation', fulltext='Gorodetsky, V.I., Kozhevnikov, S.S., Novichkov, D., Skobelev, P.O., Marik, V., Kadera, P., et al. The framework for designing Autonomous cyber-physical multi-agent systems for adaptive Resource management. Lect. Notes comput. Sci., vol. 11710 LNAI, 2019, Springer, Samara State Technical University, Molodogvardeyskaya Str., 244, Samara, 443100, Russian Federation, 52–64, 10.1007/978-3-030-27878-6_5.'),\n",
       " Reference(position='45', id='85045258714', doi='10.1109/IEEM.2017.8289898', title='Integration of a digital twin as human representation in a scheduling procedure of a cyber-physical production system', authors='Graessler, I.; Poehler, A.', authors_auid=None, authors_affiliationid=None, sourcetitle='IEEE Int. Conf. Ind. Eng. Eng. Manage.', publicationyear='2018', coverDate=None, volume=None, issue=None, first=None, last=None, citedbycount=None, type=None, text=None, fulltext='Graessler, I., Poehler, A., Integration of a digital twin as human representation in a scheduling procedure of a cyber-physical production system. IEEE Int. Conf. Ind. Eng. Eng. Manage., vol. 2017-December, 2018, 289–293, 10.1109/IEEM.2017.8289898.'),\n",
       " Reference(position='46', id='85090172225', doi='10.1007/978-3-030-57997-5_22', title='Smart factory competitiveness based on Real time monitoring and quality predictive model applied to multi-stages production lines', authors='Gramegna, N.; Greggio, F.; Bonollo, F.; Lalic, B.; Marjanovic, U.; Majstorovic, V.', authors_auid=None, authors_affiliationid=None, sourcetitle='IFIP advances in information and communication technology', publicationyear='2020', coverDate=None, volume=None, issue=None, first=None, last=None, citedbycount=None, type=None, text='Springer, Università di Padova - DTG Padua, Italy', fulltext='Gramegna, N., Greggio, F., Bonollo, F., Lalic, B., Marjanovic, U., Majstorovic, V., et al. Smart factory competitiveness based on Real time monitoring and quality predictive model applied to multi-stages production lines. IFIP advances in information and communication technology, vol. 592 IFIP, 2020, Springer, Università di Padova - DTG, Padua, Italy, 185–196, 10.1007/978-3-030-57997-5_22.'),\n",
       " Reference(position='47', id='85092547420', doi='10.1108/IMDS-08-2020-0489', title='Graduation Intelligent Manufacturing System (GiMS): an Industry 4.0 paradigm for production and operations management', authors='Guo, D.; Li, M.; Zhong, R.; Huang, G.Q.', authors_auid=None, authors_affiliationid=None, sourcetitle='Ind Manag Data Syst', publicationyear='2020', coverDate=None, volume=None, issue=None, first=None, last=None, citedbycount=None, type=None, text=None, fulltext='Guo, D., Li, M., Zhong, R., Huang, G.Q., Graduation Intelligent Manufacturing System (GiMS): an Industry 4.0 paradigm for production and operations management. Ind Manag Data Syst 121:1 (2020), 86–98, 10.1108/IMDS-08-2020-0489.'),\n",
       " Reference(position='48', id='85079694318', doi='10.1016/j.jmsy.2020.02.004', title='Petri-net-based dynamic scheduling of flexible manufacturing system via deep reinforcement learning with graph convolutional network', authors='Hu, L.; Liu, Z.; Hu, W.; Wang, Y.; Tan, J.; Wu, F.', authors_auid=None, authors_affiliationid=None, sourcetitle='J Manuf Syst', publicationyear='2020', coverDate=None, volume=None, issue=None, first=None, last=None, citedbycount=None, type=None, text=None, fulltext='Hu, L., Liu, Z., Hu, W., Wang, Y., Tan, J., Wu, F., Petri-net-based dynamic scheduling of flexible manufacturing system via deep reinforcement learning with graph convolutional network. J Manuf Syst 55 (2020), 1–14, 10.1016/j.jmsy.2020.02.004.'),\n",
       " Reference(position='49', id='85072797212', doi='10.1007/978-981-32-9441-7_14', title='Study on the application of digital twin technology in complex electronic equipment', authors='Hu, C.; Gao, W.; Xu, C.; Ben, K.; Duan, B.; Umeda, K.', authors_auid=None, authors_affiliationid=None, sourcetitle='Lect. Notes electr. Eng.', publicationyear='2020', coverDate=None, volume=None, issue=None, first=None, last=None, citedbycount=None, type=None, text='Springer Verlag Nanjing Research Institute of Electronics Technology, Nanjing, China', fulltext='Hu, C., Gao, W., Xu, C., Ben, K., Duan, B., Umeda, K., et al. Study on the application of digital twin technology in complex electronic equipment. Lect. Notes electr. Eng., vol. 589, 2020, Springer Verlag, Nanjing Research Institute of Electronics Technology, Nanjing, China, 123–137, 10.1007/978-981-32-9441-7_14.'),\n",
       " Reference(position='50', id='85085651159', doi='10.1016/j.jmsy.2020.05.012', title='How to model and implement connections between physical and virtual models for digital twin application', authors='Jiang, H.; Qin, S.; Fu, J.; Zhang, J.; Ding, G.', authors_auid=None, authors_affiliationid=None, sourcetitle='J Manuf Syst', publicationyear='2020', coverDate=None, volume=None, issue=None, first=None, last=None, citedbycount=None, type=None, text=None, fulltext='Jiang, H., Qin, S., Fu, J., Zhang, J., Ding, G., How to model and implement connections between physical and virtual models for digital twin application. J Manuf Syst, 2020, 10.1016/j.jmsy.2020.05.012.'),\n",
       " Reference(position='51', id='85075760528', doi='10.1155/2019/2875236', title='Design and implementation of runtime verification framework for cyber-physical production systems', authors='Kang, S.; Chun, I.; Kim, H.-S.', authors_auid=None, authors_affiliationid=None, sourcetitle='J Eng (United Kingdom)', publicationyear='2019', coverDate=None, volume=None, issue=None, first=None, last=None, citedbycount=None, type=None, text=None, fulltext='Kang, S., Chun, I., Kim, H.-S., Design and implementation of runtime verification framework for cyber-physical production systems. J Eng (United Kingdom), 2019(2875236), 2019, 10.1155/2019/2875236.'),\n",
       " Reference(position='52', id='85095135415', doi='10.1016/j.promfg.2020.05.132', title='A simulation algorithm of a digital twin for manual assembly process', authors='Latif, H.; Starly, B.', authors_auid=None, authors_affiliationid=None, sourcetitle='Procedia Manuf', publicationyear='2020', coverDate=None, volume=None, issue=None, first=None, last=None, citedbycount=None, type=None, text=None, fulltext='Latif, H., Starly, B., A simulation algorithm of a digital twin for manual assembly process. Procedia Manuf 48 (2020), 932–939, 10.1016/j.promfg.2020.05.132.'),\n",
       " Reference(position='53', id='85089361309', doi='10.1016/j.jmsy.2020.08.003', title='Framework for manufacturing-tasks semantic modelling and manufacturing-resource recommendation for digital twin shop-floor', authors='Li, X.; Wang, L.; Zhu, C.; Liu, Z.', authors_auid=None, authors_affiliationid=None, sourcetitle='J Manuf Syst', publicationyear='2020', coverDate=None, volume=None, issue=None, first=None, last=None, citedbycount=None, type=None, text=None, fulltext='Li, X., Wang, L., Zhu, C., Liu, Z., Framework for manufacturing-tasks semantic modelling and manufacturing-resource recommendation for digital twin shop-floor. J Manuf Syst, 2020, 10.1016/j.jmsy.2020.08.003.'),\n",
       " Reference(position='54', id='85099759911', doi='10.1109/IEEM45057.2020.9309795', title='Concept design of a system architecture for a manufacturing cyber-physical digital twin system', authors='Lin, W.D.; Low, M.Y.H.', authors_auid=None, authors_affiliationid=None, sourcetitle='IEEE Int. Conf. Ind. Eng. Eng. Manage.', publicationyear='2020', coverDate=None, volume=None, issue=None, first=None, last=None, citedbycount=None, type=None, text='no. 9309795', fulltext='Lin, W.D., Low, M.Y.H., Concept design of a system architecture for a manufacturing cyber-physical digital twin system. IEEE Int. Conf. Ind. Eng. Eng. Manage., vol. 2020-December, 2020, 1320–1324, 10.1109/IEEM45057.2020.9309795 no. 9309795.'),\n",
       " Reference(position='55', id='85089135510', doi='10.1016/j.jmsy.2020.07.016', title='Intelligent scheduling of a feature-process-machine tool supernetwork based on digital twin workshop', authors='Liu, Z.; Chen, W.; Zhang, C.; Yang, C.; Cheng, Q.', authors_auid=None, authors_affiliationid=None, sourcetitle='J Manuf Syst', publicationyear='2020', coverDate=None, volume=None, issue=None, first=None, last=None, citedbycount=None, type=None, text=None, fulltext='Liu, Z., Chen, W., Zhang, C., Yang, C., Cheng, Q., Intelligent scheduling of a feature-process-machine tool supernetwork based on digital twin workshop. J Manuf Syst, 2020, 10.1016/j.jmsy.2020.07.016.'),\n",
       " Reference(position='56', id='85089750444', doi='10.1007/s00170-020-05977-5', title='A digital twin-driven production management system for production workshop', authors='Ma, J.; Chen, H.M.; Zhang, Y.; Guo, H.F.; Ren, Y.P.; Mo, R.', authors_auid=None, authors_affiliationid=None, sourcetitle='Int J Adv Manuf Technol', publicationyear='2020', coverDate=None, volume=None, issue=None, first=None, last=None, citedbycount=None, type=None, text=None, fulltext='Ma, J., Chen, H.M., Zhang, Y., Guo, H.F., Ren, Y.P., Mo, R., et al. A digital twin-driven production management system for production workshop. Int J Adv Manuf Technol 110:5–6 (2020), 1385–1397, 10.1007/s00170-020-05977-5.'),\n",
       " Reference(position='57', id='85115428202', doi=None, title='A steel tube production planning and scheduling with product-dependent changeover time using digital twin', authors='Maitreesorasuntee, C.; Jeenanunta, C.; Buddhakulsomsiri, J.; Pannakkong, W.; Chaysiri, R.; Masahiro, N.', authors_auid=None, authors_affiliationid=None, sourcetitle='Int Scientific J Eng Technol (ISJET)', publicationyear='2020', coverDate=None, volume=None, issue=None, first=None, last=None, citedbycount=None, type=None, text=None, fulltext='Maitreesorasuntee, C., Jeenanunta, C., Buddhakulsomsiri, J., Pannakkong, W., Chaysiri, R., Masahiro, N., et al. A steel tube production planning and scheduling with product-dependent changeover time using digital twin. Int Scientific J Eng Technol (ISJET) 4:2 (2020), 13–19.'),\n",
       " Reference(position='58', id='85100521464', doi='10.1080/0951192X.2021.1872103', title='(IMS2019)Integrated fault-tolerant control of assembly and automated guided vehicle-based transportation layers', authors='Majdzik, P.; Witczak, M.; Lipiec, B.; Banaszak, Z.', authors_auid=None, authors_affiliationid=None, sourcetitle='Int J Comput Integr Manuf', publicationyear='2021', coverDate=None, volume=None, issue=None, first=None, last=None, citedbycount=None, type=None, text=None, fulltext='Majdzik, P., Witczak, M., Lipiec, B., Banaszak, Z., (IMS2019)Integrated fault-tolerant control of assembly and automated guided vehicle-based transportation layers. Int J Comput Integr Manuf, 2021, 10.1080/0951192X.2021.1872103.'),\n",
       " Reference(position='59', id='85086995372', doi='10.1109/ACCESS.2020.3000437', title='A requirements driven digital twin framework: specification and opportunities', authors='Moyne, J.; Qamsane, Y.; Balta, E.C.; Kovalenko, I.; Faris, J.; Barton, K.', authors_auid=None, authors_affiliationid=None, sourcetitle='IEEE Access', publicationyear='2020', coverDate=None, volume=None, issue=None, first=None, last=None, citedbycount=None, type=None, text=None, fulltext='Moyne, J., Qamsane, Y., Balta, E.C., Kovalenko, I., Faris, J., Barton, K., et al. A requirements driven digital twin framework: specification and opportunities. IEEE Access 8 (2020), 107781–107801, 10.1109/ACCESS.2020.3000437.'),\n",
       " Reference(position='60', id='85075856173', doi='10.1016/j.ifacol.2019.10.024', title='A digital twin-based scheduling framework including equipment health index and genetic algorithms', authors='Negri, E.; Ardakani, H.D.; Cattaneo, L.; Singh, J.; Macchi, M.; Lee, J.', authors_auid=None, authors_affiliationid=None, sourcetitle='IFAC-PapersOnLine', publicationyear='2019', coverDate=None, volume=None, issue=None, first=None, last=None, citedbycount=None, type=None, text=None, fulltext='Negri, E., Ardakani, H.D., Cattaneo, L., Singh, J., Macchi, M., Lee, J., et al. A digital twin-based scheduling framework including equipment health index and genetic algorithms. IFAC-PapersOnLine 52:10 (2019), 43–48, 10.1016/j.ifacol.2019.10.024.'),\n",
       " Reference(position='61', id='85102563435', doi=None, title=None, authors='Negri, E.; Pandhare, V.; Cattaneo, L.; Singh, J.; Macchi, M.; Lee, J.', authors_auid=None, authors_affiliationid=None, sourcetitle=None, publicationyear=None, coverDate=None, volume=None, issue=None, first=None, last=None, citedbycount=None, type=None, text='“Field-synchronized Digital Twin framework for production scheduling with uncertainty,” Journal of Intelligent Manufacturing, doi: 10.1007/s10845-020-01685-9.', fulltext='E. Negri, V. Pandhare, L. Cattaneo, J. Singh, M. Macchi, and J. Lee, “Field-synchronized Digital Twin framework for production scheduling with uncertainty,” Journal of Intelligent Manufacturing, doi: 10.1007/s10845-020-01685-9.'),\n",
       " Reference(position='62', id='85089063716', doi='10.1016/j.procir.2020.05.020', title='Towards a digital twin for manufacturing processes: applicability on laser welding', authors=\"Papacharalampopoulos, A.; Stavropoulos, P.; Petrides, D.; Teti, R.; D'Addona, D.M.\", authors_auid=None, authors_affiliationid=None, sourcetitle='Procedia CIRP', publicationyear='2020', coverDate=None, volume=None, issue=None, first=None, last=None, citedbycount=None, type=None, text=None, fulltext=\"Papacharalampopoulos, A., Stavropoulos, P., Petrides, D., Teti, R., D'Addona, D.M., Towards a digital twin for manufacturing processes: applicability on laser welding. Procedia CIRP, vol. 88, 2020, 110–115, 10.1016/j.procir.2020.05.020.\"),\n",
       " Reference(position='63', id='84922388267', doi='10.4028/www.scientific.net/AMR.1036.885', title='A production scheduling model with maintenance', authors='Paprocka, I.; Kempa, W.M.; Kalinowski, K.; Grabowik, C.; Mikhaylov, A.; Nedelcu, D.', authors_auid=None, authors_affiliationid=None, sourcetitle='Advanced materials research', publicationyear='2014', coverDate=None, volume=None, issue=None, first=None, last=None, citedbycount=None, type=None, text='Trans Tech Publications Ltd, Silesian University of Technology, Institute of Mathematics 23 Kaszubska Str, Gliwice, 44-100, Poland', fulltext='Paprocka, I., Kempa, W.M., Kalinowski, K., Grabowik, C., Mikhaylov, A., Nedelcu, D., et al. A production scheduling model with maintenance. Advanced materials research, vol. 1036, 2014, Trans Tech Publications Ltd, Silesian University of Technology, Institute of Mathematics, 23 Kaszubska Str, Gliwice, 44-100, Poland, 885–890, 10.4028/www.scientific.net/AMR.1036.885.'),\n",
       " Reference(position='64', id='85063878454', doi='10.1080/0951192X.2019.1599439', title='Design and implementation of a digital twin application for a connected micro smart factory', authors='Park, K.T.; Nam, Y.W.; Lee, H.S.; Im, S.J.; Noh, S.D.; Son, J.Y.', authors_auid=None, authors_affiliationid=None, sourcetitle='Int J Comput Integr Manuf', publicationyear='2019', coverDate=None, volume=None, issue=None, first=None, last=None, citedbycount=None, type=None, text=None, fulltext='Park, K.T., Nam, Y.W., Lee, H.S., Im, S.J., Noh, S.D., Son, J.Y., et al. Design and implementation of a digital twin application for a connected micro smart factory. Int J Comput Integr Manuf 32:6 (2019), 596–614, 10.1080/0951192X.2019.1599439.'),\n",
       " Reference(position='65', id='85060439359', doi=None, title='Enabling the digital factory through the integration of data-driven and simulation models', authors='Pinon, O.J.; Siedlak, D.J.L.; Mavris, D.', authors_auid=None, authors_affiliationid=None, sourcetitle=None, publicationyear='2018', coverDate=None, volume=None, issue=None, first=None, last=None, citedbycount=None, type=None, text='[Online]. Available:', fulltext='Pinon, O.J., Siedlak, D.J.L., Mavris, D., Enabling the digital factory through the integration of data-driven and simulation models. [Online]. Available:, 2018 https://www.scopus.com/inward/record.uri?eid=2-s2.0-85060439359&partnerID=40&md5=6b7c6dfe90b9896f1a1a5f2f5cca7a91.'),\n",
       " Reference(position='66', id='85058969908', doi='10.1109/EDOCW.2018.00021', title='Robust digital twin compositions for industry 4.0 smart manufacturing systems', authors='Preuveneers, D.; Joosen, W.; Ilie-Zudor, E.', authors_auid=None, authors_affiliationid=None, sourcetitle='2018 IEEE 22nd International Enterprise Distributed Object Computing Workshop (EDOCW)', publicationyear='2018', coverDate=None, volume=None, issue=None, first=None, last=None, citedbycount=None, type=None, text=None, fulltext='Preuveneers, D., Joosen, W., Ilie-Zudor, E., Robust digital twin compositions for industry 4.0 smart manufacturing systems. 2018 IEEE 22nd International Enterprise Distributed Object Computing Workshop (EDOCW), 2018, 69–78, 10.1109/EDOCW.2018.00021.'),\n",
       " Reference(position='67', id='85117336796', doi='10.1016/j.jii.2021.100263', title='A hybrid Decision Support System for automating decision making in the event of defects in the era of Zero Defect Manufacturing', authors='Psarommatis, F.; Kiritsis, D.', authors_auid=None, authors_affiliationid=None, sourcetitle='J Ind Inf Integr', publicationyear='2021', coverDate=None, volume=None, issue=None, first=None, last=None, citedbycount=None, type=None, text=None, fulltext='Psarommatis, F., Kiritsis, D., A hybrid Decision Support System for automating decision making in the event of defects in the era of Zero Defect Manufacturing. J Ind Inf Integr, 2021, 100263, 10.1016/j.jii.2021.100263.'),\n",
       " Reference(position='68', id='85099854695', doi='10.1016/j.promfg.2020.10.206', title='Improved heuristics algorithms for re-scheduling flexible job shops in the era of zero defect manufacturing', authors='Psarommatis, F.; Vuichard, M.; Kiritsis, D.; Vosniakos, G.C.; Pellicciari, M.; Bernardos, P.', authors_auid=None, authors_affiliationid=None, sourcetitle='Procedia manuf.', publicationyear='2020', coverDate=None, volume=None, issue=None, first=None, last=None, citedbycount=None, type=None, text=None, fulltext='Psarommatis, F., Vuichard, M., Kiritsis, D., Vosniakos, G.C., Pellicciari, M., Bernardos, P., et al. Improved heuristics algorithms for re-scheduling flexible job shops in the era of zero defect manufacturing. Procedia manuf., vol. 51, 2020, 1485–1490, 10.1016/j.promfg.2020.10.206.'),\n",
       " Reference(position='69', id='85100838704', doi='10.1016/j.procir.2020.05.221', title='A two-layer criteria evaluation approach for re-scheduling efficiently semi-automated assembly lines with high number of rush orders', authors='Psarommatis, F.; Zheng, X.; Kiritsis, D.', authors_auid=None, authors_affiliationid=None, sourcetitle='Procedia Cirp', publicationyear='2021', coverDate=None, volume=None, issue=None, first=None, last=None, citedbycount=None, type=None, text=None, fulltext='Psarommatis, F., Zheng, X., Kiritsis, D., A two-layer criteria evaluation approach for re-scheduling efficiently semi-automated assembly lines with high number of rush orders. Procedia Cirp 97 (2021), 172–177, 10.1016/j.procir.2020.05.221.'),\n",
       " Reference(position='70', id='85090171798', doi='10.1007/978-3-030-57997-5_51', title='A computational method for identifying the optimum buffer size in the era of zero defect manufacturing', authors='Psarommatis, F.; Boujemaoui, A.; Kiritsis, D.', authors_auid=None, authors_affiliationid=None, sourcetitle='IFIP advances in information and communication technology', publicationyear='2020', coverDate=None, volume=None, issue=None, first=None, last=None, citedbycount=None, type=None, text='IFIP', fulltext='Psarommatis, F., Boujemaoui, A., Kiritsis, D., A computational method for identifying the optimum buffer size in the era of zero defect manufacturing. IFIP advances in information and communication technology, vol. 592, 2020, IFIP, 443–450, 10.1007/978-3-030-57997-5_51.'),\n",
       " Reference(position='71', id='85092431286', doi='10.1016/j.procir.2020.03.038', title='Identification of the critical reaction times for re-scheduling flexible job shops for different types of unexpected events', authors='Psarommatis, F.; Gharaei, A.; Kiritsis, D.; Gao, R.X.; Ehmann, K.', authors_auid=None, authors_affiliationid=None, sourcetitle='Procedia CIRP', publicationyear='2020', coverDate=None, volume=None, issue=None, first=None, last=None, citedbycount=None, type=None, text=None, fulltext='Psarommatis, F., Gharaei, A., Kiritsis, D., Gao, R.X., Ehmann, K., Identification of the critical reaction times for re-scheduling flexible job shops for different types of unexpected events. Procedia CIRP, vol. 93, 2020, 903–908, 10.1016/j.procir.2020.03.038.'),\n",
       " Reference(position='72', id='85103694293', doi='10.1016/j.jmsy.2021.03.021', title='A generic methodology and a digital twin for zero defect manufacturing (ZDM) performance mapping towards design for ZDM', authors='Psarommatis, F.', authors_auid=None, authors_affiliationid=None, sourcetitle='J Manuf Syst', publicationyear='2021', coverDate=None, volume=None, issue=None, first=None, last=None, citedbycount=None, type=None, text=None, fulltext='Psarommatis, F., A generic methodology and a digital twin for zero defect manufacturing (ZDM) performance mapping towards design for ZDM. J Manuf Syst 59 (2021), 507–521, 10.1016/j.jmsy.2021.03.021.'),\n",
       " Reference(position='73', id='85101779152', doi='10.1016/j.procs.2021.01.348', title='Procedure model for the development and launch of intelligent assistance systems', authors='Paul Reichardt Sebastian Lang, T.R.', authors_auid=None, authors_affiliationid=None, sourcetitle='Procedia Comput Sci', publicationyear='2021', coverDate=None, volume=None, issue=None, first=None, last=None, citedbycount=None, type=None, text=None, fulltext='Paul Reichardt Sebastian Lang, T.R., Procedure model for the development and launch of intelligent assistance systems. Procedia Comput Sci 180 (2021), 968–977, 10.1016/j.procs.2021.01.348.'),\n",
       " Reference(position='74', id='85101772658', doi=None, title='Smart production planning and control: technology readiness assessment', authors='Saad, S.M.; Bahadori, R.; Jafarnejad, H.; Putra, M.F.', authors_auid=None, authors_affiliationid=None, sourcetitle='Procedia Comput Sci', publicationyear='2021', coverDate=None, volume=None, issue=None, first=None, last=None, citedbycount=None, type=None, text=None, fulltext='Saad, S.M., Bahadori, R., Jafarnejad, H., Putra, M.F., Smart production planning and control: technology readiness assessment. Procedia Comput Sci 180 (2021), 618–627.'),\n",
       " Reference(position='75', id='85079487305', doi=None, title='Industrial IoT integrated with simulation -a digital twin approach to support real-time decision making', authors='Santos, R.; Basto, J.; Alcalá, S.G.S.; Frazzon, E.; Acevedo, A.', authors_auid=None, authors_affiliationid=None, sourcetitle='Proc. Int. Conf. Ind. Eng. Oper. Manage.', publicationyear='2019', coverDate=None, volume=None, issue=None, first=None, last=None, citedbycount=None, type=None, text='no. July, [Online]. Available:', fulltext='Santos, R., Basto, J., Alcalá, S.G.S., Frazzon, E., Acevedo, A., Industrial IoT integrated with simulation -a digital twin approach to support real-time decision making. Proc. Int. Conf. Ind. Eng. Oper. Manage., 2019, 816–828 no. July, [Online]. Available: https://www.scopus.com/inward/record.uri?eid=2-s2.0-85079487305&partnerID=40&md5=73b313993562bcdb727ab57b26729ff4.'),\n",
       " Reference(position='76', id='85099841768', doi='10.1016/j.promfg.2020.10.021', title='Novel robotic cell architecture for zero defect intelligent deburring', authors='Schmidt, J.; Grandi, F.; Peruzzini, M.; Raffaeli, R.; Pellicciari, M.; Vosniakos, G.C.', authors_auid=None, authors_affiliationid=None, sourcetitle='Procedia manuf.', publicationyear='2020', coverDate=None, volume=None, issue=None, first=None, last=None, citedbycount=None, type=None, text=None, fulltext='Schmidt, J., Grandi, F., Peruzzini, M., Raffaeli, R., Pellicciari, M., Vosniakos, G.C., et al. Novel robotic cell architecture for zero defect intelligent deburring. Procedia manuf., vol. 51, 2020, 140–147, 10.1016/j.promfg.2020.10.021.'),\n",
       " Reference(position='77', id='85016193370', doi='10.1109/PICMET.2016.7806715', title='Design of a data structure for the order processing as a basis for data analytics methods', authors='Schuh, G.; Blum, M.; Anderson, T.R.; Kocaoglu, D.F.; Niwa, K.; Perman, G.', authors_auid=None, authors_affiliationid=None, sourcetitle='in PICMET - Portland Int. Conf. Manage. Eng. Technol.: Technol. Manage. Soc. Innov., Proc.', publicationyear='2017', coverDate=None, volume=None, issue=None, first=None, last=None, citedbycount=None, type=None, text='no. 7806715', fulltext='Schuh, G., Blum, M., Anderson, T.R., Kocaoglu, D.F., Niwa, K., Perman, G., et al. Design of a data structure for the order processing as a basis for data analytics methods. in PICMET - Portland Int. Conf. Manage. Eng. Technol.: Technol. Manage. Soc. Innov., Proc., 2017, 2164–2169, 10.1109/PICMET.2016.7806715 no. 7806715.'),\n",
       " Reference(position='78', id='85115409429', doi=None, title='Digital twin for a zero-defect operations planning in supply chain 4.0.', authors='Serrano-Ruiz, J.C.; Mula, J.; Poler, R.', authors_auid=None, authors_affiliationid=None, sourcetitle='Lecture Notes in Management and Industrial Engineering', publicationyear='2022', coverDate=None, volume=None, issue=None, first=None, last=None, citedbycount=None, type=None, text='Springer In press', fulltext='Serrano-Ruiz, J.C., Mula, J., Poler, R., Digital twin for a zero-defect operations planning in supply chain 4.0. Lecture Notes in Management and Industrial Engineering, 2022, Springer In press.'),\n",
       " Reference(position='79', id='85062624777', doi='10.1109/WSC.2018.8632242', title='Digital manufacturing: requirements and challenges for implementing digital surrogates', authors='Shao, G.; Kibira, D.', authors_auid=None, authors_affiliationid=None, sourcetitle='2018 Winter Simulation Conference (WSC)', publicationyear='2018', coverDate=None, volume=None, issue=None, first=None, last=None, citedbycount=None, type=None, text=None, fulltext='Shao, G., Kibira, D., Digital manufacturing: requirements and challenges for implementing digital surrogates. 2018 Winter Simulation Conference (WSC), 2018, 1226–1237, 10.1109/WSC.2018.8632242.'),\n",
       " Reference(position='80', id='85091396248', doi='10.1109/ASMC49169.2020.9185308', title='Improving factory scheduling with statistical analysis of automatically calculated throughput', authors='Smith, H.M.; Nicksic, C.W.', authors_auid=None, authors_affiliationid=None, sourcetitle='ASMC Adv. Manuf. Conf. Proc.', publicationyear='2020', coverDate=None, volume=None, issue=None, first=None, last=None, citedbycount=None, type=None, text='no. 9185308', fulltext='Smith, H.M., Nicksic, C.W., Improving factory scheduling with statistical analysis of automatically calculated throughput. ASMC Adv. Manuf. Conf. Proc., vol. 2020-August, 2020, 10.1109/ASMC49169.2020.9185308 no. 9185308.'),\n",
       " Reference(position='81', id='85030752762', doi='10.1109/ACCESS.2017.2756069', title='Digital twin shop-floor: a new shop-floor paradigm towards smart manufacturing', authors='Tao, F.; Zhang, M.', authors_auid=None, authors_affiliationid=None, sourcetitle='IEEE Access', publicationyear='2017', coverDate=None, volume=None, issue=None, first=None, last=None, citedbycount=None, type=None, text=None, fulltext='Tao, F., Zhang, M., Digital twin shop-floor: a new shop-floor paradigm towards smart manufacturing. IEEE Access 5 (2017), 20418–20427, 10.1109/ACCESS.2017.2756069.'),\n",
       " Reference(position='82', id='85027512911', doi='10.1109/PC.2017.7976223', title='The digital twin of an industrial production line within the industry 4.0 concept', authors='Vachálek, J.; Bartalský, L.; Rovný, O.; Šišmišová, D.; Morháč, M.; Lokšík, M.', authors_auid=None, authors_affiliationid=None, sourcetitle='2017 21st International Conference on Process Control (PC)', publicationyear='2017', coverDate=None, volume=None, issue=None, first=None, last=None, citedbycount=None, type=None, text=None, fulltext='Vachálek, J., Bartalský, L., Rovný, O., Šišmišová, D., Morháč, M., Lokšík, M., The digital twin of an industrial production line within the industry 4.0 concept. 2017 21st International Conference on Process Control (PC), 2017, 258–262, 10.1109/PC.2017.7976223.'),\n",
       " Reference(position='83', id='85099856535', doi='10.1016/j.promfg.2020.10.149', title='Simulation-based decision framework for hybrid layout production systems under disruptions', authors='Vijayan, V.; Harikrishnakumar, R.; Krishnan, K.; Cheraghi, H.; Motavalli, S.', authors_auid=None, authors_affiliationid=None, sourcetitle='Procedia manuf.', publicationyear='2020', coverDate=None, volume=None, issue=None, first=None, last=None, citedbycount=None, type=None, text=None, fulltext='Vijayan, V., Harikrishnakumar, R., Krishnan, K., Cheraghi, H., Motavalli, S., Simulation-based decision framework for hybrid layout production systems under disruptions. Procedia manuf., vol. 51, 2020, 1062–1068, 10.1016/j.promfg.2020.10.149.'),\n",
       " Reference(position='84', id='85104060789', doi='10.1016/j.arcontrol.2021.04.008', title='A decision-making framework for dynamic scheduling of cyber-physical production systems based on digital twins', authors='Villalonga, A.; Negri, E.; Biscardo, G.; Castano, F.; Haber, R.E.; Fumagalli, L.', authors_auid=None, authors_affiliationid=None, sourcetitle='Annu Rev Control', publicationyear='2021', coverDate=None, volume=None, issue=None, first=None, last=None, citedbycount=None, type=None, text=None, fulltext='Villalonga, A., Negri, E., Biscardo, G., Castano, F., Haber, R.E., Fumagalli, L., et al. A decision-making framework for dynamic scheduling of cyber-physical production systems based on digital twins. Annu Rev Control, 2021, 10.1016/j.arcontrol.2021.04.008.'),\n",
       " Reference(position='85', id='85088635790', doi='10.1007/s00170-020-05779-9', title='Model construction of planning and scheduling system basedon digital twin', authors='Wang, Y.; Wu, Z.', authors_auid=None, authors_affiliationid=None, sourcetitle='Int J Adv Manuf Technol', publicationyear='2020', coverDate=None, volume=None, issue=None, first=None, last=None, citedbycount=None, type=None, text='2020', fulltext='Wang, Y., Wu, Z., Model construction of planning and scheduling system basedon digital twin. Int J Adv Manuf Technol 109 (2020), 2189–2203, 10.1007/s00170-020-05779-9 2020.'),\n",
       " Reference(position='86', id='85090962625', doi='10.1080/00207543.2020.1817999', title='Digital twin design for real-time monitoring-a case study of die cutting machine', authors='Wang, K.-J.; Lee, Y.-H.; Angelica, S.', authors_auid=None, authors_affiliationid=None, sourcetitle='Int J Prod Res', publicationyear='2020', coverDate=None, volume=None, issue=None, first=None, last=None, citedbycount=None, type=None, text=None, fulltext='Wang, K.-J., Lee, Y.-H., Angelica, S., Digital twin design for real-time monitoring-a case study of die cutting machine. Int J Prod Res, 2020, 10.1080/00207543.2020.1817999.'),\n",
       " Reference(position='87', id='85102646457', doi='10.6688/JISE.202101_37(1).0007', title='Dynamic production scheduling of digital twin job-shop based on edge computing', authors='Xu, L.Z.; Xie, Q.S.', authors_auid=None, authors_affiliationid=None, sourcetitle='J Inform Sci Eng', publicationyear='2021', coverDate=None, volume=None, issue=None, first=None, last=None, citedbycount=None, type=None, text=None, fulltext='Xu, L.Z., Xie, Q.S., Dynamic production scheduling of digital twin job-shop based on edge computing. J Inform Sci Eng 37:January 1 (2021), 93–105, 10.6688/JISE.202101_37(1).0007.'),\n",
       " Reference(position='88', id='85107271791', doi='10.1016/j.rcim.2021.102198', title='Research on flexible job shop scheduling under finite transportation conditions for digital twin workshop', authors='Yan, J.; Liu, Z.; Zhang, C.; Zhang, T.; Zhang, Y.; Yang, C.', authors_auid=None, authors_affiliationid=None, sourcetitle='Robot Comput Integr Manuf', publicationyear='2021', coverDate=None, volume=None, issue=None, first=None, last=None, citedbycount=None, type=None, text=None, fulltext='Yan, J., Liu, Z., Zhang, C., Zhang, T., Zhang, Y., Yang, C., Research on flexible job shop scheduling under finite transportation conditions for digital twin workshop. Robot Comput Integr Manuf, 72, 2021, 102198, 10.1016/j.rcim.2021.102198.'),\n",
       " Reference(position='89', id='85105762540', doi='10.1155/2021/8823273', title='Job shop scheduling based on digital twin technology: a survey and an intelligent platform', authors='Yu, H.; Han, S.; Yang, D.; Wang, Z.; Feng, W.', authors_auid=None, authors_affiliationid=None, sourcetitle='Complexity', publicationyear='2021', coverDate=None, volume=None, issue=None, first=None, last=None, citedbycount=None, type=None, text=None, fulltext='Yu, H., Han, S., Yang, D., Wang, Z., Feng, W., Job shop scheduling based on digital twin technology: a survey and an intelligent platform. Complexity, 2021, 2021, 8823273, 10.1155/2021/8823273.'),\n",
       " Reference(position='90', id='85057330632', doi='10.1007/s12652-018-1125-4', title='Digital twin-driven cyber-physical production system towards smart shop-floor', authors='Zhang, H.; Zhang, G.; Yan, Q.', authors_auid=None, authors_affiliationid=None, sourcetitle='J Ambient Intell Humaniz Comput', publicationyear='2019', coverDate=None, volume=None, issue=None, first=None, last=None, citedbycount=None, type=None, text=None, fulltext='Zhang, H., Zhang, G., Yan, Q., Digital twin-driven cyber-physical production system towards smart shop-floor. J Ambient Intell Humaniz Comput 10:11 (2019), 4439–4453, 10.1007/s12652-018-1125-4.'),\n",
       " Reference(position='91', id='85086230251', doi='10.1109/ITNEC48623.2020.9084652', title='Digital twin system design for dual-manipulator cooperation unit', authors='Zhang, Z.; Lu, J.; Xia, L.; Wang, S.; Zhang, H.; Zhao, R.', authors_auid=None, authors_affiliationid=None, sourcetitle='Proc. IEEE Inf. Technol., Netw., Electron. Autom. Control Conf., ITNEC', publicationyear='2020', coverDate=None, volume=None, issue=None, first=None, last=None, citedbycount=None, type=None, text='no. 9084652', fulltext='Zhang, Z., Lu, J., Xia, L., Wang, S., Zhang, H., Zhao, R., Digital twin system design for dual-manipulator cooperation unit. Proc. IEEE Inf. Technol., Netw., Electron. Autom. Control Conf., ITNEC, 2020, 1431–1434, 10.1109/ITNEC48623.2020.9084652 no. 9084652.'),\n",
       " Reference(position='92', id='85084128297', doi='10.1016/j.jmsy.2020.04.008', title='Digital twin enhanced dynamic job-shop scheduling', authors='Zhang, M.; Tao, F.; Nee, A.Y.C.', authors_auid=None, authors_affiliationid=None, sourcetitle='J Manuf Syst', publicationyear='2020', coverDate=None, volume=None, issue=None, first=None, last=None, citedbycount=None, type=None, text=None, fulltext='Zhang, M., Tao, F., Nee, A.Y.C., Digital twin enhanced dynamic job-shop scheduling. J Manuf Syst, 2020, 10.1016/j.jmsy.2020.04.008.'),\n",
       " Reference(position='93', id='85106227239', doi='10.1016/j.jmsy.2021.05.007', title='Bi-level dynamic scheduling architecture based on service unit digital twin agents', authors='Zhang, J.; Deng, T.; Jiang, H.; Chen, H.; Qin, S.; Ding, G.', authors_auid=None, authors_affiliationid=None, sourcetitle='J Manuf Syst', publicationyear='2021', coverDate=None, volume=None, issue=None, first=None, last=None, citedbycount=None, type=None, text=None, fulltext='Zhang, J., Deng, T., Jiang, H., Chen, H., Qin, S., Ding, G., Bi-level dynamic scheduling architecture based on service unit digital twin agents. J Manuf Syst 60 (2021), 59–79, 10.1016/j.jmsy.2021.05.007.'),\n",
       " Reference(position='94', id='85065139151', doi='10.1080/00207543.2019.1607978', title='Knowledge-driven digital twin manufacturing cell towards intelligent manufacturing', authors='Zhou, G.; Zhang, C.; Li, Z.; Ding, K.; Wang, C.', authors_auid=None, authors_affiliationid=None, sourcetitle='Int J Prod Res', publicationyear='2020', coverDate=None, volume=None, issue=None, first=None, last=None, citedbycount=None, type=None, text=None, fulltext='Zhou, G., Zhang, C., Li, Z., Ding, K., Wang, C., Knowledge-driven digital twin manufacturing cell towards intelligent manufacturing. Int J Prod Res 58:4 (2020), 1034–1051, 10.1080/00207543.2019.1607978.'),\n",
       " Reference(position='95', id='85042076560', doi='10.1007/978-3-319-73751-5_28', title='Local search with discrete event simulation for the job shop scheduling problem', authors='Zupan, H.; Zerovnik, J.; Herakovic, N.', authors_auid=None, authors_affiliationid=None, sourcetitle='Stud. Comput. Intell.', publicationyear='2018', coverDate=None, volume=None, issue=None, first=None, last=None, citedbycount=None, type=None, text='Springer Verlag, Faculty of Mechanical Engineering, University of Ljubljana Ljubljana, Slovenia', fulltext='Zupan, H., Zerovnik, J., Herakovic, N., Local search with discrete event simulation for the job shop scheduling problem. Stud. Comput. Intell., vol. 762, 2018, Springer Verlag, Faculty of Mechanical Engineering, University of Ljubljana, Ljubljana, Slovenia, 371–380, 10.1007/978-3-319-73751-5_28.'),\n",
       " Reference(position='96', id='85115409000', doi='10.5075/epfl-thesis-8699', title='A dynamic scheduling tool and a methodology for creating digital twin of manufacturing systems for achieving Zero Defect Manufacturing', authors='Psarommatis, F.', authors_auid=None, authors_affiliationid=None, sourcetitle=None, publicationyear='2021', coverDate=None, volume=None, issue=None, first=None, last=None, citedbycount=None, type=None, text=None, fulltext='Psarommatis, F., A dynamic scheduling tool and a methodology for creating digital twin of manufacturing systems for achieving Zero Defect Manufacturing. 2021, 190, 10.5075/epfl-thesis-8699.'),\n",
       " Reference(position='97', id='85068479503', doi='10.1016/J.PROCIR.2019.03.221', title='A hybrid framework for industrial data storage and exploitation', authors='Grevenitis, K.; Psarommatis, F.; Reina, A.; Xu, W.; Tourkogiorgis, I.; Milenkovic, J.; Cassina, J.; Kiritsis, D.', authors_auid=None, authors_affiliationid=None, sourcetitle='Procedia CIRP', publicationyear='2019', coverDate=None, volume=None, issue=None, first=None, last=None, citedbycount=None, type=None, text=None, fulltext='Grevenitis, K., Psarommatis, F., Reina, A., Xu, W., Tourkogiorgis, I., Milenkovic, J., Cassina, J., Kiritsis, D., A hybrid framework for industrial data storage and exploitation. Procedia CIRP 81:January (2019), 892–897, 10.1016/J.PROCIR.2019.03.221.'),\n",
       " Reference(position='98', id='85072985936', doi='10.1007/978-3-030-30000-5_39', title='A method for converting current data to RDF in the era of industry 4.0', authors='Hildebrand, M.; Tourkogiorgis, I.; Psarommatis, F.; Arena, D.; Kiritsis, D.', authors_auid=None, authors_affiliationid=None, sourcetitle='IFIP advances in information and communication technology', publicationyear='2019', coverDate=None, volume=None, issue=None, first=None, last=None, citedbycount=None, type=None, text=None, fulltext='Hildebrand, M., Tourkogiorgis, I., Psarommatis, F., Arena, D., Kiritsis, D., A method for converting current data to RDF in the era of industry 4.0. IFIP advances in information and communication technology, vol. 566, 2019, 307–314, 10.1007/978-3-030-30000-5_39.'),\n",
       " Reference(position='99', id='85099833723', doi='10.1016/J.PROMFG.2020.10.044', title='A quality-oriented digital twin modelling method for manufacturing processes based on a multi-agent architecture', authors='Zheng, X.; Psarommatis, F.; Petrali, P.; Turrin, C.; Lu, J.; Kiritsis, D.', authors_auid=None, authors_affiliationid=None, sourcetitle='Procedia Manuf', publicationyear='2020', coverDate=None, volume=None, issue=None, first=None, last=None, citedbycount=None, type=None, text=None, fulltext='Zheng, X., Psarommatis, F., Petrali, P., Turrin, C., Lu, J., Kiritsis, D., A quality-oriented digital twin modelling method for manufacturing processes based on a multi-agent architecture. Procedia Manuf 51:January (2020), 309–315, 10.1016/J.PROMFG.2020.10.044.'),\n",
       " Reference(position='100', id='85056522556', doi=None, title='On the way from industry 4.0 to industry 5. 0: from manufacturing to digital society', authors='Skobelev, P.O.; Borovik, S.Y.', authors_auid=None, authors_affiliationid=None, sourcetitle='Int Scientific J “Industry 4.0,”', publicationyear='2017', coverDate=None, volume=None, issue=None, first=None, last=None, citedbycount=None, type=None, text='[Online]. Available:', fulltext='Skobelev, P.O., Borovik, S.Yu., On the way from industry 4.0 to industry 5. 0: from manufacturing to digital society. Int Scientific J “Industry 4.0,” 2:6 (2017), 307–311 [Online]. Available: https://stumejournals.com/journals/i4/2017/6/307/pdf.'),\n",
       " Reference(position='101', id='85071054856', doi='10.1016/j.eng.2019.07.015', title='Human–Cyber–Physical systems (HCPSs) in the context of new-generation intelligent manufacturing', authors='Zhou, J.; Zhou, Y.; Wang, B.; Zang, J.', authors_auid=None, authors_affiliationid=None, sourcetitle='Engineering', publicationyear='2019', coverDate=None, volume=None, issue=None, first=None, last=None, citedbycount=None, type=None, text=None, fulltext='Zhou, J., Zhou, Y., Wang, B., Zang, J., Human–Cyber–Physical systems (HCPSs) in the context of new-generation intelligent manufacturing. Engineering 5:August 4 (2019), 624–636, 10.1016/j.eng.2019.07.015.')]"
      ]
     },
     "execution_count": 78,
     "metadata": {},
     "output_type": "execute_result"
    }
   ],
   "source": [
    "ab.references"
   ]
  },
  {
   "cell_type": "code",
   "execution_count": 82,
   "metadata": {},
   "outputs": [
    {
     "data": {
      "text/plain": [
       "Reference(position='2', id='85115414953', doi=None, title='A metamodel for digital planning in the supply chain 4.0', authors='Serrano-Ruiz, J.C.; Mula, J.; Poler, R.', authors_auid=None, authors_affiliationid=None, sourcetitle='J Ind Inf Integr', publicationyear='2021', coverDate=None, volume=None, issue=None, first=None, last=None, citedbycount=None, type=None, text='Elsevier. Submitted for publication', fulltext='Serrano-Ruiz, J.C., Mula, J., Poler, R., A metamodel for digital planning in the supply chain 4.0. J Ind Inf Integr, 2021 Elsevier. Submitted for publication.')"
      ]
     },
     "execution_count": 82,
     "metadata": {},
     "output_type": "execute_result"
    }
   ],
   "source": [
    "ref = ab.references[1]\n",
    "ref"
   ]
  },
  {
   "cell_type": "code",
   "execution_count": 80,
   "metadata": {},
   "outputs": [
    {
     "data": {
      "text/plain": [
       "'85115414953'"
      ]
     },
     "execution_count": 80,
     "metadata": {},
     "output_type": "execute_result"
    }
   ],
   "source": [
    "ref.id"
   ]
  },
  {
   "cell_type": "code",
   "execution_count": 81,
   "metadata": {},
   "outputs": [
    {
     "data": {
      "text/plain": [
       "'A metamodel for digital planning in the supply chain 4.0'"
      ]
     },
     "execution_count": 81,
     "metadata": {},
     "output_type": "execute_result"
    }
   ],
   "source": [
    "ref.title"
   ]
  },
  {
   "cell_type": "code",
   "execution_count": null,
   "metadata": {},
   "outputs": [],
   "source": []
  }
 ],
 "metadata": {
  "kernelspec": {
   "display_name": "Python 3 (ipykernel)",
   "language": "python",
   "name": "python3"
  },
  "language_info": {
   "codemirror_mode": {
    "name": "ipython",
    "version": 3
   },
   "file_extension": ".py",
   "mimetype": "text/x-python",
   "name": "python",
   "nbconvert_exporter": "python",
   "pygments_lexer": "ipython3",
   "version": "3.11.8"
  }
 },
 "nbformat": 4,
 "nbformat_minor": 4
}
